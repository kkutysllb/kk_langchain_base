{
 "cells": [
  {
   "cell_type": "markdown",
   "metadata": {},
   "source": [
    "# Custom agent\n",
    "\n",
    "不管是任意的大模型，我们都可以根据大模型的特性来打造智能体。这通常是创建代理的最可靠方法。\n",
    "\n",
    "我们将首先在没有历史记录的情况下创建它，但随后我们将展示如何添加历史记录。需要历史记录才能启用对话。\n",
    "\n",
    "## 加载LLM\n",
    "\n",
    "首先，让我们加载将用于控制代理的语言模型。"
   ]
  },
  {
   "cell_type": "code",
   "execution_count": 74,
   "metadata": {},
   "outputs": [],
   "source": [
    "from langchain_openai import ChatOpenAI\n",
    "import os\n",
    "\n",
    "api_key = os.getenv(\"LOCAL_API_KEY\")\n",
    "base_url = os.getenv(\"LOCAL_API_BASE\")\n",
    "\n",
    "model = ChatOpenAI(api_key=api_key, \n",
    "                   base_url=base_url,\n",
    "                   temperature=0.3, \n",
    "                   max_tokens=4096, \n",
    "                )"
   ]
  },
  {
   "cell_type": "markdown",
   "metadata": {},
   "source": [
    "## 定义工具\n",
    "\n",
    "接下来，让我们定义一些要使用的工具。让我们编写一个非常简单的 Python 函数来计算传入的单词的长度。\n",
    "\n",
    "请注意，这里我们使用的函数文档字符串非常重要。"
   ]
  },
  {
   "cell_type": "code",
   "execution_count": 75,
   "metadata": {},
   "outputs": [
    {
     "data": {
      "text/plain": [
       "5"
      ]
     },
     "execution_count": 75,
     "metadata": {},
     "output_type": "execute_result"
    }
   ],
   "source": [
    "from langchain.agents import tool\n",
    "\n",
    "@tool\n",
    "def word_length(word: str) -> int:\n",
    "    \"\"\"计算传入的单词的长度\"\"\"\n",
    "    return len(word)\n",
    "\n",
    "word_length.invoke(\"hello\")"
   ]
  },
  {
   "cell_type": "code",
   "execution_count": 76,
   "metadata": {},
   "outputs": [
    {
     "data": {
      "text/plain": [
       "{'description': '多云', 'temperature': '14'}"
      ]
     },
     "execution_count": 76,
     "metadata": {},
     "output_type": "execute_result"
    }
   ],
   "source": [
    "import requests\n",
    "\n",
    "@tool\n",
    "def get_weather(location: str) -> dict:\n",
    "    \"\"\"根据城市获取天气数据\"\"\"\n",
    "    api_key = \"SKcA5FGgmLvN7faJi\"\n",
    "    city_codes = {\n",
    "        \"西安\": \"xi'an\",\n",
    "        \"北京\": \"beijing\",\n",
    "        \"上海\": \"shanghai\",\n",
    "        \"广州\": \"guangzhou\",\n",
    "        \"深圳\": \"shenzhen\",\n",
    "        \"杭州\": \"hangzhou\",\n",
    "        \"成都\": \"chengdu\",\n",
    "        \"武汉\": \"wuhan\"\n",
    "    }\n",
    "    \n",
    "    # 处理城市名称\n",
    "    location = location.replace(\"市\", \"\").replace(\"区\", \"\")\n",
    "    location = city_codes.get(location, location)  # 如果有映射就用映射，没有就用原名\n",
    "    \n",
    "    \n",
    "    url = f\"https://api.seniverse.com/v3/weather/now.json?key={api_key}&location={location}&language=zh-Hans&unit=c\"\n",
    "    try:\n",
    "        response = requests.get(url)\n",
    "        #print(location)\n",
    "        if response.status_code == 200:\n",
    "            data = response.json()\n",
    "            #print(data)\n",
    "            weather = {\n",
    "                'description':data['results'][0][\"now\"][\"text\"],\n",
    "                'temperature':data['results'][0][\"now\"][\"temperature\"]\n",
    "            }\n",
    "            return weather\n",
    "        else:\n",
    "            raise Exception(f\"失败接收天气信息：{response.status_code}\")\n",
    "    except Exception as e:\n",
    "        return {\"description\": \"获取天气信息失败\", \"detail\": str(e)}\n",
    "            \n",
    "get_weather.invoke(\"广州\")"
   ]
  },
  {
   "cell_type": "code",
   "execution_count": 77,
   "metadata": {},
   "outputs": [
    {
     "data": {
      "text/plain": [
       "[{'title': '西安天气预报,西安7天天气预报,西安15天天气预报,西安天气查询',\n",
       "  'content': '今明天（12月17日至15日），弱冷空气将影响中东部地区；19日至21日，又有较强冷空气东移南下。 今天（12月16日），我国大部气温回升，但昼夜温差将拉大至10℃至15℃，公众请适时调整着装，谨防感冒。 17日之后，两轮冷空气影响我国。 今明天全国大部地区多晴朗干燥天气，未来一段时间，还将有冷空气补充南下，南方昼夜温差加大，多地较常年同期偏冷明显。 今天起至17日，中东部大部将开启一段降水稀少的时期。 与此同时，冷空气源源不断南下，南方多地气温还将刷新下半年来新低。 今后三天（12月13至15日），较强冷空气继续影响我国，多地将刷新立冬以来的气温新低。 同时，今天我国北方降雪基本结束。 今天我国中东部雨雪范围较大，明天起雨雪将快速缩减，之后全国将迎来大范围晴或多云天气。',\n",
       "  'url': 'https://www.weather.com.cn/weather/101110101.shtml'},\n",
       " {'title': '8 - song and lyrics by Billie Eilish | Spotify',\n",
       "  'content': 'March 29, 2019 - Listen to 8 on Spotify. Billie Eilish · Song · 2019.',\n",
       "  'url': 'https://open.spotify.com/track/6X29iaaazwho3ab7GNue5r'},\n",
       " {'title': '5 - 维基百科，自由的百科全书',\n",
       "  'content': 'July 19, 2024 - 5（五）是4与6之间的自然数，是第3个质数。 ... 在十进制中，它是唯一一个以数字5为个位数的素数，其他以数字5为个位数的数均为5的倍数（注意10是5的倍数，因此对于任何整数n， ... 此数字虽然是自然质数，但不是高斯...',\n",
       "  'url': 'https://zh.wikipedia.org/zh-hans/5'},\n",
       " {'title': '西安 - 中国气象局-天气预报-城市预报',\n",
       "  'content': '时间, 14:00, 17:00, 20:00, 23:00, 02:00, 05:00, 08:00, 11:00. 天气. 气温, 4.2℃, 5.3℃, 0.7℃, -4.1℃, -2.5℃, -0.8℃, 1.2℃, 4.8℃.',\n",
       "  'url': 'https://weather.cma.cn/web/weather/V8870.html'}]"
      ]
     },
     "execution_count": 77,
     "metadata": {},
     "output_type": "execute_result"
    }
   ],
   "source": [
    "import requests\n",
    "import json\n",
    " \n",
    "@tool\n",
    "def searxng_search(query):\n",
    "    \"\"\"输入搜索内容，使用SearXNG进行搜索\"\"\"\n",
    "    SEARXNG_URL = \"http://127.0.0.1:6699\"\n",
    "    SEARXNG_API_KEY = \"1234567890\"\n",
    "    params = {}\n",
    "    # 设置搜索参数\n",
    "    params[\"q\"] = query\n",
    "    params[\"format\"] = \"json\"\n",
    "    params[\"token\"] = SEARXNG_API_KEY\n",
    "    # 发送GET请求\n",
    "    response = requests.get(SEARXNG_URL, params=params)\n",
    "    # return response.text\n",
    "    \n",
    "    # 检查响应状态码\n",
    "    if response.status_code == 200:\n",
    "        res = response.json()\n",
    "        resList = []\n",
    "        for item in res['results']:\n",
    "            resList.append(\n",
    "                {\n",
    "                    'title':item['title'],\n",
    "                    'content':item['content'],\n",
    "                    'url':item['url']\n",
    "                }\n",
    "            )\n",
    "            if len(resList) > 3:\n",
    "                break\n",
    "        return resList\n",
    "    else:\n",
    "        response.raise_for_status()\n",
    "\n",
    "search = searxng_search.invoke(\"今天西安天气如何？\")\n",
    "search"
   ]
  },
  {
   "cell_type": "code",
   "execution_count": 78,
   "metadata": {},
   "outputs": [
    {
     "data": {
      "text/plain": [
       "'刘亦菲，1987年8月25日出生于湖北省武汉市，华语影视女演员、歌手，毕业于北京电影学院表演系。2002年，主演个人首部电视剧《金粉世家》白秀珠一角踏入演艺圈。2003年，凭借金庸武侠剧《天龙八部》女主王语嫣一角崭露头角。2004年，凭借仙侠剧《仙剑奇侠传》赵灵儿一角获得高人气与关注度 ...\\n\\nIt\\'s a pleasure to be back in Paris immersing myself in the world of inspiration of Nicolas Ghesquière, Louis Vuitton Women\\'s Collection Artistic Director.\\n\\n66K Followers, 54 Following, 1429 Posts - 刘亦菲Liu Yifei / CrystalLiu (@fenglixi_) on Instagram: \"⭐ #LiuYifei @yifei_cc \\u200d♀️ #Mulan #TheChineseWidow ...\\n\\nLiu Yifei (刘亦菲; born August 25, 1987) is a Chinese-born American [a] actress. [3] She has appeared multiple times on Forbes China Celebrity 100 list and was named one of the New Four Dan actresses of China by Tencent Entertainment in 2009. [4] She is known for her roles in Chinese TV shows such as The Story of a Noble Family, Demi-Gods and Semi-Devils, Chinese Paladin, A Dream of ...\\n\\nMay 11, 2023 - 刘亦菲 · 粉丝6978.8万 关注225 · 关注 私信 · V指数 文娱 78.05分 · 昨日阅读人数100万+，互动数23万 · 演员刘亦菲 · 精选 · 微博 · 视频 · 相册 · 超话 · 全部微博（1295） · 刘亦菲 · 8-25 04:54 · 来自 新版微博 weibo.com ·'"
      ]
     },
     "execution_count": 78,
     "metadata": {},
     "output_type": "execute_result"
    }
   ],
   "source": [
    "from langchain_community.utilities import SearxSearchWrapper\n",
    "\n",
    "search = SearxSearchWrapper(\n",
    "    searx_host=\"http://127.0.0.1:6699\",\n",
    "    k=5\n",
    ")\n",
    "search.run(\"刘亦菲\")"
   ]
  },
  {
   "cell_type": "code",
   "execution_count": 79,
   "metadata": {},
   "outputs": [],
   "source": [
    "tools = [word_length,get_weather,searxng_search]"
   ]
  },
  {
   "cell_type": "markdown",
   "metadata": {},
   "source": [
    "## 创建提示\n",
    "\n",
    "现在让我们创建提示。由于 OpenAI 函数调用针对工具使用进行了微调，因此我们几乎不需要任何关于如何推理或如何输出格式的说明。我们将只有两个输入变量： input 和 agent_scratchpad 。 input 应为包含用户目标的字符串。 agent_scratchpad 应该是包含先前代理工具调用和相应工具输出的消息序列。"
   ]
  },
  {
   "cell_type": "code",
   "execution_count": 80,
   "metadata": {},
   "outputs": [
    {
     "data": {
      "text/plain": [
       "'尽可能的帮助用户回答任何问题。\\n您可以使用以下工具来帮忙解决问题，如果已经知道答案，也可以直接回答：\\n{tools}\\n\\n回复格式说明：\\n----------------------------------\\n\\n回复我时，请以以下两种格式之一输出问题：\\n\\n选项1：如果您希望人类使用工具，请使用此选项。\\n采用以下JSON模式格式化的回复内容：\\n```json\\n{{\\n    \"reason\": string, \\\\ 叙述使用工具的原因\\n    \"action\": string, \\\\ 要使用的工具。 必须是 {tool_names} 之一\\n    \"action_input\": string \\\\ 工具的输入\\n}}\\n```\\n\\n选项2：如果您认为你自己已经有了答案或者已经通过使用工具找到了答案，想直接对人类做出反应，请使用此选项。\\n采用以下JSON模式格式化的回复内容：\\n```json\\n{{\\n    \"action\": \"Final Answer\",\\n    \"answer\": string \\\\ 最终回复问题的答案放在这里！\\n}}\\n```\\n\\n用户输入\\n----------------------------------\\n这是用户的输入（请记住通过单个选项，以JSON模式格式化的回复内容，不要回复其他内容）：\\n{input}\\n'"
      ]
     },
     "execution_count": 80,
     "metadata": {},
     "output_type": "execute_result"
    }
   ],
   "source": [
    "promptTemplate = \"\"\"尽可能的帮助用户回答任何问题。\n",
    "您可以使用以下工具来帮忙解决问题，如果已经知道答案，也可以直接回答：\n",
    "{tools}\n",
    "\n",
    "回复格式说明：\n",
    "----------------------------------\n",
    "\n",
    "回复我时，请以以下两种格式之一输出问题：\n",
    "\n",
    "选项1：如果您希望人类使用工具，请使用此选项。\n",
    "采用以下JSON模式格式化的回复内容：\n",
    "```json\n",
    "{{\n",
    "    \"reason\": string, \\\\ 叙述使用工具的原因\n",
    "    \"action\": string, \\\\ 要使用的工具。 必须是 {tool_names} 之一\n",
    "    \"action_input\": string \\\\ 工具的输入\n",
    "}}\n",
    "```\n",
    "\n",
    "选项2：如果您认为你自己已经有了答案或者已经通过使用工具找到了答案，想直接对人类做出反应，请使用此选项。\n",
    "采用以下JSON模式格式化的回复内容：\n",
    "```json\n",
    "{{\n",
    "    \"action\": \"Final Answer\",\n",
    "    \"answer\": string \\\\ 最终回复问题的答案放在这里！\n",
    "}}\n",
    "```\n",
    "\n",
    "用户输入\n",
    "----------------------------------\n",
    "这是用户的输入（请记住通过单个选项，以JSON模式格式化的回复内容，不要回复其他内容）：\n",
    "{input}\n",
    "\"\"\"\n",
    "promptTemplate"
   ]
  },
  {
   "cell_type": "code",
   "execution_count": 81,
   "metadata": {},
   "outputs": [
    {
     "data": {
      "text/plain": [
       "ChatPromptTemplate(input_variables=['agent_scratchpad', 'input', 'tool_names', 'tools'], input_types={'agent_scratchpad': list[typing.Annotated[typing.Union[typing.Annotated[langchain_core.messages.ai.AIMessage, Tag(tag='ai')], typing.Annotated[langchain_core.messages.human.HumanMessage, Tag(tag='human')], typing.Annotated[langchain_core.messages.chat.ChatMessage, Tag(tag='chat')], typing.Annotated[langchain_core.messages.system.SystemMessage, Tag(tag='system')], typing.Annotated[langchain_core.messages.function.FunctionMessage, Tag(tag='function')], typing.Annotated[langchain_core.messages.tool.ToolMessage, Tag(tag='tool')], typing.Annotated[langchain_core.messages.ai.AIMessageChunk, Tag(tag='AIMessageChunk')], typing.Annotated[langchain_core.messages.human.HumanMessageChunk, Tag(tag='HumanMessageChunk')], typing.Annotated[langchain_core.messages.chat.ChatMessageChunk, Tag(tag='ChatMessageChunk')], typing.Annotated[langchain_core.messages.system.SystemMessageChunk, Tag(tag='SystemMessageChunk')], typing.Annotated[langchain_core.messages.function.FunctionMessageChunk, Tag(tag='FunctionMessageChunk')], typing.Annotated[langchain_core.messages.tool.ToolMessageChunk, Tag(tag='ToolMessageChunk')]], FieldInfo(annotation=NoneType, required=True, discriminator=Discriminator(discriminator=<function _get_type at 0x11bf24940>, custom_error_type=None, custom_error_message=None, custom_error_context=None))]]}, partial_variables={}, messages=[SystemMessagePromptTemplate(prompt=PromptTemplate(input_variables=[], input_types={}, partial_variables={}, template='你是非常强大的助手，你可以使用各种工具来完成人类交给的问题和任务。'), additional_kwargs={}), HumanMessagePromptTemplate(prompt=PromptTemplate(input_variables=['input', 'tool_names', 'tools'], input_types={}, partial_variables={}, template='尽可能的帮助用户回答任何问题。\\n您可以使用以下工具来帮忙解决问题，如果已经知道答案，也可以直接回答：\\n{tools}\\n\\n回复格式说明：\\n----------------------------------\\n\\n回复我时，请以以下两种格式之一输出问题：\\n\\n选项1：如果您希望人类使用工具，请使用此选项。\\n采用以下JSON模式格式化的回复内容：\\n```json\\n{{\\n    \"reason\": string, \\\\ 叙述使用工具的原因\\n    \"action\": string, \\\\ 要使用的工具。 必须是 {tool_names} 之一\\n    \"action_input\": string \\\\ 工具的输入\\n}}\\n```\\n\\n选项2：如果您认为你自己已经有了答案或者已经通过使用工具找到了答案，想直接对人类做出反应，请使用此选项。\\n采用以下JSON模式格式化的回复内容：\\n```json\\n{{\\n    \"action\": \"Final Answer\",\\n    \"answer\": string \\\\ 最终回复问题的答案放在这里！\\n}}\\n```\\n\\n用户输入\\n----------------------------------\\n这是用户的输入（请记住通过单个选项，以JSON模式格式化的回复内容，不要回复其他内容）：\\n{input}\\n'), additional_kwargs={}), MessagesPlaceholder(variable_name='agent_scratchpad')])"
      ]
     },
     "execution_count": 81,
     "metadata": {},
     "output_type": "execute_result"
    }
   ],
   "source": [
    "from langchain_core.prompts import ChatPromptTemplate, MessagesPlaceholder\n",
    "\n",
    "prompt = ChatPromptTemplate.from_messages([\n",
    "    (\"system\", \"你是非常强大的助手，你可以使用各种工具来完成人类交给的问题和任务。\"),\n",
    "    (\"user\", promptTemplate),\n",
    "    MessagesPlaceholder(variable_name=\"agent_scratchpad\")\n",
    "])\n",
    "prompt\n"
   ]
  },
  {
   "cell_type": "code",
   "execution_count": 82,
   "metadata": {},
   "outputs": [
    {
     "data": {
      "text/plain": [
       "ChatPromptTemplate(input_variables=['agent_scratchpad', 'input'], input_types={'agent_scratchpad': list[typing.Annotated[typing.Union[typing.Annotated[langchain_core.messages.ai.AIMessage, Tag(tag='ai')], typing.Annotated[langchain_core.messages.human.HumanMessage, Tag(tag='human')], typing.Annotated[langchain_core.messages.chat.ChatMessage, Tag(tag='chat')], typing.Annotated[langchain_core.messages.system.SystemMessage, Tag(tag='system')], typing.Annotated[langchain_core.messages.function.FunctionMessage, Tag(tag='function')], typing.Annotated[langchain_core.messages.tool.ToolMessage, Tag(tag='tool')], typing.Annotated[langchain_core.messages.ai.AIMessageChunk, Tag(tag='AIMessageChunk')], typing.Annotated[langchain_core.messages.human.HumanMessageChunk, Tag(tag='HumanMessageChunk')], typing.Annotated[langchain_core.messages.chat.ChatMessageChunk, Tag(tag='ChatMessageChunk')], typing.Annotated[langchain_core.messages.system.SystemMessageChunk, Tag(tag='SystemMessageChunk')], typing.Annotated[langchain_core.messages.function.FunctionMessageChunk, Tag(tag='FunctionMessageChunk')], typing.Annotated[langchain_core.messages.tool.ToolMessageChunk, Tag(tag='ToolMessageChunk')]], FieldInfo(annotation=NoneType, required=True, discriminator=Discriminator(discriminator=<function _get_type at 0x11bf24940>, custom_error_type=None, custom_error_message=None, custom_error_context=None))]]}, partial_variables={'tools': 'word_length(word: str) -> int - 计算传入的单词的长度\\nget_weather(location: str) -> dict - 根据城市获取天气数据\\nsearxng_search(query) - 输入搜索内容，使用SearXNG进行搜索', 'tool_names': 'word_length, get_weather, searxng_search'}, messages=[SystemMessagePromptTemplate(prompt=PromptTemplate(input_variables=[], input_types={}, partial_variables={}, template='你是非常强大的助手，你可以使用各种工具来完成人类交给的问题和任务。'), additional_kwargs={}), HumanMessagePromptTemplate(prompt=PromptTemplate(input_variables=['input', 'tool_names', 'tools'], input_types={}, partial_variables={}, template='尽可能的帮助用户回答任何问题。\\n您可以使用以下工具来帮忙解决问题，如果已经知道答案，也可以直接回答：\\n{tools}\\n\\n回复格式说明：\\n----------------------------------\\n\\n回复我时，请以以下两种格式之一输出问题：\\n\\n选项1：如果您希望人类使用工具，请使用此选项。\\n采用以下JSON模式格式化的回复内容：\\n```json\\n{{\\n    \"reason\": string, \\\\ 叙述使用工具的原因\\n    \"action\": string, \\\\ 要使用的工具。 必须是 {tool_names} 之一\\n    \"action_input\": string \\\\ 工具的输入\\n}}\\n```\\n\\n选项2：如果您认为你自己已经有了答案或者已经通过使用工具找到了答案，想直接对人类做出反应，请使用此选项。\\n采用以下JSON模式格式化的回复内容：\\n```json\\n{{\\n    \"action\": \"Final Answer\",\\n    \"answer\": string \\\\ 最终回复问题的答案放在这里！\\n}}\\n```\\n\\n用户输入\\n----------------------------------\\n这是用户的输入（请记住通过单个选项，以JSON模式格式化的回复内容，不要回复其他内容）：\\n{input}\\n'), additional_kwargs={}), MessagesPlaceholder(variable_name='agent_scratchpad')])"
      ]
     },
     "execution_count": 82,
     "metadata": {},
     "output_type": "execute_result"
    }
   ],
   "source": [
    "from langchain.tools.render import render_text_description\n",
    "\n",
    "prompt = prompt.partial(\n",
    "    tools=render_text_description(list(tools)),\n",
    "    tool_names=\", \".join([t.name for t in tools])\n",
    ")\n",
    "prompt\n"
   ]
  },
  {
   "cell_type": "code",
   "execution_count": 83,
   "metadata": {},
   "outputs": [
    {
     "data": {
      "text/plain": [
       "'word_length(word: str) -> int - 计算传入的单词的长度\\nget_weather(location: str) -> dict - 根据城市获取天气数据\\nsearxng_search(query) - 输入搜索内容，使用SearXNG进行搜索'"
      ]
     },
     "execution_count": 83,
     "metadata": {},
     "output_type": "execute_result"
    }
   ],
   "source": [
    "render_text_description(list(tools))"
   ]
  },
  {
   "cell_type": "markdown",
   "metadata": {},
   "source": [
    "## 将工具绑定到LLM\n",
    "\n",
    "在这种情况下，我们依赖于 OpenAI 工具调用 LLMs，它将工具作为一个单独的参数，并经过专门训练，知道何时调用这些工具。\n",
    "\n",
    "要将我们的工具传递给代理，我们只需要将它们格式化为 OpenAI 工具格式并将它们传递给我们的模型。（通过 bind 对函数进行 -ing，我们确保每次调用模型时都传入它们。"
   ]
  },
  {
   "cell_type": "markdown",
   "metadata": {},
   "source": [
    "## 创建代理\n",
    "\n",
    "将这些部分放在一起，我们现在可以创建代理。我们将导入最后两个实用程序函数：一个用于格式化中间步骤（代理操作、工具输出对）以输入可发送到模型的消息的组件，以及一个用于将输出消息转换为代理操作/代理完成的组件。"
   ]
  },
  {
   "cell_type": "code",
   "execution_count": 84,
   "metadata": {},
   "outputs": [
    {
     "data": {
      "text/plain": [
       "\"TOOL RESPONSE: \\n---------------------\\n{observation}\\n\\nUSER'S INPUT\\n--------------------\\n\\nOkay, so what is the response to my last comment? If using information obtained from the tools you must mention it explicitly without mentioning the tool names - I have forgotten all TOOL RESPONSES! Remember to respond with a markdown code snippet of a json blob with a single action, and NOTHING else - even if you just want to respond to the user. Do NOT respond with anything except a JSON snippet no matter what!\""
      ]
     },
     "execution_count": 84,
     "metadata": {},
     "output_type": "execute_result"
    }
   ],
   "source": [
    "from langchain.agents.json_chat.prompt import TEMPLATE_TOOL_RESPONSE\n",
    "\n",
    "TEMPLATE_TOOL_RESPONSE"
   ]
  },
  {
   "cell_type": "code",
   "execution_count": 85,
   "metadata": {},
   "outputs": [],
   "source": [
    "TEMPLATE_TOOL_RESPONSE = \"\"\"工具响应：\n",
    "----------------------------------\n",
    "\n",
    "{observation}\n",
    "\n",
    "用户的输入：\n",
    "----------------------------------\n",
    "请根据工具的响应判断，是否能够回答问题：\n",
    "\n",
    "{input}\n",
    "\n",
    "请根据工具响应的内容，思考接下来的回复。回复格式严格按照前面所说的2种JSON回复格式，\n",
    "选择其中1种进行回复。请记住通过单个选项，以JSON模式格式化回复内容，不要回复其他内容。\n",
    "\"\"\"\n"
   ]
  },
  {
   "cell_type": "code",
   "execution_count": 86,
   "metadata": {},
   "outputs": [],
   "source": [
    "from langchain_core.messages import HumanMessage, BaseMessage, AIMessage\n",
    "from typing import List\n",
    "\n",
    "\n",
    "def format_log_to_messages(\n",
    "    query,\n",
    "    intermediate_steps,\n",
    "    template_tool_response\n",
    "):\n",
    "    \"\"\"Custruct the scratchpad that lets the agent continue its thought process\"\"\"\n",
    "    thoughts: List[BaseMessage] = []\n",
    "    for action, observation in intermediate_steps:\n",
    "        thoughts.append(AIMessage(content=action.log))\n",
    "        human_message = HumanMessage(\n",
    "            content=template_tool_response.format(\n",
    "                input=query,\n",
    "                observation=observation\n",
    "            )\n",
    "        )\n",
    "        thoughts.append(human_message)\n",
    "    return thoughts"
   ]
  },
  {
   "cell_type": "code",
   "execution_count": 87,
   "metadata": {},
   "outputs": [],
   "source": [
    "from langchain.agents.agent import AgentOutputParser\n",
    "from langchain_core.output_parsers.json import parse_json_markdown\n",
    "from langchain_core.exceptions import OutputParserException\n",
    "from langchain_core.agents import AgentAction, AgentFinish\n",
    "import logging\n",
    "\n",
    "logger = logging.getLogger(__name__)\n",
    "\n",
    "class JSONAgentOutputParser(AgentOutputParser):\n",
    "    \"\"\"Parses tool invocations and final answers in JSON format.\n",
    "\n",
    "    Expects output to be in one of two formats.\n",
    "\n",
    "    If the output signals that an action should be taken,\n",
    "    should be in the below format. This will result in an AgentAction\n",
    "    being returned.\n",
    "\n",
    "    ```\n",
    "    {\n",
    "      \"action\": \"search\",\n",
    "      \"action_input\": \"2+2\"\n",
    "    }\n",
    "    ```\n",
    "\n",
    "    If the output signals that a final answer should be given,\n",
    "    should be in the below format. This will result in an AgentFinish\n",
    "    being returned.\n",
    "\n",
    "    ```\n",
    "    {\n",
    "      \"action\": \"Final Answer\",\n",
    "      \"answer\": \"4\"\n",
    "    }\n",
    "    ```\n",
    "    \"\"\"\n",
    "    \n",
    "    def parse(self, text):\n",
    "        try:\n",
    "            response = parse_json_markdown(text)\n",
    "            if isinstance(response, list):\n",
    "                logger.warning(f\"Got mutiple action responses: {response}\")\n",
    "                response = response[0]\n",
    "            if response.get(\"action\") == \"Final Answer\":\n",
    "                return AgentFinish(\n",
    "                    {\"output\": response.get(\"answer\")},text\n",
    "                )\n",
    "            else:\n",
    "                return AgentAction(\n",
    "                    response['action'],\n",
    "                    response.get(\"action_input\", {}),\n",
    "                    text\n",
    "                )\n",
    "        except OutputParserException as e:\n",
    "            raise OutputParserException(f\"Failed to parse tool call or final answer: {text}\") from e\n",
    "        \n",
    "    @property\n",
    "    def _type(self) -> str:\n",
    "        return \"json-agent\"\n",
    "    "
   ]
  },
  {
   "cell_type": "code",
   "execution_count": 88,
   "metadata": {},
   "outputs": [],
   "source": [
    "from langchain_core.runnables import RunnablePassthrough\n",
    "\n",
    "agent = (\n",
    "    RunnablePassthrough.assign(\n",
    "        agent_scratchpad=lambda x: format_log_to_messages(\n",
    "            x[\"input\"],\n",
    "            x[\"intermediate_steps\"],\n",
    "            template_tool_response=TEMPLATE_TOOL_RESPONSE\n",
    "        )\n",
    "    )\n",
    "    | prompt\n",
    "    | model\n",
    "    | JSONAgentOutputParser()\n",
    ")"
   ]
  },
  {
   "cell_type": "code",
   "execution_count": 93,
   "metadata": {},
   "outputs": [
    {
     "name": "stdout",
     "output_type": "stream",
     "text": [
      "\n",
      "\n",
      "\u001b[1m> Entering new AgentExecutor chain...\u001b[0m\n",
      "\u001b[32;1m\u001b[1;3m```json\n",
      "{\n",
      "    \"reason\": \"获取今天的汉中的天气数据\",\n",
      "    \"action\": \"get_weather\",\n",
      "    \"action_input\": \"Hanzhong\"\n",
      "}\n",
      "```\u001b[0m\u001b[33;1m\u001b[1;3m{'description': '阴', 'temperature': '3'}\u001b[0m\u001b[32;1m\u001b[1;3m```json\n",
      "{\n",
      "    \"action\": \"Final Answer\",\n",
      "    \"answer\": \"今天汉中天气阴沉，温度为3摄氏度\"\n",
      "}\n",
      "```\u001b[0m\n",
      "\n",
      "\u001b[1m> Finished chain.\u001b[0m\n"
     ]
    },
    {
     "data": {
      "text/plain": [
       "{'input': '今天汉中天气如何？', 'output': '今天汉中天气阴沉，温度为3摄氏度'}"
      ]
     },
     "execution_count": 93,
     "metadata": {},
     "output_type": "execute_result"
    }
   ],
   "source": [
    "from langchain.agents import AgentExecutor\n",
    "\n",
    "agent_executor = AgentExecutor(agent=agent, tools=tools, verbose=True, handle_parsing_errors=True)\n",
    "agent_executor.invoke({\"input\": \"今天汉中天气如何？\"})"
   ]
  },
  {
   "cell_type": "code",
   "execution_count": 91,
   "metadata": {},
   "outputs": [
    {
     "name": "stdout",
     "output_type": "stream",
     "text": [
      "\n",
      "\n",
      "\u001b[1m> Entering new AgentExecutor chain...\u001b[0m\n",
      "\u001b[32;1m\u001b[1;3m```json\n",
      "{\n",
      "    \"reason\": \"搜索有关刘德华的信息\",\n",
      "    \"action\": \"searxng_search\",\n",
      "    \"action_input\": \"刘德华的妻子\"\n",
      "}\n",
      "```\u001b[0m\u001b[38;5;200m\u001b[1;3m[{'title': '朱丽蒨_百度百科', 'content': '朱丽蒨（Carol），1966年4月6日出生于马来西亚槟城，祖籍福建诏安，马来西亚选美小姐、平面模特，刘德华的妻子。 朱丽倩自小随家人移居吉隆坡。 1984年，参加马来西亚槟城\"新潮小姐\"选美获得季军，同年成为时尚杂志《新潮》七月封面小姐。', 'url': 'https://baike.baidu.com/item/%E6%9C%B1%E4%B8%BD%E8%92%A8/63815079'}, {'title': 'Entertainment News, Celebrity News, Celebrity Gossip - E! Online', 'content': 'Your source for entertainment news, celebrities, celeb news, and celebrity gossip. Check out the hottest fashion, photos, movies and TV shows!', 'url': 'https://www.eonline.com/'}, {'title': '刘德华老婆朱丽倩露面，58岁臃肿显老态，夫唱妇随陪老公开 ...', 'content': '2024年11月4日 — 她，就是朱丽倩——刘德华的妻子，一位曾经的马来西亚选美冠军，如今却在媒体口中被描述为“58岁显老态”。当这位低调的天王嫂步入台北小巨蛋，她的每一个动作都 ...', 'url': 'https://www.sohu.com/a/823445775_121657392'}, {'title': 'E! News - YouTube', 'content': 'September 13, 2023 - E! News is your go-to source for breaking celebrity news & entertainment. E! News is the modern-and-bold mood for the pop cultured – brought to life by the diverse perspectives viewers can connect with, in addition to unexpected takes & plenty of laughs! It’s a fun, fresh spin on celebrity news.', 'url': 'https://www.youtube.com/channel/UCjDsbbzHgTrGc4Ff26TJtsA'}]\u001b[0m\u001b[32;1m\u001b[1;3m```json\n",
      "{\n",
      "    \"action\": \"Final Answer\",\n",
      "    \"answer\": \"刘德华的老婆是朱丽蒨（Carol），一位马来西亚选美小姐和平面模特。\"\n",
      "}\n",
      "```\u001b[0m\n",
      "\n",
      "\u001b[1m> Finished chain.\u001b[0m\n"
     ]
    },
    {
     "data": {
      "text/plain": [
       "{'input': '刘德华的老婆是谁？', 'output': '刘德华的老婆是朱丽蒨（Carol），一位马来西亚选美小姐和平面模特。'}"
      ]
     },
     "execution_count": 91,
     "metadata": {},
     "output_type": "execute_result"
    }
   ],
   "source": [
    "agent_executor.invoke({\"input\": \"刘德华的老婆是谁？\"})"
   ]
  },
  {
   "cell_type": "code",
   "execution_count": 92,
   "metadata": {},
   "outputs": [
    {
     "name": "stdout",
     "output_type": "stream",
     "text": [
      "\n",
      "\n",
      "\u001b[1m> Entering new AgentExecutor chain...\u001b[0m\n",
      "\u001b[32;1m\u001b[1;3m```json\n",
      "{\n",
      "    \"reason\": \"搜索奥巴马家族树\",\n",
      "    \"action\": \"searxng_search\",\n",
      "    \"action_input\": \"奥巴马的外祖父的亲舅舅的外祖母\"\n",
      "}\n",
      "```\u001b[0m\u001b[38;5;200m\u001b[1;3m[{'title': '从哈莱姆到广东——寻根的加勒比华裔黑人', 'content': '2018年2月7日 — 葆拉·麦迪逊(Paula Madison)曾经总是遐想，她的华裔亲人如今是什么样子。这位65岁的电视台退休高管在纽约市哈莱姆区长大。那里是黑人聚居区，她的母亲尼 ...', 'url': 'https://cn.nytimes.com/china/20180207/jamaica-china/'}, {'title': 'Entertainment News, Celebrity News, Celebrity Gossip - E! Online', 'content': 'Your source for entertainment news, celebrities, celeb news, and celebrity gossip. Check out the hottest fashion, photos, movies and TV shows!', 'url': 'https://www.eonline.com/'}, {'title': '无标题文档', 'content': '其实辜妈妈最显赫是她的出身。祖父是福州士大夫严复，盛宣怀家的五小姐嫁给了日据时代台湾首富板桥林家辜妈妈亲舅舅林熊征。辜妈妈在上海圣约翰大学念书时，曾给舅妈盛家五 ...', 'url': 'http://www.chinatoday.com.cn/china/2008/0812/p52.htm'}, {'title': 'E! News - YouTube', 'content': 'September 13, 2023 - E! News is your go-to source for breaking celebrity news & entertainment. E! News is the modern-and-bold mood for the pop cultured – brought to life by the diverse perspectives viewers can connect with, in addition to unexpected takes & plenty of laughs! It’s a fun, fresh spin on celebrity news.', 'url': 'https://www.youtube.com/channel/UCjDsbbzHgTrGc4Ff26TJtsA'}]\u001b[0m\u001b[32;1m\u001b[1;3m```json\n",
      "{\n",
      "    \"action\": \"Final Answer\",\n",
      "    \"answer\": \"奥巴马的外祖父的亲舅舅的外祖母是盛宣怀家的五小姐。\"\n",
      "}\n",
      "```\u001b[0m\n",
      "\n",
      "\u001b[1m> Finished chain.\u001b[0m\n"
     ]
    },
    {
     "data": {
      "text/plain": [
       "{'input': '奥巴马的外祖父的亲舅舅的外祖母是谁？', 'output': '奥巴马的外祖父的亲舅舅的外祖母是盛宣怀家的五小姐。'}"
      ]
     },
     "execution_count": 92,
     "metadata": {},
     "output_type": "execute_result"
    }
   ],
   "source": [
    "agent_executor.invoke({\"input\": \"奥巴马的外祖父的亲舅舅的外祖母是谁？\"})"
   ]
  },
  {
   "cell_type": "markdown",
   "metadata": {},
   "source": [
    "## 添加历史记录\n",
    "\n",
    "这太棒了 - 我们有一个代理！但是，此代理是无状态的 - 它不记得有关先前交互的任何信息。这意味着你不能轻易地提出后续问题。让我们通过添加内存来解决这个问题。\n",
    "\n",
    "为此，我们需要做两件事：\n",
    "\n",
    "1. 在提示符中为内存变量添加一个位置\n",
    "2. 跟踪聊天记录\n",
    "\n",
    "首先，让我们在提示中添加一个内存位置。为此，我们通过为带有 键 \"chat_history\" 的消息添加一个占位符 .请注意，我们将其放在新用户输入的上方（以遵循对话流）。"
   ]
  },
  {
   "cell_type": "code",
   "execution_count": 94,
   "metadata": {},
   "outputs": [
    {
     "data": {
      "text/plain": [
       "ChatPromptTemplate(input_variables=['agent_scratchpad', 'chat_history', 'input', 'tool_names', 'tools'], input_types={'chat_history': list[typing.Annotated[typing.Union[typing.Annotated[langchain_core.messages.ai.AIMessage, Tag(tag='ai')], typing.Annotated[langchain_core.messages.human.HumanMessage, Tag(tag='human')], typing.Annotated[langchain_core.messages.chat.ChatMessage, Tag(tag='chat')], typing.Annotated[langchain_core.messages.system.SystemMessage, Tag(tag='system')], typing.Annotated[langchain_core.messages.function.FunctionMessage, Tag(tag='function')], typing.Annotated[langchain_core.messages.tool.ToolMessage, Tag(tag='tool')], typing.Annotated[langchain_core.messages.ai.AIMessageChunk, Tag(tag='AIMessageChunk')], typing.Annotated[langchain_core.messages.human.HumanMessageChunk, Tag(tag='HumanMessageChunk')], typing.Annotated[langchain_core.messages.chat.ChatMessageChunk, Tag(tag='ChatMessageChunk')], typing.Annotated[langchain_core.messages.system.SystemMessageChunk, Tag(tag='SystemMessageChunk')], typing.Annotated[langchain_core.messages.function.FunctionMessageChunk, Tag(tag='FunctionMessageChunk')], typing.Annotated[langchain_core.messages.tool.ToolMessageChunk, Tag(tag='ToolMessageChunk')]], FieldInfo(annotation=NoneType, required=True, discriminator=Discriminator(discriminator=<function _get_type at 0x11bf24940>, custom_error_type=None, custom_error_message=None, custom_error_context=None))]], 'agent_scratchpad': list[typing.Annotated[typing.Union[typing.Annotated[langchain_core.messages.ai.AIMessage, Tag(tag='ai')], typing.Annotated[langchain_core.messages.human.HumanMessage, Tag(tag='human')], typing.Annotated[langchain_core.messages.chat.ChatMessage, Tag(tag='chat')], typing.Annotated[langchain_core.messages.system.SystemMessage, Tag(tag='system')], typing.Annotated[langchain_core.messages.function.FunctionMessage, Tag(tag='function')], typing.Annotated[langchain_core.messages.tool.ToolMessage, Tag(tag='tool')], typing.Annotated[langchain_core.messages.ai.AIMessageChunk, Tag(tag='AIMessageChunk')], typing.Annotated[langchain_core.messages.human.HumanMessageChunk, Tag(tag='HumanMessageChunk')], typing.Annotated[langchain_core.messages.chat.ChatMessageChunk, Tag(tag='ChatMessageChunk')], typing.Annotated[langchain_core.messages.system.SystemMessageChunk, Tag(tag='SystemMessageChunk')], typing.Annotated[langchain_core.messages.function.FunctionMessageChunk, Tag(tag='FunctionMessageChunk')], typing.Annotated[langchain_core.messages.tool.ToolMessageChunk, Tag(tag='ToolMessageChunk')]], FieldInfo(annotation=NoneType, required=True, discriminator=Discriminator(discriminator=<function _get_type at 0x11bf24940>, custom_error_type=None, custom_error_message=None, custom_error_context=None))]]}, partial_variables={}, messages=[SystemMessagePromptTemplate(prompt=PromptTemplate(input_variables=[], input_types={}, partial_variables={}, template='你是非常强大的助手，你可以使用各种工具来完成人类交给的问题和任务。'), additional_kwargs={}), MessagesPlaceholder(variable_name='chat_history'), HumanMessagePromptTemplate(prompt=PromptTemplate(input_variables=['input', 'tool_names', 'tools'], input_types={}, partial_variables={}, template='尽可能的帮助用户回答任何问题。\\n您可以使用以下工具来帮忙解决问题，如果已经知道答案，也可以直接回答：\\n{tools}\\n\\n回复格式说明：\\n----------------------------------\\n\\n回复我时，请以以下两种格式之一输出问题：\\n\\n选项1：如果您希望人类使用工具，请使用此选项。\\n采用以下JSON模式格式化的回复内容：\\n```json\\n{{\\n    \"reason\": string, \\\\ 叙述使用工具的原因\\n    \"action\": string, \\\\ 要使用的工具。 必须是 {tool_names} 之一\\n    \"action_input\": string \\\\ 工具的输入\\n}}\\n```\\n\\n选项2：如果您认为你自己已经有了答案或者已经通过使用工具找到了答案，想直接对人类做出反应，请使用此选项。\\n采用以下JSON模式格式化的回复内容：\\n```json\\n{{\\n    \"action\": \"Final Answer\",\\n    \"answer\": string \\\\ 最终回复问题的答案放在这里！\\n}}\\n```\\n\\n用户输入\\n----------------------------------\\n这是用户的输入（请记住通过单个选项，以JSON模式格式化的回复内容，不要回复其他内容）：\\n{input}\\n'), additional_kwargs={}), MessagesPlaceholder(variable_name='agent_scratchpad')])"
      ]
     },
     "execution_count": 94,
     "metadata": {},
     "output_type": "execute_result"
    }
   ],
   "source": [
    "from langchain_core.prompts import ChatPromptTemplate, MessagesPlaceholder\n",
    "\n",
    "prompt = ChatPromptTemplate.from_messages([\n",
    "    (\"system\", \"你是非常强大的助手，你可以使用各种工具来完成人类交给的问题和任务。\"),\n",
    "    MessagesPlaceholder(variable_name=\"chat_history\"),\n",
    "    (\"user\", promptTemplate),\n",
    "    MessagesPlaceholder(variable_name=\"agent_scratchpad\")\n",
    "])\n",
    "prompt"
   ]
  },
  {
   "cell_type": "code",
   "execution_count": 96,
   "metadata": {},
   "outputs": [
    {
     "data": {
      "text/plain": [
       "ChatPromptTemplate(input_variables=['agent_scratchpad', 'chat_history', 'input'], input_types={'chat_history': list[typing.Annotated[typing.Union[typing.Annotated[langchain_core.messages.ai.AIMessage, Tag(tag='ai')], typing.Annotated[langchain_core.messages.human.HumanMessage, Tag(tag='human')], typing.Annotated[langchain_core.messages.chat.ChatMessage, Tag(tag='chat')], typing.Annotated[langchain_core.messages.system.SystemMessage, Tag(tag='system')], typing.Annotated[langchain_core.messages.function.FunctionMessage, Tag(tag='function')], typing.Annotated[langchain_core.messages.tool.ToolMessage, Tag(tag='tool')], typing.Annotated[langchain_core.messages.ai.AIMessageChunk, Tag(tag='AIMessageChunk')], typing.Annotated[langchain_core.messages.human.HumanMessageChunk, Tag(tag='HumanMessageChunk')], typing.Annotated[langchain_core.messages.chat.ChatMessageChunk, Tag(tag='ChatMessageChunk')], typing.Annotated[langchain_core.messages.system.SystemMessageChunk, Tag(tag='SystemMessageChunk')], typing.Annotated[langchain_core.messages.function.FunctionMessageChunk, Tag(tag='FunctionMessageChunk')], typing.Annotated[langchain_core.messages.tool.ToolMessageChunk, Tag(tag='ToolMessageChunk')]], FieldInfo(annotation=NoneType, required=True, discriminator=Discriminator(discriminator=<function _get_type at 0x11bf24940>, custom_error_type=None, custom_error_message=None, custom_error_context=None))]], 'agent_scratchpad': list[typing.Annotated[typing.Union[typing.Annotated[langchain_core.messages.ai.AIMessage, Tag(tag='ai')], typing.Annotated[langchain_core.messages.human.HumanMessage, Tag(tag='human')], typing.Annotated[langchain_core.messages.chat.ChatMessage, Tag(tag='chat')], typing.Annotated[langchain_core.messages.system.SystemMessage, Tag(tag='system')], typing.Annotated[langchain_core.messages.function.FunctionMessage, Tag(tag='function')], typing.Annotated[langchain_core.messages.tool.ToolMessage, Tag(tag='tool')], typing.Annotated[langchain_core.messages.ai.AIMessageChunk, Tag(tag='AIMessageChunk')], typing.Annotated[langchain_core.messages.human.HumanMessageChunk, Tag(tag='HumanMessageChunk')], typing.Annotated[langchain_core.messages.chat.ChatMessageChunk, Tag(tag='ChatMessageChunk')], typing.Annotated[langchain_core.messages.system.SystemMessageChunk, Tag(tag='SystemMessageChunk')], typing.Annotated[langchain_core.messages.function.FunctionMessageChunk, Tag(tag='FunctionMessageChunk')], typing.Annotated[langchain_core.messages.tool.ToolMessageChunk, Tag(tag='ToolMessageChunk')]], FieldInfo(annotation=NoneType, required=True, discriminator=Discriminator(discriminator=<function _get_type at 0x11bf24940>, custom_error_type=None, custom_error_message=None, custom_error_context=None))]]}, partial_variables={'tools': 'word_length(word: str) -> int - 计算传入的单词的长度\\nget_weather(location: str) -> dict - 根据城市获取天气数据\\nsearxng_search(query) - 输入搜索内容，使用SearXNG进行搜索', 'tool_names': 'word_length, get_weather, searxng_search'}, messages=[SystemMessagePromptTemplate(prompt=PromptTemplate(input_variables=[], input_types={}, partial_variables={}, template='你是非常强大的助手，你可以使用各种工具来完成人类交给的问题和任务。'), additional_kwargs={}), MessagesPlaceholder(variable_name='chat_history'), HumanMessagePromptTemplate(prompt=PromptTemplate(input_variables=['input', 'tool_names', 'tools'], input_types={}, partial_variables={}, template='尽可能的帮助用户回答任何问题。\\n您可以使用以下工具来帮忙解决问题，如果已经知道答案，也可以直接回答：\\n{tools}\\n\\n回复格式说明：\\n----------------------------------\\n\\n回复我时，请以以下两种格式之一输出问题：\\n\\n选项1：如果您希望人类使用工具，请使用此选项。\\n采用以下JSON模式格式化的回复内容：\\n```json\\n{{\\n    \"reason\": string, \\\\ 叙述使用工具的原因\\n    \"action\": string, \\\\ 要使用的工具。 必须是 {tool_names} 之一\\n    \"action_input\": string \\\\ 工具的输入\\n}}\\n```\\n\\n选项2：如果您认为你自己已经有了答案或者已经通过使用工具找到了答案，想直接对人类做出反应，请使用此选项。\\n采用以下JSON模式格式化的回复内容：\\n```json\\n{{\\n    \"action\": \"Final Answer\",\\n    \"answer\": string \\\\ 最终回复问题的答案放在这里！\\n}}\\n```\\n\\n用户输入\\n----------------------------------\\n这是用户的输入（请记住通过单个选项，以JSON模式格式化的回复内容，不要回复其他内容）：\\n{input}\\n'), additional_kwargs={}), MessagesPlaceholder(variable_name='agent_scratchpad')])"
      ]
     },
     "execution_count": 96,
     "metadata": {},
     "output_type": "execute_result"
    }
   ],
   "source": [
    "chat_history = []\n",
    "\n",
    "prompt = prompt.partial(\n",
    "    tools=render_text_description(list(tools)),\n",
    "    tool_names=\", \".join([t.name for t in tools])\n",
    ")\n",
    "prompt\n"
   ]
  },
  {
   "cell_type": "code",
   "execution_count": 97,
   "metadata": {},
   "outputs": [],
   "source": [
    "agent = (\n",
    "    RunnablePassthrough.assign(\n",
    "        agent_scratchpad=lambda x: format_log_to_messages(\n",
    "            x[\"input\"],\n",
    "            x[\"intermediate_steps\"],\n",
    "            template_tool_response=TEMPLATE_TOOL_RESPONSE\n",
    "        )\n",
    "    )\n",
    "    | prompt\n",
    "    | model\n",
    "    | JSONAgentOutputParser()\n",
    ")\n",
    "\n",
    "agent_executor = AgentExecutor(agent=agent, tools=tools, verbose=True, handle_parsing_errors=True)"
   ]
  },
  {
   "cell_type": "code",
   "execution_count": 98,
   "metadata": {},
   "outputs": [
    {
     "name": "stdout",
     "output_type": "stream",
     "text": [
      "\n",
      "\n",
      "\u001b[1m> Entering new AgentExecutor chain...\u001b[0m\n",
      "\u001b[32;1m\u001b[1;3m```json\n",
      "{\n",
      "    \"action\": \"Final Answer\",\n",
      "    \"answer\": \"你叫老k。\"\n",
      "}\n",
      "```\u001b[0m\n",
      "\n",
      "\u001b[1m> Finished chain.\u001b[0m\n"
     ]
    },
    {
     "data": {
      "text/plain": [
       "{'input': '我叫什么？',\n",
       " 'chat_history': [HumanMessage(content='你好，我是老k。', additional_kwargs={}, response_metadata={}),\n",
       "  AIMessage(content='你好，老k，很高兴认识你！', additional_kwargs={}, response_metadata={})],\n",
       " 'output': '你叫老k。'}"
      ]
     },
     "execution_count": 98,
     "metadata": {},
     "output_type": "execute_result"
    }
   ],
   "source": [
    "chat_history.extend(\n",
    "    [\n",
    "        HumanMessage(content=\"你好，我是老k。\"),\n",
    "        \n",
    "        AIMessage(content=\"你好，老k，很高兴认识你！\")\n",
    "    ]\n",
    ")\n",
    "\n",
    "agent_executor.invoke({\"input\": \"我叫什么？\", \"chat_history\": chat_history})"
   ]
  },
  {
   "cell_type": "code",
   "execution_count": 99,
   "metadata": {},
   "outputs": [
    {
     "name": "stdout",
     "output_type": "stream",
     "text": [
      "\n",
      "\n",
      "\u001b[1m> Entering new AgentExecutor chain...\u001b[0m\n",
      "\u001b[32;1m\u001b[1;3m```json\n",
      "{\n",
      "    \"reason\": \"查找有关刘德华妻子的信息\",\n",
      "    \"action\": \"searxng_search\",\n",
      "    \"action_input\": \"刘德华的妻子\"\n",
      "}\n",
      "```\u001b[0m\u001b[38;5;200m\u001b[1;3m[{'title': '朱丽蒨_百度百科', 'content': '朱丽蒨（Carol），1966年4月6日出生于马来西亚槟城，祖籍福建诏安，马来西亚选美小姐、平面模特，刘德华的妻子。 朱丽倩自小随家人移居吉隆坡。 1984年，参加马来西亚槟城“新潮小姐”选美获得季军，同年成为时尚杂志《新潮》七月封面小姐。', 'url': 'https://baike.baidu.com/item/%E6%9C%B1%E4%B8%BD%E8%92%A8/63815079'}, {'title': 'Entertainment News, Celebrity News, Celebrity Gossip - E! Online', 'content': 'Your source for entertainment news, celebrities, celeb news, and celebrity gossip. Check out the hottest fashion, photos, movies and TV shows!', 'url': 'https://www.eonline.com/'}, {'title': '刘德华老婆朱丽倩露面，58岁臃肿显老态，夫唱妇随陪老公开 ...', 'content': '2024年11月4日 — 她，就是朱丽倩——刘德华的妻子，一位曾经的马来西亚选美冠军，如今却在媒体口中被描述为“58岁显老态”。当这位低调的天王嫂步入台北小巨蛋，她的每一个动作都 ...', 'url': 'https://www.sohu.com/a/823445775_121657392'}, {'title': 'E! News - YouTube', 'content': 'September 13, 2023 - E! News is your go-to source for breaking celebrity news & entertainment. E! News is the modern-and-bold mood for the pop cultured – brought to life by the diverse perspectives viewers can connect with, in addition to unexpected takes & plenty of laughs! It’s a fun, fresh spin on celebrity news.', 'url': 'https://www.youtube.com/channel/UCjDsbbzHgTrGc4Ff26TJtsA'}]\u001b[0m\u001b[32;1m\u001b[1;3m```json\n",
      "{\n",
      "    \"action\": \"Final Answer\",\n",
      "    \"answer\": \"刘德华的老婆是朱丽蒨（Carol），一位马来西亚选美小姐和模特儿。\"\n",
      "}\n",
      "```\u001b[0m\n",
      "\n",
      "\u001b[1m> Finished chain.\u001b[0m\n"
     ]
    },
    {
     "data": {
      "text/plain": [
       "{'input': '刘德华的老婆是谁？',\n",
       " 'chat_history': [HumanMessage(content='你好，我是老k。', additional_kwargs={}, response_metadata={}),\n",
       "  AIMessage(content='你好，老k，很高兴认识你！', additional_kwargs={}, response_metadata={})],\n",
       " 'output': '刘德华的老婆是朱丽蒨（Carol），一位马来西亚选美小姐和模特儿。'}"
      ]
     },
     "execution_count": 99,
     "metadata": {},
     "output_type": "execute_result"
    }
   ],
   "source": [
    "agent_executor.invoke({\"input\": \"刘德华的老婆是谁？\", \"chat_history\": chat_history})"
   ]
  },
  {
   "cell_type": "code",
   "execution_count": 100,
   "metadata": {},
   "outputs": [
    {
     "name": "stdout",
     "output_type": "stream",
     "text": [
      "\n",
      "\n",
      "\u001b[1m> Entering new AgentExecutor chain...\u001b[0m\n",
      "\u001b[32;1m\u001b[1;3m```json\n",
      "{\n",
      "    \"reason\": \"搜索有关朱丽倩的信息\",\n",
      "    \"action\": \"searxng_search\",\n",
      "    \"action_input\": \"朱丽倩 演员 电影\"\n",
      "}\n",
      "```\u001b[0m\u001b[38;5;200m\u001b[1;3m[{'title': '朱丽蒨_百度百科', 'content': '1984年，18岁的朱丽蒨再次参加《新潮》封面小姐竞选，当年7月，她击败对手，以5369票成为\"七月封面小姐\"，更在1985年夺得\"新潮小姐\"季军兼青春小姐称号。 参加选美后，朱丽蒨完成高中学业，未继续求学 [2]。 1985年，朱丽蒨以5369票当选 马来西亚 时尚杂志《新潮》封面小姐 [1]。 1986年，朱丽蒨结识随 香港明星足球队 赴吉隆坡的 刘德华。 1989年，朱丽蒨居住在刘德华名下的塞马西湖自置寓所居住。 1991年，朱丽蒨母亲去世。 [3] 2001年12月，刘德华接受电台访问时，公开朱丽蒨身份。 2008年初，刘德华和朱丽蒨在一个佛教盛会上联名做善事，而这个佛教盛会规定只有亲人才可以联名，因此朱丽蒨也被坊间视为\"刘太太\"。', 'url': 'https://baike.baidu.com/item/%E6%9C%B1%E4%B8%BD%E8%92%A8/63815079'}, {'title': '朱丽倩演过的电视剧,朱丽倩演过的电影_明星_电视猫', 'content': '朱丽倩 15 人喜欢 英文名 Carol 生日 1966-04-06 出生地 大马槟城 身高 165公分 国家或地区 马来西亚 星座 白羊座 资料 影视作品 0 朱丽倩电视剧作品 朱丽倩电影作品 ...', 'url': 'https://www.tvmao.com/star/Flg=/works'}, {'title': '普罗米修斯(电影)', 'content': '2 weeks ago - 《普罗米修斯》的前期...景像。电影的制作过程被高度保密，其故事细节也是被“包裹得密不透风”。雷德利·斯科特决心要对剧情保密，他要求演员签订条款，防止他们泄露故事细节，演员只能在斯科特的制作办公室里看剧本，并且还...', 'url': 'https://zh.wikipedia.org/zh-hans/普罗米修斯_(电影)'}, {'title': '朱丽倩明星资料大全', 'content': '朱丽倩于1966年4月6日出生在马来西亚。朱丽倩有5个兄弟姐妹，家境富裕，父亲做地产和酒楼生意。1983年还在上中学的朱丽倩已出落得亭亭玉立，温婉动人，她和姐姐朱丽珍一起 ...', 'url': 'http://www.iqiyi.com/lib/s_215295805.html'}]\u001b[0m\u001b[32;1m\u001b[1;3m```json\n",
      "{\n",
      "    \"action\": \"Final Answer\",\n",
      "    \"answer\": \"是的，朱丽倩演过电影和电视剧。\"\n",
      "}\n",
      "```\u001b[0m\n",
      "\n",
      "\u001b[1m> Finished chain.\u001b[0m\n"
     ]
    },
    {
     "data": {
      "text/plain": [
       "{'input': '刘德华的老婆演过电影吗？',\n",
       " 'chat_history': [HumanMessage(content='你好，我是老k。', additional_kwargs={}, response_metadata={}),\n",
       "  AIMessage(content='你好，老k，很高兴认识你！', additional_kwargs={}, response_metadata={}),\n",
       "  HumanMessage(content='刘德华的老婆是谁？', additional_kwargs={}, response_metadata={}),\n",
       "  AIMessage(content='刘德华的老婆是朱丽倩。', additional_kwargs={}, response_metadata={})],\n",
       " 'output': '是的，朱丽倩演过电影和电视剧。'}"
      ]
     },
     "execution_count": 100,
     "metadata": {},
     "output_type": "execute_result"
    }
   ],
   "source": [
    "chat_history.extend(\n",
    "    [\n",
    "        HumanMessage(content=\"刘德华的老婆是谁？\"),\n",
    "        AIMessage(content=\"刘德华的老婆是朱丽倩。\")\n",
    "    ]\n",
    ")\n",
    "agent_executor.invoke({\"input\": \"刘德华的老婆演过电影吗？\", \"chat_history\": chat_history})"
   ]
  }
 ],
 "metadata": {
  "kernelspec": {
   "display_name": "kk_langchain",
   "language": "python",
   "name": "python3"
  },
  "language_info": {
   "codemirror_mode": {
    "name": "ipython",
    "version": 3
   },
   "file_extension": ".py",
   "mimetype": "text/x-python",
   "name": "python",
   "nbconvert_exporter": "python",
   "pygments_lexer": "ipython3",
   "version": "3.10.16"
  }
 },
 "nbformat": 4,
 "nbformat_minor": 2
}
