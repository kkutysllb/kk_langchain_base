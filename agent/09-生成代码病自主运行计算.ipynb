{
 "cells": [
  {
   "cell_type": "markdown",
   "metadata": {},
   "source": [
    "# 生成代码并自主运行计算\n",
    "\n",
    "##  Python REPL\n",
    "\n",
    "Python REPL（Read-Eval-Print Loop）是一个交互式编程环境，允许程序员立即执行代码并获取结果。REPL 这个术语来源于描述这种环境工作方式的四个步骤：\n",
    "\n",
    "- Read（读取） - 读取用户输入的代码。\n",
    "- Eval（求值） - 对输入的代码进行求值。\n",
    "- Print（打印） - 打印求值的结果。\n",
    "- Loop（循环） - 返回第一步，等待用户输入更多的代码。\n",
    "\n",
    "在 Python 中，REPL 通常是通过命令行工具 python 或 python3（取决于安装的 Python 版本）访问的。启动这个工具后，用户可以直接输入 Python 代码，并立即看到代码执行的结果。\n",
    "\n"
   ]
  },
  {
   "cell_type": "code",
   "execution_count": 3,
   "metadata": {},
   "outputs": [
    {
     "name": "stderr",
     "output_type": "stream",
     "text": [
      "Python REPL can execute arbitrary code. Use with caution.\n"
     ]
    },
    {
     "data": {
      "text/plain": [
       "'2\\n'"
      ]
     },
     "execution_count": 3,
     "metadata": {},
     "output_type": "execute_result"
    }
   ],
   "source": [
    "from langchain.agents import Tool\n",
    "from langchain_experimental.utilities import PythonREPL\n",
    "\n",
    "\n",
    "python_repl = PythonREPL()\n",
    "\n",
    "python_repl.run(\"print(1+1)\")"
   ]
  },
  {
   "cell_type": "code",
   "execution_count": 4,
   "metadata": {},
   "outputs": [],
   "source": [
    "from langchain_openai import ChatOpenAI\n",
    "import os\n",
    "\n",
    "api_key = os.getenv(\"LOCAL_API_KEY\")\n",
    "base_url = os.getenv(\"LOCAL_API_BASE\")\n",
    "\n",
    "llm = ChatOpenAI(api_key=api_key, base_url=base_url, temperature=0.3, max_tokens=4096)"
   ]
  },
  {
   "cell_type": "code",
   "execution_count": 6,
   "metadata": {},
   "outputs": [],
   "source": [
    "from langchain_core.prompts import ChatPromptTemplate\n",
    "from langchain_core.output_parsers import StrOutputParser\n",
    "\n",
    "promptFormat = \"\"\"{query}\n",
    "\n",
    "请根据上面的问题，生成python代码并计算出问题的答案，最后计算出的答案用print()打印出来，请直接返回python代码，并进行解释。\n",
    "不要返回其他任何字符串。\n",
    "\"\"\"\n",
    "\n",
    "prompt = ChatPromptTemplate.from_template(promptFormat)\n",
    "\n",
    "chain = prompt | llm | StrOutputParser()\n"
   ]
  },
  {
   "cell_type": "code",
   "execution_count": 7,
   "metadata": {},
   "outputs": [
    {
     "name": "stdout",
     "output_type": "stream",
     "text": [
      "apple_weight = 45 / 3 # 计算一箱苹果的重量\n",
      "pear_weight = apple_weight + 5 # 计算一箱梨的重量\n",
      "total_pear_weight = pear_weight * 3 # 计算三箱梨的总重量\n",
      "print(total_pear_weight)"
     ]
    }
   ],
   "source": [
    "query = \"三箱苹果重45千克，一箱梨比一箱苹果重5千克，3箱梨重多少千克？\"\n",
    "\n",
    "for chunk in chain.stream({\"query\": query}):\n",
    "    print(chunk, end=\"\", flush=True)\n"
   ]
  },
  {
   "cell_type": "code",
   "execution_count": 8,
   "metadata": {},
   "outputs": [
    {
     "data": {
      "text/plain": [
       "'apple_weight = 45 / 3 # 计算一箱苹果的重量\\npear_weight = apple_weight + 5 # 计算一箱梨的重量\\ntotal_pear_weight = pear_weight * 3 # 计算三箱梨的总重量\\n\\nprint(total_pear_weight) # 打印出答案'"
      ]
     },
     "execution_count": 8,
     "metadata": {},
     "output_type": "execute_result"
    }
   ],
   "source": [
    "results = chain.invoke({\"query\": query})\n",
    "\n",
    "def parsePython(codeStr: str):\n",
    "    codeStr = results.replace(\"```python\", \"\").replace(\"```\", \"\")\n",
    "    return codeStr\n",
    "\n",
    "\n",
    "chain = prompt | llm | StrOutputParser() | parsePython \n",
    "\n",
    "chain.invoke({\"query\": query})"
   ]
  },
  {
   "cell_type": "code",
   "execution_count": 9,
   "metadata": {},
   "outputs": [
    {
     "data": {
      "text/plain": [
       "'60.0\\n'"
      ]
     },
     "execution_count": 9,
     "metadata": {},
     "output_type": "execute_result"
    }
   ],
   "source": [
    "python_repl.run(results)"
   ]
  },
  {
   "cell_type": "code",
   "execution_count": 10,
   "metadata": {},
   "outputs": [
    {
     "data": {
      "text/plain": [
       "'60.0\\n'"
      ]
     },
     "execution_count": 10,
     "metadata": {},
     "output_type": "execute_result"
    }
   ],
   "source": [
    "chain = prompt | llm | StrOutputParser() | parsePython | python_repl.run\n",
    "\n",
    "chain.invoke({\"query\": query})"
   ]
  },
  {
   "cell_type": "code",
   "execution_count": 11,
   "metadata": {},
   "outputs": [
    {
     "name": "stdout",
     "output_type": "stream",
     "text": [
      "60.0\n"
     ]
    }
   ],
   "source": [
    "for chunk in chain.stream({\"query\": query}):\n",
    "    print(chunk, end=\"\", flush=True)"
   ]
  }
 ],
 "metadata": {
  "kernelspec": {
   "display_name": "kk_langchain",
   "language": "python",
   "name": "python3"
  },
  "language_info": {
   "codemirror_mode": {
    "name": "ipython",
    "version": 3
   },
   "file_extension": ".py",
   "mimetype": "text/x-python",
   "name": "python",
   "nbconvert_exporter": "python",
   "pygments_lexer": "ipython3",
   "version": "3.10.16"
  }
 },
 "nbformat": 4,
 "nbformat_minor": 2
}
