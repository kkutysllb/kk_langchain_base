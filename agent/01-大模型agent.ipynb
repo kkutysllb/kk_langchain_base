{
 "cells": [
  {
   "cell_type": "markdown",
   "metadata": {},
   "source": [
    "# 大模型agent\n",
    "\n",
    "大模型Agent通常指的是在人工智能领域，使用大规模神经网络模型来构建的智能体(Agent)。这种智能体能够处理和解决复杂的问题，比如自然语言处理、图像识别、游戏对战等。\n",
    "\n",
    "大模型通常需要大量的数据来训练，这样才能学习到丰富的模式和信息。同时，大模型的训练和部署也需要较高的计算资源。近年来，随着计算能力的提升和数据的积累，大模型在人工智能领域取得了显著的进展，如OpenAI的GPT系列模型、Google的BERT模型等。\n",
    "\n",
    "大模型Agent在很多领域都有广泛的应用，包括但不限于：\n",
    "1. **自然语言处理**：如文本生成、机器翻译、情感分析等。\n",
    "2. **图像和视频处理**：如图像识别、视频生成等。\n",
    "3. **推荐系统**：如电商推荐、视频推荐等。\n",
    "4. **游戏和娱乐**：如游戏对战、音乐生成等。\n",
    "大模型Agent是当前人工智能研究和应用的热点之一，也是未来智能系统发展的重要方向。"
   ]
  },
  {
   "cell_type": "markdown",
   "metadata": {},
   "source": [
    "## 如何应用大模型智能体\n",
    "\n",
    "在自己的创作中应用大模型Agent，你可以遵循以下步骤：\n",
    "1. **确定需求**：\n",
    "   - 首先，明确你想要通过大模型Agent实现的功能。例如，你可能需要一个能够生成文本的模型来帮助创作故事，或者需要一个能够理解自然语言的模型来创建聊天机器人。\n",
    "2. **选择合适的模型**：\n",
    "   - 根据你的需求，选择一个合适的大模型。有许多开源模型可供选择，如GPT-3、BERT、T5等，也有一些商业模型和API服务，如OpenAI的GPT-3 API、Google Cloud的AI服务平台等。\n",
    "3. **获取数据和资源**：\n",
    "   - 准备训练数据（如果需要训练自己的模型），同时确保你有足够的计算资源来运行模型。如果使用现成的API服务，则不需要担心计算资源问题。\n",
    "4. **集成到创作中**：\n",
    "   - 将大模型Agent集成到你的创作流程中。例如，如果你是一名作家，你可以使用文本生成模型来帮助你构思故事情节或生成对话。如果你是一名游戏开发者，你可以使用模型来创造更自然的NPC对话或生成游戏内容。\n",
    "5. **测试和迭代**：\n",
    "   - 在创作过程中不断测试模型的效果，并根据反馈进行调整。这可能包括调整模型的参数、提供更多的训练数据或改进输入输出的处理方式。\n",
    "6. **遵守法律和伦理准则**：\n",
    "   - 在使用大模型Agent时，确保遵守相关的法律法规和伦理准则。例如，如果模型生成的内容涉及个人信息，需要确保遵守隐私保护法规。\n",
    "7. **考虑用户体验**：\n",
    "   - 考虑最终用户的体验，确保集成模型后的创作能够为用户提供价值，并且易于使用和理解。\n",
    "8. **持续学习和适应**：\n",
    "   - 人工智能领域不断发展，新的模型和技术层出不穷。作为创作者，你需要持续学习新的工具和技术，以便更好地利用它们来丰富你的创作。\n",
    "通过以上步骤，你可以在自己的创作中有效地应用大模型Agent，无论是艺术创作、写作、游戏开发还是其他领域。\n"
   ]
  },
  {
   "cell_type": "markdown",
   "metadata": {},
   "source": [
    "### 简单的Agent例子\n",
    "\n",
    "当然可以。以下是一个具体的例子，展示如何在自己的创作中应用大模型Agent：\n",
    "\n",
    "**场景**：假设你是一名小说家，正在创作一部科幻小说，但你发现自己卡在了某个情节上，不知道如何让故事继续发展。\n",
    "\n",
    "**步骤**：\n",
    "\n",
    "1. **确定需求**：\n",
    "   - 你需要一个大模型Agent来帮助你生成新的故事情节或对话，以便推动故事发展。\n",
    "2. **选择合适的模型**：\n",
    "   - 你决定使用OpenAI的GPT-3模型，因为它在文本生成方面表现出色。\n",
    "3. **获取数据和资源**：\n",
    "   - 你不需要额外的训练数据，因为GPT-3已经经过预训练。你只需要注册OpenAI的API服务并获取API密钥。\n",
    "4. **集成到创作中**：\n",
    "   - 使用OpenAI的API，你可以编写一个简单的脚本或使用在线接口来与GPT-3模型交互。例如，你可以提供一个故事背景和当前情节的简要描述，然后请求模型生成接下来可能发生的事件或对话。\n",
    "5. **测试和迭代**：\n",
    "   - 你可能会尝试多次，每次根据模型的输出调整输入，以便获得最满意的结果。例如，如果模型的输出与你的故事风格不符，你可以提供更多的上下文信息或明确你想要的风格。\n",
    "6. **遵守法律和伦理准则**：\n",
    "   - 确保你使用模型生成的文本不侵犯他人的版权，并且在发布作品时遵守相关的法律和伦理准则。\n",
    "7. **考虑用户体验**：\n",
    "   - 你需要评估模型生成的文本是否能够自然地融入你的故事中，并且是否能够给读者带来满意的阅读体验。\n",
    "8. **持续学习和适应**：\n",
    "   - 在创作过程中，你可能会发现新的使用模型的方法，或者了解到新的模型和技术，这些都可以帮助你提高创作效率和质量。\n",
    "通过这个过程，你不仅解决了创作的难题，而且还可能发现新的灵感和方向，使你的作品更加丰富和引人入胜。"
   ]
  },
  {
   "cell_type": "markdown",
   "metadata": {},
   "source": [
    "### 让智能体自动调用工具查找数据\n",
    "\n",
    "为了更好地理解代理框架，让我们构建一个具有两个工具的代理：一个用于在线查找内容，另一个用于查找已加载到索引中的特定数据。\n",
    "\n",
    "我们首先需要创建我们想要使用的工具。我们将使用两个工具：Tavily（在线搜索），然后是我们将创建的本地索引上的检索器\n",
    "\n",
    "\n",
    "#### SerpAPI\n",
    "SerpAPI是一个搜索引擎结果页面API，它允许开发者和研究人员通过编程方式获取Google、Bing、Yahoo和其他搜索引擎的搜索结果。使用SerpAPI，用户可以避免直接与搜索引擎进行交互，从而避免了可能遇到的各种问题，例如IP地址被封锁、请求限制、用户代理问题等。\n",
    "\n",
    "SerpAPI的主要特点包括：\n",
    "1. 易于使用：SerpAPI提供了一个简单的API接口，用户只需发送一个搜索查询，就可以获得JSON格式的搜索结果。\n",
    "2. 支持多种搜索引擎：除了Google，SerpAPI还支持Bing、Yahoo、Yandex等搜索引擎。\n",
    "3. 丰富的数据：SerpAPI返回的搜索结果包含丰富的数据，例如标题、链接、描述、快照等。\n",
    "4. 高级功能：SerpAPI支持许多高级功能，例如地理位置定位、设备模拟、自定义参数等。\n",
    "5. 可靠性和性能：SerpAPI提供了高可靠性和性能，确保用户可以获得快速、准确的搜索结果。\n",
    "\n",
    "SerpAPI是一个功能强大、易于使用的搜索引擎结果页面API，适用于各种开发者和研究人员的需求。\n",
    "\n",
    "\n",
    "pip install google-search-results"
   ]
  },
  {
   "cell_type": "code",
   "execution_count": 57,
   "metadata": {},
   "outputs": [],
   "source": [
    "from langchain_openai import ChatOpenAI\n",
    "import os\n",
    "\n",
    "api_key = os.getenv(\"OPENAI_API_KEY\")\n",
    "base_url = os.getenv(\"OPENAI_API_BASE\")\n",
    "\n",
    "llm = ChatOpenAI(api_key=api_key, base_url=base_url, temperature=0.3, model=\"gpt-4o-mini\")"
   ]
  },
  {
   "cell_type": "code",
   "execution_count": 58,
   "metadata": {},
   "outputs": [
    {
     "data": {
      "text/plain": [
       "\"['活动现场，刘亦菲身着一身金光璀璨的高定礼服惊艳现身，瞬间吸引了在场所有人的目光。这件礼服别具匠心地采用了鱼骨设计，那精致细腻的线条沿着她的身形蜿蜒 ...', '刘亦菲近期参加了多个活动。她出席宝格丽活动，身着长裙，搭配光彩夺目的珠宝，尽显贵气迷人，其美在活动现场十分抢镜，且她在活动中的表现大方得体，无论是舞台上还是舞会环节都 ...', '#刘亦菲 最新活动路透，神仙姐姐现场蹦迪 . 4.5K views · 2 months ago ... 【去有风的地方】花絮：刘亦菲剧组日常，撸猫逗狗与马共舞~ | Meet ...', '28日晚，上海电视节“白玉兰”颁奖典礼举行，刘亦菲与陈晓同框亮相，二人获得中国电视节目海外推广大使称号！刘亦菲与陈晓曾合作电视剧《梦华录》备受观众喜爱。据悉，这也是陈晓 ...', '#刘亦菲 今日，参加嘉人Marie Claire（杂志）举办的嘉人女性影响力之夜在上海举行，这是中国首个全女性嘉宾阵容的时尚颁奖晚宴。', '见面了：刘亦菲的人生有陈金飞....| ... 最近37岁女星刘亦菲很是活跃，接连出席了多个娱乐圈活动，其中就包括微博举办的视界大会。', '近日，刘亦菲现身某活动现场，一向有“天仙”称号的她，却意外因为外貌遭遇了网友的批评。有网友觉得刘亦菲最近是不是发福了，穿上礼服之后整个人身材显得较为臃肿，以 ...', '2天前最近,刘亦菲参加了嘉人盛典活动,活动中,她穿着一身金灿灿的高定现身,裙子采用鱼骨设计看起来很独特。 这次活动刘亦菲压轴出场,上次在Vogue盛典上 ...', '刘亦菲最近造型团队摸到灵感了，她的五官和身材特点特别适合油画风。自从前段时期柳宗源拍了这个系列之后的活动GQ，还有芭莎封面视频，宝格丽晚宴和 ...', '刘亦菲近期出席了一些活动。例如，7 月8 日，刘亦菲现身《玫瑰的故事》研讨会，她身穿白衬衫，一出场就惊艳四座。7 月9 日，刘亦菲昨日出席活动，身着白衬衫搭配黑色西服裤。']\""
      ]
     },
     "execution_count": 58,
     "metadata": {},
     "output_type": "execute_result"
    }
   ],
   "source": [
    "from langchain_community.utilities import SerpAPIWrapper\n",
    "import os\n",
    "\n",
    "serpapi_api_key = os.getenv(\"SERPAPI_API_KEY\")\n",
    "\n",
    "search = SerpAPIWrapper(serpapi_api_key=serpapi_api_key)\n",
    "search.run(\"刘亦菲最近有什么活动？\")\n"
   ]
  },
  {
   "cell_type": "code",
   "execution_count": 59,
   "metadata": {},
   "outputs": [
    {
     "data": {
      "text/plain": [
       "\"['Fang Shilong SBS MBE PMW, known professionally as Jackie Chan, is a Hong Kong actor, director, writer, producer, martial artist, and stuntman known for his slapstick - acrobatic fighting style, comic timing, and innovative stunts, which he typically performs himself.', 'Jackie Chan (成龙) type: Hong Kong actor and director.', 'Jackie Chan (成龙) entity_type: people.', 'Jackie Chan (成龙) main_tab_text: Overview.', 'Jackie Chan (成龙) kgmid: /m/012d40.', 'Jackie Chan (成龙) born: April 7, 1954 (age 70 years), Victoria Peak, Hong Kong.', 'Jackie Chan (成龙) spouse: Joan Lin (m. 1982).', 'Jackie Chan (成龙) children: Etta Ng Chok Lam, Jaycee Chan.', 'Jackie Chan (成龙) upcoming_movie: Karate Kid - Legends.', 'Jackie Chan (成龙) martial_arts: Chinese martial arts, Jeet Kune Do, Taekwondo, Judo, Hapkido.', 'Jackie Chan (成龙) height: 5′ 9″.', '成龙Jackie Chan的全部作品（301） · 狼旗 (2035) (未上映) [ 演员] · 极夜 (2033) (未上映) [ 演员] · 雪覆沙 (2032) (未上映) [ 编剧] · 新警察故事2 (2030) (未上映) [ ...', '成龙历年在全球卖座的好莱坞电影依序是《功夫梦》、《尖峰时刻2》、《尖峰时刻3》、《尖峰时刻》、《红番区》、《威龙猛探》、《杀手壕》、《邻家特工》、《功夫之王》、 ...', '2345电影大全精选128部成龙电影，聚合十多家视频站的上万部正版高清电影资源。我们致力于为您提供高清、免费好看的成龙电影。目前受网友喜爱的成龙电影有：《神话》、《神探 ...', '《成龙电影》合集 · 熊猫计划 · 狂怒沙暴 · 龙马精神 · 曾经相爱的我们 · 总是有爱在隔离 · 急先锋 · 攀登者 · 龙牌之谜.', '今天是2016年4月7号，62年前的今天，一个小破孩在香港出生，多年后他将会成为华语电影史上一个极其伟大的人物。如今我能听懂粤语、能不算流利地说一些粤语，一个原因是听多 ...', '原创 盘点成龙十部经典电影，从一个普通的武师，逐步成为国际功夫巨星 · 1、A计划. 《A计划》豆瓣评分8.2分，是一部喜剧警匪动作电影，由成龙执导，成龙、元彪 ...', '成龙电影 movie (邻家特工)(国语). 中华影城 · 1:47:11. 成龙电影 movie 《特务迷城》The Accidental Spy. 中华影城 · 1:37:15 · 成龙电影 《功夫之王》主演：李连杰 成龙 ...', '最佳回答：1. 1962年《大小黄天霸》2. 1964年《秦香莲》3. 1964年《梁山伯与祝英台》4. 1972年《顶天立地》5. 1972年《金瓶双艳》6. 1973年《女警察》7. 1973年《广...', '1971年，以龙虎武师身份进入演艺圈。1978年，凭借动作电影《醉拳》确立功夫喜剧的表演风格。1980年，自导自演的动作片《师弟出马》打破香港地区票房纪录。1983年，执导并主演 ...', '成龙的189部电影，，《龙马精神》-喜剧片，《许愿神龙》-喜剧片，《我是谁》-丛林片，《神话》-动作片，《急先锋》-动作片，《快餐车》-老片，《警察故事3:超级警察》-喜剧片 ...']\""
      ]
     },
     "execution_count": 59,
     "metadata": {},
     "output_type": "execute_result"
    }
   ],
   "source": [
    "from langchain.agents import Tool\n",
    "\n",
    "searchTool = Tool(\n",
    "    name=\"Search\",\n",
    "    func=search.run,\n",
    "    description=\"useful when you need to answer questions about current events\"\n",
    ")\n",
    "\n",
    "searchTool.invoke(\"成龙电影\")"
   ]
  },
  {
   "cell_type": "code",
   "execution_count": 60,
   "metadata": {},
   "outputs": [],
   "source": [
    "from langchain_community.vectorstores import FAISS\n",
    "from langchain_community.embeddings.huggingface import HuggingFaceEmbeddings\n",
    "\n",
    "embeddings = HuggingFaceEmbeddings(model_name=\"/Users/libing/kk_LLMs/bge-large-zh-v1.5\")"
   ]
  },
  {
   "cell_type": "code",
   "execution_count": 61,
   "metadata": {},
   "outputs": [
    {
     "data": {
      "text/plain": [
       "[Document(metadata={'source': '/Users/libing/kk_datasets/txt/faq-7923.txt'}, page_content='众测活动\\n\\n整体介绍：\\n\\n一、活动定义：众测是以低价试销的形式，通过收集评价、销量等方法，用于测试市场对新商品的反应，用于及时优化销售策略和引导商家改进。\\n\\n二、优势：众测价通常比较优惠，以不高于大促促销价为原则，最终以与物权方谈判结果为准。\\n\\n三、适用范围：华为商城所有产品。\\n\\n\\n\\n参与方式：\\n\\n1、华为商城众测的入口在哪里？\\n\\n华为商城搜索“众测”，即可看到众测入口，点击进入即可；\\n\\n2、众测上新频次：\\n\\n众测频道每周一至周五不定期更新上架，部分商品可能会特别调整；\\n\\n3、众测活动时间：\\n\\n一款产品众测时间通常为10-20天（热销的商品可能会延期5-10天）。\\n\\n \\n\\n常见问题：\\n\\n1、众测商品的来源?\\n\\n     您好，众测商品主要来源为华为商城上架的新品，热销的爆款商品也会不定期通过众测回归上线。\\n\\n2、众测商品的价格会优惠吗？\\n\\n     您好，众测商品价格对标618和双十一，一般都是该商品某段时间的最低促销价。\\n\\n3、 众测商品质量会不稳定么？\\n\\n     您好，众测商品也是量产的正品新品，质量与正式上架商品一致。 \\n\\n4、众测商品买下后多久发货？\\n\\n     您好，请以商品页显示为准。\\n\\n5、提交活动订单后多久内支付？\\n\\n     您好，提交订单后最长付款时效为24小时，逾期订单自动取消\\n\\n6、成功下单后怎么查询众测订单？\\n\\n     您好，成功下单后，您可以通过华为商城手机APP、华为商城手机WAP版、华为商城电脑网页版任意一端登录下单账户，在“我的订单”查询。（众测商品订单查询方式等同于正常商品订单）\\n\\n7、订单支付后未发货前可以取消订单吗？\\n\\n     您好，在发货前消费者可以取消订单。\\n\\n8、取消订单后多久内退回款项？\\n\\n     您好，和华为商城智能家居生态产品通用退款时效一致，3-5个工作日。\\n\\n9、一个账号可以参与几次众测活动？有限购吗？\\n\\n     您好，一个账号参与众测活动的次数无限制，没有限购。但每次订单只能购买一个商品。如您需要购买多个产品，可以多次参与众测活动。')]"
      ]
     },
     "execution_count": 61,
     "metadata": {},
     "output_type": "execute_result"
    }
   ],
   "source": [
    "from langchain_community.document_loaders import TextLoader\n",
    "\n",
    "file_path = \"/Users/libing/kk_datasets/txt/faq-7923.txt\"\n",
    "\n",
    "loader = TextLoader(file_path, encoding=\"utf-8\")\n",
    "doc1 = loader.load()\n",
    "\n",
    "doc1"
   ]
  },
  {
   "cell_type": "code",
   "execution_count": 62,
   "metadata": {},
   "outputs": [
    {
     "data": {
      "text/plain": [
       "[Document(metadata={'source': '/Users/libing/kk_datasets/txt/faq-4359.txt'}, page_content='一、什么是0分期利息\\n\\n您好，“0分期利息”是指买家使用花呗、招行掌上生活、工行信用卡、银联信用卡等其他分期购物时无需支付分期利息的功能，分期利息由华为商城承担。\\n\\n注：自2023年起，商城将相关宣传将“免息”调整为“0分期利息”，主要基于中国银保监会、中国人民银行《关于进一步促进信用卡业务规范健康发展的通知》（银保监规〔2022〕13号），要求“银行业金融机构应当在分期业务合同（协议）首页和业务办理页面以明显方式展示分期业务可能产生的所有息费项目、年化利率水平和息费计算方式。向客户展示分期业务收取的资金使用成本时，应当统一采用利息形式，并明确相应的计息规则，不得采用手续费等形式，法律法规另有规定的除外。”\\n\\n\\n\\n二、可以参与0分期利息活动的商品\\n\\n商城目前仅支持部分单品参与0分期利息，若多商品（含不支持0分期利息）合并支付则不支持0分期利息，以支付页面为准，后续会逐渐开放更多商品，敬请关注。\\n\\n\\n\\n三、确认订单分期成功\\n\\n订单提交成功后在支付方式页面选择分期支付，点选显示0分期利息的支付方式及具体0分期利息期数后，完成支付。\\n\\n\\n\\n\\n\\n四、订单中有多个商品，其中有商品支持0分期利息，为什么提交后却没有0分期利息？\\n\\n0分期利息商品不能和其它商品一起购买，如果和其他商品购买而不能享用0分期利息，建议取消原来的订单，重新购买时把0分期利息商品和其他商品分开单独购买；且0分期利息的分期数是固定的，如6期0分期利息，并不是3/6/12都提供0分期利息的。\\n\\n\\n\\n五、小程序是否支持0分期利息？\\n\\n华为商城小程序暂不支持0分期利息。')]"
      ]
     },
     "execution_count": 62,
     "metadata": {},
     "output_type": "execute_result"
    }
   ],
   "source": [
    "file_path = \"/Users/libing/kk_datasets/txt/faq-4359.txt\"\n",
    "\n",
    "loader = TextLoader(file_path, encoding=\"utf-8\")\n",
    "doc2 = loader.load()\n",
    "\n",
    "doc2"
   ]
  },
  {
   "cell_type": "code",
   "execution_count": 63,
   "metadata": {},
   "outputs": [
    {
     "data": {
      "text/plain": [
       "[Document(metadata={'source': '/Users/libing/kk_datasets/txt/yjhx.md'}, page_content='**一、选择回收物品**\\n\\n点击VMALL您可以在设备回收分类中选择旧商品的类别以及品牌，现在VMALL支持回收部分品牌和型号的手机、笔记本、平板、智能数码以及摄影摄像。如若在此页面上找不到您的品牌或型号，您可以点击品牌栏右下方的加号（如下图红圈部分所示）查看VMALL所支持回收的所有品牌型号。首页滚动电子横幅右下方“以旧换新”标志（如下图红框部分所示），进入“以旧换新”页面。\\n\\n![以旧换新图片](https://threejs-1251830808.cos.ap-guangzhou.myqcloud.com/73564551948615546537.png)\\n\\n（以下图片为参考流程，实际以页面为准）\\n\\n![设备回收图片](https://threejs-1251830808.cos.ap-guangzhou.myqcloud.com/18969746813614796981.png)\\n\\n选择好您的旧商品后请点击商品图标，进入价格评估页面。\\n\\n\\n\\n**二、价格评估**\\n\\n在价格评估界面上，您需要对旧商品的基本信息（网络制式、存储容量、购买渠道、机身颜色），外观成色（边框背板，屏幕外观，屏幕显示，维修情况），和多功能选项参数进行评估，请如实填写您的手机情况。完成所有参数选择，请估价按钮（如下图红框部分所示）。\\n\\n完成所有参数选择，请点击“免费询价”按钮（如下图红框部分所示）。\\n\\n![免费询价图片](https://threejs-1251830808.cos.ap-guangzhou.myqcloud.com/37174946813614947173.png)\\n\\n**三、价格评估结果**\\n\\n您可以查看手机的估价和这款手机的回收价格趋势，如果填写有什么问题，可以点击“重新询价”或“重新选择机型”更改；确认无误后，点击“换钱”按钮进入订单页面。\\n\\n![价格评估结果图片](https://threejs-1251830808.cos.ap-guangzhou.myqcloud.com/28422256813615222482.png)\\n\\n**四、提交订单**\\n\\n在订单页面，您可以从以下两种常规回收方式选择一种进行回收，并提交订单结账。（回收宝支持顺丰上门、上门质检回收，爱回收支持顺丰上门、质检上门、信用回收）\\n\\n![&#x56fe;5.png](https://threejs-1251830808.cos.ap-guangzhou.myqcloud.com/47605356813615350674.png)\\n\\n（1）顺丰上门回收操作流程\\n\\n① 回收方式：选择顺丰快递回收\\n\\n② 提交订单：填写联系人、电话号码、取货地址及上门时间，提交订单\\n\\n③ 上门取货：回收订单提交成功，快递员会按照填写的上门时间上门取货\\n\\n④ 确认交易：回收商会在收到旧机的48小时内完成检测，若价格与您提交订单时的价格一致，将立即发放华为代金券。\\n\\n（2）质检师上门回收操作流程\\n\\n① 回收方式：选择质检师上门回收。\\n\\n② 提交订单：填写联系人信息、手机号码、上门地址及上门时间，提交订单\\n\\n③ 确认交易：如通过质检师上门回收，在完成检测后，代金券可实时到账。\\n\\n![质检师上门回收操作流程图片](https://threejs-1251830808.cos.ap-guangzhou.myqcloud.com/67845656813615654876.png)\\n\\n\\n\\n五、以旧换新答疑 ：更多关于以旧换新的问题请点击 “[以旧换新答疑](https://www.vmall.com/help/category-251.html)”查看。')]"
      ]
     },
     "execution_count": 63,
     "metadata": {},
     "output_type": "execute_result"
    }
   ],
   "source": [
    "file_path = \"/Users/libing/kk_datasets/txt/yjhx.md\"\n",
    "\n",
    "loader = TextLoader(file_path, encoding=\"utf-8\")\n",
    "doc3 = loader.load()\n",
    "\n",
    "doc3"
   ]
  },
  {
   "cell_type": "code",
   "execution_count": 64,
   "metadata": {},
   "outputs": [
    {
     "data": {
      "text/plain": [
       "<langchain_community.vectorstores.faiss.FAISS at 0x35e90e650>"
      ]
     },
     "execution_count": 64,
     "metadata": {},
     "output_type": "execute_result"
    }
   ],
   "source": [
    "vectorstoreDB = FAISS.from_documents([doc1[0], doc2[0], doc3[0]], embeddings)\n",
    "vectorstoreDB"
   ]
  },
  {
   "cell_type": "code",
   "execution_count": 65,
   "metadata": {},
   "outputs": [],
   "source": [
    "retriever = vectorstoreDB.as_retriever(\n",
    "    search_type=\"mmr\",\n",
    "    search_kwargs={\"k\": 1}\n",
    ")"
   ]
  },
  {
   "cell_type": "code",
   "execution_count": 66,
   "metadata": {},
   "outputs": [
    {
     "data": {
      "text/plain": [
       "'众测活动\\n\\n整体介绍：\\n\\n一、活动定义：众测是以低价试销的形式，通过收集评价、销量等方法，用于测试市场对新商品的反应，用于及时优化销售策略和引导商家改进。\\n\\n二、优势：众测价通常比较优惠，以不高于大促促销价为原则，最终以与物权方谈判结果为准。\\n\\n三、适用范围：华为商城所有产品。\\n\\n\\n\\n参与方式：\\n\\n1、华为商城众测的入口在哪里？\\n\\n华为商城搜索“众测”，即可看到众测入口，点击进入即可；\\n\\n2、众测上新频次：\\n\\n众测频道每周一至周五不定期更新上架，部分商品可能会特别调整；\\n\\n3、众测活动时间：\\n\\n一款产品众测时间通常为10-20天（热销的商品可能会延期5-10天）。\\n\\n \\n\\n常见问题：\\n\\n1、众测商品的来源?\\n\\n     您好，众测商品主要来源为华为商城上架的新品，热销的爆款商品也会不定期通过众测回归上线。\\n\\n2、众测商品的价格会优惠吗？\\n\\n     您好，众测商品价格对标618和双十一，一般都是该商品某段时间的最低促销价。\\n\\n3、 众测商品质量会不稳定么？\\n\\n     您好，众测商品也是量产的正品新品，质量与正式上架商品一致。 \\n\\n4、众测商品买下后多久发货？\\n\\n     您好，请以商品页显示为准。\\n\\n5、提交活动订单后多久内支付？\\n\\n     您好，提交订单后最长付款时效为24小时，逾期订单自动取消\\n\\n6、成功下单后怎么查询众测订单？\\n\\n     您好，成功下单后，您可以通过华为商城手机APP、华为商城手机WAP版、华为商城电脑网页版任意一端登录下单账户，在“我的订单”查询。（众测商品订单查询方式等同于正常商品订单）\\n\\n7、订单支付后未发货前可以取消订单吗？\\n\\n     您好，在发货前消费者可以取消订单。\\n\\n8、取消订单后多久内退回款项？\\n\\n     您好，和华为商城智能家居生态产品通用退款时效一致，3-5个工作日。\\n\\n9、一个账号可以参与几次众测活动？有限购吗？\\n\\n     您好，一个账号参与众测活动的次数无限制，没有限购。但每次订单只能购买一个商品。如您需要购买多个产品，可以多次参与众测活动。'"
      ]
     },
     "execution_count": 66,
     "metadata": {},
     "output_type": "execute_result"
    }
   ],
   "source": [
    "from langchain.tools.retriever import create_retriever_tool\n",
    "\n",
    "retriever_tool = create_retriever_tool(\n",
    "    retriever,\n",
    "    \"vectorstore_retriever\",\n",
    "    \"华为商城帮助中心文档检索器，可以搜索各种华为商城相关问题的解决方案和知识。\"\n",
    ")\n",
    "retriever_tool.invoke(\"众测活动\")"
   ]
  },
  {
   "cell_type": "code",
   "execution_count": 67,
   "metadata": {},
   "outputs": [
    {
     "data": {
      "text/plain": [
       "[Tool(name='Search', description='useful when you need to answer questions about current events', func=<bound method SerpAPIWrapper.run of SerpAPIWrapper(search_engine=<class 'serpapi.google_search.GoogleSearch'>, params={'engine': 'google', 'google_domain': 'google.com', 'gl': 'us', 'hl': 'en'}, serpapi_api_key='a392675cf5c6c31c378fc786b4846e79c589802a6c3e61c4739446faea90b80b', aiosession=None)>),\n",
       " Tool(name='vectorstore_retriever', description='华为商城帮助中心文档检索器，可以搜索各种华为商城相关问题的解决方案和知识。', args_schema=<class 'langchain_core.tools.retriever.RetrieverInput'>, func=functools.partial(<function _get_relevant_documents at 0x115148670>, retriever=VectorStoreRetriever(tags=['FAISS', 'HuggingFaceEmbeddings'], vectorstore=<langchain_community.vectorstores.faiss.FAISS object at 0x35e90e650>, search_type='mmr', search_kwargs={'k': 1}), document_prompt=PromptTemplate(input_variables=['page_content'], input_types={}, partial_variables={}, template='{page_content}'), document_separator='\\n\\n'), coroutine=functools.partial(<function _aget_relevant_documents at 0x11632f6d0>, retriever=VectorStoreRetriever(tags=['FAISS', 'HuggingFaceEmbeddings'], vectorstore=<langchain_community.vectorstores.faiss.FAISS object at 0x35e90e650>, search_type='mmr', search_kwargs={'k': 1}), document_prompt=PromptTemplate(input_variables=['page_content'], input_types={}, partial_variables={}, template='{page_content}'), document_separator='\\n\\n'))]"
      ]
     },
     "execution_count": 67,
     "metadata": {},
     "output_type": "execute_result"
    }
   ],
   "source": [
    "tools = [searchTool, retriever_tool]\n",
    "tools"
   ]
  },
  {
   "cell_type": "code",
   "execution_count": 68,
   "metadata": {},
   "outputs": [
    {
     "name": "stderr",
     "output_type": "stream",
     "text": [
      "/Users/libing/miniconda3/envs/kk_langchain/lib/python3.10/site-packages/langsmith/client.py:261: LangSmithMissingAPIKeyWarning: API key must be provided when using hosted LangSmith API\n",
      "  warnings.warn(\n"
     ]
    },
    {
     "data": {
      "text/plain": [
       "[SystemMessagePromptTemplate(prompt=PromptTemplate(input_variables=[], input_types={}, partial_variables={}, template='You are a helpful assistant'), additional_kwargs={}),\n",
       " MessagesPlaceholder(variable_name='chat_history', optional=True),\n",
       " HumanMessagePromptTemplate(prompt=PromptTemplate(input_variables=['input'], input_types={}, partial_variables={}, template='{input}'), additional_kwargs={}),\n",
       " MessagesPlaceholder(variable_name='agent_scratchpad')]"
      ]
     },
     "execution_count": 68,
     "metadata": {},
     "output_type": "execute_result"
    }
   ],
   "source": [
    "from langchain.prompts import ChatPromptTemplate, MessagesPlaceholder\n",
    "from langchain.schema import SystemMessage\n",
    "from langchain import hub\n",
    "\n",
    "# prompt = ChatPromptTemplate.from_messages([\n",
    "#     SystemMessage(content=\"你是一个有帮助的AI助手。使用提供的工具来回答问题。\"),\n",
    "#     MessagesPlaceholder(variable_name=\"chat_history\", optional=True),\n",
    "#     (\"user\", \"{input}\"),\n",
    "#     MessagesPlaceholder(variable_name=\"agent_scratchpad\")\n",
    "# ])\n",
    "prompt = hub.pull(\"hwchase17/openai-tools-agent\")\n",
    "prompt.messages"
   ]
  },
  {
   "cell_type": "code",
   "execution_count": 69,
   "metadata": {},
   "outputs": [
    {
     "data": {
      "text/plain": [
       "RunnableAssign(mapper={\n",
       "  agent_scratchpad: RunnableLambda(lambda x: format_to_openai_tool_messages(x['intermediate_steps']))\n",
       "})\n",
       "| ChatPromptTemplate(input_variables=['agent_scratchpad', 'input'], optional_variables=['chat_history'], input_types={'chat_history': list[typing.Annotated[typing.Union[typing.Annotated[langchain_core.messages.ai.AIMessage, Tag(tag='ai')], typing.Annotated[langchain_core.messages.human.HumanMessage, Tag(tag='human')], typing.Annotated[langchain_core.messages.chat.ChatMessage, Tag(tag='chat')], typing.Annotated[langchain_core.messages.system.SystemMessage, Tag(tag='system')], typing.Annotated[langchain_core.messages.function.FunctionMessage, Tag(tag='function')], typing.Annotated[langchain_core.messages.tool.ToolMessage, Tag(tag='tool')], typing.Annotated[langchain_core.messages.ai.AIMessageChunk, Tag(tag='AIMessageChunk')], typing.Annotated[langchain_core.messages.human.HumanMessageChunk, Tag(tag='HumanMessageChunk')], typing.Annotated[langchain_core.messages.chat.ChatMessageChunk, Tag(tag='ChatMessageChunk')], typing.Annotated[langchain_core.messages.system.SystemMessageChunk, Tag(tag='SystemMessageChunk')], typing.Annotated[langchain_core.messages.function.FunctionMessageChunk, Tag(tag='FunctionMessageChunk')], typing.Annotated[langchain_core.messages.tool.ToolMessageChunk, Tag(tag='ToolMessageChunk')]], FieldInfo(annotation=NoneType, required=True, discriminator=Discriminator(discriminator=<function _get_type at 0x11461c0d0>, custom_error_type=None, custom_error_message=None, custom_error_context=None))]], 'agent_scratchpad': list[typing.Annotated[typing.Union[typing.Annotated[langchain_core.messages.ai.AIMessage, Tag(tag='ai')], typing.Annotated[langchain_core.messages.human.HumanMessage, Tag(tag='human')], typing.Annotated[langchain_core.messages.chat.ChatMessage, Tag(tag='chat')], typing.Annotated[langchain_core.messages.system.SystemMessage, Tag(tag='system')], typing.Annotated[langchain_core.messages.function.FunctionMessage, Tag(tag='function')], typing.Annotated[langchain_core.messages.tool.ToolMessage, Tag(tag='tool')], typing.Annotated[langchain_core.messages.ai.AIMessageChunk, Tag(tag='AIMessageChunk')], typing.Annotated[langchain_core.messages.human.HumanMessageChunk, Tag(tag='HumanMessageChunk')], typing.Annotated[langchain_core.messages.chat.ChatMessageChunk, Tag(tag='ChatMessageChunk')], typing.Annotated[langchain_core.messages.system.SystemMessageChunk, Tag(tag='SystemMessageChunk')], typing.Annotated[langchain_core.messages.function.FunctionMessageChunk, Tag(tag='FunctionMessageChunk')], typing.Annotated[langchain_core.messages.tool.ToolMessageChunk, Tag(tag='ToolMessageChunk')]], FieldInfo(annotation=NoneType, required=True, discriminator=Discriminator(discriminator=<function _get_type at 0x11461c0d0>, custom_error_type=None, custom_error_message=None, custom_error_context=None))]]}, partial_variables={'chat_history': []}, metadata={'lc_hub_owner': 'hwchase17', 'lc_hub_repo': 'openai-tools-agent', 'lc_hub_commit_hash': 'c18672812789a3b9697656dd539edf0120285dcae36396d0b548ae42a4ed66f5'}, messages=[SystemMessagePromptTemplate(prompt=PromptTemplate(input_variables=[], input_types={}, partial_variables={}, template='You are a helpful assistant'), additional_kwargs={}), MessagesPlaceholder(variable_name='chat_history', optional=True), HumanMessagePromptTemplate(prompt=PromptTemplate(input_variables=['input'], input_types={}, partial_variables={}, template='{input}'), additional_kwargs={}), MessagesPlaceholder(variable_name='agent_scratchpad')])\n",
       "| RunnableBinding(bound=ChatOpenAI(client=<openai.resources.chat.completions.Completions object at 0x35ceae530>, async_client=<openai.resources.chat.completions.AsyncCompletions object at 0x35ce76530>, root_client=<openai.OpenAI object at 0x35e90e980>, root_async_client=<openai.AsyncOpenAI object at 0x35ceae7d0>, model_name='gpt-4o-mini', temperature=0.3, model_kwargs={}, openai_api_key=SecretStr('**********'), openai_api_base='https://ai-yyds.com/v1'), kwargs={'tools': [{'type': 'function', 'function': {'name': 'Search', 'description': 'useful when you need to answer questions about current events', 'parameters': {'properties': {'__arg1': {'title': '__arg1', 'type': 'string'}}, 'required': ['__arg1'], 'type': 'object'}}}, {'type': 'function', 'function': {'name': 'vectorstore_retriever', 'description': '华为商城帮助中心文档检索器，可以搜索各种华为商城相关问题的解决方案和知识。', 'parameters': {'properties': {'query': {'description': 'query to look up in retriever', 'type': 'string'}}, 'required': ['query'], 'type': 'object'}}}]}, config={}, config_factories=[])\n",
       "| OpenAIToolsAgentOutputParser()"
      ]
     },
     "execution_count": 69,
     "metadata": {},
     "output_type": "execute_result"
    }
   ],
   "source": [
    "from langchain.agents import create_openai_tools_agent\n",
    "\n",
    "agent = create_openai_tools_agent(llm, tools, prompt)\n",
    "agent"
   ]
  },
  {
   "cell_type": "code",
   "execution_count": 70,
   "metadata": {},
   "outputs": [],
   "source": [
    "from langchain.agents import AgentExecutor\n",
    "\n",
    "agent_executor = AgentExecutor(agent=agent, tools=tools, verbose=True, handle_parsing_errors=True)"
   ]
  },
  {
   "cell_type": "code",
   "execution_count": 71,
   "metadata": {},
   "outputs": [
    {
     "name": "stdout",
     "output_type": "stream",
     "text": [
      "\n",
      "\n",
      "\u001b[1m> Entering new AgentExecutor chain...\u001b[0m\n",
      "\u001b[32;1m\u001b[1;3m你好！有什么我可以帮助你的吗？\u001b[0m\n",
      "\n",
      "\u001b[1m> Finished chain.\u001b[0m\n"
     ]
    },
    {
     "data": {
      "text/plain": [
       "{'input': '你好', 'output': '你好！有什么我可以帮助你的吗？'}"
      ]
     },
     "execution_count": 71,
     "metadata": {},
     "output_type": "execute_result"
    }
   ],
   "source": [
    "agent_executor.invoke({\"input\": \"你好\"})"
   ]
  },
  {
   "cell_type": "code",
   "execution_count": 72,
   "metadata": {},
   "outputs": [
    {
     "name": "stdout",
     "output_type": "stream",
     "text": [
      "\n",
      "\n",
      "\u001b[1m> Entering new AgentExecutor chain...\u001b[0m\n",
      "\u001b[32;1m\u001b[1;3m\n",
      "Invoking: `vectorstore_retriever` with `{'query': '华为商城 众测活动 注意事项'}`\n",
      "\n",
      "\n",
      "\u001b[0m\u001b[33;1m\u001b[1;3m众测活动\n",
      "\n",
      "整体介绍：\n",
      "\n",
      "一、活动定义：众测是以低价试销的形式，通过收集评价、销量等方法，用于测试市场对新商品的反应，用于及时优化销售策略和引导商家改进。\n",
      "\n",
      "二、优势：众测价通常比较优惠，以不高于大促促销价为原则，最终以与物权方谈判结果为准。\n",
      "\n",
      "三、适用范围：华为商城所有产品。\n",
      "\n",
      "\n",
      "\n",
      "参与方式：\n",
      "\n",
      "1、华为商城众测的入口在哪里？\n",
      "\n",
      "华为商城搜索“众测”，即可看到众测入口，点击进入即可；\n",
      "\n",
      "2、众测上新频次：\n",
      "\n",
      "众测频道每周一至周五不定期更新上架，部分商品可能会特别调整；\n",
      "\n",
      "3、众测活动时间：\n",
      "\n",
      "一款产品众测时间通常为10-20天（热销的商品可能会延期5-10天）。\n",
      "\n",
      " \n",
      "\n",
      "常见问题：\n",
      "\n",
      "1、众测商品的来源?\n",
      "\n",
      "     您好，众测商品主要来源为华为商城上架的新品，热销的爆款商品也会不定期通过众测回归上线。\n",
      "\n",
      "2、众测商品的价格会优惠吗？\n",
      "\n",
      "     您好，众测商品价格对标618和双十一，一般都是该商品某段时间的最低促销价。\n",
      "\n",
      "3、 众测商品质量会不稳定么？\n",
      "\n",
      "     您好，众测商品也是量产的正品新品，质量与正式上架商品一致。 \n",
      "\n",
      "4、众测商品买下后多久发货？\n",
      "\n",
      "     您好，请以商品页显示为准。\n",
      "\n",
      "5、提交活动订单后多久内支付？\n",
      "\n",
      "     您好，提交订单后最长付款时效为24小时，逾期订单自动取消\n",
      "\n",
      "6、成功下单后怎么查询众测订单？\n",
      "\n",
      "     您好，成功下单后，您可以通过华为商城手机APP、华为商城手机WAP版、华为商城电脑网页版任意一端登录下单账户，在“我的订单”查询。（众测商品订单查询方式等同于正常商品订单）\n",
      "\n",
      "7、订单支付后未发货前可以取消订单吗？\n",
      "\n",
      "     您好，在发货前消费者可以取消订单。\n",
      "\n",
      "8、取消订单后多久内退回款项？\n",
      "\n",
      "     您好，和华为商城智能家居生态产品通用退款时效一致，3-5个工作日。\n",
      "\n",
      "9、一个账号可以参与几次众测活动？有限购吗？\n",
      "\n",
      "     您好，一个账号参与众测活动的次数无限制，没有限购。但每次订单只能购买一个商品。如您需要购买多个产品，可以多次参与众测活动。\u001b[0m\u001b[32;1m\u001b[1;3m在参与华为商城的众测活动时，有几个注意事项需要了解：\n",
      "\n",
      "1. **活动定义**：众测是通过低价试销的方式，测试市场对新商品的反应，收集评价和销量数据，以优化销售策略。\n",
      "\n",
      "2. **参与方式**：\n",
      "   - 可以通过在华为商城搜索“众测”找到活动入口。\n",
      "   - 众测商品每周一至周五不定期更新，部分商品可能会特别调整。\n",
      "   - 每款产品的众测时间通常为10-20天，热销商品可能会延长5-10天。\n",
      "\n",
      "3. **商品来源与价格**：\n",
      "   - 众测商品主要来源于华为商城上架的新品和热销商品。\n",
      "   - 众测商品的价格通常会优惠，参考618和双十一的最低促销价。\n",
      "\n",
      "4. **商品质量**：众测商品是量产的正品新品，质量与正式上架商品一致。\n",
      "\n",
      "5. **订单处理**：\n",
      "   - 提交订单后，最长付款时效为24小时，逾期订单会自动取消。\n",
      "   - 成功下单后，可以通过华为商城的各个平台查询订单。\n",
      "   - 在发货前可以取消订单，退款通常在3-5个工作日内处理。\n",
      "\n",
      "6. **参与限制**：一个账号参与众测活动的次数没有限制，但每次订单只能购买一个商品。\n",
      "\n",
      "了解这些注意事项可以帮助你更好地参与华为商城的众测活动。\u001b[0m\n",
      "\n",
      "\u001b[1m> Finished chain.\u001b[0m\n"
     ]
    },
    {
     "data": {
      "text/plain": [
       "{'input': '华为商城众测活动要注意什么',\n",
       " 'output': '在参与华为商城的众测活动时，有几个注意事项需要了解：\\n\\n1. **活动定义**：众测是通过低价试销的方式，测试市场对新商品的反应，收集评价和销量数据，以优化销售策略。\\n\\n2. **参与方式**：\\n   - 可以通过在华为商城搜索“众测”找到活动入口。\\n   - 众测商品每周一至周五不定期更新，部分商品可能会特别调整。\\n   - 每款产品的众测时间通常为10-20天，热销商品可能会延长5-10天。\\n\\n3. **商品来源与价格**：\\n   - 众测商品主要来源于华为商城上架的新品和热销商品。\\n   - 众测商品的价格通常会优惠，参考618和双十一的最低促销价。\\n\\n4. **商品质量**：众测商品是量产的正品新品，质量与正式上架商品一致。\\n\\n5. **订单处理**：\\n   - 提交订单后，最长付款时效为24小时，逾期订单会自动取消。\\n   - 成功下单后，可以通过华为商城的各个平台查询订单。\\n   - 在发货前可以取消订单，退款通常在3-5个工作日内处理。\\n\\n6. **参与限制**：一个账号参与众测活动的次数没有限制，但每次订单只能购买一个商品。\\n\\n了解这些注意事项可以帮助你更好地参与华为商城的众测活动。'}"
      ]
     },
     "execution_count": 72,
     "metadata": {},
     "output_type": "execute_result"
    }
   ],
   "source": [
    "agent_executor.invoke({\"input\": \"华为商城众测活动要注意什么\"})"
   ]
  },
  {
   "cell_type": "code",
   "execution_count": 73,
   "metadata": {},
   "outputs": [
    {
     "name": "stdout",
     "output_type": "stream",
     "text": [
      "\n",
      "\n",
      "\u001b[1m> Entering new AgentExecutor chain...\u001b[0m\n",
      "\u001b[32;1m\u001b[1;3m\n",
      "Invoking: `Search` with `刘亦菲 最近活动`\n",
      "\n",
      "\n",
      "\u001b[0m\u001b[36;1m\u001b[1;3m['然而，就在最近曝光的一组刘亦菲早期活动直拍中，我们惊讶地发现，原来神仙姐姐也有不为人知的一面！ 她的笑容，如同春日里的暖阳，温暖而明媚，让人忍不住想要 ...', '28日晚，上海电视节“白玉兰”颁奖典礼举行，刘亦菲与陈晓同框亮相，二人获得中国电视节目海外推广大使称号！刘亦菲与陈晓曾合作电视剧《梦华录》备受观众喜爱。据悉，这也是陈晓 ...', '以下是刘亦菲行程的最新动态： - 2024 年6 月28 日，出席白玉兰颁奖。 - 2024 年3 月，参加巴黎时装周。 - 2024 年7 月，参加宝格丽珠宝活动。 原著同样精彩，可...', '刘亦菲最新活动造型释出蛇系配饰和深V长裙吸睛十足. 3月23日，刘亦菲参加活动的最新造型释出，图为刘亦菲比“耶”合照，娇俏可爱。', '刘亦菲最新活动视频 · 打开新闻客户端，畅享观看 · 风情一万种之阿尔巴尼亚模特IRA ASLLANI 241213 · 山东高速主场战深圳，克里斯上演飞身补扣 · 为香港爱国同胞点赞，国家公祭日， ...', '最近37岁女星刘亦菲很是活跃，接连出席了多个娱乐圈活动，其中就包括微博举办的视界大会，凭借电视剧《玫瑰的故事》，刘亦菲还一举拿下了视界大会年度演员 ...', '2天前最近,刘亦菲参加了嘉人盛典活动,活动中,她穿着一身金灿灿的高定现身,裙子采用鱼骨设计看起来很独特。 这次活动刘亦菲压轴出场,上次在Vogue盛典上 ...', '近日，刘亦菲现身某活动现场，一向有“天仙”称号的她，却意外因为外貌遭遇了网友的批评。有网友觉得刘亦菲最近是不是发福了，穿上礼服之后整个人身材显得较为臃肿，以 ...']\u001b[0m\u001b[32;1m\u001b[1;3m最近，刘亦菲参与了多个活动，包括：\n",
      "\n",
      "1. **白玉兰颁奖典礼**：她与陈晓同框亮相，并获得了中国电视节目海外推广大使的称号。\n",
      "2. **嘉人盛典**：刘亦菲穿着金色高定礼服出席，裙子采用鱼骨设计，显得非常独特。\n",
      "3. **微博视界大会**：凭借电视剧《玫瑰的故事》，她获得了年度演员奖。\n",
      "\n",
      "此外，刘亦菲还参加了巴黎时装周和宝格丽珠宝活动。她最近的活动表现活跃，受到媒体和粉丝的关注。\u001b[0m\n",
      "\n",
      "\u001b[1m> Finished chain.\u001b[0m\n"
     ]
    },
    {
     "data": {
      "text/plain": [
       "{'input': '刘亦菲最近有什么活动？',\n",
       " 'output': '最近，刘亦菲参与了多个活动，包括：\\n\\n1. **白玉兰颁奖典礼**：她与陈晓同框亮相，并获得了中国电视节目海外推广大使的称号。\\n2. **嘉人盛典**：刘亦菲穿着金色高定礼服出席，裙子采用鱼骨设计，显得非常独特。\\n3. **微博视界大会**：凭借电视剧《玫瑰的故事》，她获得了年度演员奖。\\n\\n此外，刘亦菲还参加了巴黎时装周和宝格丽珠宝活动。她最近的活动表现活跃，受到媒体和粉丝的关注。'}"
      ]
     },
     "execution_count": 73,
     "metadata": {},
     "output_type": "execute_result"
    }
   ],
   "source": [
    "agent_executor.invoke({\"input\": \"刘亦菲最近有什么活动？\"})"
   ]
  },
  {
   "cell_type": "code",
   "execution_count": 74,
   "metadata": {},
   "outputs": [
    {
     "name": "stdout",
     "output_type": "stream",
     "text": [
      "\n",
      "\n",
      "\u001b[1m> Entering new AgentExecutor chain...\u001b[0m\n",
      "\u001b[32;1m\u001b[1;3m\n",
      "Invoking: `Search` with `刘德华 最新上映 电影`\n",
      "\n",
      "\n",
      "\u001b[0m\u001b[36;1m\u001b[1;3m['刘德华Andy Lau的全部作品（309） ; （未上映） 捉妖天师, 2030, - ; （未上映） 我的日记, 2030, - ; （未上映） 流浪地球3(下), 2028, - ; （未上映） 花街泪, 2028, - ...', '2014年、2018年和2022年没有一部主演作品上映，为其历年来作品最少的年份。 最新主演作品为2024年9月上映的《危机航线》。', '刘德华2024 年的最新电影包括定档于11 月1 日上映的 《焚城》 ，国庆档影片中的警匪片，以及年内上映的 《危机航线》 。 赶紧点击下面链接，再回归一下超经典作品 《诡秘 ...', '刘德华今年定档还有四部电影即将上映，你最期待哪一部？ 1. 《红毯先生》11.17上映. 宁浩执导，刘德华主演的喜剧电影。', '刘德华新电影 金手指 电影上映 2023年12月30日 十五年风云变幻，双雄交锋命运缠绕，一百入局赌人生 ，百亿成真不是梦。 电影金手指全球定档 12月30日，暴 ...', '寰宇公司推出，彭硕导演，刘德华和张子枫领衔主演《危机航线》，邱礼涛导演，刘德华和欧豪领衔主演《东方华尔街》发布最新海报，宣布将于2023年上映。', '《危機航線》預告今日登場，首度披露片中劫機事件牽涉五億美金（約160億台幣）的巨額贖金，預告中展現了機艙內劉德華以及屈楚蕭鬥智鬥勇，持槍對峙、近身搏鬥、 ...', '以下是一些最新上映的电影： - 《沉默笔录》：悬疑犯罪电影，于12月1日上映。 - 《拿破仑》：人物传记电影，于12月1日上映。 - 《再见，李可乐》：暂无上映日期。 - 《不要走散 ...', '00:00 2022由刘德华、莫文蔚主演末日灾难大片坟城正式上线。 00:01 刘德华最新空难大片《危机航线》于2024年9月30日在中国上映。', '電影《焚城》將於2024年上映#電影焚城#劉德華#白宇#莫文蔚#江誌強劉德華潘耀明監製#潘耀明導演.']\u001b[0m\u001b[32;1m\u001b[1;3m刘德华最新上映的电影是《危机航线》，定于2024年9月30日在中国上映。此外，他还有一部电影《焚城》定档于2024年11月1日上映。\u001b[0m\n",
      "\n",
      "\u001b[1m> Finished chain.\u001b[0m\n"
     ]
    },
    {
     "data": {
      "text/plain": [
       "{'input': '刘德华最新上映的电影是什么？',\n",
       " 'output': '刘德华最新上映的电影是《危机航线》，定于2024年9月30日在中国上映。此外，他还有一部电影《焚城》定档于2024年11月1日上映。'}"
      ]
     },
     "execution_count": 74,
     "metadata": {},
     "output_type": "execute_result"
    }
   ],
   "source": [
    "agent_executor.invoke({'input': '刘德华最新上映的电影是什么？'})"
   ]
  },
  {
   "cell_type": "markdown",
   "metadata": {},
   "source": [
    "## 添加代理记忆\n",
    "\n",
    "如前所述，此代理是无状态的。这意味着它不记得以前的交互。为了给它内存，我们需要传入前面 chat_history 的 .\n",
    "\n",
    "注意：由于我们正在使用的提示，因此需要调用 chat_history 它。如果我们使用不同的提示，我们可以更改变量名称"
   ]
  },
  {
   "cell_type": "code",
   "execution_count": 75,
   "metadata": {},
   "outputs": [
    {
     "name": "stdout",
     "output_type": "stream",
     "text": [
      "\n",
      "\n",
      "\u001b[1m> Entering new AgentExecutor chain...\u001b[0m\n",
      "\u001b[32;1m\u001b[1;3m你好，老K！有什么我可以帮助你的吗？\u001b[0m\n",
      "\n",
      "\u001b[1m> Finished chain.\u001b[0m\n"
     ]
    },
    {
     "data": {
      "text/plain": [
       "{'input': '你好，我是老k', 'chat_history': [], 'output': '你好，老K！有什么我可以帮助你的吗？'}"
      ]
     },
     "execution_count": 75,
     "metadata": {},
     "output_type": "execute_result"
    }
   ],
   "source": [
    "chat1 = agent_executor.invoke({\"input\": \"你好，我是老k\", \"chat_history\": []})\n",
    "chat1"
   ]
  },
  {
   "cell_type": "code",
   "execution_count": 76,
   "metadata": {},
   "outputs": [
    {
     "data": {
      "text/plain": [
       "[HumanMessage(content='你好，我是老k', additional_kwargs={}, response_metadata={}),\n",
       " AIMessage(content='你好，老K！有什么我可以帮助你的吗？', additional_kwargs={}, response_metadata={})]"
      ]
     },
     "execution_count": 76,
     "metadata": {},
     "output_type": "execute_result"
    }
   ],
   "source": [
    "from langchain_core.messages import HumanMessage, AIMessage\n",
    "\n",
    "history = [] + [HumanMessage(content=chat1['input'])] + [AIMessage(content=chat1['output'])]\n",
    "history"
   ]
  },
  {
   "cell_type": "code",
   "execution_count": 77,
   "metadata": {},
   "outputs": [
    {
     "name": "stdout",
     "output_type": "stream",
     "text": [
      "\n",
      "\n",
      "\u001b[1m> Entering new AgentExecutor chain...\u001b[0m\n",
      "\u001b[32;1m\u001b[1;3m你的名字是老K。有什么我可以为你做的呢？\u001b[0m\n",
      "\n",
      "\u001b[1m> Finished chain.\u001b[0m\n"
     ]
    },
    {
     "data": {
      "text/plain": [
       "{'chat_history': [HumanMessage(content='你好，我是老k', additional_kwargs={}, response_metadata={}),\n",
       "  AIMessage(content='你好，老K！有什么我可以帮助你的吗？', additional_kwargs={}, response_metadata={})],\n",
       " 'input': '你好，我的名字是什么？',\n",
       " 'output': '你的名字是老K。有什么我可以为你做的呢？'}"
      ]
     },
     "execution_count": 77,
     "metadata": {},
     "output_type": "execute_result"
    }
   ],
   "source": [
    "agent_executor.invoke(\n",
    "    {\n",
    "        \"chat_history\": history,\n",
    "        \"input\": \"你好，我的名字是什么？\"\n",
    "    }\n",
    ")"
   ]
  },
  {
   "cell_type": "markdown",
   "metadata": {},
   "source": [
    "如果我们想自动跟踪这些消息，我们可以将其包装在 RunnableWithMessageHistory 中。"
   ]
  },
  {
   "cell_type": "code",
   "execution_count": 78,
   "metadata": {},
   "outputs": [],
   "source": [
    "from langchain_community.chat_message_histories import ChatMessageHistory\n",
    "from langchain_core.runnables import RunnableWithMessageHistory\n",
    "\n",
    "message_history = ChatMessageHistory()\n",
    "\n",
    "agent_with_chat_history = RunnableWithMessageHistory(\n",
    "    agent_executor,\n",
    "    # 这是必需的，因为在大多数现实场景中，需要会话 ID\n",
    "    # 这里并没有真正使用它，因为我们使用的是一个简单 ChatMessageHistory\n",
    "    lambda session_id: message_history,\n",
    "    input_messages_key=\"input\",\n",
    "    history_messages_key=\"chat_history\",\n",
    ")"
   ]
  },
  {
   "cell_type": "code",
   "execution_count": 79,
   "metadata": {},
   "outputs": [
    {
     "name": "stdout",
     "output_type": "stream",
     "text": [
      "\n",
      "\n",
      "\u001b[1m> Entering new AgentExecutor chain...\u001b[0m\n",
      "\u001b[32;1m\u001b[1;3m你好，老K！有什么我可以帮助你的吗？\u001b[0m\n",
      "\n",
      "\u001b[1m> Finished chain.\u001b[0m\n"
     ]
    },
    {
     "data": {
      "text/plain": [
       "{'input': '你好，我是老k', 'chat_history': [], 'output': '你好，老K！有什么我可以帮助你的吗？'}"
      ]
     },
     "execution_count": 79,
     "metadata": {},
     "output_type": "execute_result"
    }
   ],
   "source": [
    "agent_with_chat_history.invoke(\n",
    "    {'input': '你好，我是老k'},\n",
    "    config={\"configurable\": {\"session_id\": \"lk\"}}\n",
    ")"
   ]
  },
  {
   "cell_type": "code",
   "execution_count": 80,
   "metadata": {},
   "outputs": [
    {
     "name": "stdout",
     "output_type": "stream",
     "text": [
      "\n",
      "\n",
      "\u001b[1m> Entering new AgentExecutor chain...\u001b[0m\n",
      "\u001b[32;1m\u001b[1;3m是的，你的名字是老K。请问有什么我可以为你做的？\u001b[0m\n",
      "\n",
      "\u001b[1m> Finished chain.\u001b[0m\n"
     ]
    },
    {
     "data": {
      "text/plain": [
       "{'input': '你好，你知道我的名字吗？',\n",
       " 'chat_history': [HumanMessage(content='你好，我是老k', additional_kwargs={}, response_metadata={}),\n",
       "  AIMessage(content='你好，老K！有什么我可以帮助你的吗？', additional_kwargs={}, response_metadata={})],\n",
       " 'output': '是的，你的名字是老K。请问有什么我可以为你做的？'}"
      ]
     },
     "execution_count": 80,
     "metadata": {},
     "output_type": "execute_result"
    }
   ],
   "source": [
    "agent_with_chat_history.invoke(\n",
    "    {'input': '你好，你知道我的名字吗？'},\n",
    "    config={\"configurable\": {\"session_id\": \"lk\"}}\n",
    ")"
   ]
  }
 ],
 "metadata": {
  "kernelspec": {
   "display_name": "kk_langchain",
   "language": "python",
   "name": "python3"
  },
  "language_info": {
   "codemirror_mode": {
    "name": "ipython",
    "version": 3
   },
   "file_extension": ".py",
   "mimetype": "text/x-python",
   "name": "python",
   "nbconvert_exporter": "python",
   "pygments_lexer": "ipython3",
   "version": "3.10.16"
  }
 },
 "nbformat": 4,
 "nbformat_minor": 2
}
