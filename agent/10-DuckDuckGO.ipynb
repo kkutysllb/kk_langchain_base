{
 "cells": [
  {
   "cell_type": "markdown",
   "metadata": {},
   "source": [
    "## DuckDuckGo \n",
    "DuckDuckGo 是一款注重隐私的网络搜索引擎，由 Gabriel Weinberg 创立于 2008 年。这款搜索引擎的特点在于不存储用户个人信息，不跟踪用户的搜索历史，从而保护用户的隐私。\n",
    "\n",
    "以下是 DuckDuckGo 的一些主要特点：\n",
    "\n",
    "1. 隐私保护：DuckDuckGo 不存储用户搜索历史，不跟踪用户，不建立用户档案。这意味着用户在搜索时可以保持匿名，不用担心搜索历史被用于广告或其他目的。\n",
    "2. 清晰的搜索结果：DuckDuckGo 的搜索结果页设计简洁，易于阅读。它还提供了一些独特的功能，如“零点击信息”（Zero-click Info），可以直接在搜索结果页显示相关信息，无需点击进入其他网页。\n",
    "3. 集成其他服务：DuckDuckGo 集成了许多其他服务，如gMaps、gMaps Street View、Wikipedia、YouTube等。用户可以直接在搜索结果页使用这些服务，无需打开其他网站。\n",
    "4. 搜索速度快：DuckDuckGo 的搜索速度较快，能够快速响应用户的搜索请求。\n",
    "5. 移动应用：DuckDuckGo 提供了移动应用，用户可以在智能手机或平板电脑上使用这款搜索引擎。\n",
    "6. 浏览器扩展：DuckDuckGo 还提供了一些浏览器扩展，如DuckDuckGo Privacy Essentials，可以帮助用户更好地保护隐私。\n",
    "\n",
    "然而，DuckDuckGo 在中国大陆无法直接访问。如果您在中国大陆地区，建议使用合规的搜索引擎，如百度、搜狗等。\n",
    "\n",
    "pip install -U duckduckgo-search"
   ]
  },
  {
   "cell_type": "code",
   "execution_count": 3,
   "metadata": {},
   "outputs": [
    {
     "data": {
      "text/plain": [
       "'真的不得不佩服， 刘亦菲 选剧的眼光。 《去有风的地方》已经开播近2年，这几天又一次爆火，一举拿下了飞天奖!. 网友说： 我喜欢刘亦菲，她不浮躁，不争奇斗艳刷曝光度。 而是沉淀下来雕刻自己的演技，今年得了飞天奖，她是艺术家。 （北京23日讯）\"神仙姐姐\"刘亦菲自15岁出演《金粉世家》而踏入演艺圈，迅速走红。她在《天龙八部》中的王语嫣与《神雕侠侣》中的小龙女等角色，无不成为经典之作。刘亦菲的演艺生涯至今可谓辉煌，几乎每一部戏剧作品都获得了不小的成功。然而，除了演员身份，刘亦菲还曾涉足歌坛。 刘亦菲出演的电视剧竟然只有9部，却部部经典，塑造的角色也是各个出彩， 今天就跟小编一起回顾一下天仙刘的荧屏成长史，看最你熟悉和喜爱的是哪个角色! 一、《金粉世家》——饰演白秀珠. 拍摄《金粉世家》的时候，刘亦菲才15岁，就已经出落得亭亭玉立， 刘亦菲，出生于1987年8月25日，是中国著名的女演员和歌手。她因其出色的演艺才能和清新脱俗的形象而受到广泛欢迎。刘亦菲在多部影视作品中有着出色表现，尤其是在古装剧和电影中，塑造了许多经典角色。 刘亦菲2006年与日本索尼音乐签约，推出日语ep《深夜之门》，随后又发行国语专辑《刘亦菲》。其中她在该专辑收录曲〈心悸〉的mv中，身穿银色细 ...'"
      ]
     },
     "execution_count": 3,
     "metadata": {},
     "output_type": "execute_result"
    }
   ],
   "source": [
    "from langchain_community.tools import DuckDuckGoSearchRun\n",
    "\n",
    "search = DuckDuckGoSearchRun()\n",
    "\n",
    "search.run(\"刘亦菲\")\n"
   ]
  },
  {
   "cell_type": "markdown",
   "metadata": {},
   "source": [
    "要获取更多附加信息（例如链接、来源），请使用 DuckDuckGoSearchResults()"
   ]
  },
  {
   "cell_type": "code",
   "execution_count": 8,
   "metadata": {},
   "outputs": [
    {
     "data": {
      "text/plain": [
       "'snippet: 真的不得不佩服， 刘亦菲 选剧的眼光。 《去有风的地方》已经开播近2年，这几天又一次爆火，一举拿下了飞天奖!. 网友说： 我喜欢刘亦菲，她不浮躁，不争奇斗艳刷曝光度。 而是沉淀下来雕刻自己的演技，今年得了飞天奖，她是艺术家。, title: 37岁刘亦菲拿奖官宣，回应上热搜，网友：这才是高情商天花板, link: https://www.163.com/dy/article/JJUVDR5H0528B0HK.html, snippet: 回顾刘亦菲回归小荧屏这三年，可谓一年一部爆剧，再次登上了 小荧屏之巅，终究这才是她的福地。 2022年的《梦华录》，2023年的《去有风的地方 ..., title: 微博视界大会这一夜，37岁的刘亦菲再次惊艳四座!_腾讯新闻, link: https://news.qq.com/rain/a/20241106A09FFM00, snippet: （北京23日讯）\"神仙姐姐\"刘亦菲自15岁出演《金粉世家》而踏入演艺圈，迅速走红。她在《天龙八部》中的王语嫣与《神雕侠侣》中的小龙女等角色，无不成为经典之作。刘亦菲的演艺生涯至今可谓辉煌，几乎每一部戏剧作品都获得了不小的成功。然而，除了演员身份，刘亦菲还曾涉足歌坛。, title: 刘亦菲昔日爱豆时期画面被挖 唱跳俱佳不输女团 | 娱乐 | 東方網 馬來西亞東方日報, link: https://www.orientaldaily.com.my/news/entertainment/2024/12/23/701292, snippet: 刘亦菲出演的电视剧竟然只有9部，却部部经典，塑造的角色也是各个出彩， 今天就跟小编一起回顾一下天仙刘的荧屏成长史，看最你熟悉和喜爱的是哪个角色! 一、《金粉世家》——饰演白秀珠. 拍摄《金粉世家》的时候，刘亦菲才15岁，就已经出落得亭亭玉立，, title: 刘亦菲出道22年演了9部剧，部部经典，每部都是耳熟能详的角色|小龙女|王语嫣|李若彤_网易订阅, link: https://www.163.com/dy/article/JE8MEM8E05561WO4.html'"
      ]
     },
     "execution_count": 8,
     "metadata": {},
     "output_type": "execute_result"
    }
   ],
   "source": [
    "from langchain_community.tools import DuckDuckGoSearchResults\n",
    "\n",
    "search = DuckDuckGoSearchResults(max_retries=3, timeout=30)\n",
    "\n",
    "search.run(\"刘亦菲\")"
   ]
  }
 ],
 "metadata": {
  "kernelspec": {
   "display_name": "kk_langchain",
   "language": "python",
   "name": "python3"
  },
  "language_info": {
   "codemirror_mode": {
    "name": "ipython",
    "version": 3
   },
   "file_extension": ".py",
   "mimetype": "text/x-python",
   "name": "python",
   "nbconvert_exporter": "python",
   "pygments_lexer": "ipython3",
   "version": "3.10.16"
  }
 },
 "nbformat": 4,
 "nbformat_minor": 2
}
