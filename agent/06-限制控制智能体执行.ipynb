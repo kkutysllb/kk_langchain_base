{
 "cells": [
  {
   "cell_type": "markdown",
   "metadata": {},
   "source": [
    "# 限制控制智能体执行"
   ]
  },
  {
   "cell_type": "code",
   "execution_count": 1,
   "metadata": {},
   "outputs": [],
   "source": [
    "from langchain_openai import ChatOpenAI\n",
    "import os\n",
    "\n",
    "api_key = os.getenv(\"LOCAL_API_KEY\")\n",
    "base_url = os.getenv(\"LOCAL_API_BASE\")\n",
    "\n",
    "model = ChatOpenAI(api_key=api_key, \n",
    "                   base_url=base_url,\n",
    "                   temperature=0.3, \n",
    "                   max_tokens=4096, \n",
    "                )"
   ]
  },
  {
   "cell_type": "code",
   "execution_count": 4,
   "metadata": {},
   "outputs": [
    {
     "data": {
      "text/plain": [
       "'尽可能的帮助用户回答任何问题。\\n您可以使用以下工具来帮忙解决问题，如果已经知道答案，也可以直接回答：\\n{tools}\\n\\n回复格式说明：\\n----------------------------------\\n\\n回复我时，请以以下两种格式之一输出问题：\\n\\n选项1：如果您希望人类使用工具，请使用此选项。\\n采用以下JSON模式格式化的回复内容：\\n```json\\n{{\\n    \"reason\": string, \\\\ 叙述使用工具的原因\\n    \"action\": string, \\\\ 要使用的工具。 必须是 {tool_names} 之一\\n    \"action_input\": string \\\\ 工具的输入\\n}}\\n```\\n\\n选项2：如果您认为你自己已经有了答案或者已经通过使用工具找到了答案，想直接对人类做出反应，请使用此选项。\\n采用以下JSON模式格式化的回复内容：\\n```json\\n{{\\n    \"action\": \"Final Answer\",\\n    \"answer\": string \\\\ 最终回复问题的答案放在这里！\\n}}\\n```\\n\\n用户输入\\n----------------------------------\\n这是用户的输入（请记住通过单个选项，以JSON模式格式化的回复内容，不要回复其他内容）：\\n{input}\\n'"
      ]
     },
     "execution_count": 4,
     "metadata": {},
     "output_type": "execute_result"
    }
   ],
   "source": [
    "from langchain_core.prompts import ChatPromptTemplate, MessagesPlaceholder\n",
    "\n",
    "promptTemplate = \"\"\"尽可能的帮助用户回答任何问题。\n",
    "您可以使用以下工具来帮忙解决问题，如果已经知道答案，也可以直接回答：\n",
    "{tools}\n",
    "\n",
    "回复格式说明：\n",
    "----------------------------------\n",
    "\n",
    "回复我时，请以以下两种格式之一输出问题：\n",
    "\n",
    "选项1：如果您希望人类使用工具，请使用此选项。\n",
    "采用以下JSON模式格式化的回复内容：\n",
    "```json\n",
    "{{\n",
    "    \"reason\": string, \\\\ 叙述使用工具的原因\n",
    "    \"action\": string, \\\\ 要使用的工具。 必须是 {tool_names} 之一\n",
    "    \"action_input\": string \\\\ 工具的输入\n",
    "}}\n",
    "```\n",
    "\n",
    "选项2：如果您认为你自己已经有了答案或者已经通过使用工具找到了答案，想直接对人类做出反应，请使用此选项。\n",
    "采用以下JSON模式格式化的回复内容：\n",
    "```json\n",
    "{{\n",
    "    \"action\": \"Final Answer\",\n",
    "    \"answer\": string \\\\ 最终回复问题的答案放在这里！\n",
    "}}\n",
    "```\n",
    "\n",
    "用户输入\n",
    "----------------------------------\n",
    "这是用户的输入（请记住通过单个选项，以JSON模式格式化的回复内容，不要回复其他内容）：\n",
    "{input}\n",
    "\"\"\"\n",
    "promptTemplate"
   ]
  },
  {
   "cell_type": "code",
   "execution_count": 5,
   "metadata": {},
   "outputs": [
    {
     "data": {
      "text/plain": [
       "ChatPromptTemplate(input_variables=['agent_scratchpad', 'input', 'tool_names', 'tools'], input_types={'agent_scratchpad': list[typing.Annotated[typing.Union[typing.Annotated[langchain_core.messages.ai.AIMessage, Tag(tag='ai')], typing.Annotated[langchain_core.messages.human.HumanMessage, Tag(tag='human')], typing.Annotated[langchain_core.messages.chat.ChatMessage, Tag(tag='chat')], typing.Annotated[langchain_core.messages.system.SystemMessage, Tag(tag='system')], typing.Annotated[langchain_core.messages.function.FunctionMessage, Tag(tag='function')], typing.Annotated[langchain_core.messages.tool.ToolMessage, Tag(tag='tool')], typing.Annotated[langchain_core.messages.ai.AIMessageChunk, Tag(tag='AIMessageChunk')], typing.Annotated[langchain_core.messages.human.HumanMessageChunk, Tag(tag='HumanMessageChunk')], typing.Annotated[langchain_core.messages.chat.ChatMessageChunk, Tag(tag='ChatMessageChunk')], typing.Annotated[langchain_core.messages.system.SystemMessageChunk, Tag(tag='SystemMessageChunk')], typing.Annotated[langchain_core.messages.function.FunctionMessageChunk, Tag(tag='FunctionMessageChunk')], typing.Annotated[langchain_core.messages.tool.ToolMessageChunk, Tag(tag='ToolMessageChunk')]], FieldInfo(annotation=NoneType, required=True, discriminator=Discriminator(discriminator=<function _get_type at 0x112320160>, custom_error_type=None, custom_error_message=None, custom_error_context=None))]]}, partial_variables={}, messages=[SystemMessagePromptTemplate(prompt=PromptTemplate(input_variables=[], input_types={}, partial_variables={}, template='你是非常强大的助手，你可以使用各种工具来完成人类交给的问题和任务。'), additional_kwargs={}), HumanMessagePromptTemplate(prompt=PromptTemplate(input_variables=['input', 'tool_names', 'tools'], input_types={}, partial_variables={}, template='尽可能的帮助用户回答任何问题。\\n您可以使用以下工具来帮忙解决问题，如果已经知道答案，也可以直接回答：\\n{tools}\\n\\n回复格式说明：\\n----------------------------------\\n\\n回复我时，请以以下两种格式之一输出问题：\\n\\n选项1：如果您希望人类使用工具，请使用此选项。\\n采用以下JSON模式格式化的回复内容：\\n```json\\n{{\\n    \"reason\": string, \\\\ 叙述使用工具的原因\\n    \"action\": string, \\\\ 要使用的工具。 必须是 {tool_names} 之一\\n    \"action_input\": string \\\\ 工具的输入\\n}}\\n```\\n\\n选项2：如果您认为你自己已经有了答案或者已经通过使用工具找到了答案，想直接对人类做出反应，请使用此选项。\\n采用以下JSON模式格式化的回复内容：\\n```json\\n{{\\n    \"action\": \"Final Answer\",\\n    \"answer\": string \\\\ 最终回复问题的答案放在这里！\\n}}\\n```\\n\\n用户输入\\n----------------------------------\\n这是用户的输入（请记住通过单个选项，以JSON模式格式化的回复内容，不要回复其他内容）：\\n{input}\\n'), additional_kwargs={}), MessagesPlaceholder(variable_name='agent_scratchpad')])"
      ]
     },
     "execution_count": 5,
     "metadata": {},
     "output_type": "execute_result"
    }
   ],
   "source": [
    "prompt = ChatPromptTemplate.from_messages([\n",
    "    (\"system\", \"你是非常强大的助手，你可以使用各种工具来完成人类交给的问题和任务。\"),\n",
    "    (\"user\", promptTemplate),\n",
    "    MessagesPlaceholder(variable_name=\"agent_scratchpad\")\n",
    "])\n",
    "prompt\n"
   ]
  },
  {
   "cell_type": "code",
   "execution_count": 6,
   "metadata": {},
   "outputs": [
    {
     "data": {
      "text/plain": [
       "\"TOOL RESPONSE: \\n---------------------\\n{observation}\\n\\nUSER'S INPUT\\n--------------------\\n\\nOkay, so what is the response to my last comment? If using information obtained from the tools you must mention it explicitly without mentioning the tool names - I have forgotten all TOOL RESPONSES! Remember to respond with a markdown code snippet of a json blob with a single action, and NOTHING else - even if you just want to respond to the user. Do NOT respond with anything except a JSON snippet no matter what!\""
      ]
     },
     "execution_count": 6,
     "metadata": {},
     "output_type": "execute_result"
    }
   ],
   "source": [
    "from langchain.agents.json_chat.prompt import TEMPLATE_TOOL_RESPONSE\n",
    "\n",
    "TEMPLATE_TOOL_RESPONSE"
   ]
  },
  {
   "cell_type": "code",
   "execution_count": 7,
   "metadata": {},
   "outputs": [],
   "source": [
    "TEMPLATE_TOOL_RESPONSE = \"\"\"工具响应：\n",
    "----------------------------------\n",
    "\n",
    "{observation}\n",
    "\n",
    "用户的输入：\n",
    "----------------------------------\n",
    "请根据工具的响应判断，是否能够回答问题：\n",
    "\n",
    "{input}\n",
    "\n",
    "请根据工具响应的内容，思考接下来的回复。回复格式严格按照前面所说的2种JSON回复格式，\n",
    "选择其中1种进行回复。请记住通过单个选项，以JSON模式格式化回复内容，不要回复其他内容。\n",
    "\"\"\""
   ]
  },
  {
   "cell_type": "code",
   "execution_count": 9,
   "metadata": {},
   "outputs": [],
   "source": [
    "from langchain_core.messages import HumanMessage, BaseMessage, AIMessage\n",
    "from typing import List\n",
    "\n",
    "\n",
    "def format_log_to_messages(\n",
    "    query,\n",
    "    intermediate_steps,\n",
    "    template_tool_response\n",
    "):\n",
    "    \"\"\"构建思考过程\"\"\"\n",
    "    thoughts: List[BaseMessage] = []\n",
    "    for action, observation in intermediate_steps:\n",
    "        thoughts.append(AIMessage(content=action.log))\n",
    "        human_message = HumanMessage(\n",
    "            content=template_tool_response.format(\n",
    "                input=query,\n",
    "                observation=observation\n",
    "            )\n",
    "        )\n",
    "        thoughts.append(human_message)\n",
    "    return thoughts"
   ]
  },
  {
   "cell_type": "code",
   "execution_count": 10,
   "metadata": {},
   "outputs": [
    {
     "data": {
      "text/plain": [
       "5"
      ]
     },
     "execution_count": 10,
     "metadata": {},
     "output_type": "execute_result"
    }
   ],
   "source": [
    "from langchain.agents import tool\n",
    "\n",
    "@tool\n",
    "def word_length(word: str) -> int:\n",
    "    \"\"\"计算传入的单词的长度\"\"\"\n",
    "    return len(word)\n",
    "\n",
    "word_length.invoke(\"hello\")"
   ]
  },
  {
   "cell_type": "code",
   "execution_count": 15,
   "metadata": {},
   "outputs": [
    {
     "data": {
      "text/plain": [
       "{'description': '阴', 'temperature': '3'}"
      ]
     },
     "execution_count": 15,
     "metadata": {},
     "output_type": "execute_result"
    }
   ],
   "source": [
    "import requests\n",
    "\n",
    "@tool\n",
    "def get_weather(location: str) -> dict:\n",
    "    \"\"\"根据城市获取天气数据\"\"\"\n",
    "    api_key = \"SKcA5FGgmLvN7faJi\"\n",
    "    city_codes = {\n",
    "        \"西安\": \"xian\",\n",
    "        \"北京\": \"beijing\",\n",
    "        \"上海\": \"shanghai\",\n",
    "        \"广州\": \"guangzhou\",\n",
    "        \"深圳\": \"shenzhen\",\n",
    "        \"杭州\": \"hangzhou\",\n",
    "        \"成都\": \"chengdu\",\n",
    "        \"武汉\": \"wuhan\"\n",
    "    }\n",
    "    \n",
    "    # 处理城市名称\n",
    "    location = location.replace(\"市\", \"\").replace(\"区\", \"\")\n",
    "    location = city_codes.get(location, location)  # 如果有映射就用映射，没有就用原名\n",
    "    \n",
    "    \n",
    "    url = f\"https://api.seniverse.com/v3/weather/now.json?key={api_key}&location={location}&language=zh-Hans&unit=c\"\n",
    "    try:\n",
    "        response = requests.get(url)\n",
    "        #print(location)\n",
    "        if response.status_code == 200:\n",
    "            data = response.json()\n",
    "            #print(data)\n",
    "            weather = {\n",
    "                'description':data['results'][0][\"now\"][\"text\"],\n",
    "                'temperature':data['results'][0][\"now\"][\"temperature\"]\n",
    "            }\n",
    "            return weather\n",
    "        else:\n",
    "            raise Exception(f\"失败接收天气信息：{response.status_code}\")\n",
    "    except Exception as e:\n",
    "        return {\"description\": \"获取天气信息失败\", \"detail\": str(e)}\n",
    "            \n",
    "get_weather.invoke(\"西安\")"
   ]
  },
  {
   "cell_type": "code",
   "execution_count": 16,
   "metadata": {},
   "outputs": [
    {
     "data": {
      "text/plain": [
       "[StructuredTool(name='word_length', description='计算传入的单词的长度', args_schema=<class 'langchain_core.utils.pydantic.word_length'>, func=<function word_length at 0x124d78c10>),\n",
       " StructuredTool(name='get_weather', description='根据城市获取天气数据', args_schema=<class 'langchain_core.utils.pydantic.get_weather'>, func=<function get_weather at 0x12537fb50>)]"
      ]
     },
     "execution_count": 16,
     "metadata": {},
     "output_type": "execute_result"
    }
   ],
   "source": [
    "tools = [word_length, get_weather]\n",
    "tools"
   ]
  },
  {
   "cell_type": "code",
   "execution_count": 17,
   "metadata": {},
   "outputs": [
    {
     "data": {
      "text/plain": [
       "ChatPromptTemplate(input_variables=['agent_scratchpad', 'input'], input_types={'agent_scratchpad': list[typing.Annotated[typing.Union[typing.Annotated[langchain_core.messages.ai.AIMessage, Tag(tag='ai')], typing.Annotated[langchain_core.messages.human.HumanMessage, Tag(tag='human')], typing.Annotated[langchain_core.messages.chat.ChatMessage, Tag(tag='chat')], typing.Annotated[langchain_core.messages.system.SystemMessage, Tag(tag='system')], typing.Annotated[langchain_core.messages.function.FunctionMessage, Tag(tag='function')], typing.Annotated[langchain_core.messages.tool.ToolMessage, Tag(tag='tool')], typing.Annotated[langchain_core.messages.ai.AIMessageChunk, Tag(tag='AIMessageChunk')], typing.Annotated[langchain_core.messages.human.HumanMessageChunk, Tag(tag='HumanMessageChunk')], typing.Annotated[langchain_core.messages.chat.ChatMessageChunk, Tag(tag='ChatMessageChunk')], typing.Annotated[langchain_core.messages.system.SystemMessageChunk, Tag(tag='SystemMessageChunk')], typing.Annotated[langchain_core.messages.function.FunctionMessageChunk, Tag(tag='FunctionMessageChunk')], typing.Annotated[langchain_core.messages.tool.ToolMessageChunk, Tag(tag='ToolMessageChunk')]], FieldInfo(annotation=NoneType, required=True, discriminator=Discriminator(discriminator=<function _get_type at 0x112320160>, custom_error_type=None, custom_error_message=None, custom_error_context=None))]]}, partial_variables={'tools': 'word_length(word: str) -> int - 计算传入的单词的长度\\nget_weather(location: str) -> dict - 根据城市获取天气数据', 'tool_names': 'word_length, get_weather'}, messages=[SystemMessagePromptTemplate(prompt=PromptTemplate(input_variables=[], input_types={}, partial_variables={}, template='你是非常强大的助手，你可以使用各种工具来完成人类交给的问题和任务。'), additional_kwargs={}), HumanMessagePromptTemplate(prompt=PromptTemplate(input_variables=['input', 'tool_names', 'tools'], input_types={}, partial_variables={}, template='尽可能的帮助用户回答任何问题。\\n您可以使用以下工具来帮忙解决问题，如果已经知道答案，也可以直接回答：\\n{tools}\\n\\n回复格式说明：\\n----------------------------------\\n\\n回复我时，请以以下两种格式之一输出问题：\\n\\n选项1：如果您希望人类使用工具，请使用此选项。\\n采用以下JSON模式格式化的回复内容：\\n```json\\n{{\\n    \"reason\": string, \\\\ 叙述使用工具的原因\\n    \"action\": string, \\\\ 要使用的工具。 必须是 {tool_names} 之一\\n    \"action_input\": string \\\\ 工具的输入\\n}}\\n```\\n\\n选项2：如果您认为你自己已经有了答案或者已经通过使用工具找到了答案，想直接对人类做出反应，请使用此选项。\\n采用以下JSON模式格式化的回复内容：\\n```json\\n{{\\n    \"action\": \"Final Answer\",\\n    \"answer\": string \\\\ 最终回复问题的答案放在这里！\\n}}\\n```\\n\\n用户输入\\n----------------------------------\\n这是用户的输入（请记住通过单个选项，以JSON模式格式化的回复内容，不要回复其他内容）：\\n{input}\\n'), additional_kwargs={}), MessagesPlaceholder(variable_name='agent_scratchpad')])"
      ]
     },
     "execution_count": 17,
     "metadata": {},
     "output_type": "execute_result"
    }
   ],
   "source": [
    "from langchain.tools.render import render_text_description\n",
    "\n",
    "prompt = prompt.partial(\n",
    "    tools=render_text_description(tools),\n",
    "    tool_names=\", \".join([t.name for t in tools])\n",
    ")\n",
    "prompt\n"
   ]
  },
  {
   "cell_type": "code",
   "execution_count": 18,
   "metadata": {},
   "outputs": [],
   "source": [
    "from langchain.agents.agent import AgentOutputParser\n",
    "from langchain_core.output_parsers.json import parse_json_markdown\n",
    "from langchain_core.exceptions import OutputParserException\n",
    "from langchain_core.agents import AgentAction, AgentFinish\n",
    "\n",
    "import logging\n",
    "\n",
    "logger = logging.getLogger(__name__)\n",
    "\n",
    "class JSONAgentOutputParser(AgentOutputParser):\n",
    "    \n",
    "    def parse(self, text: str) -> AgentAction | AgentFinish:\n",
    "        try:\n",
    "            response = parse_json_markdown(text)\n",
    "            if isinstance(response, AgentAction):\n",
    "                logger.warning(f\"Got multiple action responses: {response}\")\n",
    "                response = response[0]\n",
    "            if response.get(\"action\") == \"Final Answer\":\n",
    "                return AgentFinish(return_values={\"output\": response.get(\"answer\")}, log=text)\n",
    "            else:\n",
    "                return AgentAction(tool=response.get(\"action\"), tool_input=response.get(\"action_input\"), log=text)\n",
    "        except OutputParserException as e:\n",
    "            raise OutputParserException(f\"Failed to parse output: {e}\")\n",
    "        \n",
    "    \n",
    "    @property\n",
    "    def _type(self) -> str:\n",
    "        return \"json_agent\"\n",
    "    \n"
   ]
  },
  {
   "cell_type": "code",
   "execution_count": 19,
   "metadata": {},
   "outputs": [
    {
     "data": {
      "text/plain": [
       "RunnableAssign(mapper={\n",
       "  agent_scratchpad: RunnableLambda(lambda x: format_log_to_messages(x['input'], x['intermediate_steps'], template_tool_response=TEMPLATE_TOOL_RESPONSE))\n",
       "})\n",
       "| ChatPromptTemplate(input_variables=['agent_scratchpad', 'input'], input_types={'agent_scratchpad': list[typing.Annotated[typing.Union[typing.Annotated[langchain_core.messages.ai.AIMessage, Tag(tag='ai')], typing.Annotated[langchain_core.messages.human.HumanMessage, Tag(tag='human')], typing.Annotated[langchain_core.messages.chat.ChatMessage, Tag(tag='chat')], typing.Annotated[langchain_core.messages.system.SystemMessage, Tag(tag='system')], typing.Annotated[langchain_core.messages.function.FunctionMessage, Tag(tag='function')], typing.Annotated[langchain_core.messages.tool.ToolMessage, Tag(tag='tool')], typing.Annotated[langchain_core.messages.ai.AIMessageChunk, Tag(tag='AIMessageChunk')], typing.Annotated[langchain_core.messages.human.HumanMessageChunk, Tag(tag='HumanMessageChunk')], typing.Annotated[langchain_core.messages.chat.ChatMessageChunk, Tag(tag='ChatMessageChunk')], typing.Annotated[langchain_core.messages.system.SystemMessageChunk, Tag(tag='SystemMessageChunk')], typing.Annotated[langchain_core.messages.function.FunctionMessageChunk, Tag(tag='FunctionMessageChunk')], typing.Annotated[langchain_core.messages.tool.ToolMessageChunk, Tag(tag='ToolMessageChunk')]], FieldInfo(annotation=NoneType, required=True, discriminator=Discriminator(discriminator=<function _get_type at 0x112320160>, custom_error_type=None, custom_error_message=None, custom_error_context=None))]]}, partial_variables={'tools': 'word_length(word: str) -> int - 计算传入的单词的长度\\nget_weather(location: str) -> dict - 根据城市获取天气数据', 'tool_names': 'word_length, get_weather'}, messages=[SystemMessagePromptTemplate(prompt=PromptTemplate(input_variables=[], input_types={}, partial_variables={}, template='你是非常强大的助手，你可以使用各种工具来完成人类交给的问题和任务。'), additional_kwargs={}), HumanMessagePromptTemplate(prompt=PromptTemplate(input_variables=['input', 'tool_names', 'tools'], input_types={}, partial_variables={}, template='尽可能的帮助用户回答任何问题。\\n您可以使用以下工具来帮忙解决问题，如果已经知道答案，也可以直接回答：\\n{tools}\\n\\n回复格式说明：\\n----------------------------------\\n\\n回复我时，请以以下两种格式之一输出问题：\\n\\n选项1：如果您希望人类使用工具，请使用此选项。\\n采用以下JSON模式格式化的回复内容：\\n```json\\n{{\\n    \"reason\": string, \\\\ 叙述使用工具的原因\\n    \"action\": string, \\\\ 要使用的工具。 必须是 {tool_names} 之一\\n    \"action_input\": string \\\\ 工具的输入\\n}}\\n```\\n\\n选项2：如果您认为你自己已经有了答案或者已经通过使用工具找到了答案，想直接对人类做出反应，请使用此选项。\\n采用以下JSON模式格式化的回复内容：\\n```json\\n{{\\n    \"action\": \"Final Answer\",\\n    \"answer\": string \\\\ 最终回复问题的答案放在这里！\\n}}\\n```\\n\\n用户输入\\n----------------------------------\\n这是用户的输入（请记住通过单个选项，以JSON模式格式化的回复内容，不要回复其他内容）：\\n{input}\\n'), additional_kwargs={}), MessagesPlaceholder(variable_name='agent_scratchpad')])\n",
       "| ChatOpenAI(client=<openai.resources.chat.completions.Completions object at 0x11384c340>, async_client=<openai.resources.chat.completions.AsyncCompletions object at 0x11384e860>, root_client=<openai.OpenAI object at 0x107523940>, root_async_client=<openai.AsyncOpenAI object at 0x11384c3a0>, temperature=0.3, model_kwargs={}, openai_api_key=SecretStr('**********'), openai_api_base='http://localhost:1234/v1', max_tokens=4096)\n",
       "| JSONAgentOutputParser()"
      ]
     },
     "execution_count": 19,
     "metadata": {},
     "output_type": "execute_result"
    }
   ],
   "source": [
    "from langchain_core.runnables import RunnablePassthrough\n",
    "\n",
    "agent = (\n",
    "    RunnablePassthrough.assign(\n",
    "        agent_scratchpad=lambda x: format_log_to_messages(\n",
    "            x[\"input\"], \n",
    "            x[\"intermediate_steps\"], \n",
    "            template_tool_response = TEMPLATE_TOOL_RESPONSE\n",
    "        )\n",
    "    )\n",
    "    | prompt\n",
    "    | model\n",
    "    | JSONAgentOutputParser()\n",
    ")\n",
    "agent"
   ]
  },
  {
   "cell_type": "code",
   "execution_count": 22,
   "metadata": {},
   "outputs": [
    {
     "name": "stdout",
     "output_type": "stream",
     "text": [
      "\n",
      "\n",
      "\u001b[1m> Entering new AgentExecutor chain...\u001b[0m\n",
      "\u001b[32;1m\u001b[1;3m```json\n",
      "{\n",
      "    \"reason\": \"获取Xian的当前天气\",\n",
      "    \"action\": \"get_weather\",\n",
      "    \"action_input\": \"西安\"\n",
      "}\n",
      "```\u001b[0m\u001b[33;1m\u001b[1;3m{'description': '阴', 'temperature': '3'}\u001b[0m\u001b[32;1m\u001b[1;3m```json\n",
      "{\n",
      "    \"action\": \"Final Answer\",\n",
      "    \"answer\": \"今天西安的天气是阴天，温度为3度。\"\n",
      "}\n",
      "```\u001b[0m\n",
      "\n",
      "\u001b[1m> Finished chain.\u001b[0m\n"
     ]
    },
    {
     "data": {
      "text/plain": [
       "{'input': '你好，今天xian的天气怎么样？', 'output': '今天西安的天气是阴天，温度为3度。'}"
      ]
     },
     "execution_count": 22,
     "metadata": {},
     "output_type": "execute_result"
    }
   ],
   "source": [
    "from langchain.agents import AgentExecutor\n",
    "\n",
    "agent_executor = AgentExecutor(agent=agent, tools=tools, verbose=True, handle_parsing_errors=True)\n",
    "\n",
    "agent_executor.invoke({\"input\": '你好，今天xian的天气怎么样？' if '西安' in '你好，今天西安的天气怎么样？' else '你好，今天北京的天气怎么样？'})"
   ]
  },
  {
   "cell_type": "code",
   "execution_count": 23,
   "metadata": {},
   "outputs": [
    {
     "name": "stdout",
     "output_type": "stream",
     "text": [
      "\n",
      "\n",
      "\u001b[1m> Entering new AgentExecutor chain...\u001b[0m\n",
      "\u001b[32;1m\u001b[1;3m```json\n",
      "{\n",
      "    \"reason\": \"获取Xian的当前天气数据\",\n",
      "    \"action\": \"get_weather\",\n",
      "    \"action_input\": \"Xian\"\n",
      "}\n",
      "```\u001b[0m\u001b[33;1m\u001b[1;3m{'description': '阴', 'temperature': '3'}\u001b[0m\u001b[32;1m\u001b[1;3m```json\n",
      "{\n",
      "    \"action\": \"Final Answer\",\n",
      "    \"answer\": \"今天Xian的天气是阴天，温度为3°C。\"\n",
      "}\n",
      "```\u001b[0m\n",
      "\n",
      "\u001b[1m> Finished chain.\u001b[0m\n"
     ]
    },
    {
     "data": {
      "text/plain": [
       "{'input': '你好，今天xian的天气怎么样？',\n",
       " 'output': '今天Xian的天气是阴天，温度为3°C。',\n",
       " 'intermediate_steps': [(AgentAction(tool='get_weather', tool_input='Xian', log='```json\\n{\\n    \"reason\": \"获取Xian的当前天气数据\",\\n    \"action\": \"get_weather\",\\n    \"action_input\": \"Xian\"\\n}\\n```'),\n",
       "   {'description': '阴', 'temperature': '3'})]}"
      ]
     },
     "execution_count": 23,
     "metadata": {},
     "output_type": "execute_result"
    }
   ],
   "source": [
    "agent_executor = AgentExecutor(agent=agent, tools=tools, verbose=True, return_intermediate_steps=True)\n",
    "\n",
    "agent_executor.invoke({\"input\": '你好，今天xian的天气怎么样？' if '西安' in '你好，今天西安的天气怎么样？' else '你好，今天北京的天气怎么样？'})"
   ]
  },
  {
   "cell_type": "code",
   "execution_count": 24,
   "metadata": {},
   "outputs": [
    {
     "name": "stdout",
     "output_type": "stream",
     "text": [
      "\n",
      "\n",
      "\u001b[1m> Entering new AgentExecutor chain...\u001b[0m\n",
      "\u001b[32;1m\u001b[1;3m```json\n",
      "{\n",
      "    \"reason\": \"获取Xian的当前天气数据\",\n",
      "    \"action\": \"get_weather\",\n",
      "    \"action_input\": \"Xian\"\n",
      "}\n",
      "```\u001b[0m\u001b[33;1m\u001b[1;3m{'description': '阴', 'temperature': '3'}\u001b[0m\u001b[32;1m\u001b[1;3m```json\n",
      "{\n",
      "    \"action\": \"Final Answer\",\n",
      "    \"answer\": \"今天Xian的天气是阴天，温度为3度。\"\n",
      "}\n",
      "```\u001b[0m\n",
      "\n",
      "\u001b[1m> Finished chain.\u001b[0m\n"
     ]
    },
    {
     "data": {
      "text/plain": [
       "{'input': '你好，今天xian的天气怎么样？', 'output': '今天Xian的天气是阴天，温度为3度。'}"
      ]
     },
     "execution_count": 24,
     "metadata": {},
     "output_type": "execute_result"
    }
   ],
   "source": [
    "agent_executor = AgentExecutor(agent=agent, tools=tools, verbose=True, max_iterations=2)\n",
    "\n",
    "agent_executor.invoke({\"input\": '你好，今天xian的天气怎么样？' if '西安' in '你好，今天西安的天气怎么样？' else '你好，今天北京的天气怎么样？'})"
   ]
  },
  {
   "cell_type": "code",
   "execution_count": 28,
   "metadata": {},
   "outputs": [
    {
     "name": "stdout",
     "output_type": "stream",
     "text": [
      "\n",
      "\n",
      "\u001b[1m> Entering new AgentExecutor chain...\u001b[0m\n",
      "\u001b[32;1m\u001b[1;3m```json\n",
      "{\n",
      "    \"reason\": \"获取Xian当前的天气数据\",\n",
      "    \"action\": \"get_weather\",\n",
      "    \"action_input\": \"Xi'an\"\n",
      "}\n",
      "```\u001b[0m\u001b[33;1m\u001b[1;3m{'description': '获取天气信息失败', 'detail': '失败接收天气信息：404'}\u001b[0m\u001b[32;1m\u001b[1;3m```json\n",
      "{\n",
      "    \"action\": \"Final Answer\",\n",
      "    \"answer\": \"对不起，我无法获取Xi'an的天气信息。\"\n",
      "}\n",
      "```\u001b[0m\n",
      "\n",
      "\u001b[1m> Finished chain.\u001b[0m\n"
     ]
    },
    {
     "data": {
      "text/plain": [
       "{'input': '你好，今天xian的天气怎么样？', 'output': \"对不起，我无法获取Xi'an的天气信息。\"}"
      ]
     },
     "execution_count": 28,
     "metadata": {},
     "output_type": "execute_result"
    }
   ],
   "source": [
    "agent_executor = AgentExecutor(agent=agent, tools=tools, verbose=True, max_execution_time=10)\n",
    "\n",
    "agent_executor.invoke({\"input\": '你好，今天xian的天气怎么样？' if '西安' in '你好，今天西安的天气怎么样？' else '你好，今天北京的天气怎么样？'})"
   ]
  }
 ],
 "metadata": {
  "kernelspec": {
   "display_name": "kk_langchain",
   "language": "python",
   "name": "python3"
  },
  "language_info": {
   "codemirror_mode": {
    "name": "ipython",
    "version": 3
   },
   "file_extension": ".py",
   "mimetype": "text/x-python",
   "name": "python",
   "nbconvert_exporter": "python",
   "pygments_lexer": "ipython3",
   "version": "3.10.16"
  }
 },
 "nbformat": 4,
 "nbformat_minor": 2
}
