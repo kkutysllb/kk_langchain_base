{
 "cells": [
  {
   "cell_type": "markdown",
   "metadata": {},
   "source": [
    "# 13-json输出解析器\n",
    "\n",
    "此输出解析器允许用户指定任意 JSON 架构并查询 LLMs 以获得符合该架构的输出。\n",
    "\n",
    "请记住，大型语言模型是有漏洞的抽象！您必须使用具有足够容量的 LLM 来生成格式正确的 JSON。在OpenAI家族中，达芬奇可以可靠地完成任务，但居里的能力已经急剧下降。\n",
    "\n",
    "您可以选择使用 Pydantic 来声明您的数据模型。"
   ]
  },
  {
   "cell_type": "code",
   "execution_count": 1,
   "metadata": {},
   "outputs": [
    {
     "name": "stderr",
     "output_type": "stream",
     "text": [
      "/home/libing/miniconda3/envs/kk_langchain_wsl/lib/python3.10/site-packages/IPython/core/interactiveshell.py:3577: LangChainDeprecationWarning: As of langchain-core 0.3.0, LangChain uses pydantic v2 internally. The langchain_core.pydantic_v1 module was a compatibility shim for pydantic v1, and should no longer be used. Please update the code to import from Pydantic directly.\n",
      "\n",
      "For example, replace imports like: `from langchain_core.pydantic_v1 import BaseModel`\n",
      "with: `from pydantic import BaseModel`\n",
      "or the v1 compatibility namespace if you are working in a code base that has not been fully upgraded to pydantic 2 yet. \tfrom pydantic.v1 import BaseModel\n",
      "\n",
      "  exec(code_obj, self.user_global_ns, self.user_ns)\n"
     ]
    }
   ],
   "source": [
    "from langchain_openai import ChatOpenAI\n",
    "from langchain_core.prompts import PromptTemplate\n",
    "from langchain_core.output_parsers import JsonOutputParser\n",
    "from langchain_core.pydantic_v1 import BaseModel, Field\n",
    "from typing import List, Optional\n",
    "from dotenv import load_dotenv\n",
    "import os\n",
    "\n",
    "load_dotenv()\n",
    "\n",
    "api_key = os.getenv(\"LOCAL_API_KEY\")\n",
    "base_url = os.getenv(\"LOCAL_API_BASE\")\n",
    "\n",
    "llm = ChatOpenAI(api_key=api_key, base_url=base_url, temperature=0.3, max_tokens=8192)\n"
   ]
  },
  {
   "cell_type": "code",
   "execution_count": 2,
   "metadata": {},
   "outputs": [],
   "source": [
    "# 自定义输出的数据结构\n",
    "class Book(BaseModel):\n",
    "    title: str = Field(description=\"书名\")\n",
    "    author: str = Field(description=\"作者\")\n",
    "    year: int = Field(description=\"出版年份\")\n",
    "    price: float = Field(description=\"价格\")\n",
    "    description: str = Field(description=\"书的简介\")\n",
    "\n",
    "# 创建输出解析器\n",
    "output_parser = JsonOutputParser(pydantic_object=Book)\n",
    "\n",
    "format_instructions = output_parser.get_format_instructions()\n",
    "format_instructions = \"\"\"输出符合以下格式的JSON字符串实例: \\n\n",
    "```JSON\n",
    "{\n",
    "    \"title\": \"书名\",\n",
    "    \"author\": \"作者\",\n",
    "    \"year\": \"出版年份\",\n",
    "    \"price\": \"价格\",\n",
    "    \"description\": \"书的简介\"\n",
    "}\n",
    "```\n",
    "\"\"\"\n",
    "\n",
    "# 定义提示词模板\n",
    "prompt = PromptTemplate(\n",
    "    template=\"{format_instructions}\\n请列出{query}的信息\",\n",
    "    input_variables=[\"query\"],\n",
    "    partial_variables={\"format_instructions\": format_instructions}\n",
    ")\n",
    "\n",
    "# 创建链\n",
    "chain = prompt | llm | output_parser"
   ]
  },
  {
   "cell_type": "code",
   "execution_count": 3,
   "metadata": {},
   "outputs": [
    {
     "data": {
      "text/plain": [
       "{'title': '中国历史入门指南',\n",
       " 'author': '李明',\n",
       " 'year': '2023年',\n",
       " 'price': '￥98.00',\n",
       " 'description': '本书旨在为初学者提供一套全面的中国历史学习框架。从远古的传说时代到现代中国的发展，本书涵盖了各个时期的重要事件、人物和文化成就。通过丰富的图表和插图，以及易于理解的叙述方式，读者可以轻松地了解中国的悠久历史。此外，书中还提供了进一步阅读的建议和在线资源链接，帮助读者深入探索感兴趣的历史话题。'}"
      ]
     },
     "execution_count": 3,
     "metadata": {},
     "output_type": "execute_result"
    }
   ],
   "source": [
    "chain.invoke({\"query\": \"如何开始学习中国历史\"})"
   ]
  },
  {
   "cell_type": "code",
   "execution_count": 4,
   "metadata": {},
   "outputs": [
    {
     "data": {
      "text/plain": [
       "{'title': '红楼梦',\n",
       " 'author': '曹雪芹',\n",
       " 'year': '1784年（乾隆年间）',\n",
       " 'price': '价格信息不详',\n",
       " 'description': '《红楼梦》是中国古典文学四大名著之一，是一部以贾、王、史、薛四大家族的兴衰为背景的长篇小说。它通过描写贾宝玉和林黛玉的爱情悲剧，反映了封建社会的腐朽与没落，以及贵族家庭的衰败过程。该书在艺术上达到了很高的成就，被誉为中国古代小说的巅峰之作。'}"
      ]
     },
     "execution_count": 4,
     "metadata": {},
     "output_type": "execute_result"
    }
   ],
   "source": [
    "chain.invoke({\"query\": \"红楼梦\"})"
   ]
  }
 ],
 "metadata": {
  "kernelspec": {
   "display_name": "kk_langchain",
   "language": "python",
   "name": "python3"
  },
  "language_info": {
   "codemirror_mode": {
    "name": "ipython",
    "version": 3
   },
   "file_extension": ".py",
   "mimetype": "text/x-python",
   "name": "python",
   "nbconvert_exporter": "python",
   "pygments_lexer": "ipython3",
   "version": "3.10.16"
  }
 },
 "nbformat": 4,
 "nbformat_minor": 2
}
