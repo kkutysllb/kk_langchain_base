{
 "cells": [
  {
   "cell_type": "markdown",
   "metadata": {},
   "source": [
    "# 13-json输出解析器\n",
    "\n",
    "此输出解析器允许用户指定任意 JSON 架构并查询 LLMs 以获得符合该架构的输出。\n",
    "\n",
    "请记住，大型语言模型是有漏洞的抽象！您必须使用具有足够容量的 LLM 来生成格式正确的 JSON。在OpenAI家族中，达芬奇可以可靠地完成任务，但居里的能力已经急剧下降。\n",
    "\n",
    "您可以选择使用 Pydantic 来声明您的数据模型。"
   ]
  },
  {
   "cell_type": "code",
   "execution_count": 2,
   "metadata": {},
   "outputs": [],
   "source": [
    "from langchain_openai import ChatOpenAI\n",
    "from langchain_core.prompts import PromptTemplate\n",
    "from langchain_core.output_parsers import JsonOutputParser\n",
    "from langchain_core.pydantic_v1 import BaseModel, Field\n",
    "from typing import List, Optional\n",
    "from dotenv import load_dotenv\n",
    "import os\n",
    "\n",
    "load_dotenv()\n",
    "\n",
    "api_key = os.getenv(\"LOCAL_API_KEY\")\n",
    "base_url = os.getenv(\"LOCAL_API_BASE\")\n",
    "\n",
    "llm = ChatOpenAI(api_key=api_key, base_url=base_url, temperature=0.3, max_tokens=8192)\n"
   ]
  },
  {
   "cell_type": "code",
   "execution_count": 4,
   "metadata": {},
   "outputs": [],
   "source": [
    "# 自定义输出的数据结构\n",
    "class Book(BaseModel):\n",
    "    title: str = Field(description=\"书名\")\n",
    "    author: str = Field(description=\"作者\")\n",
    "    year: int = Field(description=\"出版年份\")\n",
    "    price: float = Field(description=\"价格\")\n",
    "    description: str = Field(description=\"书的简介\")\n",
    "\n",
    "# 创建输出解析器\n",
    "output_parser = JsonOutputParser(pydantic_object=Book)\n",
    "\n",
    "format_instructions = output_parser.get_format_instructions()\n",
    "format_instructions = \"\"\"输出符合以下格式的JSON字符串实例: \\n\n",
    "```JSON\n",
    "{\n",
    "    \"title\": \"书名\",\n",
    "    \"author\": \"作者\",\n",
    "    \"year\": \"出版年份\",\n",
    "    \"price\": \"价格\",\n",
    "    \"description\": \"书的简介\"\n",
    "}\n",
    "```\n",
    "\"\"\"\n",
    "\n",
    "# 定义提示词模板\n",
    "prompt = PromptTemplate(\n",
    "    template=\"{format_instructions}\\n请列出{query}的信息\",\n",
    "    input_variables=[\"query\"],\n",
    "    partial_variables={\"format_instructions\": format_instructions}\n",
    ")\n",
    "\n",
    "# 创建链\n",
    "chain = prompt | llm | output_parser"
   ]
  },
  {
   "cell_type": "code",
   "execution_count": 9,
   "metadata": {},
   "outputs": [
    {
     "data": {
      "text/plain": [
       "{'title': '中国通史简明教程',\n",
       " 'author': '张三',\n",
       " 'year': '2023',\n",
       " 'price': '59.99元',\n",
       " 'description': '本书是一本适合初学者阅读的中国历史入门书籍，从远古时期到现代，全面介绍了中国的政治、经济和社会变迁。'}"
      ]
     },
     "execution_count": 9,
     "metadata": {},
     "output_type": "execute_result"
    }
   ],
   "source": [
    "chain.invoke({\"query\": \"如何开始学习中国历史\"})"
   ]
  },
  {
   "cell_type": "code",
   "execution_count": 10,
   "metadata": {},
   "outputs": [
    {
     "data": {
      "text/plain": [
       "{'title': '红楼梦',\n",
       " 'author': '曹雪芹',\n",
       " 'year': '1791',\n",
       " 'price': '35.00元',\n",
       " 'description': '《红楼梦》，中国古代四大名著之一，章回体长篇小说，成书于1791年。小说以贾、史、王、薛四大家族的兴衰为背景，描绘了一批举止见识出于须眉之上的闺阁佳人的人生百态，展现了真正的人性美和悲剧美，可以说是一部从各个角度展现女性美的史诗。'}"
      ]
     },
     "execution_count": 10,
     "metadata": {},
     "output_type": "execute_result"
    }
   ],
   "source": [
    "chain.invoke({\"query\": \"红楼梦\"})"
   ]
  }
 ],
 "metadata": {
  "kernelspec": {
   "display_name": "kk_langchain",
   "language": "python",
   "name": "python3"
  },
  "language_info": {
   "codemirror_mode": {
    "name": "ipython",
    "version": 3
   },
   "file_extension": ".py",
   "mimetype": "text/x-python",
   "name": "python",
   "nbconvert_exporter": "python",
   "pygments_lexer": "ipython3",
   "version": "3.10.16"
  }
 },
 "nbformat": 4,
 "nbformat_minor": 2
}
