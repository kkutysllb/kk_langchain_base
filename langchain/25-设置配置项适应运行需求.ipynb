{
 "cells": [
  {
   "cell_type": "markdown",
   "metadata": {},
   "source": [
    "# 设置配置项适应运行需求\n",
    "\n",
    "\n",
    "## 绑定运行时参数"
   ]
  },
  {
   "cell_type": "code",
   "execution_count": 2,
   "metadata": {},
   "outputs": [],
   "source": [
    "from langchain_openai import ChatOpenAI\n",
    "from dotenv import load_dotenv\n",
    "import os\n",
    "\n",
    "load_dotenv()\n",
    "\n",
    "api_key = os.getenv(\"LOACL_API_KEY\")\n",
    "api_base = os.getenv(\"LOACL_API_BASE\")\n",
    "\n",
    "model = ChatOpenAI(api_key=api_key, base_url=api_base, temperature=0.3)"
   ]
  },
  {
   "cell_type": "code",
   "execution_count": 5,
   "metadata": {},
   "outputs": [
    {
     "data": {
      "text/plain": [
       "'**方程：**\\n\\n\\\\[ x^3 + 7 = 34 \\\\]\\n\\n**解决方案：**\\n\\n1. 首先，将方程简化。将常数项7移到方程的右边：\\n\\n\\\\[ x^3 = 34 - 7 \\\\]\\n\\n2. 计算右边的值：\\n\\n\\\\[ x^3 = 27 \\\\]\\n\\n3. 然后，求解 \\\\( x \\\\)，即求 \\\\( x \\\\) 的立方根：\\n\\n\\\\[ x = \\\\sqrt[3]{27} \\\\]\\n\\n4. 计算立方根：\\n\\n\\\\[ x = 3 \\\\]\\n\\n**答案：**\\n\\n\\\\[ x = 3 \\\\]'"
      ]
     },
     "execution_count": 5,
     "metadata": {},
     "output_type": "execute_result"
    }
   ],
   "source": [
    "from langchain_core.output_parsers import StrOutputParser\n",
    "from langchain_core.prompts import ChatPromptTemplate\n",
    "from langchain_core.runnables import RunnablePassthrough\n",
    "\n",
    "prompt = ChatPromptTemplate.from_messages(\n",
    "    [\n",
    "       (\n",
    "           \"system\",\n",
    "           \"用代数符号写出下面的方程，然后求解。使用格式\\n\\n方程：...\\n解决方案：...\\n\\n\"\n",
    "       ) ,\n",
    "       (\"user\", \"{equation_statement}\")\n",
    "    ]\n",
    ")\n",
    "\n",
    "chain = {\"equation_statement\": RunnablePassthrough()} | prompt | model | StrOutputParser()\n",
    "\n",
    "chain.invoke({\"equation_statement\": \"x的3次方加7等于34\"})"
   ]
  },
  {
   "cell_type": "markdown",
   "metadata": {},
   "source": [
    "## 在运行时配置链的内部结构\n",
    "\n",
    "通常，您可能想要尝试多种不同的做事方式，甚至向最终用户展示多种不同的做事方式。为了使这种体验尽可能简单，我们定义了两种方法。\n",
    "\n",
    "首先是 configurable_fields 方法。这允许您配置可运行的特定字段。\n",
    "\n",
    "其次，一个 configurable_alternatives 方法。使用此方法，您可以列出可以在运行时设置的任何特定可运行对象的替代方案。"
   ]
  },
  {
   "cell_type": "code",
   "execution_count": 6,
   "metadata": {},
   "outputs": [
    {
     "data": {
      "text/plain": [
       "<bound method RunnableConfigurableFields.configurable_fields of RunnableConfigurableFields(default=ChatOpenAI(client=<openai.resources.chat.completions.Completions object at 0x7fc86286a710>, async_client=<openai.resources.chat.completions.AsyncCompletions object at 0x7fc862890850>, root_client=<openai.OpenAI object at 0x7fc890222ec0>, root_async_client=<openai.AsyncOpenAI object at 0x7fc86286a770>, temperature=0.3, model_kwargs={}, openai_api_base='https://ai-yyds.com/v1'), fields={'temperature': ConfigurableField(id='llm_temperature', name='LLM Temperature', description='The temperature of the LLM', annotation=None, is_shared=False)})>"
      ]
     },
     "execution_count": 6,
     "metadata": {},
     "output_type": "execute_result"
    }
   ],
   "source": [
    "from langchain_core.prompts import PromptTemplate\n",
    "from langchain_core.runnables import ConfigurableField\n",
    "\n",
    "\n",
    "model = model.configurable_fields(\n",
    "    temperature=ConfigurableField(\n",
    "        id=\"llm_temperature\",\n",
    "        description=\"The temperature of the LLM\",\n",
    "        name=\"LLM Temperature\",\n",
    "    )\n",
    ")\n",
    "\n",
    "model.configurable_fields"
   ]
  },
  {
   "cell_type": "code",
   "execution_count": 8,
   "metadata": {},
   "outputs": [
    {
     "data": {
      "text/plain": [
       "AIMessage(content='74', additional_kwargs={'refusal': None}, response_metadata={'token_usage': {'completion_tokens': 1, 'prompt_tokens': 11, 'total_tokens': 12, 'completion_tokens_details': None, 'prompt_tokens_details': None}, 'model_name': 'gpt-3.5-turbo', 'system_fingerprint': None, 'finish_reason': 'stop', 'logprobs': None}, id='run-9b80d8de-e858-418a-90f6-fb8be1b616c0-0', usage_metadata={'input_tokens': 11, 'output_tokens': 1, 'total_tokens': 12, 'input_token_details': {}, 'output_token_details': {}})"
      ]
     },
     "execution_count": 8,
     "metadata": {},
     "output_type": "execute_result"
    }
   ],
   "source": [
    "model.invoke(\"生成一个随机的整数，不要回答其他任何内容\")"
   ]
  },
  {
   "cell_type": "code",
   "execution_count": 9,
   "metadata": {},
   "outputs": [
    {
     "data": {
      "text/plain": [
       "AIMessage(content='37', additional_kwargs={'refusal': None}, response_metadata={'token_usage': {'completion_tokens': 1, 'prompt_tokens': 11, 'total_tokens': 12, 'completion_tokens_details': None, 'prompt_tokens_details': None}, 'model_name': 'gpt-3.5-turbo', 'system_fingerprint': None, 'finish_reason': 'stop', 'logprobs': None}, id='run-e855345b-d31c-4e9b-a25c-91b7fd3023f3-0', usage_metadata={'input_tokens': 11, 'output_tokens': 1, 'total_tokens': 12, 'input_token_details': {}, 'output_token_details': {}})"
      ]
     },
     "execution_count": 9,
     "metadata": {},
     "output_type": "execute_result"
    }
   ],
   "source": [
    "model.invoke(\"生成一个随机的整数，不要回答其他任何内容\")"
   ]
  },
  {
   "cell_type": "code",
   "execution_count": 11,
   "metadata": {},
   "outputs": [
    {
     "data": {
      "text/plain": [
       "AIMessage(content='36', additional_kwargs={'refusal': None}, response_metadata={'token_usage': {'completion_tokens': 1, 'prompt_tokens': 25, 'total_tokens': 26, 'completion_tokens_details': {'accepted_prediction_tokens': 0, 'audio_tokens': 0, 'reasoning_tokens': 0, 'rejected_prediction_tokens': 0}, 'prompt_tokens_details': {'audio_tokens': 0, 'cached_tokens': 0}}, 'model_name': 'gpt-3.5-turbo-0125', 'system_fingerprint': None, 'finish_reason': 'stop', 'logprobs': None}, id='run-c47d91f3-e303-4881-8854-144dcfff743e-0', usage_metadata={'input_tokens': 25, 'output_tokens': 1, 'total_tokens': 26, 'input_token_details': {'audio': 0, 'cache_read': 0}, 'output_token_details': {'audio': 0, 'reasoning': 0}})"
      ]
     },
     "execution_count": 11,
     "metadata": {},
     "output_type": "execute_result"
    }
   ],
   "source": [
    "model.with_config(config={\"llm_temperature\": 0.9}).invoke(\"生成一个随机的整数，不要回答其他任何内容\")"
   ]
  },
  {
   "cell_type": "markdown",
   "metadata": {},
   "source": [
    "## `@chain` decorator\n",
    "\n",
    "使用“@chain”装饰器创建一个可运行程序,您还可以通过添加 @chain 装饰器将任意函数变成链。这在功能上相当于包装在 RunnableLambda 中。\n",
    "\n",
    "通过正确跟踪您的链，这将具有提高可观察性的好处。对该函数内的可运行对象的任何调用都将被跟踪为嵌套子函数。\n",
    "\n",
    "它还允许您像任何其他可运行程序一样使用它，将其组合成链等。"
   ]
  },
  {
   "cell_type": "code",
   "execution_count": 12,
   "metadata": {},
   "outputs": [],
   "source": [
    "from langchain_core.runnables import chain\n",
    "from langchain_core.prompts import ChatPromptTemplate\n",
    "from langchain_core.output_parsers import StrOutputParser\n",
    "\n",
    "\n",
    "prompt1 = ChatPromptTemplate.from_template(\"给我讲一个关于{topic}的故事\")\n",
    "prompt2 = ChatPromptTemplate.from_template(\"{store}\\n\\n对上面的故事进行修改，让故事变得更加口语化和幽默有趣。\")"
   ]
  },
  {
   "cell_type": "code",
   "execution_count": 13,
   "metadata": {},
   "outputs": [],
   "source": [
    "from langchain_openai import ChatOpenAI\n",
    "from dotenv import load_dotenv\n",
    "import os\n",
    "\n",
    "load_dotenv()\n",
    "\n",
    "api_key = os.getenv(\"LOACL_API_KEY\")\n",
    "api_base = os.getenv(\"LOACL_API_BASE\")\n",
    "\n",
    "model = ChatOpenAI(api_key=api_key, base_url=api_base, temperature=0.8)"
   ]
  },
  {
   "cell_type": "code",
   "execution_count": 14,
   "metadata": {},
   "outputs": [],
   "source": [
    "@chain\n",
    "def custom_chain1(text):\n",
    "    prompt_val1=prompt1.invoke({\"topic\": text})\n",
    "    output1 = model.invoke(prompt_val1)\n",
    "    parsed_output1 = StrOutputParser().invoke(output1)\n",
    "    \n",
    "    chain2 = prompt2 | model | StrOutputParser()\n",
    "    return chain2.invoke(parsed_output1)\n",
    "\n",
    "\n",
    "@chain\n",
    "def custom_chain2(text):\n",
    "    chain1 = prompt1 | model | StrOutputParser()\n",
    "    parsed_output1 = chain1.invoke({\"topic\": text})\n",
    "    \n",
    "    chain2 = prompt2 | model | StrOutputParser()\n",
    "    return chain2.invoke(parsed_output1)\n",
    "\n",
    "\n",
    "@chain\n",
    "def custom_chain3(text):\n",
    "    chain = prompt1 | model | StrOutputParser() | {\"store\": RunnablePassthrough()} | prompt2 | model | StrOutputParser()\n",
    "    return chain.invoke({\"topic\": text})\n"
   ]
  },
  {
   "cell_type": "code",
   "execution_count": 16,
   "metadata": {},
   "outputs": [
    {
     "data": {
      "text/plain": [
       "'### 《修复代码的艺术：一位年轻程序员的成长故事》\\n\\n这是一个关于一个刚从大学毕业的程序员李凯，如何从“迷茫小白”变成“老司机”的故事。李凯对编程充满了热情，带着满腔的理想主义进入了一家软件公司，准备大展拳脚。但现实很快就给了他一个“下马威”。这不仅是他个人的成长故事，也是编程世界里那些“坑”和“摔倒”的故事。\\n\\n#### 初入职场\\n\\n李凯刚进公司，接手的第一个项目就是一个超级庞大的管理系统。这个系统看起来虽然很成熟，但其实里面藏着不少“雷”，尤其是历史遗留的代码。上一个开发团队把它搞得像拼图一样，各个模块错综复杂，互相依赖，函数和类的命名就像是他们闭着眼睛随便写的——有时候连代码注释都不再是解释代码做了什么，而是解释“为什么这么做”，简直像在写小说。\\n\\n李凯的任务是接手这个系统进行维护，并做一些新功能的开发。起初，他满怀信心，觉得自己刚学了那么多编程理论，面对这些代码，简直就是“老司机上路，超车不在话下”。但是，当他一开始动手时，问题就来了——每当他试图理解一段代码时，都像是在解一道魔方，哪里都不对；而每次他修改了一点东西，系统就像中邪了一样，整个崩溃，回归测试后到处出问题。每次他都觉得自己像被程序给“套路”了，仿佛它是有意识地在跟他作对。\\n\\n#### 崩溃与困惑\\n\\n有一次，李凯被指派去修复一个关于用户权限管理的 bug，这个 bug 拿出来就是一颗定时炸弹。问题涉及到多个模块的交互，还有数据库层面的东西。李凯按照自己的理解，修改了代码，然后提交。结果测试人员来了一句：“权限管理还不行，而且有时候程序崩溃了。”李凯心想：“完了，崩了就崩了呗，给我点时间我再修一修。”于是他再次修改，增加了更多的日志和调试信息，好像这些日志就能帮他找出bug的真身。\\n\\n但是，问题还是没解决，李凯开始怀疑自己是不是根本不适合做程序员了。每当遇到难题，他就只能靠直觉和一点点“灵光一闪”的思路去解谜，而不是系统地分析问题。那种无力感，就像一只脚踩在水里，怎么都没法站稳。\\n\\n有一天，他和资深开发者王工讨论问题，王工看了一眼李凯的代码，笑了笑说：“其实，编程最重要的，不是瞎琢磨解决问题，而是理解问题的本质。就像侦探一样，问题就藏在细节里，等着你去发现。”\\n\\n#### 转折：从错误中学习\\n\\n这句话像一针强心剂，李凯渐渐从迷茫中恢复过来，决定改变自己的编程思路。他开始重新审视整个系统架构，和团队一起理清模块之间的关系，开始了解每一个功能背后的设计原理。最重要的是，他不再盲目修复代码，而是开始分解问题，搞清楚问题出在哪个地方。\\n\\n于是，在修复那个用户权限问题时，他决定将原本一个大模块拆成多个小模块，每个模块只负责一小块功能。为了保证每个模块都能正确运行，他还写了大量的单元测试，确保每个模块独立测试过关，然后再逐步集成。\\n\\n最终，李凯找到了那个让整个权限系统乱套的 bug——原来是一个超级小的逻辑错误，导致权限判断异常，搞得程序死活不愿意配合他。最神奇的是，这个 bug 根本不复杂，但只有通过一步步仔细推敲，才能发现它。而且修复起来，感觉就像把一个卡住的拼图轻松地拼好一样，虽然过程不短，但收获极大。\\n\\n#### 成长与领悟\\n\\n从那以后，李凯变得越来越有信心了。他学会了如何拆解复杂问题，并且能冷静地去逐步解决。他的编程技巧进步神速，尤其是在团队合作上，他也越来越得心应手，能在关键时刻提出建设性的解决方案。\\n\\n有一次，李凯好奇地问王工：“你是怎么在这么复杂的系统中保持冷静的？难道你就不怕搞崩了？”\\n\\n王工笑着回答：“其实没有什么秘诀，编程就是一场马拉松。关键是要耐得住性子，遇到问题要冷静，但最重要的是，你得享受解决问题的过程，而不是只想着最后的解决方案。每一次失败，都是离成功更近一步。”\\n\\n这让李凯茅塞顿开，原来编程不止是为了让代码跑起来，而是要在解决问题的过程中，享受每一个“低谷”带来的成长。\\n\\n#### 最后的收获\\n\\n时间一天天过去，李凯逐渐成了团队中的中流砥柱，不仅负责了系统的核心模块，还帮助新同事解决技术难题。他的代码风格变得更加规范、清晰，结构也更加简洁。更重要的是，他学会了如何在复杂的代码中保持冷静，像解谜一样一点一点地找出最佳解决方案。\\n\\n有一年，公司迎来了一个重要的产品发布，李凯的团队承担了大部分开发工作。发布那天，他站在办公室的窗前，看着外面的街道，心里满是成就感。虽然编程的路依旧充满挑战，但他已经不再怕了，因为他明白了：真正的程序员，永远是在面对挑战和解决问题的过程中不断进步的。\\n\\n#### 结语\\n\\n李凯的故事告诉我们，编程不仅仅是掌握技术，更多的是要学会理解问题、分析问题、解决问题。真正的编程艺术，不是写了多少行代码，而是能在一个复杂的世界中，找到最简单的解决方法。每一次失败、每一次困惑，都是通向更高层次的台阶，而最终，我们所有的成长，都源自那一个个看似不起眼的“bug”和“坑”。\\n\\n所以，亲爱的程序员们，记住：编程不仅仅是解决问题，更是一场自我成长的修行——每个错误，都能让你更强大。'"
      ]
     },
     "execution_count": 16,
     "metadata": {},
     "output_type": "execute_result"
    }
   ],
   "source": [
    "custom_chain1.invoke(\"编程\")"
   ]
  },
  {
   "cell_type": "code",
   "execution_count": 17,
   "metadata": {},
   "outputs": [
    {
     "data": {
      "text/plain": [
       "'### 《一行代码改变了世界》\\n\\n这是一个关于编程的故事，讲的是一个程序员通过一行代码的灵感，如何改变了整个行业的命运。故事发生在2000年代初期的硅谷，主人公叫艾伦，是个年轻的程序员，正面临着人生的一个关键时刻。\\n\\n#### 初入编程的艾伦\\n\\n艾伦从小就对计算机有种“莫名的吸引力”。家里没什么钱，但他有个宝贵的资源——一台老旧的父亲的电脑。那时候，他还是个高中生。艾伦的第一个编程项目是写个“猜数字”游戏，虽然那代码简直像拼图一样简单，但当他看到电脑“思考”并给出答案时，他内心的小火花瞬间燃烧起来——“哇，原来我也能教电脑做事！”。从那一刻起，他决定走上编程这条“不归路”。\\n\\n大学毕业后，艾伦加入了一家初创公司，开始了正式的程序员生涯。公司主打的产品是一个云存储系统，听起来很炫，但实际操作起来，技术问题层出不穷。每当客户抱怨数据慢得像乌龟一样时，艾伦和他的团队只能低头默默修复代码，心里都在想：这公司真的能行吗？\\n\\n#### 项目的困境\\n\\n在这个项目中，艾伦和其他工程师们一直在努力，然而，面对一个难解的技术难题——**高并发下，数据存取速度超级慢**，整个团队感觉就像被困在了“性能地狱”。无论怎么努力优化代码，似乎都看不到希望的曙光。客户反馈一片差评，很多用户开始放弃使用这个平台，公司一度快要挂掉了。艾伦心里压力山大，觉得自己随时可能被炒鱿鱼。\\n\\n有一天晚上，艾伦又加班加点到很晚，桌子上堆满了纸张和代码审查记录。他已经累得眼皮打架，突然起身去倒了杯咖啡，想清清脑袋。手拿咖啡杯，他无意识地盯着代码编辑器屏幕，眼神空洞地游移……突然，他的视线停在了一个不起眼的小细节上：**缓存机制**。那个小小的模块，虽然理论上应该能提升性能，但之前的设计问题让它根本没能发挥作用。\\n\\n#### 灵感的瞬间\\n\\n那一瞬间，艾伦突然想到了：**如果把缓存刷新策略改成基于数据变化来实时失效，而不是固定时间间隔刷新呢？** 噢，天哪！这么简单的改动居然没想到？他心里一阵激动，像是抓住了“魔法钥匙”。他迅速修改了一行代码，把缓存刷新机制改了过来。测试一下，哇塞，结果让他差点掉了咖啡杯：系统响应速度居然提高了80%！艾伦简直要疯了，他赶紧把这个改动提交给团队。\\n\\n#### 影响与突破\\n\\n团队经过进一步测试，确认这行简单的代码确实解决了性能瓶颈。随后，他们把这个优化推向了生产环境，效果惊人。客户的反馈瞬间变得超好，系统的吞吐量暴增，使用量翻了两番。几个月后，公司发布的报告上显示，产品用户数暴涨，投资人也开始对公司刮目相看。艾伦的这一小小改动成了公司历史上的**技术性里程碑**。\\n\\n不仅如此，这个改变让公司在竞争中脱颖而出，赢得了更多投资，最终成为了行业的领头羊。而艾伦，也一夜之间成了公司的明星程序员，工作轻松了不少，开始享受被追捧的日子。\\n\\n#### 程序员的思考\\n\\n尽管艾伦因为这个技术突破而声名大噪，但他并没有因此骄傲。毕竟，谁能想到，这个改变的关键，竟然就来自一行不起眼的代码。他明白，编程不仅仅是敲代码，更是一种思维方式。通过不断深入分析问题，找出最简单、最优的解决方案，才是程序员的真正价值。\\n\\n这次经历也彻底改变了艾伦的职业生涯。几年后，他成立了自己的公司，专注于开发智能优化系统，帮助更多企业通过优化架构和代码来提升产品性能。每当他回忆起那一行代码，他都觉得，这个“灵光一现”的时刻，成了他整个职业生涯的转折点。\\n\\n#### 总结\\n\\n故事的核心其实很简单：编程不仅仅是书写代码，更是一种解决问题的艺术。有时候，你只需要一个灵感，或者一行看似微不足道的代码，就能让整个系统发生翻天覆地的变化。每一个程序员，都是在不断试错和优化的过程中，给这个充满无限可能的技术世界增添了一点小小的奇迹。\\n\\n正如艾伦所感悟的那样，编程的魅力不仅在于“做什么”，更在于“怎么做”。'"
      ]
     },
     "execution_count": 17,
     "metadata": {},
     "output_type": "execute_result"
    }
   ],
   "source": [
    "custom_chain2.invoke(\"编程\")"
   ]
  },
  {
   "cell_type": "code",
   "execution_count": 18,
   "metadata": {},
   "outputs": [
    {
     "data": {
      "text/plain": [
       "'好的，下面是修改后的版本，故事更加口语化，带有一些幽默和趣味性：\\n\\n---\\n\\n### 故事的开端\\n\\n在一个安静的小镇上，有个年轻女孩，名字叫李华。李华从小就喜欢电脑，玩游戏、画画、看网站，她几乎对电脑的所有功能都充满了好奇心。可是呢，她完全没想过自己有一天会变成一个程序员，直到高中的那门**计算机科学**课。\\n\\n那时的李华，编程对她来说简直像是天书。她听到别人说“代码”时，总是想，“是不是很难的东西？我能搞定吗？”直到有一天，她遇到了她的第一个编程语言——**Python**。她才发现，原来编程竟然可以这么有趣！不是枯燥的数字和符号，而是能让计算机听话的魔法。\\n\\n### 第一次编程的尝试\\n\\n李华的第一段代码简直简单到不行，连她自己都忍不住笑了出来。就是那种经典的“Hello, World!”程序。她按下了“运行”，屏幕上跳出来那句“Hello, World!”时，李华差点高兴得要从椅子上跳起来。她甚至盯着那行字看了好久，心想：“天呐，这居然是我写的！这电脑真的在听我说话！”\\n\\n那一刻，李华决定，编程不再是个冷冰冰的东西，而是个能让她随心所欲地创造的工具。从那以后，她开始疯狂学习编程，不停地试着写小程序——比如计算器、猜数字游戏之类的。每当一个程序运行成功，她就会觉得自己像个小小的魔法师，自己也能让电脑做一些神奇的事。\\n\\n### 迎接挑战\\n\\n当然，李华的编程之路并非一帆风顺。随着她的技能逐渐提升，挑战也越来越大。有一次，她决定自己做个小网页应用，想着用HTML和CSS设计个漂亮页面，再用JavaScript加上一点互动，应该没啥问题。可是当她开始想要存储数据和做后端功能时，问题来了。\\n\\n她一开始尝试把数据存到本地文件里，结果没几天就发现，这根本不行——数据根本存不下去，问题一大堆。于是，她转战**MySQL**，想着，“数据库不就是存数据吗，应该很简单吧？”结果一打开数据库，她就傻眼了：表格设计、数据关系、查询语法，全都像是一团乱麻。每次尝试查询时，数据库好像都在给她开玩笑，什么“连接失败”，“语法错误”，甚至“空结果”……那一刻，她差点要放弃了。\\n\\n但在一次和老师的交流后，她决定坚持下去。李华开始疯狂刷教程，看了无数个视频，跟着手一键键盘打了一堆SQL，终于在几个月后，成功做出了一个能够保存用户信息并实现注册登录的网页应用。她心里一阵狂喜——“终于搞定了！这回我算是把数据库搞明白了！”\\n\\n### 进入职场\\n\\n大学毕业后，李华顺利进了一个软件公司当初级程序员。刚开始的那段时间，简直是“打脸”式的成长。公司里那个庞大的代码库简直让她看得眼花缭乱，很多时候，她只知道自己在干什么，但不知道怎么把这些代码整合到一块。\\n\\n有一次，公司的一个老项目需要重构。项目的代码老得就像从石器时代遗留下来的化石，逻辑乱七八糟，没有注释，甚至有些地方的代码根本看不懂。李华被分配去负责重构其中一个核心模块。面对着这堆奇葩代码，她差点没放弃。可是，她没有退缩，决定深入了解软件架构、设计模式、重构技巧。\\n\\n这段经历让她收获满满——她学会了如何将混乱的代码拆解成小模块，怎么给代码加注释、提高可读性，甚至开始理解如何在团队里高效协作。她变得越来越能应对复杂的系统，也获得了同事们的认可。\\n\\n### 深入思考\\n\\n随着经验积累，李华的编程能力越来越强，但她开始思考更深层次的东西。她意识到，编程不单单是写一堆代码让电脑跑，而是通过代码创造出有价值的东西，解决实际的问题。\\n\\n有一次，李华在做一个项目时，遇到了一道难题。问题是，如何优化数据处理的效率，特别是在面对大数据量时。她研究了很多算法和数据结构，但就是找不到完美的解决方案。就在她觉得要放弃的时候，突然想起了自己刚开始编程时的那种纯粹的好奇心——那时她会不怕失败、不断尝试新方法。\\n\\n于是，她决定重新审视这个问题。这一思考，居然给了她灵感，找到了一个既简单又高效的解决方案。她的思维变得更加开阔，不仅技术上有了提升，思考问题的方式也发生了转变。\\n\\n### 成为导师\\n\\n经过多年的拼搏，李华从一名初级程序员成长为资深开发者，技术上已经很有底气了。她不再只是依赖框架和工具，而是能深入理解技术背后的原理，做出更加创新的解决方案。\\n\\n而当她升职为技术团队负责人后，李华才意识到，编程不仅仅是个人的事情，更是团队的事情。于是，她开始帮助新人，分享自己的经验，教大家怎么避开坑，怎么高效地解决问题。她还组织了技术分享会，鼓励大家多交流、深入思考，营造团队的创新氛围。\\n\\n### 结语\\n\\n李华的编程之路还在继续，未来还有无限的可能。回望过去，她明白了，编程不仅仅是为了写出能运行的代码，更重要的是通过编程，不断突破自我、创造出真正有意义的东西。\\n\\n她知道，自己的编程故事才刚刚开始，未来一定会更加精彩——毕竟，谁知道下一个BUG是怎样的挑战呢？\\n\\n---\\n\\n这个版本更口语化且带有一些幽默感，加入了一些轻松的描述和情节，让整个故事更生动、更有趣。'"
      ]
     },
     "execution_count": 18,
     "metadata": {},
     "output_type": "execute_result"
    }
   ],
   "source": [
    "custom_chain3.invoke(\"编程\")"
   ]
  }
 ],
 "metadata": {
  "kernelspec": {
   "display_name": "kk_langchain_wsl",
   "language": "python",
   "name": "python3"
  },
  "language_info": {
   "codemirror_mode": {
    "name": "ipython",
    "version": 3
   },
   "file_extension": ".py",
   "mimetype": "text/x-python",
   "name": "python",
   "nbconvert_exporter": "python",
   "pygments_lexer": "ipython3",
   "version": "3.10.16"
  }
 },
 "nbformat": 4,
 "nbformat_minor": 2
}
