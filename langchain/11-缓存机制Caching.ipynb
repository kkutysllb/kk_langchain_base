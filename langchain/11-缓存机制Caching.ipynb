{
 "cells": [
  {
   "cell_type": "markdown",
   "metadata": {},
   "source": [
    "# 缓存机制Caching\n",
    "\n",
    "LangChain为LLMs提供了可选的缓存层。这很有用，原因有两个：\n",
    "\n",
    "- 如果您经常多次请求相同的完成，它可以通过减少您对 LLM 提供程序进行的 API 调用次数来节省资金。\n",
    "- 它可以通过减少您对 LLM 提供程序进行的 API 调用次数来加速您的应用程序。"
   ]
  },
  {
   "cell_type": "code",
   "execution_count": 1,
   "metadata": {},
   "outputs": [
    {
     "name": "stdout",
     "output_type": "stream",
     "text": [
      "截至我的知识更新日期（2023年6月），\"LangChain\"并不是一个广为人知的术语或概念。它可能是一个特定领域的技术、产品、项目或其他形式的创新，但这个名称在主流的科技文献、新闻报道或公共讨论中并不常见。\n",
      "\n",
      "如果\"LangChain\"是指某个具体的软件库、框架或者工具，那么它可能是与编程语言（如Python）中的链式调用或者其他某种形式的语言处理技术有关。然而，由于缺乏具体的信息和上下文，我无法提供一个确切的定义或者解释。\n",
      "\n",
      "如果你能提供更多的背景信息或者上下文，我会尽力根据你所提供的资料给出一个更准确的答案。\n"
     ]
    }
   ],
   "source": [
    "from langchain_openai import ChatOpenAI\n",
    "from langchain_core.output_parsers import StrOutputParser\n",
    "from langchain_core.prompts import PromptTemplate\n",
    "\n",
    "api_key = \"xxx\"\n",
    "base_url = \"http://localhost:1234/v1\"\n",
    "\n",
    "llm = ChatOpenAI(api_key=api_key, base_url=base_url, temperature=0.3, max_tokens=8192)\n",
    "\n",
    "template = \"\"\"\\\n",
    "    你是一位无所不知的专家，请根据问题给出答案：\n",
    "    问题：{question} \n",
    "    答案：\n",
    "\"\"\"\n",
    "\n",
    "prompt = PromptTemplate.from_template(template)\n",
    "\n",
    "chain = prompt | llm | StrOutputParser()\n",
    "\n",
    "print(chain.invoke({\"question\":\"什么是LangChain？\"}))\n"
   ]
  },
  {
   "cell_type": "code",
   "execution_count": 2,
   "metadata": {},
   "outputs": [
    {
     "name": "stdout",
     "output_type": "stream",
     "text": [
      "截至我的知识更新日期（2023年6月），\"LangChain\"并不是一个广为人知的术语或概念。它可能是一个特定领域的术语、新兴技术、软件项目、研究课题或其他类型的创新，但在我所掌握的信息中没有关于这个名词的具体定义。\n",
      "\n",
      "如果\"LangChain\"是指某个具体的科技产品、开源项目或者学术论文中的概念，我建议您查看最新的在线资源、官方文档或相关的技术社区论坛以获取最准确和详细的信息。随着技术的发展和新项目的出现，可能会有新的术语和技术被引入到不同的领域中。\n",
      "CPU times: user 1.08 s, sys: 1.71 s, total: 2.79 s\n",
      "Wall time: 4.57 s\n"
     ]
    }
   ],
   "source": [
    "%%time\n",
    "from langchain.cache import InMemoryCache\n",
    "from langchain_core.globals import set_llm_cache\n",
    "\n",
    "set_llm_cache(InMemoryCache())\n",
    "\n",
    "print(chain.invoke({\"question\":\"什么是LangChain？\"}))"
   ]
  },
  {
   "cell_type": "code",
   "execution_count": 3,
   "metadata": {},
   "outputs": [
    {
     "name": "stdout",
     "output_type": "stream",
     "text": [
      "截至我的知识更新日期（2023年6月），\"LangChain\"并不是一个广为人知的术语或概念。它可能是一个特定领域的术语、新兴技术、软件项目、研究课题或其他类型的创新，但在我所掌握的信息中没有关于这个名词的具体定义。\n",
      "\n",
      "如果\"LangChain\"是指某个具体的科技产品、开源项目或者学术论文中的概念，我建议您查看最新的在线资源、官方文档或相关的技术社区论坛以获取最准确和详细的信息。随着技术的发展和新项目的出现，可能会有新的术语和技术被引入到不同的领域中。\n",
      "CPU times: user 343 μs, sys: 372 μs, total: 715 μs\n",
      "Wall time: 699 μs\n"
     ]
    }
   ],
   "source": [
    "%%time \n",
    "print(chain.invoke({\"question\":\"什么是LangChain？\"}))"
   ]
  },
  {
   "cell_type": "code",
   "execution_count": 4,
   "metadata": {},
   "outputs": [],
   "source": [
    "new_prompt = PromptTemplate.from_template(\"请根据下面的主题写一篇300字的小红书营销短文: {topic}\")\n",
    "\n",
    "new_chain = new_prompt | llm | StrOutputParser()"
   ]
  },
  {
   "cell_type": "code",
   "execution_count": 5,
   "metadata": {},
   "outputs": [
    {
     "name": "stdout",
     "output_type": "stream",
     "text": [
      "# 夏日清凉必备，一口冰红茶的畅快体验！🌞✨\n",
      "\n",
      "大家好呀！今天我要给大家安利一个夏日的宝藏饮品——康师傅冰红茶！在这个炎热的夏天，没有什么比一杯冰镇的康师傅冰红茶更能带来清爽的感觉了。🍹💦\n",
      "\n",
      "首先，它的包装设计就非常吸引人，简洁的红色瓶身配上金色的字体，让人一眼就能认出这是康师傅家的经典饮品。而且，它的大小也很适合随身携带，无论是去海边、户外运动还是逛街，都能随时享受那一份清凉。🏖️🚶‍♀️\n",
      "\n",
      "说到口感，康师傅冰红茶真的是一绝！它的味道清新而不甜腻，微微的苦涩中带着一丝丝甘甜，喝起来非常解渴。而且，它还含有丰富的维生素C，不仅能够帮助提神醒脑，还能增强免疫力哦。🍀💪\n",
      "\n",
      "除此之外，康师傅冰红茶还有一个隐藏的魅力——它的价格亲民！对于学生党和上班族来说，这样的性价比简直不要太友好。无论是自己喝还是和朋友分享，都是不错的选择。👭👫\n",
      "\n",
      "总之，如果你还在为夏日的热浪烦恼，不妨试试这款康师傅冰红茶。它不仅能够给你带来清凉的口感体验，还能让你的心情也跟着凉爽起来！快来加入我们，一起享受这个夏天吧！🌊🍃\n",
      "\n",
      "#夏日饮品 #康师傅冰红茶 #清爽一夏 #小红书种草机\n",
      "CPU times: user 0 ns, sys: 4.61 ms, total: 4.61 ms\n",
      "Wall time: 11 s\n"
     ]
    }
   ],
   "source": [
    "%%time\n",
    "print(new_chain.invoke({\"topic\":\"康师傅冰红茶\"}))"
   ]
  },
  {
   "cell_type": "code",
   "execution_count": 6,
   "metadata": {},
   "outputs": [
    {
     "name": "stdout",
     "output_type": "stream",
     "text": [
      "# 夏日清凉必备，一口冰红茶的畅快体验！🌞✨\n",
      "\n",
      "大家好呀！今天我要给大家安利一个夏日的宝藏饮品——康师傅冰红茶！在这个炎热的夏天，没有什么比一杯冰镇的康师傅冰红茶更能带来清爽的感觉了。🍹💦\n",
      "\n",
      "首先，它的包装设计就非常吸引人，简洁的红色瓶身配上金色的字体，让人一眼就能认出这是康师傅家的经典饮品。而且，它的大小也很适合随身携带，无论是去海边、户外运动还是逛街，都能随时享受那一份清凉。🏖️🚶‍♀️\n",
      "\n",
      "说到口感，康师傅冰红茶真的是一绝！它的味道清新而不甜腻，微微的苦涩中带着一丝丝甘甜，喝起来非常解渴。而且，它还含有丰富的维生素C，不仅能够帮助提神醒脑，还能增强免疫力哦。🍀💪\n",
      "\n",
      "除此之外，康师傅冰红茶还有一个隐藏的魅力——它的价格亲民！对于学生党和上班族来说，这样的性价比简直不要太友好。无论是自己喝还是和朋友分享，都是不错的选择。👭👫\n",
      "\n",
      "总之，如果你还在为夏日的热浪烦恼，不妨试试这款康师傅冰红茶。它不仅能够给你带来清凉的口感体验，还能让你的心情也跟着凉爽起来！快来加入我们，一起享受这个夏天吧！🌊🍃\n",
      "\n",
      "#夏日饮品 #康师傅冰红茶 #清爽一夏 #小红书种草机\n",
      "CPU times: user 661 μs, sys: 0 ns, total: 661 μs\n",
      "Wall time: 593 μs\n"
     ]
    }
   ],
   "source": [
    "%%time\n",
    "print(new_chain.invoke({\"topic\":\"康师傅冰红茶\"}))"
   ]
  },
  {
   "cell_type": "markdown",
   "metadata": {},
   "source": [
    "## SQLite 缓存"
   ]
  },
  {
   "cell_type": "code",
   "execution_count": 7,
   "metadata": {},
   "outputs": [],
   "source": [
    "from langchain.cache import SQLiteCache\n",
    "from langchain_core.globals import set_llm_cache\n",
    "\n",
    "set_llm_cache(SQLiteCache(database_path=\"../database/langchain.db\"))"
   ]
  },
  {
   "cell_type": "code",
   "execution_count": 8,
   "metadata": {},
   "outputs": [
    {
     "name": "stdout",
     "output_type": "stream",
     "text": [
      "标题：🌟超萌零食来袭！旺仔小馒头，一口一个的甜蜜回忆🍬\n",
      "\n",
      "正文：\n",
      "嘿，小伙伴们～今天要给大家安利一款超级可爱的童年记忆零食——旺仔小馒头！👶✨\n",
      "\n",
      "每一口都是满满的幸福感，软软糯糯的小馒头，就像是小时候妈妈做的点心一样温暖人心。😋而且它真的好迷你哦，一颗颗就像小宝宝的拳头那么大，一口一个刚刚好，完全停不下来的感觉！😍\n",
      "\n",
      "最特别的是它的包装，超级有爱的设计让人一眼就爱上。无论是自己吃还是送给朋友，都是超棒的选择！🎁\n",
      "\n",
      "快来尝一尝这份来自童年的甜蜜吧，保证让你回味无穷！🌈\n",
      "\n",
      "#旺仔小馒头 #童年回忆 #零食控必备\n",
      "CPU times: user 45 ms, sys: 0 ns, total: 45 ms\n",
      "Wall time: 41.1 ms\n"
     ]
    }
   ],
   "source": [
    "%%time \n",
    "\n",
    "print(new_chain.invoke({\"topic\":\"旺仔小馒头\"}))"
   ]
  },
  {
   "cell_type": "code",
   "execution_count": 9,
   "metadata": {},
   "outputs": [
    {
     "name": "stdout",
     "output_type": "stream",
     "text": [
      "标题：🌟超萌零食来袭！旺仔小馒头，一口一个的甜蜜回忆🍬\n",
      "\n",
      "正文：\n",
      "嘿，小伙伴们～今天要给大家安利一款超级可爱的童年记忆零食——旺仔小馒头！👶✨\n",
      "\n",
      "每一口都是满满的幸福感，软软糯糯的小馒头，就像是小时候妈妈做的点心一样温暖人心。😋而且它真的好迷你哦，一颗颗就像小宝宝的拳头那么大，一口一个刚刚好，完全停不下来的感觉！😍\n",
      "\n",
      "最特别的是它的包装，超级有爱的设计让人一眼就爱上。无论是自己吃还是送给朋友，都是超棒的选择！🎁\n",
      "\n",
      "快来尝一尝这份来自童年的甜蜜吧，保证让你回味无穷！🌈\n",
      "\n",
      "#旺仔小馒头 #童年回忆 #零食控必备\n",
      "CPU times: user 1.83 ms, sys: 0 ns, total: 1.83 ms\n",
      "Wall time: 1.56 ms\n"
     ]
    }
   ],
   "source": [
    "%%time \n",
    "\n",
    "print(new_chain.invoke({\"topic\":\"旺仔小馒头\"}))"
   ]
  }
 ],
 "metadata": {
  "kernelspec": {
   "display_name": "kk_langchain",
   "language": "python",
   "name": "python3"
  },
  "language_info": {
   "codemirror_mode": {
    "name": "ipython",
    "version": 3
   },
   "file_extension": ".py",
   "mimetype": "text/x-python",
   "name": "python",
   "nbconvert_exporter": "python",
   "pygments_lexer": "ipython3",
   "version": "3.10.16"
  }
 },
 "nbformat": 4,
 "nbformat_minor": 2
}
