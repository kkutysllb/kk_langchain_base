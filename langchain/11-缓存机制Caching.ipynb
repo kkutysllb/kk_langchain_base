{
 "cells": [
  {
   "cell_type": "markdown",
   "metadata": {},
   "source": [
    "# 缓存机制Caching\n",
    "\n",
    "LangChain为LLMs提供了可选的缓存层。这很有用，原因有两个：\n",
    "\n",
    "- 如果您经常多次请求相同的完成，它可以通过减少您对 LLM 提供程序进行的 API 调用次数来节省资金。\n",
    "- 它可以通过减少您对 LLM 提供程序进行的 API 调用次数来加速您的应用程序。"
   ]
  },
  {
   "cell_type": "code",
   "execution_count": 3,
   "metadata": {},
   "outputs": [
    {
     "name": "stdout",
     "output_type": "stream",
     "text": [
      "LangChain 并不是一个广泛认可或标准化的技术术语，因此它可能指的是某个特定领域的概念、技术框架或者是某种尚未广为人知的专业名词。在没有具体上下文的情况下，很难直接定义“LangChain”。\n",
      "\n",
      "如果假设这是一个关于语言处理或者编程领域内的自创词汇，“Lang”可能代表“Language”，而“Chain”则可以有多种解释，比如链式操作、链条结构等。因此，一种可能的解读是：LangChain 可能是指某种涉及语言处理技术（如自然语言处理NLP）的应用或框架，该应用或框架采用了某种形式的链式结构来组织其功能模块或者数据流。\n",
      "\n",
      "但是请注意，这仅仅是一种推测性的解释，在没有具体背景信息的情况下，这个答案仅供参考。如果你有更具体的上下文或者是关于LangChain的具体描述，请提供更多信息以便给出准确的答案。\n"
     ]
    }
   ],
   "source": [
    "from langchain_openai import ChatOpenAI\n",
    "from langchain_core.output_parsers import StrOutputParser\n",
    "from langchain_core.prompts import PromptTemplate\n",
    "\n",
    "api_key = \"xxx\"\n",
    "base_url = \"http://localhost:1234/v1\"\n",
    "\n",
    "llm = ChatOpenAI(api_key=api_key, base_url=base_url, temperature=0.3, max_tokens=8192)\n",
    "\n",
    "template = \"\"\"\\\n",
    "    你是一位无所不知的专家，请根据问题给出答案：\n",
    "    问题：{question} \n",
    "    答案：\n",
    "\"\"\"\n",
    "\n",
    "prompt = PromptTemplate.from_template(template)\n",
    "\n",
    "chain = prompt | llm | StrOutputParser()\n",
    "\n",
    "print(chain.invoke({\"question\":\"什么是LangChain？\"}))\n"
   ]
  },
  {
   "cell_type": "code",
   "execution_count": 7,
   "metadata": {},
   "outputs": [
    {
     "name": "stdout",
     "output_type": "stream",
     "text": [
      "LangChain 并不是一个广为人知的技术术语或标准定义的概念，因此可能需要更多的上下文来准确回答。不过，在一些特定领域或者新兴技术讨论中，“LangChain”可能是指某种语言处理链（Language Processing Chain）或者是某个具体项目、框架的名字。例如，在自然语言处理（NLP）领域，它可能会被用来描述一系列用于处理和分析文本数据的技术或工具的集合。\n",
      "\n",
      "如果“LangChain”是指一个特定项目或者技术栈，请提供更多的背景信息以便给出更准确的回答。如果没有具体的上下文，“LangChain”的含义可能需要根据具体讨论的内容来确定。\n",
      "CPU times: user 40.2 ms, sys: 6.86 ms, total: 47 ms\n",
      "Wall time: 6.23 s\n"
     ]
    }
   ],
   "source": [
    "%%time\n",
    "from langchain.cache import InMemoryCache\n",
    "from langchain_core.globals import set_llm_cache\n",
    "\n",
    "set_llm_cache(InMemoryCache())\n",
    "\n",
    "print(chain.invoke({\"question\":\"什么是LangChain？\"}))"
   ]
  },
  {
   "cell_type": "code",
   "execution_count": 8,
   "metadata": {},
   "outputs": [
    {
     "name": "stdout",
     "output_type": "stream",
     "text": [
      "LangChain 并不是一个广为人知的技术术语或标准定义的概念，因此可能需要更多的上下文来准确回答。不过，在一些特定领域或者新兴技术讨论中，“LangChain”可能是指某种语言处理链（Language Processing Chain）或者是某个具体项目、框架的名字。例如，在自然语言处理（NLP）领域，它可能会被用来描述一系列用于处理和分析文本数据的技术或工具的集合。\n",
      "\n",
      "如果“LangChain”是指一个特定项目或者技术栈，请提供更多的背景信息以便给出更准确的回答。如果没有具体的上下文，“LangChain”的含义可能需要根据具体讨论的内容来确定。\n",
      "CPU times: user 1.15 ms, sys: 348 μs, total: 1.5 ms\n",
      "Wall time: 1.35 ms\n"
     ]
    }
   ],
   "source": [
    "%%time \n",
    "print(chain.invoke({\"question\":\"什么是LangChain？\"}))"
   ]
  },
  {
   "cell_type": "code",
   "execution_count": 9,
   "metadata": {},
   "outputs": [],
   "source": [
    "new_prompt = PromptTemplate.from_template(\"请根据下面的主题写一篇300字的小红书营销短文: {topic}\")\n",
    "\n",
    "new_chain = new_prompt | llm | StrOutputParser()"
   ]
  },
  {
   "cell_type": "code",
   "execution_count": 10,
   "metadata": {},
   "outputs": [
    {
     "name": "stdout",
     "output_type": "stream",
     "text": [
      "标题：夏日炎炎，来一杯康师傅冰红茶解渴又提神🍹✨\n",
      "\n",
      "正文：\n",
      "夏天到了，是不是觉得热得让人只想躲进空调房里？但是你知道吗？有一款饮料能让你在享受清凉的同时还能感受到满满的活力哦！那就是——康师傅冰红茶！🍵❄️\n",
      "\n",
      "每一口都是经典的茶香与冰爽的完美结合，它不仅能够迅速降温解渴，还能给你带来一天的好心情。无论是独自享用还是和朋友分享，都能成为夏日里的一抹亮色。👭🎉\n",
      "\n",
      "而且，它的包装设计也是相当有心机呢！简洁大方又不失时尚感，无论放在哪里都是那么地吸引眼球。不管是户外野餐还是办公室小憩，康师傅冰红茶都是你的不二之选！🏞️💼\n",
      "\n",
      "快来试试看吧，让康师傅冰红茶陪你度过每一个炎炎夏日，享受清凉与活力的双重体验！🌈🌟\n",
      "\n",
      "标签：\n",
      "#康师傅冰红茶 #夏日解渴神器 #提神又爽口\n",
      "CPU times: user 6.25 ms, sys: 1.85 ms, total: 8.11 ms\n",
      "Wall time: 10.2 s\n"
     ]
    }
   ],
   "source": [
    "%%time\n",
    "print(new_chain.invoke({\"topic\":\"康师傅冰红茶\"}))"
   ]
  },
  {
   "cell_type": "code",
   "execution_count": 12,
   "metadata": {},
   "outputs": [
    {
     "name": "stdout",
     "output_type": "stream",
     "text": [
      "标题：夏日炎炎，来一杯康师傅冰红茶解渴又提神🍹✨\n",
      "\n",
      "正文：\n",
      "夏天到了，是不是觉得热得让人只想躲进空调房里？但是你知道吗？有一款饮料能让你在享受清凉的同时还能感受到满满的活力哦！那就是——康师傅冰红茶！🍵❄️\n",
      "\n",
      "每一口都是经典的茶香与冰爽的完美结合，它不仅能够迅速降温解渴，还能给你带来一天的好心情。无论是独自享用还是和朋友分享，都能成为夏日里的一抹亮色。👭🎉\n",
      "\n",
      "而且，它的包装设计也是相当有心机呢！简洁大方又不失时尚感，无论放在哪里都是那么地吸引眼球。不管是户外野餐还是办公室小憩，康师傅冰红茶都是你的不二之选！🏞️💼\n",
      "\n",
      "快来试试看吧，让康师傅冰红茶陪你度过每一个炎炎夏日，享受清凉与活力的双重体验！🌈🌟\n",
      "\n",
      "标签：\n",
      "#康师傅冰红茶 #夏日解渴神器 #提神又爽口\n",
      "CPU times: user 1.23 ms, sys: 468 μs, total: 1.7 ms\n",
      "Wall time: 1.36 ms\n"
     ]
    }
   ],
   "source": [
    "%%time\n",
    "print(new_chain.invoke({\"topic\":\"康师傅冰红茶\"}))"
   ]
  },
  {
   "cell_type": "markdown",
   "metadata": {},
   "source": [
    "## SQLite 缓存"
   ]
  },
  {
   "cell_type": "code",
   "execution_count": 13,
   "metadata": {},
   "outputs": [],
   "source": [
    "from langchain.cache import SQLiteCache\n",
    "from langchain_core.globals import set_llm_cache\n",
    "\n",
    "set_llm_cache(SQLiteCache(database_path=\"../database/langchain.db\"))"
   ]
  },
  {
   "cell_type": "code",
   "execution_count": 14,
   "metadata": {},
   "outputs": [
    {
     "name": "stdout",
     "output_type": "stream",
     "text": [
      "标题：🌟超萌零食来袭！旺仔小馒头，一口一个的甜蜜回忆🍬\n",
      "\n",
      "正文：\n",
      "嘿，小伙伴们～今天要给大家安利一款超级可爱的童年记忆零食——旺仔小馒头！👶✨\n",
      "\n",
      "每一口都是满满的幸福感，软软糯糯的小馒头，就像是小时候妈妈做的点心一样温暖人心。😋而且它真的好迷你哦，一颗颗就像小宝宝的拳头那么大，一口一个刚刚好，完全停不下来的感觉！😍\n",
      "\n",
      "最特别的是它的包装，超级有爱的设计让人一眼就爱上。无论是自己吃还是送给朋友，都是超棒的选择！🎁\n",
      "\n",
      "快来尝一尝这份来自童年的甜蜜吧，保证让你回味无穷！🌈\n",
      "\n",
      "#旺仔小馒头 #童年回忆 #零食控必备\n",
      "CPU times: user 10.8 ms, sys: 1.95 ms, total: 12.7 ms\n",
      "Wall time: 7.74 s\n"
     ]
    }
   ],
   "source": [
    "%%time \n",
    "\n",
    "print(new_chain.invoke({\"topic\":\"旺仔小馒头\"}))"
   ]
  },
  {
   "cell_type": "code",
   "execution_count": 15,
   "metadata": {},
   "outputs": [
    {
     "name": "stdout",
     "output_type": "stream",
     "text": [
      "标题：🌟超萌零食来袭！旺仔小馒头，一口一个的甜蜜回忆🍬\n",
      "\n",
      "正文：\n",
      "嘿，小伙伴们～今天要给大家安利一款超级可爱的童年记忆零食——旺仔小馒头！👶✨\n",
      "\n",
      "每一口都是满满的幸福感，软软糯糯的小馒头，就像是小时候妈妈做的点心一样温暖人心。😋而且它真的好迷你哦，一颗颗就像小宝宝的拳头那么大，一口一个刚刚好，完全停不下来的感觉！😍\n",
      "\n",
      "最特别的是它的包装，超级有爱的设计让人一眼就爱上。无论是自己吃还是送给朋友，都是超棒的选择！🎁\n",
      "\n",
      "快来尝一尝这份来自童年的甜蜜吧，保证让你回味无穷！🌈\n",
      "\n",
      "#旺仔小馒头 #童年回忆 #零食控必备\n",
      "CPU times: user 5.61 ms, sys: 2.35 ms, total: 7.96 ms\n",
      "Wall time: 6.75 ms\n"
     ]
    }
   ],
   "source": [
    "%%time \n",
    "\n",
    "print(new_chain.invoke({\"topic\":\"旺仔小馒头\"}))"
   ]
  }
 ],
 "metadata": {
  "kernelspec": {
   "display_name": "kk_langchain",
   "language": "python",
   "name": "python3"
  },
  "language_info": {
   "codemirror_mode": {
    "name": "ipython",
    "version": 3
   },
   "file_extension": ".py",
   "mimetype": "text/x-python",
   "name": "python",
   "nbconvert_exporter": "python",
   "pygments_lexer": "ipython3",
   "version": "3.10.16"
  }
 },
 "nbformat": 4,
 "nbformat_minor": 2
}
