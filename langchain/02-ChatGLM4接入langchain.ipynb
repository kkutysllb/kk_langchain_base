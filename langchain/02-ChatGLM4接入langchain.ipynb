{
 "cells": [
  {
   "cell_type": "markdown",
   "metadata": {},
   "source": [
    "# 02-ChatGLM4接入langchain\n",
    "\n",
    "## GLM-4\n",
    "\n",
    "\n",
    "新一代基座大模型GLM-4，整体性能相比GLM3全面提升60%，逼近GPT-4；支持更长上下文；更强的多模态；支持更快推理速度，更多并发，大大降低推理成本；同时GLM-4增强了智能体能力。\n",
    "\n",
    "\n",
    "基础能力（英文）：GLM-4 在 MMLU、GSM8K、MATH、BBH、HellaSwag、HumanEval等数据集上，分别达到GPT-4 94%、95%、91%、99%、90%、100%的水平。\n",
    "\n",
    "![image.png](https://zhipuaiadmin.aminer.cn/upload/c63e9d2c38338718e79735db348b4a0f.png)\n",
    "\n",
    "\n",
    "指令跟随能力：GLM-4在IFEval的prompt级别上中、英分别达到GPT-4的88%、85%的水平，在Instruction级别上中、英分别达到GPT-4的90%、89%的水平。\n",
    "\n",
    "![image.png](https://zhipuaiadmin.aminer.cn/upload/5125c6da6441a9ce4341ca6c9ccc9b5e.png)\n",
    "\n",
    "\n",
    "对齐能力：GLM-4在中文对齐能力上整体超过GPT-4。\n",
    "\n",
    "![image.png](https://zhipuaiadmin.aminer.cn/upload/e786863b39e483b2282bb94bac61d074.png)\n",
    "\n",
    "\n",
    "长文本能力：我们在LongBench（128K）测试集上对多个模型进行评测，GLM-4性能超过 Claude 2.1；在「大海捞针」（128K）实验中，GLM-4的测试结果为 128K以内全绿，做到100%精准召回。\n",
    "\n",
    "![image.png](https://zhipuaiadmin.aminer.cn/upload/77b81ce140053863d06c5c82b5f0fe18.png)\n",
    "\n",
    "\n",
    "多模态-文生图：CogView3在文生图多个评测指标上，相比DALLE3 约在 91.4% ~99.3%的水平之间。\n",
    "\n",
    "\n",
    "![image.png](https://zhipuaiadmin.aminer.cn/upload/405c46cab17aa3c1da98daa487264723.png)\n",
    "\n",
    "\n",
    "GLM-4 实现自主根据用户意图，自动理解、规划复杂指令，自由调用网页浏览器、Code Interpreter代码解释器和多模态文生图大模型，以完成复杂任务。\n",
    "简单来讲，即只需一个指令，GLM-4会自动分析指令，结合上下文选择决定调用合适的工具。\n",
    "\n",
    "\n",
    "GLM-4能够通过自动调用python解释器，进行复杂计算（例如复杂方程、微积分等），在GSM8K、MATH、Math23K等多个评测集上都取得了接近或同等GPT-4 All Tools的水平。\n",
    "\n",
    "\n",
    "GLM-4 能够自行规划检索任务、自行选择信息源、自行与信息源交互，在准确率上能够达到 78.08，是GPT-4 All Tools 的116%。\n",
    "\n",
    "\n",
    "GLM-4 能够根据用户提供的Function描述，自动选择所需 Function并生成参数，以及根据 Function 的返回值生成回复；同时也支持一次输入进行多次 Function 调用，支持包含中文及特殊符号的 Function 名字。这一方面GLM-4 All Tools 与 GPT-4 Turbo 相当。\n",
    "\n",
    "网站链接： https://www.zhipuai.cn/\n",
    "\n",
    "! pip install --upgrade zhipuai"
   ]
  },
  {
   "cell_type": "markdown",
   "metadata": {},
   "source": [
    "## 基础调用"
   ]
  },
  {
   "cell_type": "code",
   "execution_count": 1,
   "metadata": {},
   "outputs": [
    {
     "data": {
      "text/plain": [
       "Completion(model='glm-4-plus', created=1734574333, choices=[CompletionChoice(index=0, finish_reason='stop', message=CompletionMessage(content='以色列的情况比较复杂，不能简单地归结为“喜欢战争”。以下是一些可能影响以色列军事行动的因素：\\n\\n1. **历史背景**：以色列成立于1948年，建国初期就经历了多次战争，如1948年的独立战争、1967年的六日战争和1973年的赎罪日战争等。这些战争在很大程度上塑造了以色列的国家意识和安全政策。\\n\\n2. **地缘政治**：以色列位于中东地区，周围有许多与其关系紧张的阿拉伯国家。这种地理位置使得以色列在安全问题上始终保持高度警惕。\\n\\n3. **安全威胁**：以色列面临来自多个方向的威胁，包括恐怖主义、火箭攻击和敌对国家的军事威胁。为了保护国家安全，以色列不得不采取强硬的军事措施。\\n\\n4. **国内政治**：以色列的政治体系中，安全问题一直是核心议题。政治领导人往往需要在国家安全问题上表现出强硬立场，以获得选民的支持。\\n\\n5. **宗教和意识形态**：犹太教在以色列社会中占有重要地位，某些宗教和意识形态因素也可能影响其对外政策。\\n\\n6. **国际支持**：以色列在很大程度上依赖美国的军事和政治支持，这也使其在地区冲突中更具底气。\\n\\n需要注意的是，以上因素并不代表以色列“喜欢”战争，而是说明其面临复杂的安全环境和多重压力，导致其频繁采取军事行动。每个国家和地区的冲突都有其独特的历史和现实背景，需要全面、客观地分析。\\n\\n如果你有更具体的问题或需要更详细的解释，欢迎继续提问！', role='assistant', tool_calls=None))], request_id='20241219101205081f1b9c4fe8492d', id='20241219101205081f1b9c4fe8492d', usage=CompletionUsage(prompt_tokens=29, completion_tokens=298, total_tokens=327))"
      ]
     },
     "execution_count": 1,
     "metadata": {},
     "output_type": "execute_result"
    }
   ],
   "source": [
    "from zhipuai import ZhipuAI\n",
    "from dotenv import load_dotenv\n",
    "import os\n",
    "\n",
    "load_dotenv()\n",
    "\n",
    "api_key = os.getenv(\"ZHIPUAI_API_KEY\")\n",
    "client = ZhipuAI(api_key=api_key)\n",
    "\n",
    "\n",
    "prompt = \"以色列为什么喜欢战争？\"\n",
    "response = client.chat.completions.create(\n",
    "    model=\"glm-4-plus\",\n",
    "    messages=[\n",
    "        {\"role\": \"user\", \"content\": \"你好\"},\n",
    "        {\"role\":\"assistant\",\"content\":\"你好，我是GLM-4，有什么可以帮你的吗？\"},\n",
    "        {\"role\":\"user\",\"content\":prompt}\n",
    "    ]\n",
    ")\n",
    "\n",
    "response"
   ]
  },
  {
   "cell_type": "code",
   "execution_count": 2,
   "metadata": {},
   "outputs": [
    {
     "data": {
      "text/plain": [
       "'以色列的情况比较复杂，不能简单地归结为“喜欢战争”。以下是一些可能影响以色列军事行动的因素：\\n\\n1. **历史背景**：以色列成立于1948年，建国初期就经历了多次战争，如1948年的独立战争、1967年的六日战争和1973年的赎罪日战争等。这些战争在很大程度上塑造了以色列的国家意识和安全政策。\\n\\n2. **地缘政治**：以色列位于中东地区，周围有许多与其关系紧张的阿拉伯国家。这种地理位置使得以色列在安全问题上始终保持高度警惕。\\n\\n3. **安全威胁**：以色列面临来自多个方向的威胁，包括恐怖主义、火箭攻击和敌对国家的军事威胁。为了保护国家安全，以色列不得不采取强硬的军事措施。\\n\\n4. **国内政治**：以色列的政治体系中，安全问题一直是核心议题。政治领导人往往需要在国家安全问题上表现出强硬立场，以获得选民的支持。\\n\\n5. **宗教和意识形态**：犹太教在以色列社会中占有重要地位，某些宗教和意识形态因素也可能影响其对外政策。\\n\\n6. **国际支持**：以色列在很大程度上依赖美国的军事和政治支持，这也使其在地区冲突中更具底气。\\n\\n需要注意的是，以上因素并不代表以色列“喜欢”战争，而是说明其面临复杂的安全环境和多重压力，导致其频繁采取军事行动。每个国家和地区的冲突都有其独特的历史和现实背景，需要全面、客观地分析。\\n\\n如果你有更具体的问题或需要更详细的解释，欢迎继续提问！'"
      ]
     },
     "execution_count": 2,
     "metadata": {},
     "output_type": "execute_result"
    }
   ],
   "source": [
    "response.choices[0].message.content"
   ]
  },
  {
   "cell_type": "markdown",
   "metadata": {},
   "source": [
    "## 流式调用\n"
   ]
  },
  {
   "cell_type": "code",
   "execution_count": 3,
   "metadata": {},
   "outputs": [
    {
     "name": "stdout",
     "output_type": "stream",
     "text": [
      "GLM-4是一种基于深度学习的大型语言模型，其原理主要基于Transformer架构。Transformer是一种自注意力机制（self-attention）的深度神经网络模型，广泛应用于自然语言处理领域。以下是GLM-4的一些核心原理和特点：\n",
      "\n",
      "### 核心原理\n",
      "\n",
      "1. **自注意力机制**：\n",
      "   - 自注意力机制允许模型在处理输入序列时，能够关注到序列中的不同部分，从而捕捉长距离依赖关系。\n",
      "   - 通过计算序列中每个词与其他所有词的关联程度，生成一个注意力权重分布，用于加权输入信息。\n",
      "\n",
      "2. **多头注意力**：\n",
      "   - GLM-4使用多头注意力机制，将输入序列分割成多个头，每个头关注不同的信息，最后将多个头的输出拼接起来，以获得更丰富的表示。\n",
      "\n",
      "3. **前馈神经网络**：\n",
      "   - 在自注意力层之后，GLM-4使用前馈神经网络对注意力层的输出进行进一步的非线性变换。\n",
      "\n",
      "4. **位置编码**：\n",
      "   - 为了保留序列中词的位置信息，GLM-4引入位置编码，将位置信息与词的嵌入向量相加。\n",
      "\n",
      "5. **预训练与微调**：\n",
      "   - GLM-4首先在大规模文本数据上进行预训练，学习通用的语言表示。\n",
      "   - 预训练完成后，可以在特定任务上进行微调，以适应具体的应用场景。\n",
      "\n",
      "### 参数量\n",
      "\n",
      "GLM-4的具体参数量可能因版本和具体实现而有所不同。一般来说，大型语言模型的参数量可以从几十亿到几千亿不等。例如，一些常见的参数规模包括：\n",
      "\n",
      "- **10B（100亿参数）**\n",
      "- **30B（300亿参数）**\n",
      "- **130B（1300亿参数）**\n",
      "\n",
      "具体的参数量需要参考官方发布的详细信息或相关文献。\n",
      "\n",
      "### 训练数据\n",
      "\n",
      "GLM-4的训练数据通常包括大量的文本语料库，可能涵盖书籍、文章、网页等多种类型的文本数据。这些数据经过清洗和预处理后，用于模型的预训练。\n",
      "\n",
      "如果你需要更详细的技术细节或具体的参数量信息，建议查阅GLM-4的官方文档或相关研究论文。"
     ]
    }
   ],
   "source": [
    "prompt = \"glm-4原理是什么？使用了多少的参数进行训练？\"\n",
    "\n",
    "response = client.chat.completions.create(\n",
    "    model=\"glm-4-plus\",\n",
    "    messages=[\n",
    "        {\"role\": \"user\", \"content\": \"你好\"},\n",
    "        {\"role\":\"assistant\",\"content\":\"你好，我是GLM-4，有什么可以帮你的吗？\"},\n",
    "        {\"role\":\"user\",\"content\":prompt}\n",
    "    ],\n",
    "    stream=True\n",
    ")\n",
    "\n",
    "for chunk in response:\n",
    "    print(chunk.choices[0].delta.content,end=\"\",flush=True)\n"
   ]
  },
  {
   "cell_type": "markdown",
   "metadata": {},
   "source": [
    "## 通过OpenAI的API调用"
   ]
  },
  {
   "cell_type": "code",
   "execution_count": 6,
   "metadata": {},
   "outputs": [
    {
     "data": {
      "text/plain": [
       "AIMessage(content='美国对中国大蒜的安全担忧主要源于以下几个方面的考虑：\\n\\n1. **贸易保护主义**：美国有时会采取贸易保护措施来保护本国农业产业。通过提高进口门槛，例如设置严格的安全标准和质量要求，可以有效限制中国大蒜的进口，从而保护美国本土大蒜种植者的利益。\\n\\n2. **食品安全标准**：美国对进口食品有非常严格的安全标准。过去曾发生过一些食品安全事件，导致美国对中国农产品（包括大蒜）的信任度下降。美国可能会担心中国大蒜在生产、加工、储存和运输过程中不符合其食品安全标准。\\n\\n3. **农药残留问题**：美国可能会担心中国大蒜中存在农药残留超标的问题。由于农业生产方式和监管体系的差异，美国可能会认为中国大蒜的农药使用不符合其标准。\\n\\n4. **政治和经济因素**：中美之间的贸易关系复杂多变，政治和经济因素也会影响美国对中国大蒜的态度。在某些情况下，安全威胁的指控可能被用作贸易谈判的筹码。\\n\\n5. **生物安全风险**：美国还可能担心中国大蒜携带病原体或害虫，这些生物安全风险可能会对美国本土农业生态系统造成威胁。\\n\\n需要注意的是，这些担忧并不一定代表中国大蒜确实存在安全问题，很多时候可能是基于预防原则和贸易保护的需要。实际上，中国大蒜在全球市场上享有较高的声誉，出口到多个国家和地区。\\n\\n具体案例和详细背景可能需要查阅相关的贸易文件和新闻报道来进一步了解。', additional_kwargs={'refusal': None}, response_metadata={'token_usage': {'completion_tokens': 285, 'prompt_tokens': 16, 'total_tokens': 301, 'completion_tokens_details': None, 'prompt_tokens_details': None}, 'model_name': 'glm-4-plus', 'system_fingerprint': None, 'finish_reason': 'stop', 'logprobs': None}, id='run-de6b8601-19f4-471d-be00-633f161189df-0', usage_metadata={'input_tokens': 16, 'output_tokens': 285, 'total_tokens': 301, 'input_token_details': {}, 'output_token_details': {}})"
      ]
     },
     "execution_count": 6,
     "metadata": {},
     "output_type": "execute_result"
    }
   ],
   "source": [
    "from langchain_openai import ChatOpenAI\n",
    "\n",
    "\n",
    "api_key = os.getenv(\"ZHIPUAI_API_KEY\")\n",
    "base_url = os.getenv(\"ZHIPUAI_API_BASE\")\n",
    "\n",
    "\n",
    "prompt = \"美国为什么认为中国的大蒜对他们构成了安全威胁？\"\n",
    "\n",
    "llm = ChatOpenAI(api_key=api_key,\n",
    "             base_url=base_url,\n",
    "             model=\"glm-4-plus\",\n",
    "             temperature=0.3\n",
    "            )\n",
    "\n",
    "\n",
    "llm.invoke([prompt])"
   ]
  },
  {
   "cell_type": "code",
   "execution_count": 7,
   "metadata": {},
   "outputs": [
    {
     "name": "stdout",
     "output_type": "stream",
     "text": [
      "美国并没有普遍认为中国的大蒜对他们构成了安全威胁。实际上，中国是全球最大的大蒜生产国和出口国，美国是中国大蒜的主要出口市场之一。中美之间的大蒜贸易是正常的商业活动。\n",
      "\n",
      "然而，在某些情况下，美国可能会对进口农产品进行安全检查，以确保它们符合美国的食品安全标准。这包括对农药残留、重金属含量等方面的检测。如果某些批次的中国大蒜被发现不符合这些标准，美国可能会采取相应的措施，如退货、销毁或限制进口。\n",
      "\n",
      "需要注意的是，这种情况并不针对中国大蒜，而是适用于所有进口到美国的农产品。美国对食品安全的严格要求是为了保护本国消费者的健康。\n",
      "\n",
      "此外，有时贸易争端或政治因素也可能影响两国之间的农产品贸易，但这并不意味着中国的大蒜对美国构成了安全威胁。\n",
      "\n",
      "总的来说，美国并没有普遍认为中国的大蒜对他们构成安全威胁，正常的贸易活动仍在进行。如果有关于食品安全的具体问题，通常是通过科学检测和贸易谈判来解决的。"
     ]
    }
   ],
   "source": [
    "for chunk in llm.stream(prompt):\n",
    "    print(chunk.content,end=\"\",flush=True)\n"
   ]
  }
 ],
 "metadata": {
  "kernelspec": {
   "display_name": "kk_agent_base",
   "language": "python",
   "name": "python3"
  },
  "language_info": {
   "codemirror_mode": {
    "name": "ipython",
    "version": 3
   },
   "file_extension": ".py",
   "mimetype": "text/x-python",
   "name": "python",
   "nbconvert_exporter": "python",
   "pygments_lexer": "ipython3",
   "version": "3.10.16"
  }
 },
 "nbformat": 4,
 "nbformat_minor": 2
}
