{
 "cells": [
  {
   "cell_type": "markdown",
   "metadata": {},
   "source": [
    "# 02-ChatGLM4接入langchain\n",
    "\n",
    "## GLM-4\n",
    "\n",
    "\n",
    "新一代基座大模型GLM-4，整体性能相比GLM3全面提升60%，逼近GPT-4；支持更长上下文；更强的多模态；支持更快推理速度，更多并发，大大降低推理成本；同时GLM-4增强了智能体能力。\n",
    "\n",
    "\n",
    "基础能力（英文）：GLM-4 在 MMLU、GSM8K、MATH、BBH、HellaSwag、HumanEval等数据集上，分别达到GPT-4 94%、95%、91%、99%、90%、100%的水平。\n",
    "\n",
    "![image.png](https://zhipuaiadmin.aminer.cn/upload/c63e9d2c38338718e79735db348b4a0f.png)\n",
    "\n",
    "\n",
    "指令跟随能力：GLM-4在IFEval的prompt级别上中、英分别达到GPT-4的88%、85%的水平，在Instruction级别上中、英分别达到GPT-4的90%、89%的水平。\n",
    "\n",
    "![image.png](https://zhipuaiadmin.aminer.cn/upload/5125c6da6441a9ce4341ca6c9ccc9b5e.png)\n",
    "\n",
    "\n",
    "对齐能力：GLM-4在中文对齐能力上整体超过GPT-4。\n",
    "\n",
    "![image.png](https://zhipuaiadmin.aminer.cn/upload/e786863b39e483b2282bb94bac61d074.png)\n",
    "\n",
    "\n",
    "长文本能力：我们在LongBench（128K）测试集上对多个模型进行评测，GLM-4性能超过 Claude 2.1；在「大海捞针」（128K）实验中，GLM-4的测试结果为 128K以内全绿，做到100%精准召回。\n",
    "\n",
    "![image.png](https://zhipuaiadmin.aminer.cn/upload/77b81ce140053863d06c5c82b5f0fe18.png)\n",
    "\n",
    "\n",
    "多模态-文生图：CogView3在文生图多个评测指标上，相比DALLE3 约在 91.4% ~99.3%的水平之间。\n",
    "\n",
    "\n",
    "![image.png](https://zhipuaiadmin.aminer.cn/upload/405c46cab17aa3c1da98daa487264723.png)\n",
    "\n",
    "\n",
    "GLM-4 实现自主根据用户意图，自动理解、规划复杂指令，自由调用网页浏览器、Code Interpreter代码解释器和多模态文生图大模型，以完成复杂任务。\n",
    "简单来讲，即只需一个指令，GLM-4会自动分析指令，结合上下文选择决定调用合适的工具。\n",
    "\n",
    "\n",
    "GLM-4能够通过自动调用python解释器，进行复杂计算（例如复杂方程、微积分等），在GSM8K、MATH、Math23K等多个评测集上都取得了接近或同等GPT-4 All Tools的水平。\n",
    "\n",
    "\n",
    "GLM-4 能够自行规划检索任务、自行选择信息源、自行与信息源交互，在准确率上能够达到 78.08，是GPT-4 All Tools 的116%。\n",
    "\n",
    "\n",
    "GLM-4 能够根据用户提供的Function描述，自动选择所需 Function并生成参数，以及根据 Function 的返回值生成回复；同时也支持一次输入进行多次 Function 调用，支持包含中文及特殊符号的 Function 名字。这一方面GLM-4 All Tools 与 GPT-4 Turbo 相当。\n",
    "\n",
    "网站链接： https://www.zhipuai.cn/\n",
    "\n",
    "! pip install --upgrade zhipuai"
   ]
  },
  {
   "cell_type": "markdown",
   "metadata": {},
   "source": [
    "## 基础调用"
   ]
  },
  {
   "cell_type": "code",
   "execution_count": 1,
   "metadata": {},
   "outputs": [
    {
     "data": {
      "text/plain": [
       "Completion(model='glm-4-plus', created=1734495189, choices=[CompletionChoice(index=0, finish_reason='stop', message=CompletionMessage(content='以色列的情况比较复杂，不能简单地归结为“喜欢战争”。以下是一些可能影响以色列行为的因素：\\n\\n**历史和安全因素：**\\n\\n*   以色列建国以来，一直面临周边阿拉伯国家的敌对和威胁，经历过多次战争。这种不安全感使得以色列高度重视国防建设和军事力量。\\n*   以色列国土面积狭小，缺乏战略纵深，这使得其在面对安全威胁时更倾向于采取强硬措施。\\n\\n**地缘政治因素：**\\n\\n*   中东地区局势复杂，宗教、民族矛盾交织，以色列与周边国家存在领土争端和意识形态冲突。\\n*   以色列被视为美国在中东的重要盟友，其外交政策受到美国影响。\\n\\n**内部因素：**\\n\\n*   以色列国内政治多元，不同政党对安全和国防政策的立场存在差异。\\n*   以色列社会存在一定的民族主义情绪，对国家安全问题较为敏感。\\n\\n**需要强调的是，以色列并非“喜欢”战争，而是由于其特殊的国情和安全环境，使得其在面对威胁时更倾向于采取强硬立场。同时，以色列也积极参与和平谈判，寻求通过外交途径解决争端。\\n\\n**总结：**\\n\\n以色列的行为是多种因素综合作用的结果，不能简单地归结为“喜欢战争”。理解其行为需要考虑历史、地缘政治、内部因素等多方面的影响。\\n\\n**希望以上信息能帮助你更好地理解以色列的情况。如果你有更多问题，欢迎继续提问！**', role='assistant', tool_calls=None))], request_id='202412181213006d361335965b484e', id='202412181213006d361335965b484e', usage=CompletionUsage(prompt_tokens=29, completion_tokens=284, total_tokens=313))"
      ]
     },
     "execution_count": 1,
     "metadata": {},
     "output_type": "execute_result"
    }
   ],
   "source": [
    "from zhipuai import ZhipuAI\n",
    "from dotenv import load_dotenv\n",
    "import os\n",
    "\n",
    "load_dotenv()\n",
    "\n",
    "api_key = os.getenv(\"ZHIPUAI_API_KEY\")\n",
    "client = ZhipuAI(api_key=api_key)\n",
    "\n",
    "\n",
    "prompt = \"以色列为什么喜欢战争？\"\n",
    "response = client.chat.completions.create(\n",
    "    model=\"glm-4-plus\",\n",
    "    messages=[\n",
    "        {\"role\": \"user\", \"content\": \"你好\"},\n",
    "        {\"role\":\"assistant\",\"content\":\"你好，我是GLM-4，有什么可以帮你的吗？\"},\n",
    "        {\"role\":\"user\",\"content\":prompt}\n",
    "    ]\n",
    ")\n",
    "\n",
    "response"
   ]
  },
  {
   "cell_type": "code",
   "execution_count": 2,
   "metadata": {},
   "outputs": [
    {
     "data": {
      "text/plain": [
       "'以色列的情况比较复杂，不能简单地归结为“喜欢战争”。以下是一些可能影响以色列行为的因素：\\n\\n**历史和安全因素：**\\n\\n*   以色列建国以来，一直面临周边阿拉伯国家的敌对和威胁，经历过多次战争。这种不安全感使得以色列高度重视国防建设和军事力量。\\n*   以色列国土面积狭小，缺乏战略纵深，这使得其在面对安全威胁时更倾向于采取强硬措施。\\n\\n**地缘政治因素：**\\n\\n*   中东地区局势复杂，宗教、民族矛盾交织，以色列与周边国家存在领土争端和意识形态冲突。\\n*   以色列被视为美国在中东的重要盟友，其外交政策受到美国影响。\\n\\n**内部因素：**\\n\\n*   以色列国内政治多元，不同政党对安全和国防政策的立场存在差异。\\n*   以色列社会存在一定的民族主义情绪，对国家安全问题较为敏感。\\n\\n**需要强调的是，以色列并非“喜欢”战争，而是由于其特殊的国情和安全环境，使得其在面对威胁时更倾向于采取强硬立场。同时，以色列也积极参与和平谈判，寻求通过外交途径解决争端。\\n\\n**总结：**\\n\\n以色列的行为是多种因素综合作用的结果，不能简单地归结为“喜欢战争”。理解其行为需要考虑历史、地缘政治、内部因素等多方面的影响。\\n\\n**希望以上信息能帮助你更好地理解以色列的情况。如果你有更多问题，欢迎继续提问！**'"
      ]
     },
     "execution_count": 2,
     "metadata": {},
     "output_type": "execute_result"
    }
   ],
   "source": [
    "response.choices[0].message.content"
   ]
  },
  {
   "cell_type": "markdown",
   "metadata": {},
   "source": [
    "## 流式调用\n"
   ]
  },
  {
   "cell_type": "code",
   "execution_count": 3,
   "metadata": {},
   "outputs": [
    {
     "name": "stdout",
     "output_type": "stream",
     "text": [
      "GLM-4 是基于智谱 AI 公司训练的语言模型 GLM-130B 开发的，它使用了 1300 亿个参数进行训练。GLM-4 的原理和 GLM-130B 相同，都是基于 Transformer 模型，Transformer 模型是一种基于自注意力机制的深度神经网络模型，经常用于处理序列数据。\n",
      "\n",
      "我具体介绍一下 GLM-4 的原理：\n",
      "\n",
      "1. **Transformer 模型**：GLM-4 的基础是 Transformer 模型，该模型通过自注意力机制来捕捉序列数据中的长距离依赖关系。\n",
      "\n",
      "2. **自注意力机制**：自注意力机制允许模型在处理每个词时，都能够考虑到序列中的其他所有词，并根据它们的重要性赋予不同的权重。\n",
      "\n",
      "3. **预训练和微调**：GLM-4 首先在大规模的文本数据上进行预训练，学习语言的通用表示，然后在特定任务上进行微调，以适应具体的下游任务。\n",
      "\n",
      "4. **多任务学习**：GLM-4 支持多任务学习，可以同时处理多种不同的语言任务，如文本分类、命名实体识别、问答等。\n",
      "\n",
      "5. **参数规模**：GLM-4 使用了 1300 亿个参数，这使得它能够捕捉到非常复杂的语言模式和知识。\n",
      "\n",
      "6. **数据多样性**：在训练过程中，GLM-4 使用了来自互联网的多种文本数据，包括网页、书籍、新闻、文章等，以提高模型的泛化能力。\n",
      "\n",
      "总的来说，GLM-4 通过大规模的参数和多样化的训练数据，结合强大的 Transformer 模型和自注意力机制，实现了对自然语言的深度理解和生成能力。"
     ]
    }
   ],
   "source": [
    "prompt = \"glm-4原理是什么？使用了多少的参数进行训练？\"\n",
    "\n",
    "response = client.chat.completions.create(\n",
    "    model=\"glm-4-plus\",\n",
    "    messages=[\n",
    "        {\"role\": \"user\", \"content\": \"你好\"},\n",
    "        {\"role\":\"assistant\",\"content\":\"你好，我是GLM-4，有什么可以帮你的吗？\"},\n",
    "        {\"role\":\"user\",\"content\":prompt}\n",
    "    ],\n",
    "    stream=True\n",
    ")\n",
    "\n",
    "for chunk in response:\n",
    "    print(chunk.choices[0].delta.content,end=\"\",flush=True)\n"
   ]
  },
  {
   "cell_type": "markdown",
   "metadata": {},
   "source": [
    "## 通过OpenAI的API调用"
   ]
  },
  {
   "cell_type": "code",
   "execution_count": 7,
   "metadata": {},
   "outputs": [
    {
     "data": {
      "text/plain": [
       "AIMessage(content='中国并没有对美国构成威胁。相反，中国一直致力于和平发展，推动构建人类命运共同体。中国坚持独立自主的和平外交政策，始终不渝走和平发展道路，始终不渝奉行互利共赢的开放战略，愿意在和平共处五项原则的基础上同所有国家建立和发展友好合作关系，推动建设持久和平、共同繁荣的和谐世界。\\n\\n同时，中国也积极参与国际事务，为解决全球性问题贡献了中国智慧和力量。例如，在应对气候变化、打击恐怖主义、维护国际和平与安全等方面，中国都发挥了重要作用。\\n\\n因此，中国并没有对美国构成威胁，而是致力于同美国等所有国家建立和发展友好合作关系，共同推动世界的和平、稳定与发展。', additional_kwargs={'refusal': None}, response_metadata={'token_usage': {'completion_tokens': 144, 'prompt_tokens': 12, 'total_tokens': 156, 'completion_tokens_details': None, 'prompt_tokens_details': None}, 'model_name': 'glm-4-plus', 'system_fingerprint': None, 'finish_reason': 'stop', 'logprobs': None}, id='run-85ccd562-e43f-4118-969b-dedcc5cc5240-0', usage_metadata={'input_tokens': 12, 'output_tokens': 144, 'total_tokens': 156, 'input_token_details': {}, 'output_token_details': {}})"
      ]
     },
     "execution_count": 7,
     "metadata": {},
     "output_type": "execute_result"
    }
   ],
   "source": [
    "from langchain_openai import ChatOpenAI\n",
    "\n",
    "\n",
    "api_key = os.getenv(\"ZHIPUAI_API_KEY\")\n",
    "base_url = os.getenv(\"ZHIPUAI_API_BASE\")\n",
    "\n",
    "\n",
    "prompt = \"中国为什么对美国构成了比较大威胁?\"\n",
    "\n",
    "llm = ChatOpenAI(api_key=api_key,\n",
    "             base_url=base_url,\n",
    "             model=\"glm-4-plus\",\n",
    "             temperature=0.3\n",
    "            )\n",
    "\n",
    "\n",
    "llm.invoke([prompt])"
   ]
  },
  {
   "cell_type": "code",
   "execution_count": 9,
   "metadata": {},
   "outputs": [
    {
     "name": "stdout",
     "output_type": "stream",
     "text": [
      "中国并没有对美国构成威胁。相反，中国始终不渝走和平发展道路，致力于同各国发展友好合作关系，推动构建人类命运共同体。中国的发展对世界是机遇，不是威胁和挑战。\n",
      "\n",
      "首先，中国坚持和平发展道路。中国始终将和平作为发展的基础，坚持通过和平方式解决国际争端和热点问题，反对一切形式的霸权主义和强权政治。\n",
      "\n",
      "其次，中国秉持共商共建共享的全球治理观，倡导国际关系民主化，坚持国家不分大小、强弱、贫富一律平等，支持各国根据本国国情选择发展道路。\n",
      "\n",
      "关于中美关系，中方始终认为，中美作为两个大国，应该展现大国的担当，本着对历史、对人民、对世界负责的态度，处理好中美关系，为全球和平与发展作出贡献，为变乱交织的世界注入稳定性、确定性、建设性。\n",
      "\n",
      "因此，中国的发展对世界是机遇而非威胁，中国也从未对美国构成威胁。\n",
      "\n",
      "## 中美关系\n",
      "\n",
      "中方致力于维护中美关系稳定，对话与合作，推动中美关系健康稳定发展，造福两国和两国人民。\n",
      "\n",
      "中方敦促美方秉持客观理性的对华认知，同中方相向而行，维护好中美关系的政治基础，冷静、专业、理性处理意外事件，共同管控分歧，避免战略意外。\n",
      "\n",
      "中方致力于维护中美关系稳定，对话的大门始终敞开。\n",
      "\n",
      "请注意，以上内容仅供参考。您在实际撰写时需要结合具体、真实的语境。如果您有进一步具体的限定，欢迎在下一轮对话中提出。"
     ]
    }
   ],
   "source": [
    "for chunk in llm.stream(prompt):\n",
    "    print(chunk.content,end=\"\",flush=True)\n"
   ]
  }
 ],
 "metadata": {
  "kernelspec": {
   "display_name": "kk_agent_base",
   "language": "python",
   "name": "python3"
  },
  "language_info": {
   "codemirror_mode": {
    "name": "ipython",
    "version": 3
   },
   "file_extension": ".py",
   "mimetype": "text/x-python",
   "name": "python",
   "nbconvert_exporter": "python",
   "pygments_lexer": "ipython3",
   "version": "3.10.16"
  }
 },
 "nbformat": 4,
 "nbformat_minor": 2
}
