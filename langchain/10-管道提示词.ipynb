{
 "cells": [
  {
   "cell_type": "markdown",
   "metadata": {},
   "source": [
    "# 管道提示词\n",
    "\n",
    "管道提示词可以将多个提示组合在一起。当您想要重复使用部分提示时，这会很有用。这可以通过 PipelinePrompt 来完成。\n",
    "\n",
    "PipelinePrompt 由两个主要部分组成：\n",
    "- 最终提示：返回的最终提示\n",
    "- 管道提示：元组列表，由字符串名称和提示模板组成。每个提示模板将被格式化，然后作为具有相同名称的变量传递到未来的提示模板。"
   ]
  },
  {
   "cell_type": "code",
   "execution_count": 1,
   "metadata": {},
   "outputs": [],
   "source": [
    "from langchain_core.prompts.pipeline import PipelinePromptTemplate\n",
    "from langchain_core.prompts import PromptTemplate\n",
    "\n",
    "full_template = \"\"\"\\\n",
    "    {introduction}\n",
    "    {examples}\n",
    "    {start}\n",
    "\"\"\"\n",
    "full_prompt = PromptTemplate.from_template(full_template)"
   ]
  },
  {
   "cell_type": "code",
   "execution_count": 2,
   "metadata": {},
   "outputs": [],
   "source": [
    "introduction_template = \"你在冒充{person}.\"\n",
    "introduction_prompt = PromptTemplate.from_template(introduction_template)"
   ]
  },
  {
   "cell_type": "code",
   "execution_count": 3,
   "metadata": {},
   "outputs": [],
   "source": [
    "examples_template = \"\"\"下面是一些交互示例\\n\n",
    "Q: {question_q}\n",
    "A: {question_a}\n",
    "\"\"\"\n",
    "\n",
    "examples_prompt = PromptTemplate.from_template(examples_template)"
   ]
  },
  {
   "cell_type": "code",
   "execution_count": 4,
   "metadata": {},
   "outputs": [],
   "source": [
    "start_template = \"\"\"现在正式开始：\\n\n",
    "Q: {input}\n",
    "A: \n",
    "\"\"\"\n",
    "\n",
    "start_prompt = PromptTemplate.from_template(start_template)"
   ]
  },
  {
   "cell_type": "code",
   "execution_count": 5,
   "metadata": {},
   "outputs": [
    {
     "name": "stderr",
     "output_type": "stream",
     "text": [
      "/tmp/ipykernel_12252/2544058237.py:7: LangChainDeprecationWarning: This class is deprecated. Please see the docstring below or at the link for a replacement option: https://python.langchain.com/api_reference/core/prompts/langchain_core.prompts.pipeline.PipelinePromptTemplate.html\n",
      "  final_prompt = PipelinePromptTemplate(\n"
     ]
    },
    {
     "data": {
      "text/plain": [
       "['person', 'question_a', 'input', 'question_q']"
      ]
     },
     "execution_count": 5,
     "metadata": {},
     "output_type": "execute_result"
    }
   ],
   "source": [
    "pipeline_prompt = [\n",
    "    (\"introduction\", introduction_prompt),\n",
    "    (\"examples\", examples_prompt),\n",
    "    (\"start\", start_prompt)\n",
    "]\n",
    "\n",
    "final_prompt = PipelinePromptTemplate(\n",
    "    final_prompt=full_prompt,\n",
    "    pipeline_prompts=pipeline_prompt\n",
    ")\n",
    "\n",
    "\n",
    "final_prompt.input_variables"
   ]
  },
  {
   "cell_type": "code",
   "execution_count": 6,
   "metadata": {},
   "outputs": [
    {
     "name": "stdout",
     "output_type": "stream",
     "text": [
      "    你在冒充小明.\n",
      "    下面是一些交互示例\n",
      "\n",
      "Q: 你喜欢什么水果？\n",
      "A: 西瓜\n",
      "\n",
      "    现在正式开始：\n",
      "\n",
      "Q: 你最喜欢的短视频网站是什么？\n",
      "A: \n",
      "\n",
      "\n"
     ]
    }
   ],
   "source": [
    "print(final_prompt.format(\n",
    "    person = \"小明\",\n",
    "    question_q = \"你喜欢什么水果？\",\n",
    "    question_a = '西瓜',\n",
    "    input = '你最喜欢的短视频网站是什么？'\n",
    "))"
   ]
  },
  {
   "cell_type": "code",
   "execution_count": 7,
   "metadata": {},
   "outputs": [
    {
     "name": "stdout",
     "output_type": "stream",
     "text": [
      "抖音"
     ]
    }
   ],
   "source": [
    "# 结合大模型\n",
    "from langchain_openai import ChatOpenAI\n",
    "from langchain_core.output_parsers import StrOutputParser\n",
    "import os\n",
    "\n",
    "api_key = os.getenv(\"ZHIPUAI_API_KEY\")\n",
    "base_url = os.getenv(\"ZHIPUAI_API_BASE\")\n",
    "\n",
    "model = ChatOpenAI(api_key=api_key, base_url=base_url, temperature=0.3, max_tokens=8192, model=\"glm-4-plus\")\n",
    "\n",
    "chain = final_prompt | model | StrOutputParser()\n",
    "\n",
    "for s in chain.stream(\n",
    "    {\n",
    "        \"person\":\"小明\",\n",
    "        \"question_q\": \"你喜欢什么水果？\",\n",
    "        \"question_a\": '西瓜',\n",
    "        \"input\": '你最喜欢的短视频网站是什么？'\n",
    "    }\n",
    "):\n",
    "    print(s, end=\"\", flush=True)"
   ]
  },
  {
   "cell_type": "code",
   "execution_count": 8,
   "metadata": {},
   "outputs": [
    {
     "name": "stdout",
     "output_type": "stream",
     "text": [
      "因为我更喜欢真的西瓜，吃起来又甜又解渴，而且营养丰富。西瓜视频虽然也不错，但和吃西瓜的感觉还是不一样的嘛！😄"
     ]
    }
   ],
   "source": [
    "for s in chain.stream(\n",
    "    {\n",
    "        \"person\":\"小明\",\n",
    "        \"question_q\": \"你喜欢什么水果？\",\n",
    "        \"question_a\": '西瓜',\n",
    "        \"input\": '为什么不是西瓜视频？'\n",
    "    }\n",
    "):\n",
    "    print(s, end=\"\", flush=True)"
   ]
  }
 ],
 "metadata": {
  "kernelspec": {
   "display_name": "kk_langchain",
   "language": "python",
   "name": "python3"
  },
  "language_info": {
   "codemirror_mode": {
    "name": "ipython",
    "version": 3
   },
   "file_extension": ".py",
   "mimetype": "text/x-python",
   "name": "python",
   "nbconvert_exporter": "python",
   "pygments_lexer": "ipython3",
   "version": "3.10.16"
  }
 },
 "nbformat": 4,
 "nbformat_minor": 2
}
