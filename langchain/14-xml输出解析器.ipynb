{
 "cells": [
  {
   "cell_type": "markdown",
   "metadata": {},
   "source": [
    "# 14-xml输出解析器\n",
    "\n",
    "该输出解析器允许用户以流行的 XML 格式从 LLM 获取结果。\n",
    "\n",
    "请记住，大型语言模型是有漏洞的抽象！您必须使用具有足够容量的 LLM 来生成格式正确的 XML。\n",
    "\n",
    "! pip install defusedxml"
   ]
  },
  {
   "cell_type": "code",
   "execution_count": 1,
   "metadata": {},
   "outputs": [],
   "source": [
    "# 定义大模型\n",
    "from langchain_openai import ChatOpenAI\n",
    "from dotenv import load_dotenv\n",
    "import os\n",
    "\n",
    "load_dotenv()\n",
    "\n",
    "api_key = os.getenv(\"LOCAL_API_KEY\")\n",
    "base_url = os.getenv(\"LOCAL_API_BASE\")\n",
    "\n",
    "llm = ChatOpenAI(api_key=api_key, base_url=base_url, temperature=0.3, max_tokens=8192)"
   ]
  },
  {
   "cell_type": "code",
   "execution_count": 2,
   "metadata": {},
   "outputs": [
    {
     "name": "stdout",
     "output_type": "stream",
     "text": [
      "The output should be formatted as a XML file.\n",
      "1. Output should conform to the tags below.\n",
      "2. If tags are not given, make them on your own.\n",
      "3. Remember to always open and close all the tags.\n",
      "\n",
      "As an example, for the tags [\"foo\", \"bar\", \"baz\"]:\n",
      "1. String \"<foo>\n",
      "   <bar>\n",
      "      <baz></baz>\n",
      "   </bar>\n",
      "</foo>\" is a well-formatted instance of the schema.\n",
      "2. String \"<foo>\n",
      "   <bar>\n",
      "   </foo>\" is a badly-formatted instance.\n",
      "3. String \"<foo>\n",
      "   <tag>\n",
      "   </tag>\n",
      "</foo>\" is a badly-formatted instance.\n",
      "\n",
      "Here are the output tags:\n",
      "```\n",
      "None\n",
      "```\n"
     ]
    }
   ],
   "source": [
    "# 定义输出解析器，并定义响应数据格式\n",
    "from langchain_core.output_parsers import XMLOutputParser\n",
    "\n",
    "parser = XMLOutputParser()\n",
    "format_instructions = parser.get_format_instructions()\n",
    "print(format_instructions)"
   ]
  },
  {
   "cell_type": "code",
   "execution_count": 3,
   "metadata": {},
   "outputs": [],
   "source": [
    "format_instructions = \"\"\"请直接返回XML格式的字符串，不要返回任何代码。\n",
    "必须严格按照以下XML结构返回（不要包含任何其他内容）：\n",
    "\n",
    "<xml>\n",
    "    <name>姓名</name>\n",
    "    <age>年龄</age>\n",
    "    <gender>性别</gender>\n",
    "    <film_list>\n",
    "        <movie>电影1</movie>\n",
    "        <movie>电影2</movie>\n",
    "    </film_list>\n",
    "</xml>\n",
    "\"\"\""
   ]
  },
  {
   "cell_type": "code",
   "execution_count": 4,
   "metadata": {},
   "outputs": [
    {
     "name": "stdout",
     "output_type": "stream",
     "text": [
      "请根据以下演员名字，生成一个包含其基本信息的XML格式响应。\n",
      "演员：成龙\n",
      "\n",
      "要求：\n",
      "1. 必须使用XML格式\n",
      "2. 信息要真实准确\n",
      "3. 电影列表至少包含5部代表作\n",
      "\n",
      "请直接返回XML格式的字符串，不要返回任何代码。\n",
      "必须严格按照以下XML结构返回（不要包含任何其他内容）：\n",
      "\n",
      "<xml>\n",
      "    <name>姓名</name>\n",
      "    <age>年龄</age>\n",
      "    <gender>性别</gender>\n",
      "    <film_list>\n",
      "        <movie>电影1</movie>\n",
      "        <movie>电影2</movie>\n",
      "    </film_list>\n",
      "</xml>\n",
      "\n"
     ]
    }
   ],
   "source": [
    "# 定义提示词模板\n",
    "from langchain_core.prompts import PromptTemplate\n",
    "template = \"\"\"请根据以下演员名字，生成一个包含其基本信息的XML格式响应。\n",
    "演员：{name}\n",
    "\n",
    "要求：\n",
    "1. 必须使用XML格式\n",
    "2. 信息要真实准确\n",
    "3. 电影列表至少包含5部代表作\n",
    "\n",
    "{format_instructions}\"\"\"\n",
    "\n",
    "prompt = PromptTemplate(\n",
    "    template=template,\n",
    "    input_variables=[\"name\"],\n",
    "    partial_variables={\"format_instructions\": format_instructions}\n",
    ")\n",
    "\n",
    "print(prompt.format(name=\"成龙\"))"
   ]
  },
  {
   "cell_type": "code",
   "execution_count": 6,
   "metadata": {},
   "outputs": [
    {
     "name": "stdout",
     "output_type": "stream",
     "text": [
      "{'xml': [{'name': '刘亦菲'}, {'age': '34'}, {'gender': '女'}, {'film_list': [{'movie': '金粉世家'}, {'movie': '天龙八部'}, {'movie': '神雕侠侣'}, {'movie': '仙剑奇侠传'}, {'movie': '功夫之王'}]}]}\n"
     ]
    }
   ],
   "source": [
    "# 创建链\n",
    "chain = prompt | llm | parser\n",
    "\n",
    "# 执行链\n",
    "result = chain.invoke({\"name\": \"刘亦菲\"})\n",
    "print(result)\n"
   ]
  }
 ],
 "metadata": {
  "kernelspec": {
   "display_name": "kk_langchain",
   "language": "python",
   "name": "python3"
  },
  "language_info": {
   "codemirror_mode": {
    "name": "ipython",
    "version": 3
   },
   "file_extension": ".py",
   "mimetype": "text/x-python",
   "name": "python",
   "nbconvert_exporter": "python",
   "pygments_lexer": "ipython3",
   "version": "3.10.16"
  }
 },
 "nbformat": 4,
 "nbformat_minor": 2
}
