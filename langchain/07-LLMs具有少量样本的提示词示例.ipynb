{
 "cells": [
  {
   "cell_type": "markdown",
   "metadata": {},
   "source": [
    "## 模型 (LLMs) 的类似少样本提示示例\n",
    "\n",
    "\n",
    "大模型是一种基于大量数据训练的人工智能模型，具有强大的下游任务自适应能力。相对于传统的人工智能模型，大模型可以处理更多的领域和任务，其优势主要体现在以下几个方面：\n",
    "1. 参数规模大：大模型拥有上亿甚至千亿级的参数，这使得它们可以处理更加复杂和抽象的任务，具有更强的泛化能力。\n",
    "2. 数据依赖性：大模型的训练依赖于大量的数据，这些数据覆盖了各种场景和情况，使得大模型能够更好地理解和处理各种复杂的问题。\n",
    "3. 适应性强：大模型可以适应各种不同的任务和领域，只需要通过少量的样本进行微调，就可以达到很好的效果。\n",
    "\n",
    "对于少量样本的提示，大模型具有以下优势：\n",
    "1. 快速适应：大模型具有很强的泛化能力，少量样本的提示可以使其快速适应新的任务和领域。\n",
    "2. 提高准确度：少量样本的提示可以减少模型的过拟合风险，提高模型的准确度。\n",
    "3. 节省资源：相对于重新训练模型，少量样本的提示可以节省大量的计算资源和时间。\n",
    "综上所述，少量样本的提示对于大模型的回答的准确度具有很大的优势，可以提高模型的适应性和准确度，同时节省资源。"
   ]
  },
  {
   "cell_type": "code",
   "execution_count": 1,
   "metadata": {},
   "outputs": [],
   "source": [
    "from langchain.prompts import PromptTemplate, FewShotPromptTemplate\n",
    "\n",
    "# 创建示例\n",
    "examples = [\n",
    "    {\n",
    "        \"question\": \"乾隆和曹操谁活得更久?\",\n",
    "        \"answer\": \"\"\"\n",
    "        这里是否需要跟进：是的\n",
    "        追问：乾隆活了多少岁?\n",
    "        中间答案: 乾隆活了87岁\n",
    "        追问：曹操活了多少岁？\n",
    "        中间答案：曹操活了66岁\n",
    "        最终答案：乾隆活得更久\n",
    "        \"\"\"\n",
    "    },\n",
    "    {\n",
    "        \"question\": \"小米手机的创始人出生日期？\",\n",
    "        \"answer\": \"\"\"\n",
    "        这里是否需要跟进：是的\n",
    "        追问：小米手机的创始人是谁？\n",
    "        中间答案：小米手机的创始人是 雷军\n",
    "        追问：雷军出生日期？\n",
    "        中间答案：雷军出生日期是1969年8月16日\n",
    "        最终答案：雷军出生日期是1969年8月16日\n",
    "        \"\"\"\n",
    "    },\n",
    "    {\n",
    "        \"question\": \"乔治·华盛顿的外祖父是谁?\",\n",
    "        \"answer\": \"\"\"\n",
    "        这里是否需要跟进：是的\n",
    "        追问：乔治·华盛顿的母亲是谁？\n",
    "        中间答案：乔治·华盛顿的母亲是玛丽·鲍尔·华盛顿\n",
    "        追问：玛丽·鲍尔·华盛顿的父亲是谁？\n",
    "        中间答案：玛丽·鲍尔·华盛顿的父亲是约瑟夫·鲍尔\n",
    "        最终答案：乔治·华盛顿的外祖父是约瑟夫·鲍尔\n",
    "        \"\"\"\n",
    "    },\n",
    "    {\n",
    "        \"question\": \"《大白鲨》和《皇家赌场》的导演是同一个国家的吗?\",\n",
    "        \"answer\": \"\"\"\n",
    "        这里是否需要跟进：是的\n",
    "        追问：《大白鲨》的导演是谁？\n",
    "        中间答案：《大白鲨》的导演是史蒂文·斯皮尔伯格\n",
    "        追问：史蒂文·斯皮尔伯格是哪个国家的？\n",
    "        中间答案: 美国\n",
    "        追问：《皇家赌场》的导演是谁？\n",
    "        中间答案：《皇家赌场》的导演是马丁·坎贝尔\n",
    "        追问：马丁·坎贝尔是哪个国家的？\n",
    "        中间答案：新西兰\n",
    "        最终答案：《大白鲨》和《皇家赌场》的导演不是同一个国家的\n",
    "        \"\"\"\n",
    "    }\n",
    "]"
   ]
  },
  {
   "cell_type": "code",
   "execution_count": 2,
   "metadata": {},
   "outputs": [
    {
     "name": "stdout",
     "output_type": "stream",
     "text": [
      "Question: 乾隆和曹操谁活得更久?\n",
      "Answer:\n",
      "        这里是否需要跟进：是的\n",
      "        追问：乾隆活了多少岁?\n",
      "        中间答案: 乾隆活了87岁\n",
      "        追问：曹操活了多少岁？\n",
      "        中间答案：曹操活了66岁\n",
      "        最终答案：乾隆活得更久\n",
      "        \n"
     ]
    }
   ],
   "source": [
    "examples_prompt = PromptTemplate(\n",
    "    input_variables=[\"question\", \"answer\"],\n",
    "    template=\"Question: {question}\\nAnswer:{answer}\"\n",
    ")\n",
    "\n",
    "print(examples_prompt.format(**examples[0]))"
   ]
  },
  {
   "cell_type": "code",
   "execution_count": 3,
   "metadata": {},
   "outputs": [
    {
     "name": "stdout",
     "output_type": "stream",
     "text": [
      "Question: 乾隆和曹操谁活得更久?\n",
      "Answer:\n",
      "        这里是否需要跟进：是的\n",
      "        追问：乾隆活了多少岁?\n",
      "        中间答案: 乾隆活了87岁\n",
      "        追问：曹操活了多少岁？\n",
      "        中间答案：曹操活了66岁\n",
      "        最终答案：乾隆活得更久\n",
      "        \n",
      "\n",
      "Question: 小米手机的创始人出生日期？\n",
      "Answer:\n",
      "        这里是否需要跟进：是的\n",
      "        追问：小米手机的创始人是谁？\n",
      "        中间答案：小米手机的创始人是 雷军\n",
      "        追问：雷军出生日期？\n",
      "        中间答案：雷军出生日期是1969年8月16日\n",
      "        最终答案：雷军出生日期是1969年8月16日\n",
      "        \n",
      "\n",
      "Question: 乔治·华盛顿的外祖父是谁?\n",
      "Answer:\n",
      "        这里是否需要跟进：是的\n",
      "        追问：乔治·华盛顿的母亲是谁？\n",
      "        中间答案：乔治·华盛顿的母亲是玛丽·鲍尔·华盛顿\n",
      "        追问：玛丽·鲍尔·华盛顿的父亲是谁？\n",
      "        中间答案：玛丽·鲍尔·华盛顿的父亲是约瑟夫·鲍尔\n",
      "        最终答案：乔治·华盛顿的外祖父是约瑟夫·鲍尔\n",
      "        \n",
      "\n",
      "Question: 《大白鲨》和《皇家赌场》的导演是同一个国家的吗?\n",
      "Answer:\n",
      "        这里是否需要跟进：是的\n",
      "        追问：《大白鲨》的导演是谁？\n",
      "        中间答案：《大白鲨》的导演是史蒂文·斯皮尔伯格\n",
      "        追问：史蒂文·斯皮尔伯格是哪个国家的？\n",
      "        中间答案: 美国\n",
      "        追问：《皇家赌场》的导演是谁？\n",
      "        中间答案：《皇家赌场》的导演是马丁·坎贝尔\n",
      "        追问：马丁·坎贝尔是哪个国家的？\n",
      "        中间答案：新西兰\n",
      "        最终答案：《大白鲨》和《皇家赌场》的导演不是同一个国家的\n",
      "        \n",
      "\n",
      "Question: 李白和白居易谁活得更久?\n"
     ]
    }
   ],
   "source": [
    "prompt = FewShotPromptTemplate(\n",
    "    examples=examples,\n",
    "    example_prompt=examples_prompt,\n",
    "    suffix=\"Question: {input}\",\n",
    "    input_variables=[\"input\"],\n",
    ")\n",
    "\n",
    "print(prompt.format(input=\"李白和白居易谁活得更久?\"))"
   ]
  },
  {
   "cell_type": "code",
   "execution_count": 4,
   "metadata": {},
   "outputs": [
    {
     "name": "stdout",
     "output_type": "stream",
     "text": [
      "这里是否需要跟进：是的\n",
      "        追问：李白活了多少岁？\n",
      "        中间答案：李白活了61岁\n",
      "        追问：白居易活了多少岁？\n",
      "        中间答案：白居易活了75岁\n",
      "        最终答案：白居易活得更久\n"
     ]
    }
   ],
   "source": [
    "from langchain.prompts import ChatPromptTemplate\n",
    "from langchain_openai import ChatOpenAI\n",
    "from langchain_core.output_parsers import StrOutputParser\n",
    "from dotenv import load_dotenv\n",
    "import os\n",
    "\n",
    "load_dotenv()\n",
    "\n",
    "api_key = os.getenv(\"ZHIPUAI_API_KEY\")\n",
    "base_url = os.getenv(\"ZHIPUAI_API_BASE\")\n",
    "\n",
    "chat = ChatOpenAI(api_key=api_key, base_url=base_url, model=\"glm-4-plus\", temperature=0.3)\n",
    "\n",
    "chain = prompt | chat | StrOutputParser()\n",
    "\n",
    "print(chain.invoke({\"input\": \"李白和白居易谁活得更久?\"}))\n"
   ]
  },
  {
   "cell_type": "code",
   "execution_count": 5,
   "metadata": {},
   "outputs": [
    {
     "name": "stdout",
     "output_type": "stream",
     "text": [
      "这里是否需要跟进：是的\n",
      "        追问：李世民活了多少岁？\n",
      "        中间答案：李世民活了52岁\n",
      "        追问：雍正活了多少岁？\n",
      "        中间答案：雍正活了58岁\n",
      "        最终答案：雍正活得更久"
     ]
    }
   ],
   "source": [
    "for s in chain.stream({\"input\": \"李世民和雍正易谁活得更久?\"}):\n",
    "    print(s, end=\"\", flush=True)"
   ]
  },
  {
   "cell_type": "markdown",
   "metadata": {},
   "source": [
    "## FAISS 数据库\n",
    "\n",
    "`faiss` 是一个开源的机器学习库，由Facebook AI Research（FAIR）开发，主要用于高效的大规模向量搜索和聚类。`faiss` 的核心优势在于它为高维向量空间中的数据提供了快速的近似最近邻搜索（ANNS）算法，这对于推荐系统、信息检索、图像和视频分析等应用非常重要。\n",
    "`faiss` 库的主要作用包括：\n",
    "1. **向量搜索**：`faiss` 提供了一系列高效的算法来寻找给定向量集合中与查询向量最接近的向量。这包括基于距离的搜索和基于哈希的搜索方法。\n",
    "2. **聚类**：`faiss` 支持多种聚类算法，如K-means和层次聚类，以及为高维数据优化的聚类方法。\n",
    "3. **特征编码**：`faiss` 包含了一些特征编码方法，如量化和编码，这些方法可以降低数据的维度，同时保持尽可能多的信息。\n",
    "4. **IVF（Inverted File）索引**：`faiss` 实现了一种特殊的索引结构，称为倒排文件索引，这种索引允许快速地搜索大量的高维数据。\n",
    "5. **GPU加速**：`faiss` 库充分利用了NVIDIA GPU的并行计算能力，使得在大规模数据集上的向量搜索和聚类操作变得非常快速。\n",
    "6. **多线程支持**：`faiss` 支持多线程处理，可以进一步提高搜索和聚类的效率。\n",
    "7. **易于使用的API**：`faiss` 提供了Python和C++的API，这些API设计简洁，易于上手和使用。\n",
    "在Python中，你可以通过`faiss`库来实现高效的大规模向量搜索和聚类任务，例如，在处理图像、音频或文本数据时，可以使用`faiss`来快速找到相似的数据点，或者将数据分成具有相似特性的组。这在高维数据处理中是非常有用的，尤其是在需要实时性能的应用中。"
   ]
  },
  {
   "cell_type": "code",
   "execution_count": 7,
   "metadata": {},
   "outputs": [
    {
     "name": "stdout",
     "output_type": "stream",
     "text": [
      "与输入最相似的示例: vectorstore=<langchain_community.vectorstores.faiss.FAISS object at 0x7f36194377f0> k=1 example_keys=None input_keys=None vectorstore_kwargs=None\n"
     ]
    }
   ],
   "source": [
    "from langchain.prompts.example_selector import SemanticSimilarityExampleSelector\n",
    "from langchain_community.vectorstores import FAISS\n",
    "from langchain_community.embeddings.huggingface import HuggingFaceEmbeddings\n",
    "\n",
    "# 定义词向量模型\n",
    "embeddings = HuggingFaceEmbeddings(model_name=\"/home/libing/kk_LLMs/bge-large-zh-v1.5\")\n",
    "\n",
    "# 创建示例选择器\n",
    "examples_selector = SemanticSimilarityExampleSelector.from_examples(\n",
    "    examples=examples,\n",
    "    embeddings=embeddings,\n",
    "    vectorstore_cls=FAISS,\n",
    "    k=1\n",
    ")\n",
    "\n",
    "question = \"李白和白居易谁活得更久?\"\n",
    "examples_selector.select_examples({\"question\": question})\n",
    "\n",
    "print(f\"与输入最相似的示例: {examples_selector}\")\n"
   ]
  },
  {
   "cell_type": "code",
   "execution_count": 8,
   "metadata": {},
   "outputs": [
    {
     "data": {
      "text/plain": [
       "SemanticSimilarityExampleSelector(vectorstore=<langchain_community.vectorstores.faiss.FAISS object at 0x7f36194377f0>, k=1, example_keys=None, input_keys=None, vectorstore_kwargs=None)"
      ]
     },
     "execution_count": 8,
     "metadata": {},
     "output_type": "execute_result"
    }
   ],
   "source": [
    "examples_selector"
   ]
  },
  {
   "cell_type": "code",
   "execution_count": 9,
   "metadata": {},
   "outputs": [
    {
     "name": "stdout",
     "output_type": "stream",
     "text": [
      "这里是否需要跟进：是的\n",
      "        追问：《尖峰时刻》的导演是谁？\n",
      "        中间答案：《尖峰时刻》的导演是布莱特·拉特纳\n",
      "        追问：布莱特·拉特纳是哪个国家的？\n",
      "        中间答案：美国\n",
      "        追问：《防弹武僧》的导演是谁？\n",
      "        中间答案：《防弹武僧》的导演是保罗·亨特\n",
      "        追问：保罗·亨特是哪个国家的？\n",
      "        中间答案：加拿大\n",
      "        最终答案：《尖峰时刻》和《防弹武僧》的导演不是同一个国家的"
     ]
    }
   ],
   "source": [
    "prompt = FewShotPromptTemplate(\n",
    "    example_selector=examples_selector,\n",
    "    example_prompt=examples_prompt,\n",
    "    prefix=\"请根据示例回答问题.\\n\",\n",
    "    suffix=\"question: {question}\\nanswer:\",\n",
    "    input_variables=[\"question\"]\n",
    ")\n",
    "\n",
    "chain = prompt | chat | StrOutputParser()\n",
    "\n",
    "for s in chain.stream({\"question\": \"《尖峰时刻》和《防弹武僧》的导演来自同一个国家吗？\"}):\n",
    "    print(s, end=\"\", flush=True)"
   ]
  },
  {
   "cell_type": "markdown",
   "metadata": {},
   "source": [
    "## Chroma\n",
    "\n",
    "ChromaDB 是一个开源的、基于 Python 的数据库，专门用于存储和查询时间序列数据。它是由 MongoDB 的创造者开发的一个高性能、可扩展的解决方案，适用于需要处理大规模时间序列数据的场景。ChromaDB 的设计目的是为了提高时间序列数据的查询速度和存储效率，同时保持灵活性和可扩展性。\n",
    "ChromaDB 的主要特点和作用包括：\n",
    "1. **时间序列数据支持**：ChromaDB 专门为时间序列数据设计，可以高效地存储和查询时间戳数据。\n",
    "2. **高性能**：ChromaDB 使用了多种优化技术，如 B-Tree 索引、时间分区等，以提高查询速度和数据写入速度。\n",
    "3. **可扩展性**：ChromaDB 支持水平扩展，可以通过添加更多的服务器来增加存储和处理能力。\n",
    "4. **灵活的数据模型**：虽然 ChromaDB 专为时间序列数据设计，但它也支持文档和键值数据模型，提供了灵活的数据存储选项。\n",
    "5. **丰富的查询功能**：ChromaDB 支持各种查询操作，包括聚合、过滤和排序等，这使得它可以轻松地处理复杂的分析任务。\n",
    "6. **时间索引**：ChromaDB 使用了一种高效的时间索引机制，可以快速地定位到特定时间点或时间范围的数据。\n",
    "7. **时间分区**：ChromaDB 支持时间分区，可以将数据自动或手动分区到不同的集合中，以优化查询性能和存储效率。\n",
    "8. **兼容 MongoDB**：ChromaDB 与 MongoDB 兼容，这意味着你可以使用类似 MongoDB 的 API 来操作 ChromaDB。\n",
    "在 Python 中，ChromaDB 通过其 Python 客户端库提供了一个简单的接口来与数据库进行交互。这使得 Python 开发者可以轻松地将 ChromaDB 集成到他们的应用程序中，以存储、管理和分析时间序列数据。ChromaDB 适用于需要快速、可扩展的时间序列数据存储和查询的各种应用，如监控系统、物联网、金融市场数据分析等。"
   ]
  },
  {
   "cell_type": "code",
   "execution_count": 12,
   "metadata": {},
   "outputs": [
    {
     "name": "stdout",
     "output_type": "stream",
     "text": [
      "与输入最相似的示例: vectorstore=<langchain_community.vectorstores.chroma.Chroma object at 0x7f35dc21d4e0> k=1 example_keys=None input_keys=None vectorstore_kwargs=None\n"
     ]
    }
   ],
   "source": [
    "from langchain.prompts.example_selector import SemanticSimilarityExampleSelector\n",
    "from langchain_community.vectorstores import Chroma\n",
    "from langchain_community.embeddings.huggingface import HuggingFaceEmbeddings\n",
    "\n",
    "# 定义词向量模型\n",
    "embeddings = HuggingFaceEmbeddings(model_name=\"/home/libing/kk_LLMs/bge-large-zh-v1.5\")\n",
    "\n",
    "# 创建示例选择器\n",
    "examples_selector = SemanticSimilarityExampleSelector.from_examples(\n",
    "    examples=examples,\n",
    "    embeddings=embeddings,\n",
    "    vectorstore_cls=Chroma,\n",
    "    k=1\n",
    ")\n",
    "\n",
    "question = \"李白和白居易谁活得更久?\"\n",
    "examples_selector.select_examples({\"question\": question})\n",
    "\n",
    "print(f\"与输入最相似的示例: {examples_selector}\")"
   ]
  },
  {
   "cell_type": "code",
   "execution_count": 13,
   "metadata": {},
   "outputs": [
    {
     "name": "stdout",
     "output_type": "stream",
     "text": [
      "这里是否需要跟进：是的\n",
      "        追问：奥巴马的外祖父是谁？\n",
      "        中间答案：奥巴马的外祖父是斯坦利·阿摩斯·邓汉姆\n",
      "        追问：斯坦利·阿摩斯·邓汉姆的父亲是谁？\n",
      "        中间答案：斯坦利·阿摩斯·邓汉姆的父亲是罗素·邓汉姆\n",
      "        追问：罗素·邓汉姆的父亲是谁？\n",
      "        中间答案：罗素·邓汉姆的父亲是詹姆斯·邓汉姆\n",
      "        最终答案：奥巴马的外祖父的爷爷是詹姆斯·邓汉姆"
     ]
    }
   ],
   "source": [
    "prompt = FewShotPromptTemplate(\n",
    "    example_selector=examples_selector,\n",
    "    example_prompt=examples_prompt,\n",
    "    prefix=\"请根据示例回答问题.\\n\",\n",
    "    suffix=\"question: {question}\\nanswer:\",\n",
    "    input_variables=[\"question\"]\n",
    ")\n",
    "\n",
    "chain = prompt | chat | StrOutputParser()\n",
    "\n",
    "for s in chain.stream({\"question\": \"奥巴马的外祖父的爷爷是谁？\"}):\n",
    "    print(s, end=\"\", flush=True)"
   ]
  }
 ],
 "metadata": {
  "kernelspec": {
   "display_name": "kk_langchain",
   "language": "python",
   "name": "python3"
  },
  "language_info": {
   "codemirror_mode": {
    "name": "ipython",
    "version": 3
   },
   "file_extension": ".py",
   "mimetype": "text/x-python",
   "name": "python",
   "nbconvert_exporter": "python",
   "pygments_lexer": "ipython3",
   "version": "3.10.16"
  }
 },
 "nbformat": 4,
 "nbformat_minor": 2
}
