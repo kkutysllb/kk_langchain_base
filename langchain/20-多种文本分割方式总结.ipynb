{
 "cells": [
  {
   "cell_type": "markdown",
   "metadata": {},
   "source": [
    "# 多种文本分割方式总结\n",
    "\n",
    "## 基于字符的分割"
   ]
  },
  {
   "cell_type": "code",
   "execution_count": 2,
   "metadata": {},
   "outputs": [
    {
     "data": {
      "text/plain": [
       "[Document(metadata={'source': '/Users/libing/kk_datasets/txt/faq-4359.txt'}, page_content='一、什么是0分期利息\\n\\n您好，“0分期利息”是指买家使用花呗、招行掌上生活、工行信用卡、银联信用卡等其他分期购物时无需支付分期利息的功能，分期利息由华为商城承担。\\n\\n注：自2023年起，商城将相关宣传将“免息”调整为“0分期利息”，主要基于中国银保监会、中国人民银行《关于进一步促进信用卡业务规范健康发展的通知》（银保监规〔2022〕13号），要求“银行业金融机构应当在分期业务合同（协议）首页和业务办理页面以明显方式展示分期业务可能产生的所有息费项目、年化利率水平和息费计算方式。向客户展示分期业务收取的资金使用成本时，应当统一采用利息形式，并明确相应的计息规则，不得采用手续费等形式，法律法规另有规定的除外。”\\n\\n\\n\\n二、可以参与0分期利息活动的商品\\n\\n商城目前仅支持部分单品参与0分期利息，若多商品（含不支持0分期利息）合并支付则不支持0分期利息，以支付页面为准，后续会逐渐开放更多商品，敬请关注。\\n\\n\\n\\n三、确认订单分期成功\\n\\n订单提交成功后在支付方式页面选择分期支付，点选显示0分期利息的支付方式及具体0分期利息期数后，完成支付。\\n\\n\\n\\n\\n\\n四、订单中有多个商品，其中有商品支持0分期利息，为什么提交后却没有0分期利息？\\n\\n0分期利息商品不能和其它商品一起购买，如果和其他商品购买而不能享用0分期利息，建议取消原来的订单，重新购买时把0分期利息商品和其他商品分开单独购买；且0分期利息的分期数是固定的，如6期0分期利息，并不是3/6/12都提供0分期利息的。\\n\\n\\n\\n五、小程序是否支持0分期利息？\\n\\n华为商城小程序暂不支持0分期利息。')]"
      ]
     },
     "execution_count": 2,
     "metadata": {},
     "output_type": "execute_result"
    }
   ],
   "source": [
    "from langchain_community.document_loaders import TextLoader\n",
    "\n",
    "file_path = \"/Users/libing/kk_datasets/txt/faq-4359.txt\"\n",
    "\n",
    "loader = TextLoader(file_path, encoding='utf-8')\n",
    "doc = loader.load()\n",
    "doc"
   ]
  },
  {
   "cell_type": "code",
   "execution_count": 4,
   "metadata": {},
   "outputs": [
    {
     "name": "stderr",
     "output_type": "stream",
     "text": [
      "Created a chunk of size 224, which is longer than the specified 100\n",
      "Created a chunk of size 117, which is longer than the specified 100\n"
     ]
    },
    {
     "name": "stdout",
     "output_type": "stream",
     "text": [
      "[Document(metadata={}, page_content='一、什么是0分期利息\\n\\n您好，“0分期利息”是指买家使用花呗、招行掌上生活、工行信用卡、银联信用卡等其他分期购物时无需支付分期利息的功能，分期利息由华为商城承担。'), Document(metadata={}, page_content='注：自2023年起，商城将相关宣传将“免息”调整为“0分期利息”，主要基于中国银保监会、中国人民银行《关于进一步促进信用卡业务规范健康发展的通知》（银保监规〔2022〕13号），要求“银行业金融机构应当在分期业务合同（协议）首页和业务办理页面以明显方式展示分期业务可能产生的所有息费项目、年化利率水平和息费计算方式。向客户展示分期业务收取的资金使用成本时，应当统一采用利息形式，并明确相应的计息规则，不得采用手续费等形式，法律法规另有规定的除外。”'), Document(metadata={}, page_content='二、可以参与0分期利息活动的商品\\n\\n商城目前仅支持部分单品参与0分期利息，若多商品（含不支持0分期利息）合并支付则不支持0分期利息，以支付页面为准，后续会逐渐开放更多商品，敬请关注。'), Document(metadata={}, page_content='三、确认订单分期成功\\n\\n订单提交成功后在支付方式页面选择分期支付，点选显示0分期利息的支付方式及具体0分期利息期数后，完成支付。'), Document(metadata={}, page_content='四、订单中有多个商品，其中有商品支持0分期利息，为什么提交后却没有0分期利息？'), Document(metadata={}, page_content='0分期利息商品不能和其它商品一起购买，如果和其他商品购买而不能享用0分期利息，建议取消原来的订单，重新购买时把0分期利息商品和其他商品分开单独购买；且0分期利息的分期数是固定的，如6期0分期利息，并不是3/6/12都提供0分期利息的。'), Document(metadata={}, page_content='五、小程序是否支持0分期利息？\\n\\n华为商城小程序暂不支持0分期利息。')]\n"
     ]
    }
   ],
   "source": [
    "from langchain_text_splitters import CharacterTextSplitter\n",
    "\n",
    "text_splitter = CharacterTextSplitter(\n",
    "    separator=\"\\n\\n\", \n",
    "    chunk_size = 100,\n",
    "    chunk_overlap = 10,\n",
    "    length_function = len,\n",
    "    is_separator_regex=False\n",
    ")\n",
    "\n",
    "texts = text_splitter.create_documents([doc[0].page_content])\n",
    "print(texts)"
   ]
  },
  {
   "cell_type": "markdown",
   "metadata": {},
   "source": [
    "## 拆分代码code\n",
    "\n",
    "CodeTextSplitter 允许您使用支持的多种语言拆分代码。导入枚举 Language 并指定语言。"
   ]
  },
  {
   "cell_type": "code",
   "execution_count": 5,
   "metadata": {},
   "outputs": [
    {
     "name": "stdout",
     "output_type": "stream",
     "text": [
      "['cpp', 'go', 'java', 'kotlin', 'js', 'ts', 'php', 'proto', 'python', 'rst', 'ruby', 'rust', 'scala', 'swift', 'markdown', 'latex', 'html', 'sol', 'csharp', 'cobol', 'c', 'lua', 'perl', 'haskell', 'elixir', 'powershell']\n"
     ]
    }
   ],
   "source": [
    "from langchain_text_splitters import (\n",
    "    Language,\n",
    "    RecursiveCharacterTextSplitter\n",
    ")\n",
    "\n",
    "language = [l.value for l in Language]\n",
    "print(language)"
   ]
  },
  {
   "cell_type": "code",
   "execution_count": 6,
   "metadata": {},
   "outputs": [
    {
     "data": {
      "text/plain": [
       "['\\nfunction ',\n",
       " '\\nconst ',\n",
       " '\\nlet ',\n",
       " '\\nvar ',\n",
       " '\\nclass ',\n",
       " '\\nif ',\n",
       " '\\nfor ',\n",
       " '\\nwhile ',\n",
       " '\\nswitch ',\n",
       " '\\ncase ',\n",
       " '\\ndefault ',\n",
       " '\\n\\n',\n",
       " '\\n',\n",
       " ' ',\n",
       " '']"
      ]
     },
     "execution_count": 6,
     "metadata": {},
     "output_type": "execute_result"
    }
   ],
   "source": [
    "RecursiveCharacterTextSplitter.get_separators_for_language(Language.JS)"
   ]
  },
  {
   "cell_type": "code",
   "execution_count": 8,
   "metadata": {},
   "outputs": [
    {
     "data": {
      "text/plain": [
       "[Document(metadata={'source': '/Users/libing/kk_datasets/js/main.js'}, page_content='// 导入threejs\\nimport * as THREE from \"three\";\\n// 导入轨道控制器\\nimport { OrbitControls } from \"three/examples/jsm/controls/OrbitControls.js\";\\n// 导入lil.gui\\nimport { GUI } from \"three/examples/jsm/libs/lil-gui.module.min.js\";\\n// 导入hdr加载器\\nimport { RGBELoader } from \"three/examples/jsm/loaders/RGBELoader.js\";\\n// 导入gltf加载器\\nimport { GLTFLoader } from \"three/examples/jsm/loaders/GLTFLoader.js\";\\n// 导入draco解码器\\nimport { DRACOLoader } from \"three/examples/jsm/loaders/DRACOLoader.js\";\\nimport { CSS3DRenderer,CSS3DObject } from \\'three/addons/renderers/CSS3DRenderer.js\\';\\n\\n// 创建场景\\nconst scene = new THREE.Scene();\\n\\n// 创建相机\\nconst camera = new THREE.PerspectiveCamera(\\n  45, // 视角\\n  window.innerWidth / window.innerHeight, // 宽高比\\n  1, // 近平面\\n  10000 // 远平面\\n);\\n\\n// 创建渲染器\\nconst renderer = new THREE.WebGLRenderer({\\n  antialias: true, // 开启抗锯齿\\n});\\nrenderer.shadowMap.enabled = true;\\nrenderer.toneMapping = THREE.ReinhardToneMapping;\\nrenderer.toneMappingExposure = 1;\\nrenderer.setSize(window.innerWidth, window.innerHeight);\\ndocument.querySelector(\\'#webgl\\').appendChild(renderer.domElement);\\n\\n// css3drenderer\\nconst css3drenderer = new CSS3DRenderer();\\ncss3drenderer.setSize( window.innerWidth, window.innerHeight );\\ndocument.querySelector( \\'#css\\' ).appendChild( css3drenderer.domElement );\\n\\n\\n// 设置相机位置\\ncamera.position.z = 800;\\ncamera.position.y = 250;\\ncamera.position.x = 300;\\ncamera.lookAt(0, 0, 0);\\n\\n// 添加世界坐标辅助器\\nconst axesHelper = new THREE.AxesHelper(500);\\nscene.add(axesHelper);\\n\\n\\n\\n// 添加轨道控制器\\nconst controls = new OrbitControls(camera, renderer.domElement);\\n// 设置带阻尼的惯性\\ncontrols.enableDamping = true;\\n\\nlet clock = new THREE.Clock();\\n\\nfunction animate() {\\n  let delta = clock.getDelta();\\n  controls.update();\\n  \\n\\n  requestAnimationFrame(animate);\\n  // 渲染\\n  renderer.render(scene, camera);\\n  css3drenderer.render(scene, camera);\\n}\\n\\n\\n// 监听窗口变化\\nwindow.addEventListener(\"resize\", () => {\\n  // 重置渲染器宽高比\\n  renderer.setSize(window.innerWidth, window.innerHeight);\\n  // 重置相机宽高比\\n  camera.aspect = window.innerWidth / window.innerHeight;\\n  // 更新相机投影矩阵\\n  camera.updateProjectionMatrix();\\n});\\n\\n// rgbeLoader 加载hdr贴图\\nlet rgbeLoader = new RGBELoader();\\nrgbeLoader.load(\"./texture/Alex_Hart-Nature_Lab_Bones_2k.hdr\", (envMap) => {\\n  // 设置球形贴图\\n  // envMap.mapping = THREE.EquirectangularReflectionMapping;\\n  envMap.mapping = THREE.EquirectangularRefractionMapping;\\n  // 设置环境贴图\\n  // scene.background = envMap;\\n  scene.background = new THREE.Color(0xffffff);\\n  // 设置环境贴图\\n  scene.environment = envMap;\\n});\\n// rgbeLoader 加载hdr贴图\\n// 实例化加载器gltf\\nconst gltfLoader = new GLTFLoader();\\n// 实例化加载器draco\\nconst dracoLoader = new DRACOLoader();\\n// 设置draco路径\\ndracoLoader.setDecoderPath(\"./draco/\");\\n// 设置gltf加载器draco解码器\\ngltfLoader.setDRACOLoader(dracoLoader);\\n\\n// 加载模型\\ngltfLoader.load(\\n  // 模型路径\\n  \"./model/hilda_regular_00.glb\",\\n  // 加载完成回调\\n  (gltf) => {\\n    // scene.add(gltf.scene);\\n  }\\n);\\n\\n// 创建GUI\\nconst gui = new GUI();\\n\\n\\n// 创建1个半径为100的球体\\nconst sphere = new THREE.Mesh(\\n  new THREE.SphereGeometry(40, 64, 64),\\n  new THREE.MeshStandardMaterial({\\n    color: 0x33ffff,\\n  })\\n)\\nsphere.castShadow = true\\nsphere.receiveShadow = true\\nscene.add(sphere);\\n\\nconst obj = new THREE.Object3D()\\n\\n// 创建1个宽高为200px的div\\nconst div = document.createElement(\"div\");\\ndiv.style.width = \"200px\";\\ndiv.style.height = \"200px\";\\ndiv.style.backgroundColor = \"rgba(0, 0, 255, 0.5)\";\\ndiv.style.padding = \"20px\";\\ndiv.style.color = \"white\";\\ndiv.style.boxSizing = \"border-box\";\\ndiv.innerHTML = \"Hello, 3D!\";\\n\\n\\n\\n// 创建1个css3object\\nconst css3dobject = new CSS3DObject(div);\\nobj.add(css3dobject);\\n\\n// 创建一个threejs里的平面跟css3d的div重合，进行挖洞\\nvar material = new THREE.MeshStandardMaterial({\\n  opacity:0.5,\\n  color:new THREE.Color(0x111111),\\n  blending:THREE.NoBlending,\\n})\\nvar geometry = new THREE.BoxGeometry(200,200,1)\\nvar mesh = new THREE.Mesh(geometry,material)\\nmesh.castShadow = true\\nmesh.receiveShadow = true\\n\\nobj.add(mesh)\\nscene.add(obj)\\n\\n// 添加平行光\\nconst light = new THREE.DirectionalLight(0xffffff, 100);\\n\\nlight.position.set(500, 200, 200);\\nlight.castShadow = true;\\nscene.add(light);\\nlight.shadow.camera.near = 1;\\nlight.shadow.camera.far = 1000;\\nlight.shadow.camera.left = -200;\\nlight.shadow.camera.right = 200;\\nlight.shadow.camera.top = 200;\\nlight.shadow.camera.bottom = -200;\\n\\n\\n\\n\\nanimate();\\n')]"
      ]
     },
     "execution_count": 8,
     "metadata": {},
     "output_type": "execute_result"
    }
   ],
   "source": [
    "file_path = \"/Users/libing/kk_datasets/js/main.js\"\n",
    "\n",
    "loader = TextLoader(file_path, encoding='utf8')\n",
    "doc = loader.load()\n",
    "doc"
   ]
  },
  {
   "cell_type": "code",
   "execution_count": 11,
   "metadata": {},
   "outputs": [
    {
     "data": {
      "text/plain": [
       "[Document(metadata={}, page_content='// 导入threejs\\nimport * as THREE from \"three\";\\n// 导入轨道控制器\\nimport { OrbitControls } from \"three/examples/jsm/controls/OrbitControls.js\";\\n// 导入lil.gui\\nimport { GUI } from \"three/examples/jsm/libs/lil-gui.module.min.js\";\\n// 导入hdr加载器'),\n",
       " Document(metadata={}, page_content='// 导入hdr加载器\\nimport { RGBELoader } from \"three/examples/jsm/loaders/RGBELoader.js\";\\n// 导入gltf加载器\\nimport { GLTFLoader } from \"three/examples/jsm/loaders/GLTFLoader.js\";\\n// 导入draco解码器'),\n",
       " Document(metadata={}, page_content='// 导入draco解码器\\nimport { DRACOLoader } from \"three/examples/jsm/loaders/DRACOLoader.js\";\\nimport { CSS3DRenderer,CSS3DObject } from \\'three/addons/renderers/CSS3DRenderer.js\\';'),\n",
       " Document(metadata={}, page_content='// 创建场景'),\n",
       " Document(metadata={}, page_content='const scene = new THREE.Scene();\\n\\n// 创建相机\\nconst camera = new THREE.PerspectiveCamera(\\n  45, // 视角\\n  window.innerWidth / window.innerHeight, // 宽高比\\n  1, // 近平面\\n  10000 // 远平面\\n);\\n\\n// 创建渲染器'),\n",
       " Document(metadata={}, page_content='const renderer = new THREE.WebGLRenderer({\\n  antialias: true, // 开启抗锯齿\\n});\\nrenderer.shadowMap.enabled = true;\\nrenderer.toneMapping = THREE.ReinhardToneMapping;\\nrenderer.toneMappingExposure = 1;'),\n",
       " Document(metadata={}, page_content=\"renderer.setSize(window.innerWidth, window.innerHeight);\\ndocument.querySelector('#webgl').appendChild(renderer.domElement);\"),\n",
       " Document(metadata={}, page_content='// css3drenderer'),\n",
       " Document(metadata={}, page_content=\"const css3drenderer = new CSS3DRenderer();\\ncss3drenderer.setSize( window.innerWidth, window.innerHeight );\\ndocument.querySelector( '#css' ).appendChild( css3drenderer.domElement );\"),\n",
       " Document(metadata={}, page_content='// 设置相机位置\\ncamera.position.z = 800;\\ncamera.position.y = 250;\\ncamera.position.x = 300;\\ncamera.lookAt(0, 0, 0);\\n\\n// 添加世界坐标辅助器'),\n",
       " Document(metadata={}, page_content='const axesHelper = new THREE.AxesHelper(500);\\nscene.add(axesHelper);\\n\\n\\n\\n// 添加轨道控制器\\nconst controls = new OrbitControls(camera, renderer.domElement);\\n// 设置带阻尼的惯性\\ncontrols.enableDamping = true;\\n\\nlet clock = new THREE.Clock();'),\n",
       " Document(metadata={}, page_content='function animate() {\\n  let delta = clock.getDelta();\\n  controls.update();\\n  \\n\\n  requestAnimationFrame(animate);\\n  // 渲染\\n  renderer.render(scene, camera);\\n  css3drenderer.render(scene, camera);\\n}'),\n",
       " Document(metadata={}, page_content='// 监听窗口变化\\nwindow.addEventListener(\"resize\", () => {\\n  // 重置渲染器宽高比\\n  renderer.setSize(window.innerWidth, window.innerHeight);\\n  // 重置相机宽高比\\n  camera.aspect = window.innerWidth / window.innerHeight;\\n  // 更新相机投影矩阵\\n  camera.updateProjectionMatrix();'),\n",
       " Document(metadata={}, page_content='});'),\n",
       " Document(metadata={}, page_content='// rgbeLoader 加载hdr贴图'),\n",
       " Document(metadata={}, page_content='let rgbeLoader = new RGBELoader();\\nrgbeLoader.load(\"./texture/Alex_Hart-Nature_Lab_Bones_2k.hdr\", (envMap) => {\\n  // 设置球形贴图\\n  // envMap.mapping = THREE.EquirectangularReflectionMapping;\\n  envMap.mapping = THREE.EquirectangularRefractionMapping;'),\n",
       " Document(metadata={}, page_content='// 设置环境贴图\\n  // scene.background = envMap;\\n  scene.background = new THREE.Color(0xffffff);\\n  // 设置环境贴图\\n  scene.environment = envMap;\\n});\\n// rgbeLoader 加载hdr贴图\\n// 实例化加载器gltf'),\n",
       " Document(metadata={}, page_content='const gltfLoader = new GLTFLoader();\\n// 实例化加载器draco'),\n",
       " Document(metadata={}, page_content='const dracoLoader = new DRACOLoader();\\n// 设置draco路径\\ndracoLoader.setDecoderPath(\"./draco/\");\\n// 设置gltf加载器draco解码器\\ngltfLoader.setDRACOLoader(dracoLoader);'),\n",
       " Document(metadata={}, page_content='// 加载模型\\ngltfLoader.load(\\n  // 模型路径\\n  \"./model/hilda_regular_00.glb\",\\n  // 加载完成回调\\n  (gltf) => {\\n    // scene.add(gltf.scene);\\n  }\\n);\\n\\n// 创建GUI'),\n",
       " Document(metadata={}, page_content='const gui = new GUI();\\n\\n\\n// 创建1个半径为100的球体\\nconst sphere = new THREE.Mesh(\\n  new THREE.SphereGeometry(40, 64, 64),\\n  new THREE.MeshStandardMaterial({\\n    color: 0x33ffff,\\n  })\\n)\\nsphere.castShadow = true\\nsphere.receiveShadow = true\\nscene.add(sphere);'),\n",
       " Document(metadata={}, page_content='const obj = new THREE.Object3D()\\n\\n// 创建1个宽高为200px的div'),\n",
       " Document(metadata={}, page_content='const div = document.createElement(\"div\");\\ndiv.style.width = \"200px\";\\ndiv.style.height = \"200px\";\\ndiv.style.backgroundColor = \"rgba(0, 0, 255, 0.5)\";\\ndiv.style.padding = \"20px\";\\ndiv.style.color = \"white\";\\ndiv.style.boxSizing = \"border-box\";'),\n",
       " Document(metadata={}, page_content='div.innerHTML = \"Hello, 3D!\";'),\n",
       " Document(metadata={}, page_content='// 创建1个css3object'),\n",
       " Document(metadata={}, page_content='const css3dobject = new CSS3DObject(div);\\nobj.add(css3dobject);\\n\\n// 创建一个threejs里的平面跟css3d的div重合，进行挖洞\\nvar material = new THREE.MeshStandardMaterial({\\n  opacity:0.5,\\n  color:new THREE.Color(0x111111),\\n  blending:THREE.NoBlending,\\n})'),\n",
       " Document(metadata={}, page_content='var geometry = new THREE.BoxGeometry(200,200,1)\\nvar mesh = new THREE.Mesh(geometry,material)\\nmesh.castShadow = true\\nmesh.receiveShadow = true\\n\\nobj.add(mesh)\\nscene.add(obj)\\n\\n// 添加平行光'),\n",
       " Document(metadata={}, page_content='const light = new THREE.DirectionalLight(0xffffff, 100);'),\n",
       " Document(metadata={}, page_content='light.position.set(500, 200, 200);\\nlight.castShadow = true;\\nscene.add(light);\\nlight.shadow.camera.near = 1;\\nlight.shadow.camera.far = 1000;\\nlight.shadow.camera.left = -200;\\nlight.shadow.camera.right = 200;\\nlight.shadow.camera.top = 200;'),\n",
       " Document(metadata={}, page_content='light.shadow.camera.bottom = -200;'),\n",
       " Document(metadata={}, page_content='animate();')]"
      ]
     },
     "execution_count": 11,
     "metadata": {},
     "output_type": "execute_result"
    }
   ],
   "source": [
    "js_splitter = RecursiveCharacterTextSplitter.from_language(\n",
    "    language=Language.JS,\n",
    "    chunk_size=250,\n",
    "    chunk_overlap=20\n",
    ")\n",
    "\n",
    "js_docs = js_splitter.create_documents([doc[0].page_content])\n",
    "js_docs"
   ]
  },
  {
   "cell_type": "markdown",
   "metadata": {},
   "source": [
    "## Markdown文本分割器\n",
    "\n",
    "许多聊天或问答应用程序都涉及在嵌入和矢量存储之前对输入文档进行分块。\n",
    "\n",
    "如前所述，分块通常旨在将具有共同上下文的文本放在一起。考虑到这一点，我们可能希望特别尊重文档本身的结构。例如，Markdown 文件是按标题组织的。在特定标头组中创建块是一个直观的想法。为了解决这个挑战，我们可以使用 MarkdownHeaderTextSplitter 。这将按一组指定的标头拆分 Markdown 文件。\n",
    "\n",
    "例如，如果我们想分割这个 markdown：\n",
    "\n",
    "```\n",
    "# Foo\n",
    "## Bar\n",
    "Hi this is Jim  \n",
    "\n",
    "Hi this is Joe\n",
    "\n",
    "## Baz\n",
    "Hi this is Molly\n",
    "```\n"
   ]
  },
  {
   "cell_type": "code",
   "execution_count": 15,
   "metadata": {},
   "outputs": [
    {
     "data": {
      "text/plain": [
       "[Document(metadata={'source': '/Users/libing/kk_datasets/txt/agent.md'}, page_content='### 智能体（Agent）概述\\n\\n智能体（Agent）是一种能够感知其环境并基于感知采取行动以实现目标的自主实体。智能体的设计、实现和应用涉及多个领域，包括人工智能、机器人学、分布式系统和人机交互等。本文档详细描述了智能体的定义、特性、类型、体系结构及其应用。\\n\\n------\\n\\n## 1. 智能体的定义\\n\\n智能体可以被定义为一个能够感知环境（通过传感器）、执行操作（通过效应器）并实现特定目标的系统。通常，智能体的行为是自主的，并且可以适应环境变化。\\n\\n公式化定义：\\n\\nAgent=⟨Sensors,Actuators,Goals,Environment,Policy⟩Agent = \\\\langle Sensors, Actuators, Goals, Environment, Policy \\\\rangle\\n\\n- **Sensors（传感器）**: 用于感知环境的设备或软件模块。\\n- **Actuators（效应器）**: 用于与环境交互或修改环境状态的设备或模块。\\n- **Goals（目标）**: 智能体需要实现的任务或优化的问题。\\n- **Environment（环境）**: 智能体感知和作用的外部世界。\\n- **Policy（策略）**: 从感知到行为的映射函数，决定智能体的动作。\\n\\n------\\n\\n## 2. 智能体的特性\\n\\n1. **自主性（Autonomy）**\\n    智能体能够独立运行，而不需要外界持续的干预。\\n2. **感知能力（Perception）**\\n    智能体可以通过传感器感知周围环境的信息。\\n3. **反应能力（Reactivity）**\\n    智能体可以实时响应环境中的变化。\\n4. **目标导向性（Goal-Oriented）**\\n    智能体的行为受到目标或任务的驱动。\\n5. **适应性（Adaptivity）**\\n    智能体能够适应环境的动态变化。\\n6. **学习能力（Learning Ability）**\\n    高级智能体可以通过交互和经验提高自身性能。\\n\\n------\\n\\n## 3. 智能体的类型\\n\\n根据功能和设计，智能体可分为以下几种类型：\\n\\n### 3.1 简单反射型智能体\\n\\n- **特点**: 直接基于感知采取行动，不维护环境状态。\\n- **优点**: 结构简单、响应迅速。\\n- **缺点**: 无法处理复杂或动态变化的环境。\\n\\n### 3.2 基于模型的智能体\\n\\n- **特点**: 维护一个内部环境模型，用于预测未来状态。\\n- **优点**: 可以处理部分可观察的环境。\\n- **缺点**: 计算成本高，设计复杂。\\n\\n### 3.3 目标导向型智能体\\n\\n- **特点**: 行为决策以实现特定目标为导向。\\n- **优点**: 能够平衡短期和长期收益。\\n- **缺点**: 可能忽略资源或时间限制。\\n\\n### 3.4 实用型智能体\\n\\n- **特点**: 考虑到目标实现的实用性（效率和资源约束）。\\n- **优点**: 更符合现实需求。\\n- **缺点**: 设计策略较复杂。\\n\\n### 3.5 学习型智能体\\n\\n- **特点**: 能够通过经验或与环境的交互改进行为策略。\\n- **优点**: 在动态环境中表现优秀。\\n- **缺点**: 学习可能需要较长时间，早期行为不稳定。\\n\\n------\\n\\n## 4. 智能体的体系结构\\n\\n### 4.1 感知-决策-执行（Perceive-Decide-Act）模型\\n\\n- 工作流程\\n\\n  :\\n\\n  1. **感知（Perceive）**: 从环境中获取信息。\\n  2. **决策（Decide）**: 基于策略选择最佳行动。\\n  3. **执行（Act）**: 通过效应器对环境实施影响。\\n\\n### 4.2 分层体系结构\\n\\n- 层次划分\\n\\n  :\\n\\n  - **低层**: 负责简单反应。\\n  - **中层**: 维护环境模型。\\n  - **高层**: 进行规划和决策。\\n\\n### 4.3 多智能体系统（Multi-Agent Systems, MAS）\\n\\n- **特点**: 多个智能体协作或竞争完成复杂任务。\\n- **优点**: 提高系统的鲁棒性和灵活性。\\n- **挑战**: 需要解决协调和冲突问题。\\n\\n------\\n\\n## 5. 智能体的应用\\n\\n智能体技术广泛应用于多个领域，涵盖了理论研究和实际应用：\\n\\n1. **机器人学**\\n   - 自主导航、机械臂控制、无人机调度。\\n2. **游戏开发**\\n   - NPC（非玩家角色）的行为设计和实时对战策略。\\n3. **自动驾驶**\\n   - 感知周围交通环境并决策安全驾驶策略。\\n4. **医疗健康**\\n   - 智能诊断系统、药物研发中的模拟实验。\\n5. **金融系统**\\n   - 股票交易自动化、欺诈检测。\\n6. **分布式系统**\\n   - 网络路由优化、分布式计算任务调度。\\n7. **自然语言处理**\\n   - 聊天机器人、语言翻译。\\n\\n------\\n\\n## 6. 智能体开发的核心技术\\n\\n### 6.1 感知技术\\n\\n- 传感器（物理传感器、虚拟传感器）。\\n- 图像处理（基于OpenCV等工具）。\\n- 自然语言理解（NLU）。\\n\\n### 6.2 决策技术\\n\\n- 规则引擎（规则库）。\\n- 马尔可夫决策过程（MDP）。\\n- 强化学习（Q-Learning、深度强化学习）。\\n\\n### 6.3 执行技术\\n\\n- 控制算法（PID控制、运动规划）。\\n- 机器人效应器（驱动电机、机械臂）。\\n\\n------\\n\\n## 7. 未来发展方向\\n\\n1. **更高的自主性**\\n    智能体的发展趋势是减少人为干预，增强自适应能力。\\n2. **群体智能**\\n    多智能体系统的协作性能将进一步提升，适用于复杂任务。\\n3. **跨领域应用**\\n    智能体将更广泛地融入工业、服务业、军事等领域。\\n4. **伦理与安全性**\\n    需要关注智能体在隐私、伦理道德和决策透明性方面的影响。\\n\\n------\\n\\n## 8. 参考资料\\n\\n1. Russell, S., & Norvig, P. (2010). *Artificial Intelligence: A Modern Approach*.\\n2. Wooldridge, M. (2009). *An Introduction to MultiAgent Systems*.\\n3. Sutton, R. S., & Barto, A. G. (2018). *Reinforcement Learning: An Introduction*.\\n\\n------\\n\\n此文档旨在提供对智能体的全面理解，欢迎补充与讨论！')]"
      ]
     },
     "execution_count": 15,
     "metadata": {},
     "output_type": "execute_result"
    }
   ],
   "source": [
    "from langchain_text_splitters import MarkdownHeaderTextSplitter\n",
    "\n",
    "file_path = \"/Users/libing/kk_datasets/txt/agent.md\"\n",
    "loader = TextLoader(file_path, encoding='utf8')\n",
    "doc = loader.load()\n",
    "doc"
   ]
  },
  {
   "cell_type": "code",
   "execution_count": 16,
   "metadata": {},
   "outputs": [
    {
     "data": {
      "text/plain": [
       "[Document(metadata={'Header 3': '智能体（Agent）概述'}, page_content='智能体（Agent）是一种能够感知其环境并基于感知采取行动以实现目标的自主实体。智能体的设计、实现和应用涉及多个领域，包括人工智能、机器人学、分布式系统和人机交互等。本文档详细描述了智能体的定义、特性、类型、体系结构及其应用。  \\n------'),\n",
       " Document(metadata={'Header 2': '1. 智能体的定义'}, page_content='智能体可以被定义为一个能够感知环境（通过传感器）、执行操作（通过效应器）并实现特定目标的系统。通常，智能体的行为是自主的，并且可以适应环境变化。  \\n公式化定义：  \\nAgent=⟨Sensors,Actuators,Goals,Environment,Policy⟩Agent = \\\\langle Sensors, Actuators, Goals, Environment, Policy \\\\rangle  \\n- **Sensors（传感器）**: 用于感知环境的设备或软件模块。\\n- **Actuators（效应器）**: 用于与环境交互或修改环境状态的设备或模块。\\n- **Goals（目标）**: 智能体需要实现的任务或优化的问题。\\n- **Environment（环境）**: 智能体感知和作用的外部世界。\\n- **Policy（策略）**: 从感知到行为的映射函数，决定智能体的动作。  \\n------'),\n",
       " Document(metadata={'Header 2': '2. 智能体的特性'}, page_content='1. **自主性（Autonomy）**\\n智能体能够独立运行，而不需要外界持续的干预。\\n2. **感知能力（Perception）**\\n智能体可以通过传感器感知周围环境的信息。\\n3. **反应能力（Reactivity）**\\n智能体可以实时响应环境中的变化。\\n4. **目标导向性（Goal-Oriented）**\\n智能体的行为受到目标或任务的驱动。\\n5. **适应性（Adaptivity）**\\n智能体能够适应环境的动态变化。\\n6. **学习能力（Learning Ability）**\\n高级智能体可以通过交互和经验提高自身性能。  \\n------'),\n",
       " Document(metadata={'Header 2': '3. 智能体的类型'}, page_content='根据功能和设计，智能体可分为以下几种类型：'),\n",
       " Document(metadata={'Header 2': '3. 智能体的类型', 'Header 3': '3.1 简单反射型智能体'}, page_content='- **特点**: 直接基于感知采取行动，不维护环境状态。\\n- **优点**: 结构简单、响应迅速。\\n- **缺点**: 无法处理复杂或动态变化的环境。'),\n",
       " Document(metadata={'Header 2': '3. 智能体的类型', 'Header 3': '3.2 基于模型的智能体'}, page_content='- **特点**: 维护一个内部环境模型，用于预测未来状态。\\n- **优点**: 可以处理部分可观察的环境。\\n- **缺点**: 计算成本高，设计复杂。'),\n",
       " Document(metadata={'Header 2': '3. 智能体的类型', 'Header 3': '3.3 目标导向型智能体'}, page_content='- **特点**: 行为决策以实现特定目标为导向。\\n- **优点**: 能够平衡短期和长期收益。\\n- **缺点**: 可能忽略资源或时间限制。'),\n",
       " Document(metadata={'Header 2': '3. 智能体的类型', 'Header 3': '3.4 实用型智能体'}, page_content='- **特点**: 考虑到目标实现的实用性（效率和资源约束）。\\n- **优点**: 更符合现实需求。\\n- **缺点**: 设计策略较复杂。'),\n",
       " Document(metadata={'Header 2': '3. 智能体的类型', 'Header 3': '3.5 学习型智能体'}, page_content='- **特点**: 能够通过经验或与环境的交互改进行为策略。\\n- **优点**: 在动态环境中表现优秀。\\n- **缺点**: 学习可能需要较长时间，早期行为不稳定。  \\n------'),\n",
       " Document(metadata={'Header 2': '4. 智能体的体系结构', 'Header 3': '4.1 感知-决策-执行（Perceive-Decide-Act）模型'}, page_content='- 工作流程  \\n:  \\n1. **感知（Perceive）**: 从环境中获取信息。\\n2. **决策（Decide）**: 基于策略选择最佳行动。\\n3. **执行（Act）**: 通过效应器对环境实施影响。'),\n",
       " Document(metadata={'Header 2': '4. 智能体的体系结构', 'Header 3': '4.2 分层体系结构'}, page_content='- 层次划分  \\n:  \\n- **低层**: 负责简单反应。\\n- **中层**: 维护环境模型。\\n- **高层**: 进行规划和决策。'),\n",
       " Document(metadata={'Header 2': '4. 智能体的体系结构', 'Header 3': '4.3 多智能体系统（Multi-Agent Systems, MAS）'}, page_content='- **特点**: 多个智能体协作或竞争完成复杂任务。\\n- **优点**: 提高系统的鲁棒性和灵活性。\\n- **挑战**: 需要解决协调和冲突问题。  \\n------'),\n",
       " Document(metadata={'Header 2': '5. 智能体的应用'}, page_content='智能体技术广泛应用于多个领域，涵盖了理论研究和实际应用：  \\n1. **机器人学**\\n- 自主导航、机械臂控制、无人机调度。\\n2. **游戏开发**\\n- NPC（非玩家角色）的行为设计和实时对战策略。\\n3. **自动驾驶**\\n- 感知周围交通环境并决策安全驾驶策略。\\n4. **医疗健康**\\n- 智能诊断系统、药物研发中的模拟实验。\\n5. **金融系统**\\n- 股票交易自动化、欺诈检测。\\n6. **分布式系统**\\n- 网络路由优化、分布式计算任务调度。\\n7. **自然语言处理**\\n- 聊天机器人、语言翻译。  \\n------'),\n",
       " Document(metadata={'Header 2': '6. 智能体开发的核心技术', 'Header 3': '6.1 感知技术'}, page_content='- 传感器（物理传感器、虚拟传感器）。\\n- 图像处理（基于OpenCV等工具）。\\n- 自然语言理解（NLU）。'),\n",
       " Document(metadata={'Header 2': '6. 智能体开发的核心技术', 'Header 3': '6.2 决策技术'}, page_content='- 规则引擎（规则库）。\\n- 马尔可夫决策过程（MDP）。\\n- 强化学习（Q-Learning、深度强化学习）。'),\n",
       " Document(metadata={'Header 2': '6. 智能体开发的核心技术', 'Header 3': '6.3 执行技术'}, page_content='- 控制算法（PID控制、运动规划）。\\n- 机器人效应器（驱动电机、机械臂）。  \\n------'),\n",
       " Document(metadata={'Header 2': '7. 未来发展方向'}, page_content='1. **更高的自主性**\\n智能体的发展趋势是减少人为干预，增强自适应能力。\\n2. **群体智能**\\n多智能体系统的协作性能将进一步提升，适用于复杂任务。\\n3. **跨领域应用**\\n智能体将更广泛地融入工业、服务业、军事等领域。\\n4. **伦理与安全性**\\n需要关注智能体在隐私、伦理道德和决策透明性方面的影响。  \\n------'),\n",
       " Document(metadata={'Header 2': '8. 参考资料'}, page_content='1. Russell, S., & Norvig, P. (2010). *Artificial Intelligence: A Modern Approach*.\\n2. Wooldridge, M. (2009). *An Introduction to MultiAgent Systems*.\\n3. Sutton, R. S., & Barto, A. G. (2018). *Reinforcement Learning: An Introduction*.  \\n------  \\n此文档旨在提供对智能体的全面理解，欢迎补充与讨论！')]"
      ]
     },
     "execution_count": 16,
     "metadata": {},
     "output_type": "execute_result"
    }
   ],
   "source": [
    "headers_to_split_on = [\n",
    "    (\"#\", \"Header 1\"),\n",
    "    (\"##\", \"Header 2\"),\n",
    "    (\"###\", \"Header 3\")\n",
    "]\n",
    "\n",
    "markdown_splitter = MarkdownHeaderTextSplitter(headers_to_split_on=headers_to_split_on)\n",
    "markdown_splits = markdown_splitter.split_text(doc[0].page_content)\n",
    "markdown_splits\n"
   ]
  }
 ],
 "metadata": {
  "kernelspec": {
   "display_name": "kk_langchain",
   "language": "python",
   "name": "python3"
  },
  "language_info": {
   "codemirror_mode": {
    "name": "ipython",
    "version": 3
   },
   "file_extension": ".py",
   "mimetype": "text/x-python",
   "name": "python",
   "nbconvert_exporter": "python",
   "pygments_lexer": "ipython3",
   "version": "3.10.16"
  }
 },
 "nbformat": 4,
 "nbformat_minor": 2
}
