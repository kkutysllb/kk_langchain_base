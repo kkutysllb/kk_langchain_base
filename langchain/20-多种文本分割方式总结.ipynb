{
 "cells": [
  {
   "cell_type": "markdown",
   "metadata": {},
   "source": [
    "# 多种文本分割方式总结\n",
    "\n",
    "## 基于字符的分割"
   ]
  },
  {
   "cell_type": "code",
   "execution_count": 2,
   "metadata": {},
   "outputs": [
    {
     "data": {
      "text/plain": [
       "[Document(metadata={'source': '/mnt/f/kk_datasets/txt/faq-4359.txt'}, page_content='一、什么是0分期利息\\n\\n您好，“0分期利息”是指买家使用花呗、招行掌上生活、工行信用卡、银联信用卡等其他分期购物时无需支付分期利息的功能，分期利息由华为商城承担。\\n\\n注：自2023年起，商城将相关宣传将“免息”调整为“0分期利息”，主要基于中国银保监会、中国人民银行《关于进一步促进信用卡业务规范健康发展的通知》（银保监规〔2022〕13号），要求“银行业金融机构应当在分期业务合同（协议）首页和业务办理页面以明显方式展示分期业务可能产生的所有息费项目、年化利率水平和息费计算方式。向客户展示分期业务收取的资金使用成本时，应当统一采用利息形式，并明确相应的计息规则，不得采用手续费等形式，法律法规另有规定的除外。”\\n\\n\\n\\n二、可以参与0分期利息活动的商品\\n\\n商城目前仅支持部分单品参与0分期利息，若多商品（含不支持0分期利息）合并支付则不支持0分期利息，以支付页面为准，后续会逐渐开放更多商品，敬请关注。\\n\\n\\n\\n三、确认订单分期成功\\n\\n订单提交成功后在支付方式页面选择分期支付，点选显示0分期利息的支付方式及具体0分期利息期数后，完成支付。\\n\\n\\n\\n\\n\\n四、订单中有多个商品，其中有商品支持0分期利息，为什么提交后却没有0分期利息？\\n\\n0分期利息商品不能和其它商品一起购买，如果和其他商品购买而不能享用0分期利息，建议取消原来的订单，重新购买时把0分期利息商品和其他商品分开单独购买；且0分期利息的分期数是固定的，如6期0分期利息，并不是3/6/12都提供0分期利息的。\\n\\n\\n\\n五、小程序是否支持0分期利息？\\n\\n华为商城小程序暂不支持0分期利息。')]"
      ]
     },
     "execution_count": 2,
     "metadata": {},
     "output_type": "execute_result"
    }
   ],
   "source": [
    "from langchain_community.document_loaders import TextLoader\n",
    "\n",
    "file_path = \"/mnt/f/kk_datasets/txt/faq-4359.txt\"\n",
    "\n",
    "loader = TextLoader(file_path, encoding='utf-8')\n",
    "doc = loader.load()\n",
    "doc"
   ]
  },
  {
   "cell_type": "code",
   "execution_count": 3,
   "metadata": {},
   "outputs": [
    {
     "name": "stderr",
     "output_type": "stream",
     "text": [
      "Created a chunk of size 224, which is longer than the specified 100\n",
      "Created a chunk of size 117, which is longer than the specified 100\n"
     ]
    },
    {
     "name": "stdout",
     "output_type": "stream",
     "text": [
      "[Document(metadata={}, page_content='一、什么是0分期利息\\n\\n您好，“0分期利息”是指买家使用花呗、招行掌上生活、工行信用卡、银联信用卡等其他分期购物时无需支付分期利息的功能，分期利息由华为商城承担。'), Document(metadata={}, page_content='注：自2023年起，商城将相关宣传将“免息”调整为“0分期利息”，主要基于中国银保监会、中国人民银行《关于进一步促进信用卡业务规范健康发展的通知》（银保监规〔2022〕13号），要求“银行业金融机构应当在分期业务合同（协议）首页和业务办理页面以明显方式展示分期业务可能产生的所有息费项目、年化利率水平和息费计算方式。向客户展示分期业务收取的资金使用成本时，应当统一采用利息形式，并明确相应的计息规则，不得采用手续费等形式，法律法规另有规定的除外。”'), Document(metadata={}, page_content='二、可以参与0分期利息活动的商品\\n\\n商城目前仅支持部分单品参与0分期利息，若多商品（含不支持0分期利息）合并支付则不支持0分期利息，以支付页面为准，后续会逐渐开放更多商品，敬请关注。'), Document(metadata={}, page_content='三、确认订单分期成功\\n\\n订单提交成功后在支付方式页面选择分期支付，点选显示0分期利息的支付方式及具体0分期利息期数后，完成支付。'), Document(metadata={}, page_content='四、订单中有多个商品，其中有商品支持0分期利息，为什么提交后却没有0分期利息？'), Document(metadata={}, page_content='0分期利息商品不能和其它商品一起购买，如果和其他商品购买而不能享用0分期利息，建议取消原来的订单，重新购买时把0分期利息商品和其他商品分开单独购买；且0分期利息的分期数是固定的，如6期0分期利息，并不是3/6/12都提供0分期利息的。'), Document(metadata={}, page_content='五、小程序是否支持0分期利息？\\n\\n华为商城小程序暂不支持0分期利息。')]\n"
     ]
    }
   ],
   "source": [
    "from langchain_text_splitters import CharacterTextSplitter\n",
    "\n",
    "text_splitter = CharacterTextSplitter(\n",
    "    separator=\"\\n\\n\", \n",
    "    chunk_size = 100,\n",
    "    chunk_overlap = 10,\n",
    "    length_function = len,\n",
    "    is_separator_regex=False\n",
    ")\n",
    "\n",
    "texts = text_splitter.create_documents([doc[0].page_content])\n",
    "print(texts)"
   ]
  },
  {
   "cell_type": "markdown",
   "metadata": {},
   "source": [
    "## 拆分代码code\n",
    "\n",
    "CodeTextSplitter 允许您使用支持的多种语言拆分代码。导入枚举 Language 并指定语言。"
   ]
  },
  {
   "cell_type": "code",
   "execution_count": 4,
   "metadata": {},
   "outputs": [
    {
     "name": "stdout",
     "output_type": "stream",
     "text": [
      "['cpp', 'go', 'java', 'kotlin', 'js', 'ts', 'php', 'proto', 'python', 'rst', 'ruby', 'rust', 'scala', 'swift', 'markdown', 'latex', 'html', 'sol', 'csharp', 'cobol', 'c', 'lua', 'perl', 'haskell', 'elixir', 'powershell']\n"
     ]
    }
   ],
   "source": [
    "from langchain_text_splitters import (\n",
    "    Language,\n",
    "    RecursiveCharacterTextSplitter\n",
    ")\n",
    "\n",
    "language = [l.value for l in Language]\n",
    "print(language)"
   ]
  },
  {
   "cell_type": "code",
   "execution_count": 5,
   "metadata": {},
   "outputs": [
    {
     "data": {
      "text/plain": [
       "['\\nfunction ',\n",
       " '\\nconst ',\n",
       " '\\nlet ',\n",
       " '\\nvar ',\n",
       " '\\nclass ',\n",
       " '\\nif ',\n",
       " '\\nfor ',\n",
       " '\\nwhile ',\n",
       " '\\nswitch ',\n",
       " '\\ncase ',\n",
       " '\\ndefault ',\n",
       " '\\n\\n',\n",
       " '\\n',\n",
       " ' ',\n",
       " '']"
      ]
     },
     "execution_count": 5,
     "metadata": {},
     "output_type": "execute_result"
    }
   ],
   "source": [
    "RecursiveCharacterTextSplitter.get_separators_for_language(Language.JS)"
   ]
  },
  {
   "cell_type": "code",
   "execution_count": 6,
   "metadata": {},
   "outputs": [
    {
     "data": {
      "text/plain": [
       "[Document(metadata={'source': '/mnt/f/kk_datasets/js/main.js'}, page_content='// 导入threejs\\nimport * as THREE from \"three\";\\n// 导入轨道控制器\\nimport { OrbitControls } from \"three/examples/jsm/controls/OrbitControls.js\";\\n// 导入lil.gui\\nimport { GUI } from \"three/examples/jsm/libs/lil-gui.module.min.js\";\\n// 导入hdr加载器\\nimport { RGBELoader } from \"three/examples/jsm/loaders/RGBELoader.js\";\\n// 导入gltf加载器\\nimport { GLTFLoader } from \"three/examples/jsm/loaders/GLTFLoader.js\";\\n// 导入draco解码器\\nimport { DRACOLoader } from \"three/examples/jsm/loaders/DRACOLoader.js\";\\nimport { CSS3DRenderer,CSS3DObject } from \\'three/addons/renderers/CSS3DRenderer.js\\';\\n\\n// 创建场景\\nconst scene = new THREE.Scene();\\n\\n// 创建相机\\nconst camera = new THREE.PerspectiveCamera(\\n  45, // 视角\\n  window.innerWidth / window.innerHeight, // 宽高比\\n  1, // 近平面\\n  10000 // 远平面\\n);\\n\\n// 创建渲染器\\nconst renderer = new THREE.WebGLRenderer({\\n  antialias: true, // 开启抗锯齿\\n});\\nrenderer.shadowMap.enabled = true;\\nrenderer.toneMapping = THREE.ReinhardToneMapping;\\nrenderer.toneMappingExposure = 1;\\nrenderer.setSize(window.innerWidth, window.innerHeight);\\ndocument.querySelector(\\'#webgl\\').appendChild(renderer.domElement);\\n\\n// css3drenderer\\nconst css3drenderer = new CSS3DRenderer();\\ncss3drenderer.setSize( window.innerWidth, window.innerHeight );\\ndocument.querySelector( \\'#css\\' ).appendChild( css3drenderer.domElement );\\n\\n\\n// 设置相机位置\\ncamera.position.z = 800;\\ncamera.position.y = 250;\\ncamera.position.x = 300;\\ncamera.lookAt(0, 0, 0);\\n\\n// 添加世界坐标辅助器\\nconst axesHelper = new THREE.AxesHelper(500);\\nscene.add(axesHelper);\\n\\n\\n\\n// 添加轨道控制器\\nconst controls = new OrbitControls(camera, renderer.domElement);\\n// 设置带阻尼的惯性\\ncontrols.enableDamping = true;\\n\\nlet clock = new THREE.Clock();\\n\\nfunction animate() {\\n  let delta = clock.getDelta();\\n  controls.update();\\n  \\n\\n  requestAnimationFrame(animate);\\n  // 渲染\\n  renderer.render(scene, camera);\\n  css3drenderer.render(scene, camera);\\n}\\n\\n\\n// 监听窗口变化\\nwindow.addEventListener(\"resize\", () => {\\n  // 重置渲染器宽高比\\n  renderer.setSize(window.innerWidth, window.innerHeight);\\n  // 重置相机宽高比\\n  camera.aspect = window.innerWidth / window.innerHeight;\\n  // 更新相机投影矩阵\\n  camera.updateProjectionMatrix();\\n});\\n\\n// rgbeLoader 加载hdr贴图\\nlet rgbeLoader = new RGBELoader();\\nrgbeLoader.load(\"./texture/Alex_Hart-Nature_Lab_Bones_2k.hdr\", (envMap) => {\\n  // 设置球形贴图\\n  // envMap.mapping = THREE.EquirectangularReflectionMapping;\\n  envMap.mapping = THREE.EquirectangularRefractionMapping;\\n  // 设置环境贴图\\n  // scene.background = envMap;\\n  scene.background = new THREE.Color(0xffffff);\\n  // 设置环境贴图\\n  scene.environment = envMap;\\n});\\n// rgbeLoader 加载hdr贴图\\n// 实例化加载器gltf\\nconst gltfLoader = new GLTFLoader();\\n// 实例化加载器draco\\nconst dracoLoader = new DRACOLoader();\\n// 设置draco路径\\ndracoLoader.setDecoderPath(\"./draco/\");\\n// 设置gltf加载器draco解码器\\ngltfLoader.setDRACOLoader(dracoLoader);\\n\\n// 加载模型\\ngltfLoader.load(\\n  // 模型路径\\n  \"./model/hilda_regular_00.glb\",\\n  // 加载完成回调\\n  (gltf) => {\\n    // scene.add(gltf.scene);\\n  }\\n);\\n\\n// 创建GUI\\nconst gui = new GUI();\\n\\n\\n// 创建1个半径为100的球体\\nconst sphere = new THREE.Mesh(\\n  new THREE.SphereGeometry(40, 64, 64),\\n  new THREE.MeshStandardMaterial({\\n    color: 0x33ffff,\\n  })\\n)\\nsphere.castShadow = true\\nsphere.receiveShadow = true\\nscene.add(sphere);\\n\\nconst obj = new THREE.Object3D()\\n\\n// 创建1个宽高为200px的div\\nconst div = document.createElement(\"div\");\\ndiv.style.width = \"200px\";\\ndiv.style.height = \"200px\";\\ndiv.style.backgroundColor = \"rgba(0, 0, 255, 0.5)\";\\ndiv.style.padding = \"20px\";\\ndiv.style.color = \"white\";\\ndiv.style.boxSizing = \"border-box\";\\ndiv.innerHTML = \"Hello, 3D!\";\\n\\n\\n\\n// 创建1个css3object\\nconst css3dobject = new CSS3DObject(div);\\nobj.add(css3dobject);\\n\\n// 创建一个threejs里的平面跟css3d的div重合，进行挖洞\\nvar material = new THREE.MeshStandardMaterial({\\n  opacity:0.5,\\n  color:new THREE.Color(0x111111),\\n  blending:THREE.NoBlending,\\n})\\nvar geometry = new THREE.BoxGeometry(200,200,1)\\nvar mesh = new THREE.Mesh(geometry,material)\\nmesh.castShadow = true\\nmesh.receiveShadow = true\\n\\nobj.add(mesh)\\nscene.add(obj)\\n\\n// 添加平行光\\nconst light = new THREE.DirectionalLight(0xffffff, 100);\\n\\nlight.position.set(500, 200, 200);\\nlight.castShadow = true;\\nscene.add(light);\\nlight.shadow.camera.near = 1;\\nlight.shadow.camera.far = 1000;\\nlight.shadow.camera.left = -200;\\nlight.shadow.camera.right = 200;\\nlight.shadow.camera.top = 200;\\nlight.shadow.camera.bottom = -200;\\n\\n\\n\\n\\nanimate();\\n')]"
      ]
     },
     "execution_count": 6,
     "metadata": {},
     "output_type": "execute_result"
    }
   ],
   "source": [
    "file_path = \"/mnt/f/kk_datasets/js/main.js\"\n",
    "\n",
    "loader = TextLoader(file_path, encoding='utf8')\n",
    "doc = loader.load()\n",
    "doc"
   ]
  },
  {
   "cell_type": "code",
   "execution_count": 7,
   "metadata": {},
   "outputs": [
    {
     "data": {
      "text/plain": [
       "[Document(metadata={}, page_content='// 导入threejs\\nimport * as THREE from \"three\";\\n// 导入轨道控制器\\nimport { OrbitControls } from \"three/examples/jsm/controls/OrbitControls.js\";\\n// 导入lil.gui\\nimport { GUI } from \"three/examples/jsm/libs/lil-gui.module.min.js\";\\n// 导入hdr加载器'),\n",
       " Document(metadata={}, page_content='// 导入hdr加载器\\nimport { RGBELoader } from \"three/examples/jsm/loaders/RGBELoader.js\";\\n// 导入gltf加载器\\nimport { GLTFLoader } from \"three/examples/jsm/loaders/GLTFLoader.js\";\\n// 导入draco解码器'),\n",
       " Document(metadata={}, page_content='// 导入draco解码器\\nimport { DRACOLoader } from \"three/examples/jsm/loaders/DRACOLoader.js\";\\nimport { CSS3DRenderer,CSS3DObject } from \\'three/addons/renderers/CSS3DRenderer.js\\';'),\n",
       " Document(metadata={}, page_content='// 创建场景'),\n",
       " Document(metadata={}, page_content='const scene = new THREE.Scene();\\n\\n// 创建相机\\nconst camera = new THREE.PerspectiveCamera(\\n  45, // 视角\\n  window.innerWidth / window.innerHeight, // 宽高比\\n  1, // 近平面\\n  10000 // 远平面\\n);\\n\\n// 创建渲染器'),\n",
       " Document(metadata={}, page_content='const renderer = new THREE.WebGLRenderer({\\n  antialias: true, // 开启抗锯齿\\n});\\nrenderer.shadowMap.enabled = true;\\nrenderer.toneMapping = THREE.ReinhardToneMapping;\\nrenderer.toneMappingExposure = 1;'),\n",
       " Document(metadata={}, page_content=\"renderer.setSize(window.innerWidth, window.innerHeight);\\ndocument.querySelector('#webgl').appendChild(renderer.domElement);\"),\n",
       " Document(metadata={}, page_content='// css3drenderer'),\n",
       " Document(metadata={}, page_content=\"const css3drenderer = new CSS3DRenderer();\\ncss3drenderer.setSize( window.innerWidth, window.innerHeight );\\ndocument.querySelector( '#css' ).appendChild( css3drenderer.domElement );\"),\n",
       " Document(metadata={}, page_content='// 设置相机位置\\ncamera.position.z = 800;\\ncamera.position.y = 250;\\ncamera.position.x = 300;\\ncamera.lookAt(0, 0, 0);\\n\\n// 添加世界坐标辅助器'),\n",
       " Document(metadata={}, page_content='const axesHelper = new THREE.AxesHelper(500);\\nscene.add(axesHelper);\\n\\n\\n\\n// 添加轨道控制器\\nconst controls = new OrbitControls(camera, renderer.domElement);\\n// 设置带阻尼的惯性\\ncontrols.enableDamping = true;\\n\\nlet clock = new THREE.Clock();'),\n",
       " Document(metadata={}, page_content='function animate() {\\n  let delta = clock.getDelta();\\n  controls.update();\\n  \\n\\n  requestAnimationFrame(animate);\\n  // 渲染\\n  renderer.render(scene, camera);\\n  css3drenderer.render(scene, camera);\\n}'),\n",
       " Document(metadata={}, page_content='// 监听窗口变化\\nwindow.addEventListener(\"resize\", () => {\\n  // 重置渲染器宽高比\\n  renderer.setSize(window.innerWidth, window.innerHeight);\\n  // 重置相机宽高比\\n  camera.aspect = window.innerWidth / window.innerHeight;\\n  // 更新相机投影矩阵\\n  camera.updateProjectionMatrix();'),\n",
       " Document(metadata={}, page_content='});'),\n",
       " Document(metadata={}, page_content='// rgbeLoader 加载hdr贴图'),\n",
       " Document(metadata={}, page_content='let rgbeLoader = new RGBELoader();\\nrgbeLoader.load(\"./texture/Alex_Hart-Nature_Lab_Bones_2k.hdr\", (envMap) => {\\n  // 设置球形贴图\\n  // envMap.mapping = THREE.EquirectangularReflectionMapping;\\n  envMap.mapping = THREE.EquirectangularRefractionMapping;'),\n",
       " Document(metadata={}, page_content='// 设置环境贴图\\n  // scene.background = envMap;\\n  scene.background = new THREE.Color(0xffffff);\\n  // 设置环境贴图\\n  scene.environment = envMap;\\n});\\n// rgbeLoader 加载hdr贴图\\n// 实例化加载器gltf'),\n",
       " Document(metadata={}, page_content='const gltfLoader = new GLTFLoader();\\n// 实例化加载器draco'),\n",
       " Document(metadata={}, page_content='const dracoLoader = new DRACOLoader();\\n// 设置draco路径\\ndracoLoader.setDecoderPath(\"./draco/\");\\n// 设置gltf加载器draco解码器\\ngltfLoader.setDRACOLoader(dracoLoader);'),\n",
       " Document(metadata={}, page_content='// 加载模型\\ngltfLoader.load(\\n  // 模型路径\\n  \"./model/hilda_regular_00.glb\",\\n  // 加载完成回调\\n  (gltf) => {\\n    // scene.add(gltf.scene);\\n  }\\n);\\n\\n// 创建GUI'),\n",
       " Document(metadata={}, page_content='const gui = new GUI();\\n\\n\\n// 创建1个半径为100的球体\\nconst sphere = new THREE.Mesh(\\n  new THREE.SphereGeometry(40, 64, 64),\\n  new THREE.MeshStandardMaterial({\\n    color: 0x33ffff,\\n  })\\n)\\nsphere.castShadow = true\\nsphere.receiveShadow = true\\nscene.add(sphere);'),\n",
       " Document(metadata={}, page_content='const obj = new THREE.Object3D()\\n\\n// 创建1个宽高为200px的div'),\n",
       " Document(metadata={}, page_content='const div = document.createElement(\"div\");\\ndiv.style.width = \"200px\";\\ndiv.style.height = \"200px\";\\ndiv.style.backgroundColor = \"rgba(0, 0, 255, 0.5)\";\\ndiv.style.padding = \"20px\";\\ndiv.style.color = \"white\";\\ndiv.style.boxSizing = \"border-box\";'),\n",
       " Document(metadata={}, page_content='div.innerHTML = \"Hello, 3D!\";'),\n",
       " Document(metadata={}, page_content='// 创建1个css3object'),\n",
       " Document(metadata={}, page_content='const css3dobject = new CSS3DObject(div);\\nobj.add(css3dobject);\\n\\n// 创建一个threejs里的平面跟css3d的div重合，进行挖洞\\nvar material = new THREE.MeshStandardMaterial({\\n  opacity:0.5,\\n  color:new THREE.Color(0x111111),\\n  blending:THREE.NoBlending,\\n})'),\n",
       " Document(metadata={}, page_content='var geometry = new THREE.BoxGeometry(200,200,1)\\nvar mesh = new THREE.Mesh(geometry,material)\\nmesh.castShadow = true\\nmesh.receiveShadow = true\\n\\nobj.add(mesh)\\nscene.add(obj)\\n\\n// 添加平行光'),\n",
       " Document(metadata={}, page_content='const light = new THREE.DirectionalLight(0xffffff, 100);'),\n",
       " Document(metadata={}, page_content='light.position.set(500, 200, 200);\\nlight.castShadow = true;\\nscene.add(light);\\nlight.shadow.camera.near = 1;\\nlight.shadow.camera.far = 1000;\\nlight.shadow.camera.left = -200;\\nlight.shadow.camera.right = 200;\\nlight.shadow.camera.top = 200;'),\n",
       " Document(metadata={}, page_content='light.shadow.camera.bottom = -200;'),\n",
       " Document(metadata={}, page_content='animate();')]"
      ]
     },
     "execution_count": 7,
     "metadata": {},
     "output_type": "execute_result"
    }
   ],
   "source": [
    "js_splitter = RecursiveCharacterTextSplitter.from_language(\n",
    "    language=Language.JS,\n",
    "    chunk_size=250,\n",
    "    chunk_overlap=20\n",
    ")\n",
    "\n",
    "js_docs = js_splitter.create_documents([doc[0].page_content])\n",
    "js_docs"
   ]
  },
  {
   "cell_type": "markdown",
   "metadata": {},
   "source": [
    "## Markdown文本分割器\n",
    "\n",
    "许多聊天或问答应用程序都涉及在嵌入和矢量存储之前对输入文档进行分块。\n",
    "\n",
    "如前所述，分块通常旨在将具有共同上下文的文本放在一起。考虑到这一点，我们可能希望特别尊重文档本身的结构。例如，Markdown 文件是按标题组织的。在特定标头组中创建块是一个直观的想法。为了解决这个挑战，我们可以使用 MarkdownHeaderTextSplitter 。这将按一组指定的标头拆分 Markdown 文件。\n",
    "\n",
    "例如，如果我们想分割这个 markdown：\n",
    "\n",
    "```\n",
    "# Foo\n",
    "## Bar\n",
    "Hi this is Jim  \n",
    "\n",
    "Hi this is Joe\n",
    "\n",
    "## Baz\n",
    "Hi this is Molly\n",
    "```\n"
   ]
  },
  {
   "cell_type": "code",
   "execution_count": 8,
   "metadata": {},
   "outputs": [
    {
     "data": {
      "text/plain": [
       "[Document(metadata={'source': '/mnt/f/kk_datasets/txt/agent.md'}, page_content='# LangGraph 技术文档\\n\\n## 目录\\n\\n1. [概述](#概述)\\n2. [LangGraph 原理](#langgraph-原理)\\n   - [语言模型与图谱结合](#语言模型与图谱结合)\\n   - [图谱的语义增强](#图谱的语义增强)\\n3. [LangGraph 的应用](#langgraph-的应用)\\n   - [知识图谱构建与优化](#知识图谱构建与优化)\\n   - [自然语言处理中的语义搜索](#自然语言处理中的语义搜索)\\n   - [智能推荐系统](#智能推荐系统)\\n4. [LangGraph 的部署](#langgraph-的部署)\\n   - [系统架构](#系统架构)\\n   - [部署步骤](#部署步骤)\\n   - [性能优化与调优](#性能优化与调优)\\n\\n---\\n\\n## 概述\\n\\nLangGraph 是一种基于语言模型与图谱结合的技术，旨在通过将自然语言处理（NLP）与知识图谱的优势结合，提升信息检索、语义理解和推荐系统的能力。它通过引入图谱结构，将文本数据转换为图形结构，增强了语义关联性，并能在更复杂的情境下推理和推荐。\\n\\nLangGraph 主要用于以下几个方面：\\n\\n- 提高知识图谱的构建效率和准确性\\n- 实现智能推荐和个性化搜索\\n- 增强语义搜索的精度和效率\\n- 支持基于图谱的推理和决策\\n\\n## LangGraph 原理\\n\\n### 语言模型与图谱结合\\n\\nLangGraph 的核心思想是将传统的知识图谱和深度学习中的预训练语言模型（如 GPT、BERT 等）相结合。传统的知识图谱是通过节点（实体）和边（关系）构成的网络，主要用于表示实体之间的知识关系。而语言模型则能够理解并生成自然语言，在一定程度上捕捉语言的语法和语义。\\n\\nLangGraph 通过以下两种方式将两者结合：\\n\\n1. **图谱补全与增强：** 利用语言模型推测图谱中缺失的实体或关系，通过文本数据补充图谱的空白。这样，LangGraph 不仅可以从已有的知识中推断信息，还可以根据上下文生成新的节点和边。\\n\\n2. **图谱信息的语言化表达：** 将知识图谱中的节点和边转化为自然语言形式，增强模型对知识的理解能力。通过这种方式，LangGraph 可以将结构化的图谱数据与非结构化的文本数据进行有效结合，提高模型的推理能力和语义理解能力。\\n\\n### 图谱的语义增强\\n\\n图谱本身通常是静态的，图谱中的实体和关系往往是由人工构建的。然而，传统的图谱可能会存在关系不全、语义不准确等问题。LangGraph 通过语言模型对图谱进行“语义增强”，即通过训练语言模型去捕捉更加丰富的语义信息，提升图谱数据的语义质量。\\n\\n具体来说，语义增强的过程包括：\\n\\n1. **语义推理：** 利用语言模型对图谱中的实体和关系进行推理，生成新的关系或验证已有的关系。\\n2. **上下文学习：** 利用大规模语料库训练的语言模型，帮助系统理解图谱中实体之间的上下文关系，提升推理的准确性。\\n3. **自动化扩展：** 自动生成新的实体和关系，补充知识图谱中的盲区。\\n\\n通过这些方法，LangGraph 可以有效提升知识图谱的准确性、完整性以及推理能力。\\n\\n## LangGraph 的应用\\n\\n### 知识图谱构建与优化\\n\\n在构建知识图谱时，LangGraph 可以通过以下几种方式提升效率：\\n\\n- **自动化抽取：** 从文本中自动提取实体和关系，减少人工标注的工作量。\\n- **语义补全：** 通过语言模型推理和补全图谱中的缺失信息，提升图谱的完整性。\\n- **知识更新：** 定期利用最新的文本数据更新知识图谱中的信息，保持图谱的时效性。\\n\\n### 自然语言处理中的语义搜索\\n\\nLangGraph 通过将图谱与语言模型结合，可以提升语义搜索的效果。在传统的基于关键词的搜索引擎中，查询结果通常只考虑了字面上的匹配。然而，LangGraph 能够通过语义匹配提供更加准确和智能的搜索结果。\\n\\n例如，用户可以提出类似于“推荐适合学习Python的书籍”这样的自然语言问题，LangGraph 通过图谱和语义推理的能力，能够理解问题的真实意图，并返回与 Python 学习相关的书籍信息。\\n\\n### 智能推荐系统\\n\\nLangGraph 还可用于构建智能推荐系统。通过分析用户的行为数据、兴趣爱好以及历史信息，LangGraph 能够在知识图谱中找到相似的实体或关系，基于图谱的结构和语言模型的推理能力，向用户推荐相关内容。\\n\\n这种推荐方式的优势在于：\\n\\n- **语义理解：** 不仅基于显式的历史行为，还能理解用户潜在的兴趣偏好。\\n- **多样性：** 可以根据用户的个性化需求推荐更加丰富的内容。\\n\\n## LangGraph 的部署\\n\\n### 系统架构\\n\\nLangGraph 系统的架构通常包括以下几个组件：\\n\\n1. **语言模型模块：** 处理自然语言输入，进行文本的预处理、解析和推理。\\n2. **知识图谱模块：** 存储和管理知识图谱，支持图谱的构建、查询、推理和更新。\\n3. **推理引擎：** 基于图谱数据和语言模型进行推理，提供语义推理和推荐结果。\\n4. **前端接口：** 提供与用户交互的接口，支持自然语言查询和推荐系统。\\n\\n### 部署步骤\\n\\n1. **准备环境：**\\n   - 安装并配置深度学习框架，如 PyTorch、TensorFlow。\\n   - 部署图数据库，如 Neo4j、ArangoDB 等，用于存储知识图谱。\\n\\n2. **训练语言模型：**\\n   - 选择合适的预训练语言模型，如 GPT、BERT、T5 等。\\n   - 使用自己的数据进行微调，确保语言模型能够处理特定领域的语义推理。\\n\\n3. **构建知识图谱：**\\n   - 从文本中自动抽取实体和关系。\\n   - 根据需求进行图谱的扩展和更新。\\n\\n4. **集成和优化：**\\n   - 将语言模型与知识图谱模块进行集成，确保系统能够有效进行语义推理和图谱更新。\\n   - 优化推理引擎的性能，提升响应速度。\\n\\n5. **部署与监控：**\\n   - 部署系统到云端或本地服务器，并设置监控机制，确保系统稳定运行。\\n\\n### 性能优化与调优\\n\\n- **内存优化：** 使用图数据库的索引机制，减少内存占用和查询时间。\\n- **并行处理：** 对大规模图谱和模型进行分布式处理，加速推理过程。\\n- **缓存机制：** 对常用查询和推理结果进行缓存，提高响应速度。\\n\\n## 结语\\n\\nLangGraph 结合了语言模型和知识图谱的优势，能够在多种实际场景中提升系统的智能化水平。从知识图谱的构建到语义搜索，再到推荐系统，LangGraph 都展示了强大的应用潜力。随着技术的不断进步，LangGraph 有望成为未来人工智能和自然语言处理领域的关键技术之一。')]"
      ]
     },
     "execution_count": 8,
     "metadata": {},
     "output_type": "execute_result"
    }
   ],
   "source": [
    "from langchain_text_splitters import MarkdownHeaderTextSplitter\n",
    "\n",
    "file_path = \"/mnt/f/kk_datasets/txt/agent.md\"\n",
    "loader = TextLoader(file_path, encoding='utf8')\n",
    "doc = loader.load()\n",
    "doc"
   ]
  },
  {
   "cell_type": "code",
   "execution_count": 9,
   "metadata": {},
   "outputs": [
    {
     "data": {
      "text/plain": [
       "[Document(metadata={'Header 1': 'LangGraph 技术文档', 'Header 2': '目录'}, page_content='1. [概述](#概述)\\n2. [LangGraph 原理](#langgraph-原理)\\n- [语言模型与图谱结合](#语言模型与图谱结合)\\n- [图谱的语义增强](#图谱的语义增强)\\n3. [LangGraph 的应用](#langgraph-的应用)\\n- [知识图谱构建与优化](#知识图谱构建与优化)\\n- [自然语言处理中的语义搜索](#自然语言处理中的语义搜索)\\n- [智能推荐系统](#智能推荐系统)\\n4. [LangGraph 的部署](#langgraph-的部署)\\n- [系统架构](#系统架构)\\n- [部署步骤](#部署步骤)\\n- [性能优化与调优](#性能优化与调优)  \\n---'),\n",
       " Document(metadata={'Header 1': 'LangGraph 技术文档', 'Header 2': '概述'}, page_content='LangGraph 是一种基于语言模型与图谱结合的技术，旨在通过将自然语言处理（NLP）与知识图谱的优势结合，提升信息检索、语义理解和推荐系统的能力。它通过引入图谱结构，将文本数据转换为图形结构，增强了语义关联性，并能在更复杂的情境下推理和推荐。  \\nLangGraph 主要用于以下几个方面：  \\n- 提高知识图谱的构建效率和准确性\\n- 实现智能推荐和个性化搜索\\n- 增强语义搜索的精度和效率\\n- 支持基于图谱的推理和决策'),\n",
       " Document(metadata={'Header 1': 'LangGraph 技术文档', 'Header 2': 'LangGraph 原理', 'Header 3': '语言模型与图谱结合'}, page_content='LangGraph 的核心思想是将传统的知识图谱和深度学习中的预训练语言模型（如 GPT、BERT 等）相结合。传统的知识图谱是通过节点（实体）和边（关系）构成的网络，主要用于表示实体之间的知识关系。而语言模型则能够理解并生成自然语言，在一定程度上捕捉语言的语法和语义。  \\nLangGraph 通过以下两种方式将两者结合：  \\n1. **图谱补全与增强：** 利用语言模型推测图谱中缺失的实体或关系，通过文本数据补充图谱的空白。这样，LangGraph 不仅可以从已有的知识中推断信息，还可以根据上下文生成新的节点和边。  \\n2. **图谱信息的语言化表达：** 将知识图谱中的节点和边转化为自然语言形式，增强模型对知识的理解能力。通过这种方式，LangGraph 可以将结构化的图谱数据与非结构化的文本数据进行有效结合，提高模型的推理能力和语义理解能力。'),\n",
       " Document(metadata={'Header 1': 'LangGraph 技术文档', 'Header 2': 'LangGraph 原理', 'Header 3': '图谱的语义增强'}, page_content='图谱本身通常是静态的，图谱中的实体和关系往往是由人工构建的。然而，传统的图谱可能会存在关系不全、语义不准确等问题。LangGraph 通过语言模型对图谱进行“语义增强”，即通过训练语言模型去捕捉更加丰富的语义信息，提升图谱数据的语义质量。  \\n具体来说，语义增强的过程包括：  \\n1. **语义推理：** 利用语言模型对图谱中的实体和关系进行推理，生成新的关系或验证已有的关系。\\n2. **上下文学习：** 利用大规模语料库训练的语言模型，帮助系统理解图谱中实体之间的上下文关系，提升推理的准确性。\\n3. **自动化扩展：** 自动生成新的实体和关系，补充知识图谱中的盲区。  \\n通过这些方法，LangGraph 可以有效提升知识图谱的准确性、完整性以及推理能力。'),\n",
       " Document(metadata={'Header 1': 'LangGraph 技术文档', 'Header 2': 'LangGraph 的应用', 'Header 3': '知识图谱构建与优化'}, page_content='在构建知识图谱时，LangGraph 可以通过以下几种方式提升效率：  \\n- **自动化抽取：** 从文本中自动提取实体和关系，减少人工标注的工作量。\\n- **语义补全：** 通过语言模型推理和补全图谱中的缺失信息，提升图谱的完整性。\\n- **知识更新：** 定期利用最新的文本数据更新知识图谱中的信息，保持图谱的时效性。'),\n",
       " Document(metadata={'Header 1': 'LangGraph 技术文档', 'Header 2': 'LangGraph 的应用', 'Header 3': '自然语言处理中的语义搜索'}, page_content='LangGraph 通过将图谱与语言模型结合，可以提升语义搜索的效果。在传统的基于关键词的搜索引擎中，查询结果通常只考虑了字面上的匹配。然而，LangGraph 能够通过语义匹配提供更加准确和智能的搜索结果。  \\n例如，用户可以提出类似于“推荐适合学习Python的书籍”这样的自然语言问题，LangGraph 通过图谱和语义推理的能力，能够理解问题的真实意图，并返回与 Python 学习相关的书籍信息。'),\n",
       " Document(metadata={'Header 1': 'LangGraph 技术文档', 'Header 2': 'LangGraph 的应用', 'Header 3': '智能推荐系统'}, page_content='LangGraph 还可用于构建智能推荐系统。通过分析用户的行为数据、兴趣爱好以及历史信息，LangGraph 能够在知识图谱中找到相似的实体或关系，基于图谱的结构和语言模型的推理能力，向用户推荐相关内容。  \\n这种推荐方式的优势在于：  \\n- **语义理解：** 不仅基于显式的历史行为，还能理解用户潜在的兴趣偏好。\\n- **多样性：** 可以根据用户的个性化需求推荐更加丰富的内容。'),\n",
       " Document(metadata={'Header 1': 'LangGraph 技术文档', 'Header 2': 'LangGraph 的部署', 'Header 3': '系统架构'}, page_content='LangGraph 系统的架构通常包括以下几个组件：  \\n1. **语言模型模块：** 处理自然语言输入，进行文本的预处理、解析和推理。\\n2. **知识图谱模块：** 存储和管理知识图谱，支持图谱的构建、查询、推理和更新。\\n3. **推理引擎：** 基于图谱数据和语言模型进行推理，提供语义推理和推荐结果。\\n4. **前端接口：** 提供与用户交互的接口，支持自然语言查询和推荐系统。'),\n",
       " Document(metadata={'Header 1': 'LangGraph 技术文档', 'Header 2': 'LangGraph 的部署', 'Header 3': '部署步骤'}, page_content='1. **准备环境：**\\n- 安装并配置深度学习框架，如 PyTorch、TensorFlow。\\n- 部署图数据库，如 Neo4j、ArangoDB 等，用于存储知识图谱。  \\n2. **训练语言模型：**\\n- 选择合适的预训练语言模型，如 GPT、BERT、T5 等。\\n- 使用自己的数据进行微调，确保语言模型能够处理特定领域的语义推理。  \\n3. **构建知识图谱：**\\n- 从文本中自动抽取实体和关系。\\n- 根据需求进行图谱的扩展和更新。  \\n4. **集成和优化：**\\n- 将语言模型与知识图谱模块进行集成，确保系统能够有效进行语义推理和图谱更新。\\n- 优化推理引擎的性能，提升响应速度。  \\n5. **部署与监控：**\\n- 部署系统到云端或本地服务器，并设置监控机制，确保系统稳定运行。'),\n",
       " Document(metadata={'Header 1': 'LangGraph 技术文档', 'Header 2': 'LangGraph 的部署', 'Header 3': '性能优化与调优'}, page_content='- **内存优化：** 使用图数据库的索引机制，减少内存占用和查询时间。\\n- **并行处理：** 对大规模图谱和模型进行分布式处理，加速推理过程。\\n- **缓存机制：** 对常用查询和推理结果进行缓存，提高响应速度。'),\n",
       " Document(metadata={'Header 1': 'LangGraph 技术文档', 'Header 2': '结语'}, page_content='LangGraph 结合了语言模型和知识图谱的优势，能够在多种实际场景中提升系统的智能化水平。从知识图谱的构建到语义搜索，再到推荐系统，LangGraph 都展示了强大的应用潜力。随着技术的不断进步，LangGraph 有望成为未来人工智能和自然语言处理领域的关键技术之一。')]"
      ]
     },
     "execution_count": 9,
     "metadata": {},
     "output_type": "execute_result"
    }
   ],
   "source": [
    "headers_to_split_on = [\n",
    "    (\"#\", \"Header 1\"),\n",
    "    (\"##\", \"Header 2\"),\n",
    "    (\"###\", \"Header 3\")\n",
    "]\n",
    "\n",
    "markdown_splitter = MarkdownHeaderTextSplitter(headers_to_split_on=headers_to_split_on)\n",
    "markdown_splits = markdown_splitter.split_text(doc[0].page_content)\n",
    "markdown_splits\n"
   ]
  }
 ],
 "metadata": {
  "kernelspec": {
   "display_name": "kk_langchain",
   "language": "python",
   "name": "python3"
  },
  "language_info": {
   "codemirror_mode": {
    "name": "ipython",
    "version": 3
   },
   "file_extension": ".py",
   "mimetype": "text/x-python",
   "name": "python",
   "nbconvert_exporter": "python",
   "pygments_lexer": "ipython3",
   "version": "3.10.16"
  }
 },
 "nbformat": 4,
 "nbformat_minor": 2
}
