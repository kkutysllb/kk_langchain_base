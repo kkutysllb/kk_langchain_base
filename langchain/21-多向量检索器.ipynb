{
 "cells": [
  {
   "cell_type": "markdown",
   "metadata": {},
   "source": [
    "# 多向量检索器\n",
    "\n",
    "每个文档存储多个向量通常是有益的。在许多用例中，这是有益的。 LangChain 有一个基础 MultiVectorRetriever ，这使得查询此类设置变得容易。很多复杂性在于如何为每个文档创建多个向量。本笔记本涵盖了创建这些向量和使用 MultiVectorRetriever 的一些常见方法。\n",
    "\n",
    "为每个文档创建多个向量的方法包括：\n",
    "- 较小的块：将文档分割成较小的块，然后嵌入这些块（这是 ParentDocumentRetriever）。\n",
    "- 摘要：为每个文档创建摘要，将其与文档一起嵌入（或代替文档）\n",
    "- 假设性问题：创建每个文档都适合回答的假设性问题，将这些问题与文档一起嵌入（或代替文档）。\n",
    "\n",
    "请注意，这还启用了另一种添加嵌入的方法 - 手动。这很棒，因为您可以显式添加导致文档恢复的问题或查询，从而为您提供更多控制权。"
   ]
  },
  {
   "cell_type": "code",
   "execution_count": 1,
   "metadata": {},
   "outputs": [
    {
     "data": {
      "text/plain": [
       "[<langchain_community.document_loaders.text.TextLoader at 0x7f1d0c153d60>,\n",
       " <langchain_community.document_loaders.text.TextLoader at 0x7f1d0c153b50>,\n",
       " <langchain_community.document_loaders.text.TextLoader at 0x7f1c97e6a740>,\n",
       " <langchain_community.document_loaders.text.TextLoader at 0x7f1c97e6a080>]"
      ]
     },
     "execution_count": 1,
     "metadata": {},
     "output_type": "execute_result"
    }
   ],
   "source": [
    "from langchain.retrievers.multi_vector import MultiVectorRetriever\n",
    "from langchain_community.document_loaders import TextLoader\n",
    "from langchain_community.vectorstores import Chroma\n",
    "from langchain.text_splitter import RecursiveCharacterTextSplitter\n",
    "from langchain.storage import InMemoryStore\n",
    "\n",
    "loaders = [\n",
    "    TextLoader(\"/mnt/f/kk_datasets/txt/faq-4359.txt\"),\n",
    "    TextLoader(\"/mnt/f/kk_datasets/txt/faq-7923.txt\"),\n",
    "    TextLoader(\"/mnt/f/kk_datasets/txt/yjhx.md\"),\n",
    "    TextLoader(\"/mnt/f/kk_datasets/txt/agent.md\"),\n",
    "]\n",
    "\n",
    "loaders"
   ]
  },
  {
   "cell_type": "code",
   "execution_count": 2,
   "metadata": {},
   "outputs": [
    {
     "data": {
      "text/plain": [
       "[Document(metadata={'source': '/mnt/f/kk_datasets/txt/faq-4359.txt'}, page_content='一、什么是0分期利息\\n\\n您好，“0分期利息”是指买家使用花呗、招行掌上生活、工行信用卡、银联信用卡等其他分期购物时无需支付分期利息的功能，分期利息由华为商城承担。\\n\\n注：自2023年起，商城将相关宣传将“免息”调整为“0分期利息”，主要基于中国银保监会、中国人民银行《关于进一步促进信用卡业务规范健康发展的通知》（银保监规〔2022〕13号），要求“银行业金融机构应当在分期业务合同（协议）首页和业务办理页面以明显方式展示分期业务可能产生的所有息费项目、年化利率水平和息费计算方式。向客户展示分期业务收取的资金使用成本时，应当统一采用利息形式，并明确相应的计息规则，不得采用手续费等形式，法律法规另有规定的除外。”\\n\\n\\n\\n二、可以参与0分期利息活动的商品\\n\\n商城目前仅支持部分单品参与0分期利息，若多商品（含不支持0分期利息）合并支付则不支持0分期利息，以支付页面为准，后续会逐渐开放更多商品，敬请关注。\\n\\n\\n\\n三、确认订单分期成功\\n\\n订单提交成功后在支付方式页面选择分期支付，点选显示0分期利息的支付方式及具体0分期利息期数后，完成支付。\\n\\n\\n\\n\\n\\n四、订单中有多个商品，其中有商品支持0分期利息，为什么提交后却没有0分期利息？\\n\\n0分期利息商品不能和其它商品一起购买，如果和其他商品购买而不能享用0分期利息，建议取消原来的订单，重新购买时把0分期利息商品和其他商品分开单独购买；且0分期利息的分期数是固定的，如6期0分期利息，并不是3/6/12都提供0分期利息的。\\n\\n\\n\\n五、小程序是否支持0分期利息？\\n\\n华为商城小程序暂不支持0分期利息。'),\n",
       " Document(metadata={'source': '/mnt/f/kk_datasets/txt/faq-7923.txt'}, page_content='众测活动\\n\\n整体介绍：\\n\\n一、活动定义：众测是以低价试销的形式，通过收集评价、销量等方法，用于测试市场对新商品的反应，用于及时优化销售策略和引导商家改进。\\n\\n二、优势：众测价通常比较优惠，以不高于大促促销价为原则，最终以与物权方谈判结果为准。\\n\\n三、适用范围：华为商城所有产品。\\n\\n\\n\\n参与方式：\\n\\n1、华为商城众测的入口在哪里？\\n\\n华为商城搜索“众测”，即可看到众测入口，点击进入即可；\\n\\n2、众测上新频次：\\n\\n众测频道每周一至周五不定期更新上架，部分商品可能会特别调整；\\n\\n3、众测活动时间：\\n\\n一款产品众测时间通常为10-20天（热销的商品可能会延期5-10天）。\\n\\n \\n\\n常见问题：\\n\\n1、众测商品的来源?\\n\\n     您好，众测商品主要来源为华为商城上架的新品，热销的爆款商品也会不定期通过众测回归上线。\\n\\n2、众测商品的价格会优惠吗？\\n\\n     您好，众测商品价格对标618和双十一，一般都是该商品某段时间的最低促销价。\\n\\n3、 众测商品质量会不稳定么？\\n\\n     您好，众测商品也是量产的正品新品，质量与正式上架商品一致。 \\n\\n4、众测商品买下后多久发货？\\n\\n     您好，请以商品页显示为准。\\n\\n5、提交活动订单后多久内支付？\\n\\n     您好，提交订单后最长付款时效为24小时，逾期订单自动取消\\n\\n6、成功下单后怎么查询众测订单？\\n\\n     您好，成功下单后，您可以通过华为商城手机APP、华为商城手机WAP版、华为商城电脑网页版任意一端登录下单账户，在“我的订单”查询。（众测商品订单查询方式等同于正常商品订单）\\n\\n7、订单支付后未发货前可以取消订单吗？\\n\\n     您好，在发货前消费者可以取消订单。\\n\\n8、取消订单后多久内退回款项？\\n\\n     您好，和华为商城智能家居生态产品通用退款时效一致，3-5个工作日。\\n\\n9、一个账号可以参与几次众测活动？有限购吗？\\n\\n     您好，一个账号参与众测活动的次数无限制，没有限购。但每次订单只能购买一个商品。如您需要购买多个产品，可以多次参与众测活动。'),\n",
       " Document(metadata={'source': '/mnt/f/kk_datasets/txt/yjhx.md'}, page_content='**一、选择回收物品**\\n\\n点击VMALL您可以在设备回收分类中选择旧商品的类别以及品牌，现在VMALL支持回收部分品牌和型号的手机、笔记本、平板、智能数码以及摄影摄像。如若在此页面上找不到您的品牌或型号，您可以点击品牌栏右下方的加号（如下图红圈部分所示）查看VMALL所支持回收的所有品牌型号。首页滚动电子横幅右下方“以旧换新”标志（如下图红框部分所示），进入“以旧换新”页面。\\n\\n![以旧换新图片](https://threejs-1251830808.cos.ap-guangzhou.myqcloud.com/73564551948615546537.png)\\n\\n（以下图片为参考流程，实际以页面为准）\\n\\n![设备回收图片](https://threejs-1251830808.cos.ap-guangzhou.myqcloud.com/18969746813614796981.png)\\n\\n选择好您的旧商品后请点击商品图标，进入价格评估页面。\\n\\n\\n\\n**二、价格评估**\\n\\n在价格评估界面上，您需要对旧商品的基本信息（网络制式、存储容量、购买渠道、机身颜色），外观成色（边框背板，屏幕外观，屏幕显示，维修情况），和多功能选项参数进行评估，请如实填写您的手机情况。完成所有参数选择，请估价按钮（如下图红框部分所示）。\\n\\n完成所有参数选择，请点击“免费询价”按钮（如下图红框部分所示）。\\n\\n![免费询价图片](https://threejs-1251830808.cos.ap-guangzhou.myqcloud.com/37174946813614947173.png)\\n\\n**三、价格评估结果**\\n\\n您可以查看手机的估价和这款手机的回收价格趋势，如果填写有什么问题，可以点击“重新询价”或“重新选择机型”更改；确认无误后，点击“换钱”按钮进入订单页面。\\n\\n![价格评估结果图片](https://threejs-1251830808.cos.ap-guangzhou.myqcloud.com/28422256813615222482.png)\\n\\n**四、提交订单**\\n\\n在订单页面，您可以从以下两种常规回收方式选择一种进行回收，并提交订单结账。（回收宝支持顺丰上门、上门质检回收，爱回收支持顺丰上门、质检上门、信用回收）\\n\\n![&#x56fe;5.png](https://threejs-1251830808.cos.ap-guangzhou.myqcloud.com/47605356813615350674.png)\\n\\n（1）顺丰上门回收操作流程\\n\\n① 回收方式：选择顺丰快递回收\\n\\n② 提交订单：填写联系人、电话号码、取货地址及上门时间，提交订单\\n\\n③ 上门取货：回收订单提交成功，快递员会按照填写的上门时间上门取货\\n\\n④ 确认交易：回收商会在收到旧机的48小时内完成检测，若价格与您提交订单时的价格一致，将立即发放华为代金券。\\n\\n（2）质检师上门回收操作流程\\n\\n① 回收方式：选择质检师上门回收。\\n\\n② 提交订单：填写联系人信息、手机号码、上门地址及上门时间，提交订单\\n\\n③ 确认交易：如通过质检师上门回收，在完成检测后，代金券可实时到账。\\n\\n![质检师上门回收操作流程图片](https://threejs-1251830808.cos.ap-guangzhou.myqcloud.com/67845656813615654876.png)\\n\\n\\n\\n五、以旧换新答疑 ：更多关于以旧换新的问题请点击 “[以旧换新答疑](https://www.vmall.com/help/category-251.html)”查看。'),\n",
       " Document(metadata={'source': '/mnt/f/kk_datasets/txt/agent.md'}, page_content='# LangGraph 技术文档\\n\\n## 目录\\n\\n1. [概述](#概述)\\n2. [LangGraph 原理](#langgraph-原理)\\n   - [语言模型与图谱结合](#语言模型与图谱结合)\\n   - [图谱的语义增强](#图谱的语义增强)\\n3. [LangGraph 的应用](#langgraph-的应用)\\n   - [知识图谱构建与优化](#知识图谱构建与优化)\\n   - [自然语言处理中的语义搜索](#自然语言处理中的语义搜索)\\n   - [智能推荐系统](#智能推荐系统)\\n4. [LangGraph 的部署](#langgraph-的部署)\\n   - [系统架构](#系统架构)\\n   - [部署步骤](#部署步骤)\\n   - [性能优化与调优](#性能优化与调优)\\n\\n---\\n\\n## 概述\\n\\nLangGraph 是一种基于语言模型与图谱结合的技术，旨在通过将自然语言处理（NLP）与知识图谱的优势结合，提升信息检索、语义理解和推荐系统的能力。它通过引入图谱结构，将文本数据转换为图形结构，增强了语义关联性，并能在更复杂的情境下推理和推荐。\\n\\nLangGraph 主要用于以下几个方面：\\n\\n- 提高知识图谱的构建效率和准确性\\n- 实现智能推荐和个性化搜索\\n- 增强语义搜索的精度和效率\\n- 支持基于图谱的推理和决策\\n\\n## LangGraph 原理\\n\\n### 语言模型与图谱结合\\n\\nLangGraph 的核心思想是将传统的知识图谱和深度学习中的预训练语言模型（如 GPT、BERT 等）相结合。传统的知识图谱是通过节点（实体）和边（关系）构成的网络，主要用于表示实体之间的知识关系。而语言模型则能够理解并生成自然语言，在一定程度上捕捉语言的语法和语义。\\n\\nLangGraph 通过以下两种方式将两者结合：\\n\\n1. **图谱补全与增强：** 利用语言模型推测图谱中缺失的实体或关系，通过文本数据补充图谱的空白。这样，LangGraph 不仅可以从已有的知识中推断信息，还可以根据上下文生成新的节点和边。\\n\\n2. **图谱信息的语言化表达：** 将知识图谱中的节点和边转化为自然语言形式，增强模型对知识的理解能力。通过这种方式，LangGraph 可以将结构化的图谱数据与非结构化的文本数据进行有效结合，提高模型的推理能力和语义理解能力。\\n\\n### 图谱的语义增强\\n\\n图谱本身通常是静态的，图谱中的实体和关系往往是由人工构建的。然而，传统的图谱可能会存在关系不全、语义不准确等问题。LangGraph 通过语言模型对图谱进行“语义增强”，即通过训练语言模型去捕捉更加丰富的语义信息，提升图谱数据的语义质量。\\n\\n具体来说，语义增强的过程包括：\\n\\n1. **语义推理：** 利用语言模型对图谱中的实体和关系进行推理，生成新的关系或验证已有的关系。\\n2. **上下文学习：** 利用大规模语料库训练的语言模型，帮助系统理解图谱中实体之间的上下文关系，提升推理的准确性。\\n3. **自动化扩展：** 自动生成新的实体和关系，补充知识图谱中的盲区。\\n\\n通过这些方法，LangGraph 可以有效提升知识图谱的准确性、完整性以及推理能力。\\n\\n## LangGraph 的应用\\n\\n### 知识图谱构建与优化\\n\\n在构建知识图谱时，LangGraph 可以通过以下几种方式提升效率：\\n\\n- **自动化抽取：** 从文本中自动提取实体和关系，减少人工标注的工作量。\\n- **语义补全：** 通过语言模型推理和补全图谱中的缺失信息，提升图谱的完整性。\\n- **知识更新：** 定期利用最新的文本数据更新知识图谱中的信息，保持图谱的时效性。\\n\\n### 自然语言处理中的语义搜索\\n\\nLangGraph 通过将图谱与语言模型结合，可以提升语义搜索的效果。在传统的基于关键词的搜索引擎中，查询结果通常只考虑了字面上的匹配。然而，LangGraph 能够通过语义匹配提供更加准确和智能的搜索结果。\\n\\n例如，用户可以提出类似于“推荐适合学习Python的书籍”这样的自然语言问题，LangGraph 通过图谱和语义推理的能力，能够理解问题的真实意图，并返回与 Python 学习相关的书籍信息。\\n\\n### 智能推荐系统\\n\\nLangGraph 还可用于构建智能推荐系统。通过分析用户的行为数据、兴趣爱好以及历史信息，LangGraph 能够在知识图谱中找到相似的实体或关系，基于图谱的结构和语言模型的推理能力，向用户推荐相关内容。\\n\\n这种推荐方式的优势在于：\\n\\n- **语义理解：** 不仅基于显式的历史行为，还能理解用户潜在的兴趣偏好。\\n- **多样性：** 可以根据用户的个性化需求推荐更加丰富的内容。\\n\\n## LangGraph 的部署\\n\\n### 系统架构\\n\\nLangGraph 系统的架构通常包括以下几个组件：\\n\\n1. **语言模型模块：** 处理自然语言输入，进行文本的预处理、解析和推理。\\n2. **知识图谱模块：** 存储和管理知识图谱，支持图谱的构建、查询、推理和更新。\\n3. **推理引擎：** 基于图谱数据和语言模型进行推理，提供语义推理和推荐结果。\\n4. **前端接口：** 提供与用户交互的接口，支持自然语言查询和推荐系统。\\n\\n### 部署步骤\\n\\n1. **准备环境：**\\n   - 安装并配置深度学习框架，如 PyTorch、TensorFlow。\\n   - 部署图数据库，如 Neo4j、ArangoDB 等，用于存储知识图谱。\\n\\n2. **训练语言模型：**\\n   - 选择合适的预训练语言模型，如 GPT、BERT、T5 等。\\n   - 使用自己的数据进行微调，确保语言模型能够处理特定领域的语义推理。\\n\\n3. **构建知识图谱：**\\n   - 从文本中自动抽取实体和关系。\\n   - 根据需求进行图谱的扩展和更新。\\n\\n4. **集成和优化：**\\n   - 将语言模型与知识图谱模块进行集成，确保系统能够有效进行语义推理和图谱更新。\\n   - 优化推理引擎的性能，提升响应速度。\\n\\n5. **部署与监控：**\\n   - 部署系统到云端或本地服务器，并设置监控机制，确保系统稳定运行。\\n\\n### 性能优化与调优\\n\\n- **内存优化：** 使用图数据库的索引机制，减少内存占用和查询时间。\\n- **并行处理：** 对大规模图谱和模型进行分布式处理，加速推理过程。\\n- **缓存机制：** 对常用查询和推理结果进行缓存，提高响应速度。\\n\\n## 结语\\n\\nLangGraph 结合了语言模型和知识图谱的优势，能够在多种实际场景中提升系统的智能化水平。从知识图谱的构建到语义搜索，再到推荐系统，LangGraph 都展示了强大的应用潜力。随着技术的不断进步，LangGraph 有望成为未来人工智能和自然语言处理领域的关键技术之一。')]"
      ]
     },
     "execution_count": 2,
     "metadata": {},
     "output_type": "execute_result"
    }
   ],
   "source": [
    "docs = []\n",
    "for loader in loaders:\n",
    "    docs.extend(loader.load())\n",
    "\n",
    "docs"
   ]
  },
  {
   "cell_type": "code",
   "execution_count": 3,
   "metadata": {},
   "outputs": [
    {
     "data": {
      "text/plain": [
       "[Document(metadata={'source': '/mnt/f/kk_datasets/txt/faq-4359.txt'}, page_content='一、什么是0分期利息\\n\\n您好，“0分期利息”是指买家使用花呗、招行掌上生活、工行信用卡、银联信用卡等其他分期购物时无需支付分期利息的功能，分期利息由华为商城承担。\\n\\n注：自2023年起，商城将相关宣传将“免息”调整为“0分期利息”，主要基于中国银保监会、中国人民银行《关于进一步促进信用卡业务规范健康发展的通知》（银保监规〔2022〕13号），要求“银行业金融机构应当在分期业务合同（协议）首页和业务办理页面以明显方式展示分期业务可能产生的所有息费项目、年化利率水平和息费计算方式。向客户展示分期业务收取的资金使用成本时，应当统一采用利息形式，并明确相应的计息规则，不得采用手续费等形式，法律法规另有规定的除外。”\\n\\n\\n\\n二、可以参与0分期利息活动的商品\\n\\n商城目前仅支持部分单品参与0分期利息，若多商品（含不支持0分期利息）合并支付则不支持0分期利息，以支付页面为准，后续会逐渐开放更多商品，敬请关注。\\n\\n\\n\\n三、确认订单分期成功\\n\\n订单提交成功后在支付方式页面选择分期支付，点选显示0分期利息的支付方式及具体0分期利息期数后，完成支付。\\n\\n\\n\\n\\n\\n四、订单中有多个商品，其中有商品支持0分期利息，为什么提交后却没有0分期利息？\\n\\n0分期利息商品不能和其它商品一起购买，如果和其他商品购买而不能享用0分期利息，建议取消原来的订单，重新购买时把0分期利息商品和其他商品分开单独购买；且0分期利息的分期数是固定的，如6期0分期利息，并不是3/6/12都提供0分期利息的。\\n\\n\\n\\n五、小程序是否支持0分期利息？\\n\\n华为商城小程序暂不支持0分期利息。'),\n",
       " Document(metadata={'source': '/mnt/f/kk_datasets/txt/faq-7923.txt'}, page_content='众测活动\\n\\n整体介绍：\\n\\n一、活动定义：众测是以低价试销的形式，通过收集评价、销量等方法，用于测试市场对新商品的反应，用于及时优化销售策略和引导商家改进。\\n\\n二、优势：众测价通常比较优惠，以不高于大促促销价为原则，最终以与物权方谈判结果为准。\\n\\n三、适用范围：华为商城所有产品。\\n\\n\\n\\n参与方式：\\n\\n1、华为商城众测的入口在哪里？\\n\\n华为商城搜索“众测”，即可看到众测入口，点击进入即可；\\n\\n2、众测上新频次：\\n\\n众测频道每周一至周五不定期更新上架，部分商品可能会特别调整；\\n\\n3、众测活动时间：\\n\\n一款产品众测时间通常为10-20天（热销的商品可能会延期5-10天）。\\n\\n \\n\\n常见问题：\\n\\n1、众测商品的来源?\\n\\n     您好，众测商品主要来源为华为商城上架的新品，热销的爆款商品也会不定期通过众测回归上线。\\n\\n2、众测商品的价格会优惠吗？\\n\\n     您好，众测商品价格对标618和双十一，一般都是该商品某段时间的最低促销价。\\n\\n3、 众测商品质量会不稳定么？\\n\\n     您好，众测商品也是量产的正品新品，质量与正式上架商品一致。 \\n\\n4、众测商品买下后多久发货？\\n\\n     您好，请以商品页显示为准。\\n\\n5、提交活动订单后多久内支付？\\n\\n     您好，提交订单后最长付款时效为24小时，逾期订单自动取消\\n\\n6、成功下单后怎么查询众测订单？\\n\\n     您好，成功下单后，您可以通过华为商城手机APP、华为商城手机WAP版、华为商城电脑网页版任意一端登录下单账户，在“我的订单”查询。（众测商品订单查询方式等同于正常商品订单）\\n\\n7、订单支付后未发货前可以取消订单吗？\\n\\n     您好，在发货前消费者可以取消订单。\\n\\n8、取消订单后多久内退回款项？\\n\\n     您好，和华为商城智能家居生态产品通用退款时效一致，3-5个工作日。\\n\\n9、一个账号可以参与几次众测活动？有限购吗？\\n\\n     您好，一个账号参与众测活动的次数无限制，没有限购。但每次订单只能购买一个商品。如您需要购买多个产品，可以多次参与众测活动。'),\n",
       " Document(metadata={'source': '/mnt/f/kk_datasets/txt/yjhx.md'}, page_content='**一、选择回收物品**\\n\\n点击VMALL您可以在设备回收分类中选择旧商品的类别以及品牌，现在VMALL支持回收部分品牌和型号的手机、笔记本、平板、智能数码以及摄影摄像。如若在此页面上找不到您的品牌或型号，您可以点击品牌栏右下方的加号（如下图红圈部分所示）查看VMALL所支持回收的所有品牌型号。首页滚动电子横幅右下方“以旧换新”标志（如下图红框部分所示），进入“以旧换新”页面。\\n\\n![以旧换新图片](https://threejs-1251830808.cos.ap-guangzhou.myqcloud.com/73564551948615546537.png)\\n\\n（以下图片为参考流程，实际以页面为准）\\n\\n![设备回收图片](https://threejs-1251830808.cos.ap-guangzhou.myqcloud.com/18969746813614796981.png)\\n\\n选择好您的旧商品后请点击商品图标，进入价格评估页面。\\n\\n\\n\\n**二、价格评估**\\n\\n在价格评估界面上，您需要对旧商品的基本信息（网络制式、存储容量、购买渠道、机身颜色），外观成色（边框背板，屏幕外观，屏幕显示，维修情况），和多功能选项参数进行评估，请如实填写您的手机情况。完成所有参数选择，请估价按钮（如下图红框部分所示）。\\n\\n完成所有参数选择，请点击“免费询价”按钮（如下图红框部分所示）。\\n\\n![免费询价图片](https://threejs-1251830808.cos.ap-guangzhou.myqcloud.com/37174946813614947173.png)\\n\\n**三、价格评估结果**\\n\\n您可以查看手机的估价和这款手机的回收价格趋势，如果填写有什么问题，可以点击“重新询价”或“重新选择机型”更改；确认无误后，点击“换钱”按钮进入订单页面。\\n\\n![价格评估结果图片](https://threejs-1251830808.cos.ap-guangzhou.myqcloud.com/28422256813615222482.png)\\n\\n**四、提交订单**\\n\\n在订单页面，您可以从以下两种常规回收方式选择一种进行回收，并提交订单结账。（回收宝支持顺丰上门、上门质检回收，爱回收支持顺丰上门、质检上门、信用回收）'),\n",
       " Document(metadata={'source': '/mnt/f/kk_datasets/txt/yjhx.md'}, page_content='![&#x56fe;5.png](https://threejs-1251830808.cos.ap-guangzhou.myqcloud.com/47605356813615350674.png)\\n\\n（1）顺丰上门回收操作流程\\n\\n① 回收方式：选择顺丰快递回收\\n\\n② 提交订单：填写联系人、电话号码、取货地址及上门时间，提交订单\\n\\n③ 上门取货：回收订单提交成功，快递员会按照填写的上门时间上门取货\\n\\n④ 确认交易：回收商会在收到旧机的48小时内完成检测，若价格与您提交订单时的价格一致，将立即发放华为代金券。\\n\\n（2）质检师上门回收操作流程\\n\\n① 回收方式：选择质检师上门回收。\\n\\n② 提交订单：填写联系人信息、手机号码、上门地址及上门时间，提交订单\\n\\n③ 确认交易：如通过质检师上门回收，在完成检测后，代金券可实时到账。\\n\\n![质检师上门回收操作流程图片](https://threejs-1251830808.cos.ap-guangzhou.myqcloud.com/67845656813615654876.png)\\n\\n\\n\\n五、以旧换新答疑 ：更多关于以旧换新的问题请点击 “[以旧换新答疑](https://www.vmall.com/help/category-251.html)”查看。'),\n",
       " Document(metadata={'source': '/mnt/f/kk_datasets/txt/agent.md'}, page_content='# LangGraph 技术文档\\n\\n## 目录\\n\\n1. [概述](#概述)\\n2. [LangGraph 原理](#langgraph-原理)\\n   - [语言模型与图谱结合](#语言模型与图谱结合)\\n   - [图谱的语义增强](#图谱的语义增强)\\n3. [LangGraph 的应用](#langgraph-的应用)\\n   - [知识图谱构建与优化](#知识图谱构建与优化)\\n   - [自然语言处理中的语义搜索](#自然语言处理中的语义搜索)\\n   - [智能推荐系统](#智能推荐系统)\\n4. [LangGraph 的部署](#langgraph-的部署)\\n   - [系统架构](#系统架构)\\n   - [部署步骤](#部署步骤)\\n   - [性能优化与调优](#性能优化与调优)\\n\\n---\\n\\n## 概述\\n\\nLangGraph 是一种基于语言模型与图谱结合的技术，旨在通过将自然语言处理（NLP）与知识图谱的优势结合，提升信息检索、语义理解和推荐系统的能力。它通过引入图谱结构，将文本数据转换为图形结构，增强了语义关联性，并能在更复杂的情境下推理和推荐。\\n\\nLangGraph 主要用于以下几个方面：\\n\\n- 提高知识图谱的构建效率和准确性\\n- 实现智能推荐和个性化搜索\\n- 增强语义搜索的精度和效率\\n- 支持基于图谱的推理和决策\\n\\n## LangGraph 原理\\n\\n### 语言模型与图谱结合\\n\\nLangGraph 的核心思想是将传统的知识图谱和深度学习中的预训练语言模型（如 GPT、BERT 等）相结合。传统的知识图谱是通过节点（实体）和边（关系）构成的网络，主要用于表示实体之间的知识关系。而语言模型则能够理解并生成自然语言，在一定程度上捕捉语言的语法和语义。\\n\\nLangGraph 通过以下两种方式将两者结合：\\n\\n1. **图谱补全与增强：** 利用语言模型推测图谱中缺失的实体或关系，通过文本数据补充图谱的空白。这样，LangGraph 不仅可以从已有的知识中推断信息，还可以根据上下文生成新的节点和边。\\n\\n2. **图谱信息的语言化表达：** 将知识图谱中的节点和边转化为自然语言形式，增强模型对知识的理解能力。通过这种方式，LangGraph 可以将结构化的图谱数据与非结构化的文本数据进行有效结合，提高模型的推理能力和语义理解能力。\\n\\n### 图谱的语义增强'),\n",
       " Document(metadata={'source': '/mnt/f/kk_datasets/txt/agent.md'}, page_content='图谱本身通常是静态的，图谱中的实体和关系往往是由人工构建的。然而，传统的图谱可能会存在关系不全、语义不准确等问题。LangGraph 通过语言模型对图谱进行“语义增强”，即通过训练语言模型去捕捉更加丰富的语义信息，提升图谱数据的语义质量。\\n\\n具体来说，语义增强的过程包括：\\n\\n1. **语义推理：** 利用语言模型对图谱中的实体和关系进行推理，生成新的关系或验证已有的关系。\\n2. **上下文学习：** 利用大规模语料库训练的语言模型，帮助系统理解图谱中实体之间的上下文关系，提升推理的准确性。\\n3. **自动化扩展：** 自动生成新的实体和关系，补充知识图谱中的盲区。\\n\\n通过这些方法，LangGraph 可以有效提升知识图谱的准确性、完整性以及推理能力。\\n\\n## LangGraph 的应用\\n\\n### 知识图谱构建与优化\\n\\n在构建知识图谱时，LangGraph 可以通过以下几种方式提升效率：\\n\\n- **自动化抽取：** 从文本中自动提取实体和关系，减少人工标注的工作量。\\n- **语义补全：** 通过语言模型推理和补全图谱中的缺失信息，提升图谱的完整性。\\n- **知识更新：** 定期利用最新的文本数据更新知识图谱中的信息，保持图谱的时效性。\\n\\n### 自然语言处理中的语义搜索\\n\\nLangGraph 通过将图谱与语言模型结合，可以提升语义搜索的效果。在传统的基于关键词的搜索引擎中，查询结果通常只考虑了字面上的匹配。然而，LangGraph 能够通过语义匹配提供更加准确和智能的搜索结果。\\n\\n例如，用户可以提出类似于“推荐适合学习Python的书籍”这样的自然语言问题，LangGraph 通过图谱和语义推理的能力，能够理解问题的真实意图，并返回与 Python 学习相关的书籍信息。\\n\\n### 智能推荐系统\\n\\nLangGraph 还可用于构建智能推荐系统。通过分析用户的行为数据、兴趣爱好以及历史信息，LangGraph 能够在知识图谱中找到相似的实体或关系，基于图谱的结构和语言模型的推理能力，向用户推荐相关内容。\\n\\n这种推荐方式的优势在于：\\n\\n- **语义理解：** 不仅基于显式的历史行为，还能理解用户潜在的兴趣偏好。\\n- **多样性：** 可以根据用户的个性化需求推荐更加丰富的内容。\\n\\n## LangGraph 的部署\\n\\n### 系统架构'),\n",
       " Document(metadata={'source': '/mnt/f/kk_datasets/txt/agent.md'}, page_content='LangGraph 系统的架构通常包括以下几个组件：\\n\\n1. **语言模型模块：** 处理自然语言输入，进行文本的预处理、解析和推理。\\n2. **知识图谱模块：** 存储和管理知识图谱，支持图谱的构建、查询、推理和更新。\\n3. **推理引擎：** 基于图谱数据和语言模型进行推理，提供语义推理和推荐结果。\\n4. **前端接口：** 提供与用户交互的接口，支持自然语言查询和推荐系统。\\n\\n### 部署步骤\\n\\n1. **准备环境：**\\n   - 安装并配置深度学习框架，如 PyTorch、TensorFlow。\\n   - 部署图数据库，如 Neo4j、ArangoDB 等，用于存储知识图谱。\\n\\n2. **训练语言模型：**\\n   - 选择合适的预训练语言模型，如 GPT、BERT、T5 等。\\n   - 使用自己的数据进行微调，确保语言模型能够处理特定领域的语义推理。\\n\\n3. **构建知识图谱：**\\n   - 从文本中自动抽取实体和关系。\\n   - 根据需求进行图谱的扩展和更新。\\n\\n4. **集成和优化：**\\n   - 将语言模型与知识图谱模块进行集成，确保系统能够有效进行语义推理和图谱更新。\\n   - 优化推理引擎的性能，提升响应速度。\\n\\n5. **部署与监控：**\\n   - 部署系统到云端或本地服务器，并设置监控机制，确保系统稳定运行。\\n\\n### 性能优化与调优\\n\\n- **内存优化：** 使用图数据库的索引机制，减少内存占用和查询时间。\\n- **并行处理：** 对大规模图谱和模型进行分布式处理，加速推理过程。\\n- **缓存机制：** 对常用查询和推理结果进行缓存，提高响应速度。\\n\\n## 结语\\n\\nLangGraph 结合了语言模型和知识图谱的优势，能够在多种实际场景中提升系统的智能化水平。从知识图谱的构建到语义搜索，再到推荐系统，LangGraph 都展示了强大的应用潜力。随着技术的不断进步，LangGraph 有望成为未来人工智能和自然语言处理领域的关键技术之一。')]"
      ]
     },
     "execution_count": 3,
     "metadata": {},
     "output_type": "execute_result"
    }
   ],
   "source": [
    "text_splitter = RecursiveCharacterTextSplitter(chunk_size=1000, chunk_overlap=0)\n",
    "\n",
    "docs = text_splitter.split_documents(docs)\n",
    "\n",
    "docs\n"
   ]
  },
  {
   "cell_type": "code",
   "execution_count": 4,
   "metadata": {},
   "outputs": [
    {
     "name": "stderr",
     "output_type": "stream",
     "text": [
      "/tmp/ipykernel_34920/1980583364.py:4: LangChainDeprecationWarning: The class `HuggingFaceEmbeddings` was deprecated in LangChain 0.2.2 and will be removed in 1.0. An updated version of the class exists in the :class:`~langchain-huggingface package and should be used instead. To use it run `pip install -U :class:`~langchain-huggingface` and import as `from :class:`~langchain_huggingface import HuggingFaceEmbeddings``.\n",
      "  embeddings = HuggingFaceEmbeddings(model_name=\"/home/libing/kk_LLMs/bge-large-zh-v1.5\")\n",
      "/home/libing/miniconda3/envs/kk_langchain_wsl/lib/python3.10/site-packages/sentence_transformers/cross_encoder/CrossEncoder.py:13: TqdmWarning: IProgress not found. Please update jupyter and ipywidgets. See https://ipywidgets.readthedocs.io/en/stable/user_install.html\n",
      "  from tqdm.autonotebook import tqdm, trange\n"
     ]
    }
   ],
   "source": [
    "# 导入本地词嵌入模型\n",
    "from langchain_community.embeddings.huggingface import HuggingFaceEmbeddings\n",
    "\n",
    "embeddings = HuggingFaceEmbeddings(model_name=\"/home/libing/kk_LLMs/bge-large-zh-v1.5\")\n"
   ]
  },
  {
   "cell_type": "code",
   "execution_count": 5,
   "metadata": {},
   "outputs": [
    {
     "name": "stderr",
     "output_type": "stream",
     "text": [
      "/tmp/ipykernel_34920/3936686920.py:2: LangChainDeprecationWarning: The class `Chroma` was deprecated in LangChain 0.2.9 and will be removed in 1.0. An updated version of the class exists in the :class:`~langchain-chroma package and should be used instead. To use it run `pip install -U :class:`~langchain-chroma` and import as `from :class:`~langchain_chroma import Chroma``.\n",
      "  vectorstore = Chroma(collection_name=\"full_documents\", embedding_function=embeddings)\n"
     ]
    }
   ],
   "source": [
    "# 用于索引子块的向量存储\n",
    "vectorstore = Chroma(collection_name=\"full_documents\", embedding_function=embeddings)\n"
   ]
  },
  {
   "cell_type": "code",
   "execution_count": 6,
   "metadata": {},
   "outputs": [],
   "source": [
    "# 父文档的存储层\n",
    "store = InMemoryStore()\n",
    "id_key = \"doc_id\"\n",
    "\n",
    "# 检索器（空启动）\n",
    "retriever = MultiVectorRetriever(vectorstore=vectorstore, byte_store=store, id_key=id_key)"
   ]
  },
  {
   "cell_type": "code",
   "execution_count": 7,
   "metadata": {},
   "outputs": [
    {
     "data": {
      "text/plain": [
       "['29c8933e-468a-48ad-989c-a79873bb2f14',\n",
       " '78439bb2-fd64-4ea5-89d9-4ea817bcfdd4',\n",
       " '657814e4-424b-47a5-9142-36b6b1a59075',\n",
       " '0a1bef67-1941-40a0-a4d1-2b9db9ee44c7',\n",
       " '1ac616fa-e54c-4b5b-8d99-1b6d52670c1e',\n",
       " 'c4ef2e6e-6277-43ed-a9ff-a9afbd9af2d7',\n",
       " '4bdec27e-1f3c-428c-9969-888c40bbd250']"
      ]
     },
     "execution_count": 7,
     "metadata": {},
     "output_type": "execute_result"
    }
   ],
   "source": [
    "import uuid\n",
    "\n",
    "doc_ids = [str(uuid.uuid4()) for _ in docs]\n",
    "\n",
    "doc_ids\n"
   ]
  },
  {
   "cell_type": "code",
   "execution_count": 8,
   "metadata": {},
   "outputs": [],
   "source": [
    "# 创建较小块的分割器\n",
    "from langchain_text_splitters import CharacterTextSplitter\n",
    "\n",
    "child_text_splitter = CharacterTextSplitter(chunk_size=100, chunk_overlap=10, length_function=len, separator=\"\\n\\n\", is_separator_regex=False)"
   ]
  },
  {
   "cell_type": "code",
   "execution_count": 9,
   "metadata": {},
   "outputs": [
    {
     "name": "stderr",
     "output_type": "stream",
     "text": [
      "Created a chunk of size 224, which is longer than the specified 100\n",
      "Created a chunk of size 117, which is longer than the specified 100\n",
      "Created a chunk of size 176, which is longer than the specified 100\n",
      "Created a chunk of size 120, which is longer than the specified 100\n",
      "Created a chunk of size 319, which is longer than the specified 100\n",
      "Created a chunk of size 123, which is longer than the specified 100\n",
      "Created a chunk of size 135, which is longer than the specified 100\n",
      "Created a chunk of size 115, which is longer than the specified 100\n",
      "Created a chunk of size 119, which is longer than the specified 100\n",
      "Created a chunk of size 147, which is longer than the specified 100\n",
      "Created a chunk of size 124, which is longer than the specified 100\n",
      "Created a chunk of size 104, which is longer than the specified 100\n",
      "Created a chunk of size 103, which is longer than the specified 100\n",
      "Created a chunk of size 163, which is longer than the specified 100\n",
      "Created a chunk of size 108, which is longer than the specified 100\n"
     ]
    },
    {
     "data": {
      "text/plain": [
       "[Document(metadata={'source': '/mnt/f/kk_datasets/txt/faq-4359.txt', 'doc_id': '29c8933e-468a-48ad-989c-a79873bb2f14'}, page_content='一、什么是0分期利息\\n\\n您好，“0分期利息”是指买家使用花呗、招行掌上生活、工行信用卡、银联信用卡等其他分期购物时无需支付分期利息的功能，分期利息由华为商城承担。'),\n",
       " Document(metadata={'source': '/mnt/f/kk_datasets/txt/faq-4359.txt', 'doc_id': '29c8933e-468a-48ad-989c-a79873bb2f14'}, page_content='注：自2023年起，商城将相关宣传将“免息”调整为“0分期利息”，主要基于中国银保监会、中国人民银行《关于进一步促进信用卡业务规范健康发展的通知》（银保监规〔2022〕13号），要求“银行业金融机构应当在分期业务合同（协议）首页和业务办理页面以明显方式展示分期业务可能产生的所有息费项目、年化利率水平和息费计算方式。向客户展示分期业务收取的资金使用成本时，应当统一采用利息形式，并明确相应的计息规则，不得采用手续费等形式，法律法规另有规定的除外。”'),\n",
       " Document(metadata={'source': '/mnt/f/kk_datasets/txt/faq-4359.txt', 'doc_id': '29c8933e-468a-48ad-989c-a79873bb2f14'}, page_content='二、可以参与0分期利息活动的商品\\n\\n商城目前仅支持部分单品参与0分期利息，若多商品（含不支持0分期利息）合并支付则不支持0分期利息，以支付页面为准，后续会逐渐开放更多商品，敬请关注。'),\n",
       " Document(metadata={'source': '/mnt/f/kk_datasets/txt/faq-4359.txt', 'doc_id': '29c8933e-468a-48ad-989c-a79873bb2f14'}, page_content='三、确认订单分期成功\\n\\n订单提交成功后在支付方式页面选择分期支付，点选显示0分期利息的支付方式及具体0分期利息期数后，完成支付。'),\n",
       " Document(metadata={'source': '/mnt/f/kk_datasets/txt/faq-4359.txt', 'doc_id': '29c8933e-468a-48ad-989c-a79873bb2f14'}, page_content='四、订单中有多个商品，其中有商品支持0分期利息，为什么提交后却没有0分期利息？'),\n",
       " Document(metadata={'source': '/mnt/f/kk_datasets/txt/faq-4359.txt', 'doc_id': '29c8933e-468a-48ad-989c-a79873bb2f14'}, page_content='0分期利息商品不能和其它商品一起购买，如果和其他商品购买而不能享用0分期利息，建议取消原来的订单，重新购买时把0分期利息商品和其他商品分开单独购买；且0分期利息的分期数是固定的，如6期0分期利息，并不是3/6/12都提供0分期利息的。'),\n",
       " Document(metadata={'source': '/mnt/f/kk_datasets/txt/faq-4359.txt', 'doc_id': '29c8933e-468a-48ad-989c-a79873bb2f14'}, page_content='五、小程序是否支持0分期利息？\\n\\n华为商城小程序暂不支持0分期利息。'),\n",
       " Document(metadata={'source': '/mnt/f/kk_datasets/txt/faq-7923.txt', 'doc_id': '78439bb2-fd64-4ea5-89d9-4ea817bcfdd4'}, page_content='众测活动\\n\\n整体介绍：\\n\\n一、活动定义：众测是以低价试销的形式，通过收集评价、销量等方法，用于测试市场对新商品的反应，用于及时优化销售策略和引导商家改进。'),\n",
       " Document(metadata={'source': '/mnt/f/kk_datasets/txt/faq-7923.txt', 'doc_id': '78439bb2-fd64-4ea5-89d9-4ea817bcfdd4'}, page_content='二、优势：众测价通常比较优惠，以不高于大促促销价为原则，最终以与物权方谈判结果为准。\\n\\n三、适用范围：华为商城所有产品。\\n\\n参与方式：\\n\\n1、华为商城众测的入口在哪里？'),\n",
       " Document(metadata={'source': '/mnt/f/kk_datasets/txt/faq-7923.txt', 'doc_id': '78439bb2-fd64-4ea5-89d9-4ea817bcfdd4'}, page_content='华为商城搜索“众测”，即可看到众测入口，点击进入即可；\\n\\n2、众测上新频次：\\n\\n众测频道每周一至周五不定期更新上架，部分商品可能会特别调整；\\n\\n3、众测活动时间：'),\n",
       " Document(metadata={'source': '/mnt/f/kk_datasets/txt/faq-7923.txt', 'doc_id': '78439bb2-fd64-4ea5-89d9-4ea817bcfdd4'}, page_content='3、众测活动时间：\\n\\n一款产品众测时间通常为10-20天（热销的商品可能会延期5-10天）。\\n\\n \\n\\n常见问题：\\n\\n1、众测商品的来源?'),\n",
       " Document(metadata={'source': '/mnt/f/kk_datasets/txt/faq-7923.txt', 'doc_id': '78439bb2-fd64-4ea5-89d9-4ea817bcfdd4'}, page_content='1、众测商品的来源?\\n\\n     您好，众测商品主要来源为华为商城上架的新品，热销的爆款商品也会不定期通过众测回归上线。\\n\\n2、众测商品的价格会优惠吗？'),\n",
       " Document(metadata={'source': '/mnt/f/kk_datasets/txt/faq-7923.txt', 'doc_id': '78439bb2-fd64-4ea5-89d9-4ea817bcfdd4'}, page_content='您好，众测商品价格对标618和双十一，一般都是该商品某段时间的最低促销价。\\n\\n3、 众测商品质量会不稳定么？\\n\\n     您好，众测商品也是量产的正品新品，质量与正式上架商品一致。'),\n",
       " Document(metadata={'source': '/mnt/f/kk_datasets/txt/faq-7923.txt', 'doc_id': '78439bb2-fd64-4ea5-89d9-4ea817bcfdd4'}, page_content='4、众测商品买下后多久发货？\\n\\n     您好，请以商品页显示为准。\\n\\n5、提交活动订单后多久内支付？\\n\\n     您好，提交订单后最长付款时效为24小时，逾期订单自动取消'),\n",
       " Document(metadata={'source': '/mnt/f/kk_datasets/txt/faq-7923.txt', 'doc_id': '78439bb2-fd64-4ea5-89d9-4ea817bcfdd4'}, page_content='6、成功下单后怎么查询众测订单？'),\n",
       " Document(metadata={'source': '/mnt/f/kk_datasets/txt/faq-7923.txt', 'doc_id': '78439bb2-fd64-4ea5-89d9-4ea817bcfdd4'}, page_content='您好，成功下单后，您可以通过华为商城手机APP、华为商城手机WAP版、华为商城电脑网页版任意一端登录下单账户，在“我的订单”查询。（众测商品订单查询方式等同于正常商品订单）'),\n",
       " Document(metadata={'source': '/mnt/f/kk_datasets/txt/faq-7923.txt', 'doc_id': '78439bb2-fd64-4ea5-89d9-4ea817bcfdd4'}, page_content='7、订单支付后未发货前可以取消订单吗？\\n\\n     您好，在发货前消费者可以取消订单。\\n\\n8、取消订单后多久内退回款项？\\n\\n     您好，和华为商城智能家居生态产品通用退款时效一致，3-5个工作日。'),\n",
       " Document(metadata={'source': '/mnt/f/kk_datasets/txt/faq-7923.txt', 'doc_id': '78439bb2-fd64-4ea5-89d9-4ea817bcfdd4'}, page_content='9、一个账号可以参与几次众测活动？有限购吗？\\n\\n     您好，一个账号参与众测活动的次数无限制，没有限购。但每次订单只能购买一个商品。如您需要购买多个产品，可以多次参与众测活动。'),\n",
       " Document(metadata={'source': '/mnt/f/kk_datasets/txt/yjhx.md', 'doc_id': '657814e4-424b-47a5-9142-36b6b1a59075'}, page_content='**一、选择回收物品**'),\n",
       " Document(metadata={'source': '/mnt/f/kk_datasets/txt/yjhx.md', 'doc_id': '657814e4-424b-47a5-9142-36b6b1a59075'}, page_content='点击VMALL您可以在设备回收分类中选择旧商品的类别以及品牌，现在VMALL支持回收部分品牌和型号的手机、笔记本、平板、智能数码以及摄影摄像。如若在此页面上找不到您的品牌或型号，您可以点击品牌栏右下方的加号（如下图红圈部分所示）查看VMALL所支持回收的所有品牌型号。首页滚动电子横幅右下方“以旧换新”标志（如下图红框部分所示），进入“以旧换新”页面。'),\n",
       " Document(metadata={'source': '/mnt/f/kk_datasets/txt/yjhx.md', 'doc_id': '657814e4-424b-47a5-9142-36b6b1a59075'}, page_content='![以旧换新图片](https://threejs-1251830808.cos.ap-guangzhou.myqcloud.com/73564551948615546537.png)'),\n",
       " Document(metadata={'source': '/mnt/f/kk_datasets/txt/yjhx.md', 'doc_id': '657814e4-424b-47a5-9142-36b6b1a59075'}, page_content='（以下图片为参考流程，实际以页面为准）'),\n",
       " Document(metadata={'source': '/mnt/f/kk_datasets/txt/yjhx.md', 'doc_id': '657814e4-424b-47a5-9142-36b6b1a59075'}, page_content='![设备回收图片](https://threejs-1251830808.cos.ap-guangzhou.myqcloud.com/18969746813614796981.png)'),\n",
       " Document(metadata={'source': '/mnt/f/kk_datasets/txt/yjhx.md', 'doc_id': '657814e4-424b-47a5-9142-36b6b1a59075'}, page_content='选择好您的旧商品后请点击商品图标，进入价格评估页面。\\n\\n**二、价格评估**'),\n",
       " Document(metadata={'source': '/mnt/f/kk_datasets/txt/yjhx.md', 'doc_id': '657814e4-424b-47a5-9142-36b6b1a59075'}, page_content='在价格评估界面上，您需要对旧商品的基本信息（网络制式、存储容量、购买渠道、机身颜色），外观成色（边框背板，屏幕外观，屏幕显示，维修情况），和多功能选项参数进行评估，请如实填写您的手机情况。完成所有参数选择，请估价按钮（如下图红框部分所示）。'),\n",
       " Document(metadata={'source': '/mnt/f/kk_datasets/txt/yjhx.md', 'doc_id': '657814e4-424b-47a5-9142-36b6b1a59075'}, page_content='完成所有参数选择，请点击“免费询价”按钮（如下图红框部分所示）。'),\n",
       " Document(metadata={'source': '/mnt/f/kk_datasets/txt/yjhx.md', 'doc_id': '657814e4-424b-47a5-9142-36b6b1a59075'}, page_content='![免费询价图片](https://threejs-1251830808.cos.ap-guangzhou.myqcloud.com/37174946813614947173.png)'),\n",
       " Document(metadata={'source': '/mnt/f/kk_datasets/txt/yjhx.md', 'doc_id': '657814e4-424b-47a5-9142-36b6b1a59075'}, page_content='**三、价格评估结果**\\n\\n您可以查看手机的估价和这款手机的回收价格趋势，如果填写有什么问题，可以点击“重新询价”或“重新选择机型”更改；确认无误后，点击“换钱”按钮进入订单页面。'),\n",
       " Document(metadata={'source': '/mnt/f/kk_datasets/txt/yjhx.md', 'doc_id': '657814e4-424b-47a5-9142-36b6b1a59075'}, page_content='![价格评估结果图片](https://threejs-1251830808.cos.ap-guangzhou.myqcloud.com/28422256813615222482.png)'),\n",
       " Document(metadata={'source': '/mnt/f/kk_datasets/txt/yjhx.md', 'doc_id': '657814e4-424b-47a5-9142-36b6b1a59075'}, page_content='**四、提交订单**\\n\\n在订单页面，您可以从以下两种常规回收方式选择一种进行回收，并提交订单结账。（回收宝支持顺丰上门、上门质检回收，爱回收支持顺丰上门、质检上门、信用回收）'),\n",
       " Document(metadata={'source': '/mnt/f/kk_datasets/txt/yjhx.md', 'doc_id': '0a1bef67-1941-40a0-a4d1-2b9db9ee44c7'}, page_content='![&#x56fe;5.png](https://threejs-1251830808.cos.ap-guangzhou.myqcloud.com/47605356813615350674.png)'),\n",
       " Document(metadata={'source': '/mnt/f/kk_datasets/txt/yjhx.md', 'doc_id': '0a1bef67-1941-40a0-a4d1-2b9db9ee44c7'}, page_content='（1）顺丰上门回收操作流程\\n\\n① 回收方式：选择顺丰快递回收\\n\\n② 提交订单：填写联系人、电话号码、取货地址及上门时间，提交订单\\n\\n③ 上门取货：回收订单提交成功，快递员会按照填写的上门时间上门取货'),\n",
       " Document(metadata={'source': '/mnt/f/kk_datasets/txt/yjhx.md', 'doc_id': '0a1bef67-1941-40a0-a4d1-2b9db9ee44c7'}, page_content='④ 确认交易：回收商会在收到旧机的48小时内完成检测，若价格与您提交订单时的价格一致，将立即发放华为代金券。\\n\\n（2）质检师上门回收操作流程\\n\\n① 回收方式：选择质检师上门回收。'),\n",
       " Document(metadata={'source': '/mnt/f/kk_datasets/txt/yjhx.md', 'doc_id': '0a1bef67-1941-40a0-a4d1-2b9db9ee44c7'}, page_content='② 提交订单：填写联系人信息、手机号码、上门地址及上门时间，提交订单\\n\\n③ 确认交易：如通过质检师上门回收，在完成检测后，代金券可实时到账。'),\n",
       " Document(metadata={'source': '/mnt/f/kk_datasets/txt/yjhx.md', 'doc_id': '0a1bef67-1941-40a0-a4d1-2b9db9ee44c7'}, page_content='![质检师上门回收操作流程图片](https://threejs-1251830808.cos.ap-guangzhou.myqcloud.com/67845656813615654876.png)'),\n",
       " Document(metadata={'source': '/mnt/f/kk_datasets/txt/yjhx.md', 'doc_id': '0a1bef67-1941-40a0-a4d1-2b9db9ee44c7'}, page_content='五、以旧换新答疑 ：更多关于以旧换新的问题请点击 “[以旧换新答疑](https://www.vmall.com/help/category-251.html)”查看。'),\n",
       " Document(metadata={'source': '/mnt/f/kk_datasets/txt/agent.md', 'doc_id': '1ac616fa-e54c-4b5b-8d99-1b6d52670c1e'}, page_content='# LangGraph 技术文档\\n\\n## 目录'),\n",
       " Document(metadata={'source': '/mnt/f/kk_datasets/txt/agent.md', 'doc_id': '1ac616fa-e54c-4b5b-8d99-1b6d52670c1e'}, page_content='1. [概述](#概述)\\n2. [LangGraph 原理](#langgraph-原理)\\n   - [语言模型与图谱结合](#语言模型与图谱结合)\\n   - [图谱的语义增强](#图谱的语义增强)\\n3. [LangGraph 的应用](#langgraph-的应用)\\n   - [知识图谱构建与优化](#知识图谱构建与优化)\\n   - [自然语言处理中的语义搜索](#自然语言处理中的语义搜索)\\n   - [智能推荐系统](#智能推荐系统)\\n4. [LangGraph 的部署](#langgraph-的部署)\\n   - [系统架构](#系统架构)\\n   - [部署步骤](#部署步骤)\\n   - [性能优化与调优](#性能优化与调优)'),\n",
       " Document(metadata={'source': '/mnt/f/kk_datasets/txt/agent.md', 'doc_id': '1ac616fa-e54c-4b5b-8d99-1b6d52670c1e'}, page_content='---\\n\\n## 概述'),\n",
       " Document(metadata={'source': '/mnt/f/kk_datasets/txt/agent.md', 'doc_id': '1ac616fa-e54c-4b5b-8d99-1b6d52670c1e'}, page_content='LangGraph 是一种基于语言模型与图谱结合的技术，旨在通过将自然语言处理（NLP）与知识图谱的优势结合，提升信息检索、语义理解和推荐系统的能力。它通过引入图谱结构，将文本数据转换为图形结构，增强了语义关联性，并能在更复杂的情境下推理和推荐。'),\n",
       " Document(metadata={'source': '/mnt/f/kk_datasets/txt/agent.md', 'doc_id': '1ac616fa-e54c-4b5b-8d99-1b6d52670c1e'}, page_content='LangGraph 主要用于以下几个方面：\\n\\n- 提高知识图谱的构建效率和准确性\\n- 实现智能推荐和个性化搜索\\n- 增强语义搜索的精度和效率\\n- 支持基于图谱的推理和决策'),\n",
       " Document(metadata={'source': '/mnt/f/kk_datasets/txt/agent.md', 'doc_id': '1ac616fa-e54c-4b5b-8d99-1b6d52670c1e'}, page_content='## LangGraph 原理\\n\\n### 语言模型与图谱结合'),\n",
       " Document(metadata={'source': '/mnt/f/kk_datasets/txt/agent.md', 'doc_id': '1ac616fa-e54c-4b5b-8d99-1b6d52670c1e'}, page_content='LangGraph 的核心思想是将传统的知识图谱和深度学习中的预训练语言模型（如 GPT、BERT 等）相结合。传统的知识图谱是通过节点（实体）和边（关系）构成的网络，主要用于表示实体之间的知识关系。而语言模型则能够理解并生成自然语言，在一定程度上捕捉语言的语法和语义。'),\n",
       " Document(metadata={'source': '/mnt/f/kk_datasets/txt/agent.md', 'doc_id': '1ac616fa-e54c-4b5b-8d99-1b6d52670c1e'}, page_content='LangGraph 通过以下两种方式将两者结合：'),\n",
       " Document(metadata={'source': '/mnt/f/kk_datasets/txt/agent.md', 'doc_id': '1ac616fa-e54c-4b5b-8d99-1b6d52670c1e'}, page_content='1. **图谱补全与增强：** 利用语言模型推测图谱中缺失的实体或关系，通过文本数据补充图谱的空白。这样，LangGraph 不仅可以从已有的知识中推断信息，还可以根据上下文生成新的节点和边。'),\n",
       " Document(metadata={'source': '/mnt/f/kk_datasets/txt/agent.md', 'doc_id': '1ac616fa-e54c-4b5b-8d99-1b6d52670c1e'}, page_content='2. **图谱信息的语言化表达：** 将知识图谱中的节点和边转化为自然语言形式，增强模型对知识的理解能力。通过这种方式，LangGraph 可以将结构化的图谱数据与非结构化的文本数据进行有效结合，提高模型的推理能力和语义理解能力。'),\n",
       " Document(metadata={'source': '/mnt/f/kk_datasets/txt/agent.md', 'doc_id': '1ac616fa-e54c-4b5b-8d99-1b6d52670c1e'}, page_content='### 图谱的语义增强'),\n",
       " Document(metadata={'source': '/mnt/f/kk_datasets/txt/agent.md', 'doc_id': 'c4ef2e6e-6277-43ed-a9ff-a9afbd9af2d7'}, page_content='图谱本身通常是静态的，图谱中的实体和关系往往是由人工构建的。然而，传统的图谱可能会存在关系不全、语义不准确等问题。LangGraph 通过语言模型对图谱进行“语义增强”，即通过训练语言模型去捕捉更加丰富的语义信息，提升图谱数据的语义质量。'),\n",
       " Document(metadata={'source': '/mnt/f/kk_datasets/txt/agent.md', 'doc_id': 'c4ef2e6e-6277-43ed-a9ff-a9afbd9af2d7'}, page_content='具体来说，语义增强的过程包括：'),\n",
       " Document(metadata={'source': '/mnt/f/kk_datasets/txt/agent.md', 'doc_id': 'c4ef2e6e-6277-43ed-a9ff-a9afbd9af2d7'}, page_content='1. **语义推理：** 利用语言模型对图谱中的实体和关系进行推理，生成新的关系或验证已有的关系。\\n2. **上下文学习：** 利用大规模语料库训练的语言模型，帮助系统理解图谱中实体之间的上下文关系，提升推理的准确性。\\n3. **自动化扩展：** 自动生成新的实体和关系，补充知识图谱中的盲区。'),\n",
       " Document(metadata={'source': '/mnt/f/kk_datasets/txt/agent.md', 'doc_id': 'c4ef2e6e-6277-43ed-a9ff-a9afbd9af2d7'}, page_content='通过这些方法，LangGraph 可以有效提升知识图谱的准确性、完整性以及推理能力。\\n\\n## LangGraph 的应用\\n\\n### 知识图谱构建与优化'),\n",
       " Document(metadata={'source': '/mnt/f/kk_datasets/txt/agent.md', 'doc_id': 'c4ef2e6e-6277-43ed-a9ff-a9afbd9af2d7'}, page_content='在构建知识图谱时，LangGraph 可以通过以下几种方式提升效率：'),\n",
       " Document(metadata={'source': '/mnt/f/kk_datasets/txt/agent.md', 'doc_id': 'c4ef2e6e-6277-43ed-a9ff-a9afbd9af2d7'}, page_content='- **自动化抽取：** 从文本中自动提取实体和关系，减少人工标注的工作量。\\n- **语义补全：** 通过语言模型推理和补全图谱中的缺失信息，提升图谱的完整性。\\n- **知识更新：** 定期利用最新的文本数据更新知识图谱中的信息，保持图谱的时效性。'),\n",
       " Document(metadata={'source': '/mnt/f/kk_datasets/txt/agent.md', 'doc_id': 'c4ef2e6e-6277-43ed-a9ff-a9afbd9af2d7'}, page_content='### 自然语言处理中的语义搜索'),\n",
       " Document(metadata={'source': '/mnt/f/kk_datasets/txt/agent.md', 'doc_id': 'c4ef2e6e-6277-43ed-a9ff-a9afbd9af2d7'}, page_content='LangGraph 通过将图谱与语言模型结合，可以提升语义搜索的效果。在传统的基于关键词的搜索引擎中，查询结果通常只考虑了字面上的匹配。然而，LangGraph 能够通过语义匹配提供更加准确和智能的搜索结果。'),\n",
       " Document(metadata={'source': '/mnt/f/kk_datasets/txt/agent.md', 'doc_id': 'c4ef2e6e-6277-43ed-a9ff-a9afbd9af2d7'}, page_content='例如，用户可以提出类似于“推荐适合学习Python的书籍”这样的自然语言问题，LangGraph 通过图谱和语义推理的能力，能够理解问题的真实意图，并返回与 Python 学习相关的书籍信息。'),\n",
       " Document(metadata={'source': '/mnt/f/kk_datasets/txt/agent.md', 'doc_id': 'c4ef2e6e-6277-43ed-a9ff-a9afbd9af2d7'}, page_content='### 智能推荐系统'),\n",
       " Document(metadata={'source': '/mnt/f/kk_datasets/txt/agent.md', 'doc_id': 'c4ef2e6e-6277-43ed-a9ff-a9afbd9af2d7'}, page_content='LangGraph 还可用于构建智能推荐系统。通过分析用户的行为数据、兴趣爱好以及历史信息，LangGraph 能够在知识图谱中找到相似的实体或关系，基于图谱的结构和语言模型的推理能力，向用户推荐相关内容。'),\n",
       " Document(metadata={'source': '/mnt/f/kk_datasets/txt/agent.md', 'doc_id': 'c4ef2e6e-6277-43ed-a9ff-a9afbd9af2d7'}, page_content='这种推荐方式的优势在于：\\n\\n- **语义理解：** 不仅基于显式的历史行为，还能理解用户潜在的兴趣偏好。\\n- **多样性：** 可以根据用户的个性化需求推荐更加丰富的内容。'),\n",
       " Document(metadata={'source': '/mnt/f/kk_datasets/txt/agent.md', 'doc_id': 'c4ef2e6e-6277-43ed-a9ff-a9afbd9af2d7'}, page_content='## LangGraph 的部署\\n\\n### 系统架构'),\n",
       " Document(metadata={'source': '/mnt/f/kk_datasets/txt/agent.md', 'doc_id': '4bdec27e-1f3c-428c-9969-888c40bbd250'}, page_content='LangGraph 系统的架构通常包括以下几个组件：'),\n",
       " Document(metadata={'source': '/mnt/f/kk_datasets/txt/agent.md', 'doc_id': '4bdec27e-1f3c-428c-9969-888c40bbd250'}, page_content='1. **语言模型模块：** 处理自然语言输入，进行文本的预处理、解析和推理。\\n2. **知识图谱模块：** 存储和管理知识图谱，支持图谱的构建、查询、推理和更新。\\n3. **推理引擎：** 基于图谱数据和语言模型进行推理，提供语义推理和推荐结果。\\n4. **前端接口：** 提供与用户交互的接口，支持自然语言查询和推荐系统。'),\n",
       " Document(metadata={'source': '/mnt/f/kk_datasets/txt/agent.md', 'doc_id': '4bdec27e-1f3c-428c-9969-888c40bbd250'}, page_content='### 部署步骤'),\n",
       " Document(metadata={'source': '/mnt/f/kk_datasets/txt/agent.md', 'doc_id': '4bdec27e-1f3c-428c-9969-888c40bbd250'}, page_content='1. **准备环境：**\\n   - 安装并配置深度学习框架，如 PyTorch、TensorFlow。\\n   - 部署图数据库，如 Neo4j、ArangoDB 等，用于存储知识图谱。'),\n",
       " Document(metadata={'source': '/mnt/f/kk_datasets/txt/agent.md', 'doc_id': '4bdec27e-1f3c-428c-9969-888c40bbd250'}, page_content='2. **训练语言模型：**\\n   - 选择合适的预训练语言模型，如 GPT、BERT、T5 等。\\n   - 使用自己的数据进行微调，确保语言模型能够处理特定领域的语义推理。'),\n",
       " Document(metadata={'source': '/mnt/f/kk_datasets/txt/agent.md', 'doc_id': '4bdec27e-1f3c-428c-9969-888c40bbd250'}, page_content='3. **构建知识图谱：**\\n   - 从文本中自动抽取实体和关系。\\n   - 根据需求进行图谱的扩展和更新。'),\n",
       " Document(metadata={'source': '/mnt/f/kk_datasets/txt/agent.md', 'doc_id': '4bdec27e-1f3c-428c-9969-888c40bbd250'}, page_content='4. **集成和优化：**\\n   - 将语言模型与知识图谱模块进行集成，确保系统能够有效进行语义推理和图谱更新。\\n   - 优化推理引擎的性能，提升响应速度。'),\n",
       " Document(metadata={'source': '/mnt/f/kk_datasets/txt/agent.md', 'doc_id': '4bdec27e-1f3c-428c-9969-888c40bbd250'}, page_content='5. **部署与监控：**\\n   - 部署系统到云端或本地服务器，并设置监控机制，确保系统稳定运行。\\n\\n### 性能优化与调优'),\n",
       " Document(metadata={'source': '/mnt/f/kk_datasets/txt/agent.md', 'doc_id': '4bdec27e-1f3c-428c-9969-888c40bbd250'}, page_content='- **内存优化：** 使用图数据库的索引机制，减少内存占用和查询时间。\\n- **并行处理：** 对大规模图谱和模型进行分布式处理，加速推理过程。\\n- **缓存机制：** 对常用查询和推理结果进行缓存，提高响应速度。'),\n",
       " Document(metadata={'source': '/mnt/f/kk_datasets/txt/agent.md', 'doc_id': '4bdec27e-1f3c-428c-9969-888c40bbd250'}, page_content='## 结语'),\n",
       " Document(metadata={'source': '/mnt/f/kk_datasets/txt/agent.md', 'doc_id': '4bdec27e-1f3c-428c-9969-888c40bbd250'}, page_content='LangGraph 结合了语言模型和知识图谱的优势，能够在多种实际场景中提升系统的智能化水平。从知识图谱的构建到语义搜索，再到推荐系统，LangGraph 都展示了强大的应用潜力。随着技术的不断进步，LangGraph 有望成为未来人工智能和自然语言处理领域的关键技术之一。')]"
      ]
     },
     "execution_count": 9,
     "metadata": {},
     "output_type": "execute_result"
    }
   ],
   "source": [
    "sub_docs = []\n",
    "for i, doc in enumerate(docs):\n",
    "    _id = doc_ids[i]\n",
    "    _doc = child_text_splitter.split_documents([doc])\n",
    "    for sub_doc in _doc:\n",
    "        sub_doc.metadata[id_key] = _id\n",
    "    sub_docs.extend(_doc)\n",
    "\n",
    "sub_docs"
   ]
  },
  {
   "cell_type": "code",
   "execution_count": 10,
   "metadata": {},
   "outputs": [],
   "source": [
    "# 使用一个名为retriever的对象来向一个向量存储vectorstore添加文档\n",
    "# 并且使用一个文档存储docstore来设置文档ID和文档内容的映射\n",
    "# 这两个属性分别用于存储文档的向量化表示和文档的内容\n",
    "\n",
    "retriever.vectorstore.add_documents(sub_docs)\n",
    "retriever.docstore.mset(list(zip(doc_ids, sub_docs)))"
   ]
  },
  {
   "cell_type": "code",
   "execution_count": 11,
   "metadata": {},
   "outputs": [
    {
     "data": {
      "text/plain": [
       "[Document(metadata={'doc_id': '1ac616fa-e54c-4b5b-8d99-1b6d52670c1e', 'source': '/mnt/f/kk_datasets/txt/agent.md'}, page_content='LangGraph 是一种基于语言模型与图谱结合的技术，旨在通过将自然语言处理（NLP）与知识图谱的优势结合，提升信息检索、语义理解和推荐系统的能力。它通过引入图谱结构，将文本数据转换为图形结构，增强了语义关联性，并能在更复杂的情境下推理和推荐。'),\n",
       " Document(metadata={'doc_id': '1ac616fa-e54c-4b5b-8d99-1b6d52670c1e', 'source': '/mnt/f/kk_datasets/txt/agent.md'}, page_content='LangGraph 的核心思想是将传统的知识图谱和深度学习中的预训练语言模型（如 GPT、BERT 等）相结合。传统的知识图谱是通过节点（实体）和边（关系）构成的网络，主要用于表示实体之间的知识关系。而语言模型则能够理解并生成自然语言，在一定程度上捕捉语言的语法和语义。'),\n",
       " Document(metadata={'doc_id': '1ac616fa-e54c-4b5b-8d99-1b6d52670c1e', 'source': '/mnt/f/kk_datasets/txt/agent.md'}, page_content='LangGraph 主要用于以下几个方面：\\n\\n- 提高知识图谱的构建效率和准确性\\n- 实现智能推荐和个性化搜索\\n- 增强语义搜索的精度和效率\\n- 支持基于图谱的推理和决策'),\n",
       " Document(metadata={'doc_id': '1ac616fa-e54c-4b5b-8d99-1b6d52670c1e', 'source': '/mnt/f/kk_datasets/txt/agent.md'}, page_content='LangGraph 通过以下两种方式将两者结合：')]"
      ]
     },
     "execution_count": 11,
     "metadata": {},
     "output_type": "execute_result"
    }
   ],
   "source": [
    "# vectorstore 单独检索小块\n",
    "\n",
    "retriever.vectorstore.similarity_search(\"什么是LangGraph？\")"
   ]
  },
  {
   "cell_type": "markdown",
   "metadata": {},
   "source": [
    "## 摘要总结\n",
    "\n",
    "通常，摘要可能能够更准确地提炼出某个块的内容，从而实现更好的检索。在这里，我们展示如何创建摘要，然后嵌入它们。"
   ]
  },
  {
   "cell_type": "code",
   "execution_count": 12,
   "metadata": {},
   "outputs": [],
   "source": [
    "import uuid\n",
    "\n",
    "from langchain_core.documents import Document\n",
    "from langchain_core.output_parsers import StrOutputParser\n",
    "from langchain_core.prompts import ChatPromptTemplate\n",
    "from langchain_openai import ChatOpenAI\n",
    "from dotenv import load_dotenv\n",
    "import os\n",
    "\n",
    "load_dotenv()\n",
    "\n",
    "api_key = os.getenv(\"LOCAL_API_KEY\")\n",
    "base_url = os.getenv(\"LOCAL_API_BASE\")\n",
    "\n",
    "model = ChatOpenAI(api_key=api_key, base_url=base_url, temperature=0.3, max_tokens=8192)"
   ]
  },
  {
   "cell_type": "code",
   "execution_count": 13,
   "metadata": {},
   "outputs": [],
   "source": [
    "# 创建链\n",
    "\n",
    "chain = (\n",
    "    {\"doc\": lambda x: x.page_content}\n",
    "    | ChatPromptTemplate.from_template(\"总结下面的文档: \\n\\n{doc}\")\n",
    "    | model\n",
    "    | StrOutputParser()\n",
    ")\n",
    "\n"
   ]
  },
  {
   "cell_type": "code",
   "execution_count": 14,
   "metadata": {},
   "outputs": [
    {
     "data": {
      "text/plain": [
       "[Document(metadata={'source': '/mnt/f/kk_datasets/txt/faq-4359.txt'}, page_content='一、什么是0分期利息\\n\\n您好，“0分期利息”是指买家使用花呗、招行掌上生活、工行信用卡、银联信用卡等其他分期购物时无需支付分期利息的功能，分期利息由华为商城承担。\\n\\n注：自2023年起，商城将相关宣传将“免息”调整为“0分期利息”，主要基于中国银保监会、中国人民银行《关于进一步促进信用卡业务规范健康发展的通知》（银保监规〔2022〕13号），要求“银行业金融机构应当在分期业务合同（协议）首页和业务办理页面以明显方式展示分期业务可能产生的所有息费项目、年化利率水平和息费计算方式。向客户展示分期业务收取的资金使用成本时，应当统一采用利息形式，并明确相应的计息规则，不得采用手续费等形式，法律法规另有规定的除外。”\\n\\n\\n\\n二、可以参与0分期利息活动的商品\\n\\n商城目前仅支持部分单品参与0分期利息，若多商品（含不支持0分期利息）合并支付则不支持0分期利息，以支付页面为准，后续会逐渐开放更多商品，敬请关注。\\n\\n\\n\\n三、确认订单分期成功\\n\\n订单提交成功后在支付方式页面选择分期支付，点选显示0分期利息的支付方式及具体0分期利息期数后，完成支付。\\n\\n\\n\\n\\n\\n四、订单中有多个商品，其中有商品支持0分期利息，为什么提交后却没有0分期利息？\\n\\n0分期利息商品不能和其它商品一起购买，如果和其他商品购买而不能享用0分期利息，建议取消原来的订单，重新购买时把0分期利息商品和其他商品分开单独购买；且0分期利息的分期数是固定的，如6期0分期利息，并不是3/6/12都提供0分期利息的。\\n\\n\\n\\n五、小程序是否支持0分期利息？\\n\\n华为商城小程序暂不支持0分期利息。'),\n",
       " Document(metadata={'source': '/mnt/f/kk_datasets/txt/faq-7923.txt'}, page_content='众测活动\\n\\n整体介绍：\\n\\n一、活动定义：众测是以低价试销的形式，通过收集评价、销量等方法，用于测试市场对新商品的反应，用于及时优化销售策略和引导商家改进。\\n\\n二、优势：众测价通常比较优惠，以不高于大促促销价为原则，最终以与物权方谈判结果为准。\\n\\n三、适用范围：华为商城所有产品。\\n\\n\\n\\n参与方式：\\n\\n1、华为商城众测的入口在哪里？\\n\\n华为商城搜索“众测”，即可看到众测入口，点击进入即可；\\n\\n2、众测上新频次：\\n\\n众测频道每周一至周五不定期更新上架，部分商品可能会特别调整；\\n\\n3、众测活动时间：\\n\\n一款产品众测时间通常为10-20天（热销的商品可能会延期5-10天）。\\n\\n \\n\\n常见问题：\\n\\n1、众测商品的来源?\\n\\n     您好，众测商品主要来源为华为商城上架的新品，热销的爆款商品也会不定期通过众测回归上线。\\n\\n2、众测商品的价格会优惠吗？\\n\\n     您好，众测商品价格对标618和双十一，一般都是该商品某段时间的最低促销价。\\n\\n3、 众测商品质量会不稳定么？\\n\\n     您好，众测商品也是量产的正品新品，质量与正式上架商品一致。 \\n\\n4、众测商品买下后多久发货？\\n\\n     您好，请以商品页显示为准。\\n\\n5、提交活动订单后多久内支付？\\n\\n     您好，提交订单后最长付款时效为24小时，逾期订单自动取消\\n\\n6、成功下单后怎么查询众测订单？\\n\\n     您好，成功下单后，您可以通过华为商城手机APP、华为商城手机WAP版、华为商城电脑网页版任意一端登录下单账户，在“我的订单”查询。（众测商品订单查询方式等同于正常商品订单）\\n\\n7、订单支付后未发货前可以取消订单吗？\\n\\n     您好，在发货前消费者可以取消订单。\\n\\n8、取消订单后多久内退回款项？\\n\\n     您好，和华为商城智能家居生态产品通用退款时效一致，3-5个工作日。\\n\\n9、一个账号可以参与几次众测活动？有限购吗？\\n\\n     您好，一个账号参与众测活动的次数无限制，没有限购。但每次订单只能购买一个商品。如您需要购买多个产品，可以多次参与众测活动。'),\n",
       " Document(metadata={'source': '/mnt/f/kk_datasets/txt/yjhx.md'}, page_content='**一、选择回收物品**\\n\\n点击VMALL您可以在设备回收分类中选择旧商品的类别以及品牌，现在VMALL支持回收部分品牌和型号的手机、笔记本、平板、智能数码以及摄影摄像。如若在此页面上找不到您的品牌或型号，您可以点击品牌栏右下方的加号（如下图红圈部分所示）查看VMALL所支持回收的所有品牌型号。首页滚动电子横幅右下方“以旧换新”标志（如下图红框部分所示），进入“以旧换新”页面。\\n\\n![以旧换新图片](https://threejs-1251830808.cos.ap-guangzhou.myqcloud.com/73564551948615546537.png)\\n\\n（以下图片为参考流程，实际以页面为准）\\n\\n![设备回收图片](https://threejs-1251830808.cos.ap-guangzhou.myqcloud.com/18969746813614796981.png)\\n\\n选择好您的旧商品后请点击商品图标，进入价格评估页面。\\n\\n\\n\\n**二、价格评估**\\n\\n在价格评估界面上，您需要对旧商品的基本信息（网络制式、存储容量、购买渠道、机身颜色），外观成色（边框背板，屏幕外观，屏幕显示，维修情况），和多功能选项参数进行评估，请如实填写您的手机情况。完成所有参数选择，请估价按钮（如下图红框部分所示）。\\n\\n完成所有参数选择，请点击“免费询价”按钮（如下图红框部分所示）。\\n\\n![免费询价图片](https://threejs-1251830808.cos.ap-guangzhou.myqcloud.com/37174946813614947173.png)\\n\\n**三、价格评估结果**\\n\\n您可以查看手机的估价和这款手机的回收价格趋势，如果填写有什么问题，可以点击“重新询价”或“重新选择机型”更改；确认无误后，点击“换钱”按钮进入订单页面。\\n\\n![价格评估结果图片](https://threejs-1251830808.cos.ap-guangzhou.myqcloud.com/28422256813615222482.png)\\n\\n**四、提交订单**\\n\\n在订单页面，您可以从以下两种常规回收方式选择一种进行回收，并提交订单结账。（回收宝支持顺丰上门、上门质检回收，爱回收支持顺丰上门、质检上门、信用回收）\\n\\n![&#x56fe;5.png](https://threejs-1251830808.cos.ap-guangzhou.myqcloud.com/47605356813615350674.png)\\n\\n（1）顺丰上门回收操作流程\\n\\n① 回收方式：选择顺丰快递回收\\n\\n② 提交订单：填写联系人、电话号码、取货地址及上门时间，提交订单\\n\\n③ 上门取货：回收订单提交成功，快递员会按照填写的上门时间上门取货\\n\\n④ 确认交易：回收商会在收到旧机的48小时内完成检测，若价格与您提交订单时的价格一致，将立即发放华为代金券。\\n\\n（2）质检师上门回收操作流程\\n\\n① 回收方式：选择质检师上门回收。\\n\\n② 提交订单：填写联系人信息、手机号码、上门地址及上门时间，提交订单\\n\\n③ 确认交易：如通过质检师上门回收，在完成检测后，代金券可实时到账。\\n\\n![质检师上门回收操作流程图片](https://threejs-1251830808.cos.ap-guangzhou.myqcloud.com/67845656813615654876.png)\\n\\n\\n\\n五、以旧换新答疑 ：更多关于以旧换新的问题请点击 “[以旧换新答疑](https://www.vmall.com/help/category-251.html)”查看。'),\n",
       " Document(metadata={'source': '/mnt/f/kk_datasets/txt/agent.md'}, page_content='# LangGraph 技术文档\\n\\n## 目录\\n\\n1. [概述](#概述)\\n2. [LangGraph 原理](#langgraph-原理)\\n   - [语言模型与图谱结合](#语言模型与图谱结合)\\n   - [图谱的语义增强](#图谱的语义增强)\\n3. [LangGraph 的应用](#langgraph-的应用)\\n   - [知识图谱构建与优化](#知识图谱构建与优化)\\n   - [自然语言处理中的语义搜索](#自然语言处理中的语义搜索)\\n   - [智能推荐系统](#智能推荐系统)\\n4. [LangGraph 的部署](#langgraph-的部署)\\n   - [系统架构](#系统架构)\\n   - [部署步骤](#部署步骤)\\n   - [性能优化与调优](#性能优化与调优)\\n\\n---\\n\\n## 概述\\n\\nLangGraph 是一种基于语言模型与图谱结合的技术，旨在通过将自然语言处理（NLP）与知识图谱的优势结合，提升信息检索、语义理解和推荐系统的能力。它通过引入图谱结构，将文本数据转换为图形结构，增强了语义关联性，并能在更复杂的情境下推理和推荐。\\n\\nLangGraph 主要用于以下几个方面：\\n\\n- 提高知识图谱的构建效率和准确性\\n- 实现智能推荐和个性化搜索\\n- 增强语义搜索的精度和效率\\n- 支持基于图谱的推理和决策\\n\\n## LangGraph 原理\\n\\n### 语言模型与图谱结合\\n\\nLangGraph 的核心思想是将传统的知识图谱和深度学习中的预训练语言模型（如 GPT、BERT 等）相结合。传统的知识图谱是通过节点（实体）和边（关系）构成的网络，主要用于表示实体之间的知识关系。而语言模型则能够理解并生成自然语言，在一定程度上捕捉语言的语法和语义。\\n\\nLangGraph 通过以下两种方式将两者结合：\\n\\n1. **图谱补全与增强：** 利用语言模型推测图谱中缺失的实体或关系，通过文本数据补充图谱的空白。这样，LangGraph 不仅可以从已有的知识中推断信息，还可以根据上下文生成新的节点和边。\\n\\n2. **图谱信息的语言化表达：** 将知识图谱中的节点和边转化为自然语言形式，增强模型对知识的理解能力。通过这种方式，LangGraph 可以将结构化的图谱数据与非结构化的文本数据进行有效结合，提高模型的推理能力和语义理解能力。\\n\\n### 图谱的语义增强\\n\\n图谱本身通常是静态的，图谱中的实体和关系往往是由人工构建的。然而，传统的图谱可能会存在关系不全、语义不准确等问题。LangGraph 通过语言模型对图谱进行“语义增强”，即通过训练语言模型去捕捉更加丰富的语义信息，提升图谱数据的语义质量。\\n\\n具体来说，语义增强的过程包括：\\n\\n1. **语义推理：** 利用语言模型对图谱中的实体和关系进行推理，生成新的关系或验证已有的关系。\\n2. **上下文学习：** 利用大规模语料库训练的语言模型，帮助系统理解图谱中实体之间的上下文关系，提升推理的准确性。\\n3. **自动化扩展：** 自动生成新的实体和关系，补充知识图谱中的盲区。\\n\\n通过这些方法，LangGraph 可以有效提升知识图谱的准确性、完整性以及推理能力。\\n\\n## LangGraph 的应用\\n\\n### 知识图谱构建与优化\\n\\n在构建知识图谱时，LangGraph 可以通过以下几种方式提升效率：\\n\\n- **自动化抽取：** 从文本中自动提取实体和关系，减少人工标注的工作量。\\n- **语义补全：** 通过语言模型推理和补全图谱中的缺失信息，提升图谱的完整性。\\n- **知识更新：** 定期利用最新的文本数据更新知识图谱中的信息，保持图谱的时效性。\\n\\n### 自然语言处理中的语义搜索\\n\\nLangGraph 通过将图谱与语言模型结合，可以提升语义搜索的效果。在传统的基于关键词的搜索引擎中，查询结果通常只考虑了字面上的匹配。然而，LangGraph 能够通过语义匹配提供更加准确和智能的搜索结果。\\n\\n例如，用户可以提出类似于“推荐适合学习Python的书籍”这样的自然语言问题，LangGraph 通过图谱和语义推理的能力，能够理解问题的真实意图，并返回与 Python 学习相关的书籍信息。\\n\\n### 智能推荐系统\\n\\nLangGraph 还可用于构建智能推荐系统。通过分析用户的行为数据、兴趣爱好以及历史信息，LangGraph 能够在知识图谱中找到相似的实体或关系，基于图谱的结构和语言模型的推理能力，向用户推荐相关内容。\\n\\n这种推荐方式的优势在于：\\n\\n- **语义理解：** 不仅基于显式的历史行为，还能理解用户潜在的兴趣偏好。\\n- **多样性：** 可以根据用户的个性化需求推荐更加丰富的内容。\\n\\n## LangGraph 的部署\\n\\n### 系统架构\\n\\nLangGraph 系统的架构通常包括以下几个组件：\\n\\n1. **语言模型模块：** 处理自然语言输入，进行文本的预处理、解析和推理。\\n2. **知识图谱模块：** 存储和管理知识图谱，支持图谱的构建、查询、推理和更新。\\n3. **推理引擎：** 基于图谱数据和语言模型进行推理，提供语义推理和推荐结果。\\n4. **前端接口：** 提供与用户交互的接口，支持自然语言查询和推荐系统。\\n\\n### 部署步骤\\n\\n1. **准备环境：**\\n   - 安装并配置深度学习框架，如 PyTorch、TensorFlow。\\n   - 部署图数据库，如 Neo4j、ArangoDB 等，用于存储知识图谱。\\n\\n2. **训练语言模型：**\\n   - 选择合适的预训练语言模型，如 GPT、BERT、T5 等。\\n   - 使用自己的数据进行微调，确保语言模型能够处理特定领域的语义推理。\\n\\n3. **构建知识图谱：**\\n   - 从文本中自动抽取实体和关系。\\n   - 根据需求进行图谱的扩展和更新。\\n\\n4. **集成和优化：**\\n   - 将语言模型与知识图谱模块进行集成，确保系统能够有效进行语义推理和图谱更新。\\n   - 优化推理引擎的性能，提升响应速度。\\n\\n5. **部署与监控：**\\n   - 部署系统到云端或本地服务器，并设置监控机制，确保系统稳定运行。\\n\\n### 性能优化与调优\\n\\n- **内存优化：** 使用图数据库的索引机制，减少内存占用和查询时间。\\n- **并行处理：** 对大规模图谱和模型进行分布式处理，加速推理过程。\\n- **缓存机制：** 对常用查询和推理结果进行缓存，提高响应速度。\\n\\n## 结语\\n\\nLangGraph 结合了语言模型和知识图谱的优势，能够在多种实际场景中提升系统的智能化水平。从知识图谱的构建到语义搜索，再到推荐系统，LangGraph 都展示了强大的应用潜力。随着技术的不断进步，LangGraph 有望成为未来人工智能和自然语言处理领域的关键技术之一。')]"
      ]
     },
     "execution_count": 14,
     "metadata": {},
     "output_type": "execute_result"
    }
   ],
   "source": [
    "docs = []\n",
    "\n",
    "for loader in loaders:\n",
    "    docs.extend(loader.load())\n",
    "\n",
    "docs\n"
   ]
  },
  {
   "cell_type": "code",
   "execution_count": 15,
   "metadata": {},
   "outputs": [
    {
     "data": {
      "text/plain": [
       "['总结如下：\\n\\n一、“0分期利息”是指消费者在购买商品时，使用花呗、招行掌上生活、工行信用卡、银联信用卡等支付方式进行分期付款时，无需支付额外的利息费用。这部分利息由华为商城承担。需要注意的是，自2023年起，华为商城将宣传中的“免息”调整为“0分期利息”，这是为了符合中国银保监会和中国人民银行的相关规定，即要求金融机构在展示分期业务时必须明确显示所有可能产生的费用和年化利率。\\n\\n二、目前，只有部分商品支持参与“0分期利息”活动。如果消费者同时购买多个商品，其中一些商品不支持“0分期利息”，那么整个订单将无法享受该优惠。消费者需要以支付页面上的信息为准，并关注商城未来是否会开放更多商品的“0分期利息”服务。\\n\\n三、若要确认订单是否成功参与“0分期利息”活动，消费者在提交订单后需要在支付方式页面选择支持“0分期利息”的分期付款选项，并选择相应的分期期数完成支付。\\n\\n四、如果一个订单中包含多个商品，其中部分商品支持“0分期利息”，但提交订单后发现无法享受该优惠，可能是由于这些商品不能与其他不支持的商品一起购买。在这种情况下，消费者需要取消原订单，并将支持“0分期利息”的商品和其他商品分开单独购买。此外，需要注意的是，“0分期利息”的分期期数是固定的，例如6期的“0分期利息”，并不是所有分期期数都提供该优惠。\\n\\n五、目前华为商城的小程序暂不支持“0分期利息”服务。',\n",
       " '华为商城众测活动总结：\\n\\n1. **定义与目的**：华为商城众测是一种低价试销方式，旨在通过收集用户反馈和销量数据来测试市场对新商品的接受度，并据此调整销售策略或指导商家改进产品。\\n\\n2. **优势**：众测商品通常提供优惠价格，但不会低于大型促销活动（如618、双十一）的价格。最终售价取决于与供应商的谈判结果。\\n\\n3. **适用范围**：华为商城的所有产品都可能参与众测。\\n\\n4. **参与方式**：\\n   - 访问途径：用户可以通过在华为商城搜索“众测”来找到众测入口，并点击进入参加。\\n   - 上新频次：众测频道每周一至周五不定期更新上架新产品。\\n   - 活动时间：每个产品的众测时长通常为10到20天，对于热销商品可能会延长5到10天。\\n\\n5. **常见问题**：\\n   - 商品来源：众测商品主要来自华为商城的新品和热销爆款。\\n   - 价格优惠：众测商品的价格通常与618或双十一促销价持平，是该时期内的最低售价。\\n   - 质量保证：众测商品为量产的正品新品，质量与正式上架商品相同。\\n   - 发货时间：发货时间请以商品页面显示为准。\\n   - 支付时限：提交订单后最长付款时间为24小时，逾期未支付将自动取消订单。\\n   - 订单查询：成功下单后，用户可以通过华为商城APP、WAP版或电脑网页版登录账户在“我的订单”中查询。\\n   - 取消订单：发货前消费者可以随时取消订单。\\n   - 退款时效：取消订单后的退款将在3到5个工作日内完成。\\n   - 参与次数限制：用户账号无众测活动参与次数限制，也没有限购政策，但每次只能购买一个商品。如需购买多个，需要多次参加众测活动。',\n",
       " '该文档是关于一个在线回收平台（VMALL）的指导说明，它提供了如何使用该平台进行电子设备回收的步骤。以下是对文档内容的总结：\\n\\n**一、选择回收物品**\\n- 在VMALL上，用户可以选择他们想要回收的旧商品类别和品牌。\\n- 目前支持的手机、笔记本电脑、平板电脑、智能数码产品和摄影摄像设备的部分型号和品牌。\\n- 如果找不到所需品牌的型号，可以点击品牌栏右下方的加号查看所有支持的型号。\\n- 通过首页的滚动电子横幅右下方进入“以旧换新”页面。\\n\\n**二、价格评估**\\n- 在价格评估页面上，用户需要填写旧商品的基本信息（如网络制式、存储容量、购买渠道和机身颜色）以及外观成色和多功能选项参数。\\n- 完成所有参数选择后，点击“免费询价”按钮获取估价。\\n\\n**三、价格评估结果**\\n- 用户可以查看手机的估价和回收价格趋势。\\n- 如果填写信息有误，可以点击“重新询价”或“重新选择机型”进行更改。\\n- 确认无误后，点击“换钱”按钮进入订单页面。\\n\\n**四、提交订单**\\n- 在订单页面上，用户可以选择两种常规回收方式之一：顺丰上门回收和质检师上门回收。\\n- 对于顺丰上门回收，用户需要填写联系人信息、电话号码、取货地址及上门时间，然后提交订单。快递员会按照填写的上门时间来取货。\\n- 对于质检师上门回收，同样需要填写相关信息并提交订单。质检师完成检测后，代金券可实时到账。\\n\\n**五、以旧换新答疑**\\n- 如果用户有关于以旧换新的问题，可以点击链接查看更多详情。\\n\\n整个过程旨在帮助用户轻松地评估和回收他们的旧电子设备，同时提供两种不同的回收选项来满足不同用户的需求。',\n",
       " '总结文档：\\n\\n# LangGraph 技术文档\\n\\n## 概述\\n\\nLangGraph 是一种结合了语言模型与知识图谱的技术，旨在通过将自然语言处理（NLP）与知识图谱的优势相结合，提升信息检索、语义理解和推荐系统的性能。它通过引入图谱结构，将文本数据转换为图形结构，增强了语义关联性，并能在更复杂的情境下推理和推荐。\\n\\n## LangGraph 原理\\n\\n### 语言模型与图谱结合\\n\\nLangGraph 将知识图谱的节点（实体）和边（关系）与深度学习中的预训练语言模型相结合。通过以下两种方式将两者结合：\\n\\n1. 图谱补全与增强：利用语言模型推测图谱中缺失的信息，补充图谱的空白。\\n2. 图谱信息的语言化表达：将知识图谱中的节点和边转化为自然语言形式，增强模型的理解能力。\\n\\n### 图谱的语义增强\\n\\nLangGraph 通过以下方式提升图谱的准确性、完整性和推理能力：\\n\\n1. 语义推理：利用语言模型对图谱进行推理，生成新的关系或验证已有的关系。\\n2. 上下文学习：利用大规模语料库训练的语言模型理解实体间的上下文关系。\\n3. 自动化扩展：自动生成新的实体和关系，补充知识图谱中的盲区。\\n\\n## LangGraph 的应用\\n\\n### 知识图谱构建与优化\\n\\nLangGraph 通过以下方式提升知识图谱的效率：\\n\\n- 自动化抽取：从文本中自动提取实体和关系。\\n- 语义补全：通过语言模型推理和补全图谱中的缺失信息。\\n- 知识更新：定期利用最新数据更新知识图谱。\\n\\n### 自然语言处理中的语义搜索\\n\\nLangGraph 能够提供更加准确和智能的搜索结果，例如基于“推荐适合学习Python的书籍”这样的问题返回相关书籍信息。\\n\\n### 智能推荐系统\\n\\nLangGraph 通过分析用户行为、兴趣爱好以及历史信息，在知识图谱中找到相似实体或关系，向用户推荐内容。\\n\\n## LangGraph 的部署\\n\\n### 系统架构\\n\\nLangGraph 系统通常包括：语言模型模块、知识图谱模块、推理引擎和前端接口。\\n\\n### 部署步骤\\n\\n1. 准备环境：安装深度学习框架和图数据库。\\n2. 训练语言模型：选择合适的预训练模型并进行微调。\\n3. 构建知识图谱：从文本中抽取实体和关系，并扩展更新图谱。\\n4. 集成和优化：将语言模型与知识图谱模块集成，优化推理引擎性能。\\n5. 部署与监控：部署系统到云端或本地服务器，设置监控机制。\\n\\n### 性能优化与调优\\n\\n- 内存优化：使用图数据库的索引机制减少内存占用和查询时间。\\n- 并行处理：对大规模图谱和模型进行分布式处理加速推理过程。\\n- 缓存机制：对常用查询和推理结果进行缓存提高响应速度。\\n\\n## 结语\\n\\nLangGraph 结合了语言模型与知识图谱的优势，在多种场景中提升了系统的智能化水平，展示了强大的应用潜力。随着技术的不断进步，LangGraph 有望成为未来人工智能和自然语言处理领域的关键技术之一。']"
      ]
     },
     "execution_count": 15,
     "metadata": {},
     "output_type": "execute_result"
    }
   ],
   "source": [
    "summaries = chain.batch(docs, {\"max_concurrency\": 5})\n",
    "\n",
    "summaries\n"
   ]
  },
  {
   "cell_type": "code",
   "execution_count": 17,
   "metadata": {},
   "outputs": [],
   "source": [
    "# 将摘要添加到向量存储中\n",
    "vectorstore = Chroma(collection_name=\"summaries\", embedding_function=embeddings)\n",
    "store = InMemoryStore()\n",
    "id_key = \"doc_id\"\n",
    "retriever = MultiVectorRetriever(vectorstore=vectorstore, byte_store=store, id_key=id_key)\n",
    "\n",
    "doc_ids = [str(uuid.uuid4()) for _ in docs]\n"
   ]
  },
  {
   "cell_type": "code",
   "execution_count": 19,
   "metadata": {},
   "outputs": [
    {
     "data": {
      "text/plain": [
       "[Document(metadata={'doc_id': '14bd613a-a552-4f8f-86c9-1455ce68d43e'}, page_content='总结如下：\\n\\n一、“0分期利息”是指消费者在购买商品时，使用花呗、招行掌上生活、工行信用卡、银联信用卡等支付方式进行分期付款时，无需支付额外的利息费用。这部分利息由华为商城承担。需要注意的是，自2023年起，华为商城将宣传中的“免息”调整为“0分期利息”，这是为了符合中国银保监会和中国人民银行的相关规定，即要求金融机构在展示分期业务时必须明确显示所有可能产生的费用和年化利率。\\n\\n二、目前，只有部分商品支持参与“0分期利息”活动。如果消费者同时购买多个商品，其中一些商品不支持“0分期利息”，那么整个订单将无法享受该优惠。消费者需要以支付页面上的信息为准，并关注商城未来是否会开放更多商品的“0分期利息”服务。\\n\\n三、若要确认订单是否成功参与“0分期利息”活动，消费者在提交订单后需要在支付方式页面选择支持“0分期利息”的分期付款选项，并选择相应的分期期数完成支付。\\n\\n四、如果一个订单中包含多个商品，其中部分商品支持“0分期利息”，但提交订单后发现无法享受该优惠，可能是由于这些商品不能与其他不支持的商品一起购买。在这种情况下，消费者需要取消原订单，并将支持“0分期利息”的商品和其他商品分开单独购买。此外，需要注意的是，“0分期利息”的分期期数是固定的，例如6期的“0分期利息”，并不是所有分期期数都提供该优惠。\\n\\n五、目前华为商城的小程序暂不支持“0分期利息”服务。'),\n",
       " Document(metadata={'doc_id': '37b53a04-1542-49d8-903e-cf7d204c2527'}, page_content='华为商城众测活动总结：\\n\\n1. **定义与目的**：华为商城众测是一种低价试销方式，旨在通过收集用户反馈和销量数据来测试市场对新商品的接受度，并据此调整销售策略或指导商家改进产品。\\n\\n2. **优势**：众测商品通常提供优惠价格，但不会低于大型促销活动（如618、双十一）的价格。最终售价取决于与供应商的谈判结果。\\n\\n3. **适用范围**：华为商城的所有产品都可能参与众测。\\n\\n4. **参与方式**：\\n   - 访问途径：用户可以通过在华为商城搜索“众测”来找到众测入口，并点击进入参加。\\n   - 上新频次：众测频道每周一至周五不定期更新上架新产品。\\n   - 活动时间：每个产品的众测时长通常为10到20天，对于热销商品可能会延长5到10天。\\n\\n5. **常见问题**：\\n   - 商品来源：众测商品主要来自华为商城的新品和热销爆款。\\n   - 价格优惠：众测商品的价格通常与618或双十一促销价持平，是该时期内的最低售价。\\n   - 质量保证：众测商品为量产的正品新品，质量与正式上架商品相同。\\n   - 发货时间：发货时间请以商品页面显示为准。\\n   - 支付时限：提交订单后最长付款时间为24小时，逾期未支付将自动取消订单。\\n   - 订单查询：成功下单后，用户可以通过华为商城APP、WAP版或电脑网页版登录账户在“我的订单”中查询。\\n   - 取消订单：发货前消费者可以随时取消订单。\\n   - 退款时效：取消订单后的退款将在3到5个工作日内完成。\\n   - 参与次数限制：用户账号无众测活动参与次数限制，也没有限购政策，但每次只能购买一个商品。如需购买多个，需要多次参加众测活动。'),\n",
       " Document(metadata={'doc_id': '96f024fa-f0cc-47e2-9ae2-20c7661b5a49'}, page_content='该文档是关于一个在线回收平台（VMALL）的指导说明，它提供了如何使用该平台进行电子设备回收的步骤。以下是对文档内容的总结：\\n\\n**一、选择回收物品**\\n- 在VMALL上，用户可以选择他们想要回收的旧商品类别和品牌。\\n- 目前支持的手机、笔记本电脑、平板电脑、智能数码产品和摄影摄像设备的部分型号和品牌。\\n- 如果找不到所需品牌的型号，可以点击品牌栏右下方的加号查看所有支持的型号。\\n- 通过首页的滚动电子横幅右下方进入“以旧换新”页面。\\n\\n**二、价格评估**\\n- 在价格评估页面上，用户需要填写旧商品的基本信息（如网络制式、存储容量、购买渠道和机身颜色）以及外观成色和多功能选项参数。\\n- 完成所有参数选择后，点击“免费询价”按钮获取估价。\\n\\n**三、价格评估结果**\\n- 用户可以查看手机的估价和回收价格趋势。\\n- 如果填写信息有误，可以点击“重新询价”或“重新选择机型”进行更改。\\n- 确认无误后，点击“换钱”按钮进入订单页面。\\n\\n**四、提交订单**\\n- 在订单页面上，用户可以选择两种常规回收方式之一：顺丰上门回收和质检师上门回收。\\n- 对于顺丰上门回收，用户需要填写联系人信息、电话号码、取货地址及上门时间，然后提交订单。快递员会按照填写的上门时间来取货。\\n- 对于质检师上门回收，同样需要填写相关信息并提交订单。质检师完成检测后，代金券可实时到账。\\n\\n**五、以旧换新答疑**\\n- 如果用户有关于以旧换新的问题，可以点击链接查看更多详情。\\n\\n整个过程旨在帮助用户轻松地评估和回收他们的旧电子设备，同时提供两种不同的回收选项来满足不同用户的需求。'),\n",
       " Document(metadata={'doc_id': '75fb184f-f868-4394-a22e-9a90f7cc049f'}, page_content='总结文档：\\n\\n# LangGraph 技术文档\\n\\n## 概述\\n\\nLangGraph 是一种结合了语言模型与知识图谱的技术，旨在通过将自然语言处理（NLP）与知识图谱的优势相结合，提升信息检索、语义理解和推荐系统的性能。它通过引入图谱结构，将文本数据转换为图形结构，增强了语义关联性，并能在更复杂的情境下推理和推荐。\\n\\n## LangGraph 原理\\n\\n### 语言模型与图谱结合\\n\\nLangGraph 将知识图谱的节点（实体）和边（关系）与深度学习中的预训练语言模型相结合。通过以下两种方式将两者结合：\\n\\n1. 图谱补全与增强：利用语言模型推测图谱中缺失的信息，补充图谱的空白。\\n2. 图谱信息的语言化表达：将知识图谱中的节点和边转化为自然语言形式，增强模型的理解能力。\\n\\n### 图谱的语义增强\\n\\nLangGraph 通过以下方式提升图谱的准确性、完整性和推理能力：\\n\\n1. 语义推理：利用语言模型对图谱进行推理，生成新的关系或验证已有的关系。\\n2. 上下文学习：利用大规模语料库训练的语言模型理解实体间的上下文关系。\\n3. 自动化扩展：自动生成新的实体和关系，补充知识图谱中的盲区。\\n\\n## LangGraph 的应用\\n\\n### 知识图谱构建与优化\\n\\nLangGraph 通过以下方式提升知识图谱的效率：\\n\\n- 自动化抽取：从文本中自动提取实体和关系。\\n- 语义补全：通过语言模型推理和补全图谱中的缺失信息。\\n- 知识更新：定期利用最新数据更新知识图谱。\\n\\n### 自然语言处理中的语义搜索\\n\\nLangGraph 能够提供更加准确和智能的搜索结果，例如基于“推荐适合学习Python的书籍”这样的问题返回相关书籍信息。\\n\\n### 智能推荐系统\\n\\nLangGraph 通过分析用户行为、兴趣爱好以及历史信息，在知识图谱中找到相似实体或关系，向用户推荐内容。\\n\\n## LangGraph 的部署\\n\\n### 系统架构\\n\\nLangGraph 系统通常包括：语言模型模块、知识图谱模块、推理引擎和前端接口。\\n\\n### 部署步骤\\n\\n1. 准备环境：安装深度学习框架和图数据库。\\n2. 训练语言模型：选择合适的预训练模型并进行微调。\\n3. 构建知识图谱：从文本中抽取实体和关系，并扩展更新图谱。\\n4. 集成和优化：将语言模型与知识图谱模块集成，优化推理引擎性能。\\n5. 部署与监控：部署系统到云端或本地服务器，设置监控机制。\\n\\n### 性能优化与调优\\n\\n- 内存优化：使用图数据库的索引机制减少内存占用和查询时间。\\n- 并行处理：对大规模图谱和模型进行分布式处理加速推理过程。\\n- 缓存机制：对常用查询和推理结果进行缓存提高响应速度。\\n\\n## 结语\\n\\nLangGraph 结合了语言模型与知识图谱的优势，在多种场景中提升了系统的智能化水平，展示了强大的应用潜力。随着技术的不断进步，LangGraph 有望成为未来人工智能和自然语言处理领域的关键技术之一。')]"
      ]
     },
     "execution_count": 19,
     "metadata": {},
     "output_type": "execute_result"
    }
   ],
   "source": [
    "summary_docs = [\n",
    "    Document(page_content=s, metadata={id_key: doc_ids[i]}) for i, s in enumerate(summaries)\n",
    "]\n",
    "\n",
    "summary_docs\n"
   ]
  },
  {
   "cell_type": "code",
   "execution_count": 20,
   "metadata": {},
   "outputs": [],
   "source": [
    "retriever.vectorstore.add_documents(summary_docs)\n",
    "retriever.docstore.mset(list(zip(doc_ids, docs)))\n"
   ]
  },
  {
   "cell_type": "code",
   "execution_count": 21,
   "metadata": {},
   "outputs": [
    {
     "data": {
      "text/plain": [
       "[Document(metadata={'doc_id': '37b53a04-1542-49d8-903e-cf7d204c2527'}, page_content='华为商城众测活动总结：\\n\\n1. **定义与目的**：华为商城众测是一种低价试销方式，旨在通过收集用户反馈和销量数据来测试市场对新商品的接受度，并据此调整销售策略或指导商家改进产品。\\n\\n2. **优势**：众测商品通常提供优惠价格，但不会低于大型促销活动（如618、双十一）的价格。最终售价取决于与供应商的谈判结果。\\n\\n3. **适用范围**：华为商城的所有产品都可能参与众测。\\n\\n4. **参与方式**：\\n   - 访问途径：用户可以通过在华为商城搜索“众测”来找到众测入口，并点击进入参加。\\n   - 上新频次：众测频道每周一至周五不定期更新上架新产品。\\n   - 活动时间：每个产品的众测时长通常为10到20天，对于热销商品可能会延长5到10天。\\n\\n5. **常见问题**：\\n   - 商品来源：众测商品主要来自华为商城的新品和热销爆款。\\n   - 价格优惠：众测商品的价格通常与618或双十一促销价持平，是该时期内的最低售价。\\n   - 质量保证：众测商品为量产的正品新品，质量与正式上架商品相同。\\n   - 发货时间：发货时间请以商品页面显示为准。\\n   - 支付时限：提交订单后最长付款时间为24小时，逾期未支付将自动取消订单。\\n   - 订单查询：成功下单后，用户可以通过华为商城APP、WAP版或电脑网页版登录账户在“我的订单”中查询。\\n   - 取消订单：发货前消费者可以随时取消订单。\\n   - 退款时效：取消订单后的退款将在3到5个工作日内完成。\\n   - 参与次数限制：用户账号无众测活动参与次数限制，也没有限购政策，但每次只能购买一个商品。如需购买多个，需要多次参加众测活动。'),\n",
       " Document(metadata={'doc_id': '14bd613a-a552-4f8f-86c9-1455ce68d43e'}, page_content='总结如下：\\n\\n一、“0分期利息”是指消费者在购买商品时，使用花呗、招行掌上生活、工行信用卡、银联信用卡等支付方式进行分期付款时，无需支付额外的利息费用。这部分利息由华为商城承担。需要注意的是，自2023年起，华为商城将宣传中的“免息”调整为“0分期利息”，这是为了符合中国银保监会和中国人民银行的相关规定，即要求金融机构在展示分期业务时必须明确显示所有可能产生的费用和年化利率。\\n\\n二、目前，只有部分商品支持参与“0分期利息”活动。如果消费者同时购买多个商品，其中一些商品不支持“0分期利息”，那么整个订单将无法享受该优惠。消费者需要以支付页面上的信息为准，并关注商城未来是否会开放更多商品的“0分期利息”服务。\\n\\n三、若要确认订单是否成功参与“0分期利息”活动，消费者在提交订单后需要在支付方式页面选择支持“0分期利息”的分期付款选项，并选择相应的分期期数完成支付。\\n\\n四、如果一个订单中包含多个商品，其中部分商品支持“0分期利息”，但提交订单后发现无法享受该优惠，可能是由于这些商品不能与其他不支持的商品一起购买。在这种情况下，消费者需要取消原订单，并将支持“0分期利息”的商品和其他商品分开单独购买。此外，需要注意的是，“0分期利息”的分期期数是固定的，例如6期的“0分期利息”，并不是所有分期期数都提供该优惠。\\n\\n五、目前华为商城的小程序暂不支持“0分期利息”服务。'),\n",
       " Document(metadata={'doc_id': '96f024fa-f0cc-47e2-9ae2-20c7661b5a49'}, page_content='该文档是关于一个在线回收平台（VMALL）的指导说明，它提供了如何使用该平台进行电子设备回收的步骤。以下是对文档内容的总结：\\n\\n**一、选择回收物品**\\n- 在VMALL上，用户可以选择他们想要回收的旧商品类别和品牌。\\n- 目前支持的手机、笔记本电脑、平板电脑、智能数码产品和摄影摄像设备的部分型号和品牌。\\n- 如果找不到所需品牌的型号，可以点击品牌栏右下方的加号查看所有支持的型号。\\n- 通过首页的滚动电子横幅右下方进入“以旧换新”页面。\\n\\n**二、价格评估**\\n- 在价格评估页面上，用户需要填写旧商品的基本信息（如网络制式、存储容量、购买渠道和机身颜色）以及外观成色和多功能选项参数。\\n- 完成所有参数选择后，点击“免费询价”按钮获取估价。\\n\\n**三、价格评估结果**\\n- 用户可以查看手机的估价和回收价格趋势。\\n- 如果填写信息有误，可以点击“重新询价”或“重新选择机型”进行更改。\\n- 确认无误后，点击“换钱”按钮进入订单页面。\\n\\n**四、提交订单**\\n- 在订单页面上，用户可以选择两种常规回收方式之一：顺丰上门回收和质检师上门回收。\\n- 对于顺丰上门回收，用户需要填写联系人信息、电话号码、取货地址及上门时间，然后提交订单。快递员会按照填写的上门时间来取货。\\n- 对于质检师上门回收，同样需要填写相关信息并提交订单。质检师完成检测后，代金券可实时到账。\\n\\n**五、以旧换新答疑**\\n- 如果用户有关于以旧换新的问题，可以点击链接查看更多详情。\\n\\n整个过程旨在帮助用户轻松地评估和回收他们的旧电子设备，同时提供两种不同的回收选项来满足不同用户的需求。'),\n",
       " Document(metadata={'doc_id': '75fb184f-f868-4394-a22e-9a90f7cc049f'}, page_content='总结文档：\\n\\n# LangGraph 技术文档\\n\\n## 概述\\n\\nLangGraph 是一种结合了语言模型与知识图谱的技术，旨在通过将自然语言处理（NLP）与知识图谱的优势相结合，提升信息检索、语义理解和推荐系统的性能。它通过引入图谱结构，将文本数据转换为图形结构，增强了语义关联性，并能在更复杂的情境下推理和推荐。\\n\\n## LangGraph 原理\\n\\n### 语言模型与图谱结合\\n\\nLangGraph 将知识图谱的节点（实体）和边（关系）与深度学习中的预训练语言模型相结合。通过以下两种方式将两者结合：\\n\\n1. 图谱补全与增强：利用语言模型推测图谱中缺失的信息，补充图谱的空白。\\n2. 图谱信息的语言化表达：将知识图谱中的节点和边转化为自然语言形式，增强模型的理解能力。\\n\\n### 图谱的语义增强\\n\\nLangGraph 通过以下方式提升图谱的准确性、完整性和推理能力：\\n\\n1. 语义推理：利用语言模型对图谱进行推理，生成新的关系或验证已有的关系。\\n2. 上下文学习：利用大规模语料库训练的语言模型理解实体间的上下文关系。\\n3. 自动化扩展：自动生成新的实体和关系，补充知识图谱中的盲区。\\n\\n## LangGraph 的应用\\n\\n### 知识图谱构建与优化\\n\\nLangGraph 通过以下方式提升知识图谱的效率：\\n\\n- 自动化抽取：从文本中自动提取实体和关系。\\n- 语义补全：通过语言模型推理和补全图谱中的缺失信息。\\n- 知识更新：定期利用最新数据更新知识图谱。\\n\\n### 自然语言处理中的语义搜索\\n\\nLangGraph 能够提供更加准确和智能的搜索结果，例如基于“推荐适合学习Python的书籍”这样的问题返回相关书籍信息。\\n\\n### 智能推荐系统\\n\\nLangGraph 通过分析用户行为、兴趣爱好以及历史信息，在知识图谱中找到相似实体或关系，向用户推荐内容。\\n\\n## LangGraph 的部署\\n\\n### 系统架构\\n\\nLangGraph 系统通常包括：语言模型模块、知识图谱模块、推理引擎和前端接口。\\n\\n### 部署步骤\\n\\n1. 准备环境：安装深度学习框架和图数据库。\\n2. 训练语言模型：选择合适的预训练模型并进行微调。\\n3. 构建知识图谱：从文本中抽取实体和关系，并扩展更新图谱。\\n4. 集成和优化：将语言模型与知识图谱模块集成，优化推理引擎性能。\\n5. 部署与监控：部署系统到云端或本地服务器，设置监控机制。\\n\\n### 性能优化与调优\\n\\n- 内存优化：使用图数据库的索引机制减少内存占用和查询时间。\\n- 并行处理：对大规模图谱和模型进行分布式处理加速推理过程。\\n- 缓存机制：对常用查询和推理结果进行缓存提高响应速度。\\n\\n## 结语\\n\\nLangGraph 结合了语言模型与知识图谱的优势，在多种场景中提升了系统的智能化水平，展示了强大的应用潜力。随着技术的不断进步，LangGraph 有望成为未来人工智能和自然语言处理领域的关键技术之一。')]"
      ]
     },
     "execution_count": 21,
     "metadata": {},
     "output_type": "execute_result"
    }
   ],
   "source": [
    "sub_docs = retriever.vectorstore.similarity_search(\"众测活动是否有参与限制?\")\n",
    "\n",
    "sub_docs\n",
    "\n"
   ]
  }
 ],
 "metadata": {
  "kernelspec": {
   "display_name": "kk_langchain",
   "language": "python",
   "name": "python3"
  },
  "language_info": {
   "codemirror_mode": {
    "name": "ipython",
    "version": 3
   },
   "file_extension": ".py",
   "mimetype": "text/x-python",
   "name": "python",
   "nbconvert_exporter": "python",
   "pygments_lexer": "ipython3",
   "version": "3.10.16"
  }
 },
 "nbformat": 4,
 "nbformat_minor": 2
}
