{
 "cells": [
  {
   "cell_type": "markdown",
   "metadata": {},
   "source": [
    "# 提示词里模板中的模板\n",
    "\n",
    "## MessagePromptTemplate\n",
    "\n",
    "LangChain提供了不同类型的 MessagePromptTemplate 。最常用的是 AIMessagePromptTemplate 、 SystemMessagePromptTemplate 和 HumanMessagePromptTemplate ，它们分别创建 AI 消息、系统消息和人工消息。\n",
    "\n",
    "但是，如果聊天模型支持使用任意角色获取聊天消息，则可以使用 ChatMessagePromptTemplate ，它允许用户指定角色名称。"
   ]
  },
  {
   "cell_type": "code",
   "execution_count": 1,
   "metadata": {},
   "outputs": [
    {
     "name": "stdout",
     "output_type": "stream",
     "text": [
      "content='愿上帝与你同在！' additional_kwargs={} response_metadata={} role='kkutys'\n"
     ]
    }
   ],
   "source": [
    "from langchain_core.prompts import ChatMessagePromptTemplate\n",
    "\n",
    "template = \"愿{subject}与你同在！\"\n",
    "\n",
    "prompt = ChatMessagePromptTemplate.from_template(\n",
    "    role=\"kkutys\", template=template\n",
    ")\n",
    "\n",
    "print(prompt.format(subject=\"上帝\"))"
   ]
  },
  {
   "cell_type": "markdown",
   "metadata": {},
   "source": [
    "LangChain 还提供了 MessagesPlaceholder ，它使您可以完全控制格式化期间要呈现的消息。当您不确定消息提示模板应使用什么角色或希望在格式化期间插入消息列表时，这会很有用。"
   ]
  },
  {
   "cell_type": "code",
   "execution_count": 2,
   "metadata": {},
   "outputs": [
    {
     "name": "stdout",
     "output_type": "stream",
     "text": [
      "[HumanMessage(content='学习炒股最好的方法是什么？', additional_kwargs={}, response_metadata={}), AIMessage(content='        1. 首先，学习各类金融知识，了解各类财务指标的含义。\\n        2. 其次，学习各类财报的阅读和分析，找到适合自己的一种的财报解读方法论。\\n        3. 最后，学习1-2两种技术指标，可以参考一些经典技术书籍学习，找到适合自己的一种组合指标分析方法。\\n    ', additional_kwargs={}, response_metadata={}), HumanMessage(content='用10个字总结一下迄今为止我们之间的对话。', additional_kwargs={}, response_metadata={})]\n"
     ]
    }
   ],
   "source": [
    "from langchain_core.prompts import ChatPromptTemplate, HumanMessagePromptTemplate, MessagesPlaceholder\n",
    "from langchain_core.messages import HumanMessage, AIMessage\n",
    "\n",
    "human_prompt = \"用{word_count}个字总结一下迄今为止我们之间的对话。\"\n",
    "\n",
    "human_message_prompt = HumanMessagePromptTemplate.from_template(human_prompt)\n",
    "\n",
    "chat_prompt = ChatPromptTemplate.from_messages([\n",
    "    MessagesPlaceholder(variable_name=\"conversation\"),\n",
    "    human_message_prompt\n",
    "])\n",
    "\n",
    "human_message = HumanMessage(content=\"学习炒股最好的方法是什么？\")\n",
    "ai_message = AIMessage(\n",
    "    content=\"\"\"\\\n",
    "        1. 首先，学习各类金融知识，了解各类财务指标的含义。\n",
    "        2. 其次，学习各类财报的阅读和分析，找到适合自己的一种的财报解读方法论。\n",
    "        3. 最后，学习1-2两种技术指标，可以参考一些经典技术书籍学习，找到适合自己的一种组合指标分析方法。\n",
    "    \"\"\"\n",
    ")\n",
    "\n",
    "print(chat_prompt.format_messages(\n",
    "    conversation=[human_message, ai_message], \n",
    "    word_count=10\n",
    "))\n"
   ]
  },
  {
   "cell_type": "code",
   "execution_count": 3,
   "metadata": {},
   "outputs": [
    {
     "name": "stdout",
     "output_type": "stream",
     "text": [
      "探讨学习炒股方法，包括金融知识、财报分析和技术指标，强调系统学习和实践结合。\n"
     ]
    }
   ],
   "source": [
    "# 结合大模型分析\n",
    "from langchain_openai import ChatOpenAI\n",
    "from langchain_core.output_parsers import StrOutputParser\n",
    "from dotenv import load_dotenv\n",
    "import os\n",
    "\n",
    "load_dotenv()\n",
    "\n",
    "api_key = os.getenv(\"ZHIPUAI_API_KEY\")\n",
    "base_url = os.getenv(\"ZHIPUAI_API_BASE\")\n",
    "\n",
    "llm = ChatOpenAI(api_key=api_key, base_url=base_url, temperature=0.9, max_tokens=8192, model=\"glm-4-plus\")\n",
    "\n",
    "output_parser = StrOutputParser()\n",
    "\n",
    "chain = chat_prompt | llm | output_parser\n",
    "\n",
    "print(chain.invoke({\"conversation\": [human_message, ai_message], \"word_count\": 50}))"
   ]
  },
  {
   "cell_type": "markdown",
   "metadata": {},
   "source": [
    "## 部分提示模板\n",
    "\n",
    "与其他方法一样，“部分”提示模板是有意义的 - 例如传入所需值的子集，以创建一个仅需要剩余值子集的新提示模板。\n",
    "\n",
    "LangChain 通过两种方式支持这一点： \n",
    "1. 使用字符串值进行部分格式化。 \n",
    "2. 使用返回字符串值的函数进行部分格式化。\n",
    "\n",
    "这两种不同的方式支持不同的用例。在下面的示例中，我们将回顾这两个用例的动机以及如何在 LangChain 中实现这一点。\n",
    "\n",
    "\n",
    "### 部分带字符串\n",
    "\n",
    "想要部分提示模板的一个常见用例是，如果您先于其他变量获取某些变量。例如，假设您有一个提示模板需要两个变量 foo 和 baz 。如果您在链的早期获得 foo 值，但稍后获得 baz 值，那么等到两个变量都位于同一位置才能将它们传递给提示模板。相反，您可以使用 foo 值部分化提示模板，然后传递部分化的提示模板并直接使用它。下面是执行此操作的示例："
   ]
  },
  {
   "cell_type": "code",
   "execution_count": 4,
   "metadata": {},
   "outputs": [
    {
     "name": "stdout",
     "output_type": "stream",
     "text": [
      "foo: bar baz: qux\n"
     ]
    }
   ],
   "source": [
    "from langchain_core.prompts import PromptTemplate\n",
    "\n",
    "prompt = PromptTemplate.from_template(\"foo: {foo} baz: {baz}\")\n",
    "\n",
    "partial_prompt = prompt.partial(foo=\"bar\")\n",
    "\n",
    "print(partial_prompt.format(baz=\"qux\"))"
   ]
  },
  {
   "cell_type": "code",
   "execution_count": 5,
   "metadata": {},
   "outputs": [
    {
     "name": "stdout",
     "output_type": "stream",
     "text": [
      "foo: bar baz: qux\n"
     ]
    }
   ],
   "source": [
    "prompt = PromptTemplate(\n",
    "    template=\"foo: {foo} baz: {baz}\",\n",
    "    partial_variables={\"foo\": \"bar\"},\n",
    "    input_variables=[\"baz\"]\n",
    ")\n",
    "\n",
    "print(prompt.format(baz=\"qux\"))"
   ]
  },
  {
   "cell_type": "markdown",
   "metadata": {},
   "source": [
    "## 部分函数\n",
    "\n",
    "另一个常见用途是对函数进行部分处理。这样做的用例是当您有一个变量时，您知道您总是希望以通用方式获取该变量。一个典型的例子是日期或时间。想象一下，您有一个提示，您总是希望获得当前日期。您无法在提示中对其进行硬编码，并且将其与其他输入变量一起传递有点烦人。在这种情况下，能够使用始终返回当前日期的函数来部分提示是非常方便的。"
   ]
  },
  {
   "cell_type": "code",
   "execution_count": 6,
   "metadata": {},
   "outputs": [
    {
     "name": "stdout",
     "output_type": "stream",
     "text": [
      "今天是2024-12-22, 请给我讲一个关于爱情的经典论述.\n"
     ]
    }
   ],
   "source": [
    "from datetime import datetime\n",
    "\n",
    "\n",
    "def get_current_date():\n",
    "    return datetime.now().strftime(\"%Y-%m-%d\")\n",
    "\n",
    "prompt = PromptTemplate.from_template(\"今天是{date}, 请给我讲一个关于{topic}的经典论述.\")\n",
    "\n",
    "partial_prompt = prompt.partial(date=get_current_date)\n",
    "\n",
    "print(partial_prompt.format(topic=\"爱情\"))"
   ]
  },
  {
   "cell_type": "code",
   "execution_count": 7,
   "metadata": {},
   "outputs": [
    {
     "name": "stdout",
     "output_type": "stream",
     "text": [
      "当然可以。今天我将为你讲述一个关于量子力学的经典论述，即海森堡不确定性原理（Heisenberg Uncertainty Principle）。\n",
      "\n",
      "### 海森堡不确定性原理\n",
      "\n",
      "海森堡不确定性原理是量子力学中的一个核心概念，由德国物理学家维尔纳·海森堡于1927年提出。这一原理揭示了在量子尺度上，某些物理量（如位置和动量）无法同时被精确测量。\n",
      "\n",
      "#### 基本内容\n",
      "\n",
      "不确定性原理可以用以下数学表达式来描述：\n",
      "\n",
      "\\[ \\Delta x \\Delta p \\geq \\frac{\\hbar}{2} \\]\n",
      "\n",
      "其中：\n",
      "- \\(\\Delta x\\) 表示位置 \\(x\\) 的不确定性。\n",
      "- \\(\\Delta p\\) 表示动量 \\(p\\) 的不确定性。\n",
      "- \\(\\hbar\\) 是约化普朗克常数，约为 \\(1.054 \\times 10^{-34} \\, \\text{J} \\cdot \\text{s}\\)。\n",
      "\n",
      "这个不等式表明，位置和动量的不确定性乘积的最小值是 \\(\\hbar/2\\)，也就是说，我们不能同时精确地知道一个粒子的位置和动量。\n",
      "\n",
      "#### 物理意义\n",
      "\n",
      "1. **测量干扰**：在量子尺度上，测量过程本身会对被测量的系统产生影响。例如，为了测量一个电子的位置，我们需要用光子去撞击它，但这一过程会改变电子的动量。\n",
      "\n",
      "2. **波粒二象性**：量子粒子既表现出波动性，也表现出粒子性。不确定性原理反映了这种波粒二象性的本质。波函数的 Fourier 变换关系也支持这一观点。\n",
      "\n",
      "3. **非经典概率**：在量子力学中，粒子的状态由波函数描述，波函数的平方给出了粒子出现在某位置的概率。不确定性原理表明，这种概率性是内在的，而不是由于测量技术不足。\n",
      "\n",
      "#### 经典例子\n",
      "\n",
      "假设我们试图测量一个电子的位置和动量。如果我们使用高精度的仪器来测量电子的位置，那么电子的动量就会变得非常不确定；反之，如果我们精确测量电子的动量，那么其位置就会变得非常不确定。\n",
      "\n",
      "### 影响和应用\n",
      "\n",
      "海森堡不确定性原理不仅在理论物理学中具有重要意义，还在多个领域产生了深远影响：\n",
      "\n",
      "1. **量子计算**：不确定性原理是量子比特（qubit）的基础，量子比特可以同时处于0和1的叠加态，这为量子计算提供了强大的并行处理能力。\n",
      "\n",
      "2. **量子加密**：基于不确定性原理的量子密钥分发（QKD）技术，可以实现无法被破解的加密通信。\n",
      "\n",
      "3. **基础研究**：不确定性原理推动了量子场论、弦理论等前沿物理学的发展。\n",
      "\n",
      "### 总结\n",
      "\n",
      "海森堡不确定性原理是量子力学的基石之一，它不仅揭示了微观世界的本质特征，还对现代科技和基础科学研究产生了深远影响。通过理解这一原理，我们能够更深刻地认识到量子世界的奇妙与复杂。\n",
      "\n",
      "希望这个经典论述能帮助你更好地理解量子力学的精髓！如果你有更多问题，欢迎继续探讨。"
     ]
    }
   ],
   "source": [
    "# 结合大模型分析\n",
    "from langchain_openai import ChatOpenAI\n",
    "from langchain_core.output_parsers import StrOutputParser\n",
    "from dotenv import load_dotenv\n",
    "import os\n",
    "\n",
    "\n",
    "prompt = PromptTemplate(\n",
    "    template=\"今天是{date}, 请给我讲一个关于{topic}的经典论述.\",\n",
    "    input_variables=[\"topic\"],\n",
    "    partial_variables={\"date\": get_current_date}\n",
    ")\n",
    "\n",
    "load_dotenv()\n",
    "\n",
    "api_key = os.getenv(\"ZHIPUAI_API_KEY\")\n",
    "base_url = os.getenv(\"ZHIPUAI_API_BASE\")\n",
    "\n",
    "llm = ChatOpenAI(api_key=api_key, base_url=base_url, temperature=0.9, max_tokens=8192, model=\"glm-4-plus\")\n",
    "\n",
    "output_parser = StrOutputParser()\n",
    "\n",
    "chain = prompt | llm | output_parser\n",
    "\n",
    "for s in chain.stream({\"topic\": \"量子力学\"}):\n",
    "    print(s, end=\"\", flush=True)"
   ]
  }
 ],
 "metadata": {
  "kernelspec": {
   "display_name": "kk_langchain",
   "language": "python",
   "name": "python3"
  },
  "language_info": {
   "codemirror_mode": {
    "name": "ipython",
    "version": 3
   },
   "file_extension": ".py",
   "mimetype": "text/x-python",
   "name": "python",
   "nbconvert_exporter": "python",
   "pygments_lexer": "ipython3",
   "version": "3.10.16"
  }
 },
 "nbformat": 4,
 "nbformat_minor": 2
}
