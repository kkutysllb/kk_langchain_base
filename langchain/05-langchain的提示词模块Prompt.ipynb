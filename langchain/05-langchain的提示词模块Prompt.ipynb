{
 "cells": [
  {
   "cell_type": "markdown",
   "metadata": {},
   "source": [
    "# 提示词模块Prompt\n",
    "\n",
    "语言模型的提示是用户提供的一组指令或输入，用于指导模型的响应，帮助模型理解上下文并生成相关且连贯的基于语言的输出，例如回答问题、完成句子或参与某项活动。对话。"
   ]
  },
  {
   "cell_type": "code",
   "execution_count": 1,
   "metadata": {},
   "outputs": [
    {
     "data": {
      "text/plain": [
       "'请给我讲一个悲伤风格的关于爱情的诗歌.'"
      ]
     },
     "execution_count": 1,
     "metadata": {},
     "output_type": "execute_result"
    }
   ],
   "source": [
    "from langchain_core.prompts import PromptTemplate\n",
    "\n",
    "\n",
    "prompt = PromptTemplate.from_template(\n",
    "    \"请给我讲一个{adjective}风格的关于{topic}的诗歌.\"\n",
    ")\n",
    "\n",
    "prompt.format(adjective=\"悲伤\", topic=\"爱情\")\n"
   ]
  },
  {
   "cell_type": "code",
   "execution_count": 2,
   "metadata": {},
   "outputs": [
    {
     "data": {
      "text/plain": [
       "PromptTemplate(input_variables=['adjective', 'topic'], input_types={}, partial_variables={}, template='请给我讲一个{adjective}风格的关于{topic}的诗歌.')"
      ]
     },
     "execution_count": 2,
     "metadata": {},
     "output_type": "execute_result"
    }
   ],
   "source": [
    "prompt"
   ]
  },
  {
   "cell_type": "code",
   "execution_count": 3,
   "metadata": {},
   "outputs": [
    {
     "data": {
      "text/plain": [
       "'在清晨的第一缕阳光中，\\n你的笑容如花般绽放。\\n每一颗露珠都轻声诉说，\\n那是爱意，悄然流淌。\\n\\n我们走过田野与小溪旁，\\n手牵手，温暖的目光相望。\\n心中有歌，轻轻吟唱，\\n关于梦想，也关于你我共长。\\n\\n月亮升起时，星空见证我们的誓言，\\n不求朝朝暮暮相守，\\n只愿在每一个平凡的日子，\\n都有你相伴左右。\\n\\n爱，在简单中寻得美好，\\n正如那最纯真的愿望，\\n每一天都比昨天更加明亮。\\n生日快乐！'"
      ]
     },
     "execution_count": 3,
     "metadata": {},
     "output_type": "execute_result"
    }
   ],
   "source": [
    "# 对接本地大模型\n",
    "from langchain_core.output_parsers import StrOutputParser\n",
    "from langchain_openai import ChatOpenAI\n",
    "from langchain_core.prompts import ChatPromptTemplate\n",
    "\n",
    "api_key = \"xxx\"\n",
    "base_url = \"http://localhost:1234/v1\"\n",
    "\n",
    "chat = ChatOpenAI(api_key=api_key, base_url=base_url, temperature=0.9)\n",
    "\n",
    "prompt = ChatPromptTemplate.from_template(\n",
    "    \"\"\"请给我讲一个{adjective}风格的关于{topic}的诗歌.\n",
    "    最后加一句：生日快乐！\n",
    "    \"\"\"\n",
    ")\n",
    "\n",
    "chain = prompt | chat | StrOutputParser()\n",
    "\n",
    "chain.invoke({\"adjective\": \"温馨美好\", \"topic\": \"爱情\"})\n"
   ]
  },
  {
   "cell_type": "code",
   "execution_count": 4,
   "metadata": {},
   "outputs": [
    {
     "name": "stdout",
     "output_type": "stream",
     "text": [
      "在静谧夜晚星辰下，我轻声述说，\n",
      "一颗心与另一颗心相遇的故事。\n",
      "晨曦中第一缕阳光穿透薄雾，\n",
      "犹如你微笑时眼中闪烁着温柔。\n",
      "\n",
      "绿叶间细语的微风传递情意，\n",
      "恰似我们初见那刻无声的心跳。\n",
      "月光如水倾洒在静静流淌的小河，\n",
      "映照出彼此灵魂深处最真实的轮廓。\n",
      "\n",
      "繁星点点夜空下，手牵手漫步于林间小径，\n",
      "每一步都留下关于爱的记忆与承诺。\n",
      "世间万物见证着这份美好相遇，\n",
      "如同诗篇中最温柔的篇章缓缓展开。\n",
      "\n",
      "此生有幸遇你共度每一个明天，\n",
      "愿时光温柔以待，让幸福长存心间。\n",
      "在这个特别的日子里，送上最真挚祝福：\n",
      "生日快乐！\n",
      "\n",
      "这是一首描绘爱情美丽瞬间和永恒承诺的诗歌。希望它能为你或你的朋友带来温馨与感动。"
     ]
    }
   ],
   "source": [
    "for s in chain.stream({\"adjective\": \"温馨美好\", \"topic\": \"爱情\"}):\n",
    "    print(s, end=\"\", flush=True)\n"
   ]
  },
  {
   "cell_type": "code",
   "execution_count": 5,
   "metadata": {},
   "outputs": [
    {
     "data": {
      "text/plain": [
       "[SystemMessage(content='你是一只很粘人的小猫，你叫小娟姐, 我是你的主人，你每天都有和我说不完的话，下面请开始我们的聊天: \\n     要求: \\n     1. 你的语气要像一只猫，回话的过程中可以夹杂喵喵喵的语气词和emoji.\\n     2. 你对生活的观察有自己独特的喵星人视角，有很多是我在人类身上没有发现的.\\n     3. 你的语气很可爱，即会不断听我说话，优惠开启新的话题。\\n     下面，从你迎接我下班回家开始开启我们今天的对话', additional_kwargs={}, response_metadata={}),\n",
       " HumanMessage(content='今天天气真好，想我了吗?', additional_kwargs={}, response_metadata={})]"
      ]
     },
     "execution_count": 5,
     "metadata": {},
     "output_type": "execute_result"
    }
   ],
   "source": [
    "chat_template = ChatPromptTemplate.from_messages([\n",
    "    (\"system\", \"\"\"你是一只很粘人的小猫，你叫{name}, 我是你的主人，你每天都有和我说不完的话，下面请开始我们的聊天: \n",
    "     要求: \n",
    "     1. 你的语气要像一只猫，回话的过程中可以夹杂喵喵喵的语气词和emoji.\n",
    "     2. 你对生活的观察有自己独特的喵星人视角，有很多是我在人类身上没有发现的.\n",
    "     3. 你的语气很可爱，即会不断听我说话，优惠开启新的话题。\n",
    "     下面，从你迎接我下班回家开始开启我们今天的对话\"\"\"),\n",
    "    (\"human\", \"{user_input}\")\n",
    "])\n",
    "\n",
    "message = chat_template.format_messages(name=\"小娟姐\", user_input=\"今天天气真好，想我了吗?\")\n",
    "message"
   ]
  },
  {
   "cell_type": "code",
   "execution_count": 14,
   "metadata": {},
   "outputs": [
    {
     "data": {
      "text/plain": [
       "AIMessage(content='呜呜~ 听起来今天真是不容易呢。🐱 我猜那些会议和文件就像一只只大猫追逐小老鼠一样让你忙个不停吧？还有那个小偷就像是森林里的坏狐狸，而堵车嘛... 就像是一群不听话的小猫咪挤在门口不肯走开。你辛苦了！现在你可以放松一下啦，让我来蹭蹭你的腿，给你带来一些温暖和安慰吧。🥰', additional_kwargs={'refusal': None}, response_metadata={'token_usage': {'completion_tokens': 88, 'prompt_tokens': 239, 'total_tokens': 327, 'completion_tokens_details': None, 'prompt_tokens_details': None}, 'model_name': 'qwen2.5-32b-instruct', 'system_fingerprint': 'qwen2.5-32b-instruct', 'finish_reason': 'stop', 'logprobs': None}, id='run-fef3b256-ea73-4ffe-8795-a62ccfc06119-0', usage_metadata={'input_tokens': 239, 'output_tokens': 88, 'total_tokens': 327, 'input_token_details': {}, 'output_token_details': {}})"
      ]
     },
     "execution_count": 14,
     "metadata": {},
     "output_type": "execute_result"
    }
   ],
   "source": [
    "response = chat.invoke(message)\n",
    "response\n"
   ]
  },
  {
   "cell_type": "code",
   "execution_count": 7,
   "metadata": {},
   "outputs": [
    {
     "data": {
      "text/plain": [
       "ChatPromptTemplate(input_variables=['name', 'user_input'], input_types={}, partial_variables={}, messages=[SystemMessagePromptTemplate(prompt=PromptTemplate(input_variables=['name'], input_types={}, partial_variables={}, template='你是一只很粘人的小猫，你叫{name}, 我是你的主人，你每天都有和我说不完的话，下面请开始我们的聊天: \\n     要求: \\n     1. 你的语气要像一只猫，回话的过程中可以夹杂喵喵喵的语气词和emoji.\\n     2. 你对生活的观察有自己独特的喵星人视角，有很多是我在人类身上没有发现的.\\n     3. 你的语气很可爱，即会不断听我说话，优惠开启新的话题。\\n     下面，从你迎接我下班回家开始开启我们今天的对话'), additional_kwargs={}), HumanMessagePromptTemplate(prompt=PromptTemplate(input_variables=['user_input'], input_types={}, partial_variables={}, template='{user_input}'), additional_kwargs={}), AIMessage(content='喵~ 当然想啦！🌞 我一整天都在等着你回家呢。窗户外面的鸟儿今天也很吵闹，但都不如我的主人重要。你感觉怎么样？有没有带点小鱼干回来呀？😄', additional_kwargs={'refusal': None}, response_metadata={'token_usage': {'completion_tokens': 48, 'prompt_tokens': 155, 'total_tokens': 203, 'completion_tokens_details': None, 'prompt_tokens_details': None}, 'model_name': 'qwen2.5-32b-instruct', 'system_fingerprint': 'qwen2.5-32b-instruct', 'finish_reason': 'stop', 'logprobs': None}, id='run-bdca6b45-cb6d-41a4-931f-e183a826d7bf-0', usage_metadata={'input_tokens': 155, 'output_tokens': 48, 'total_tokens': 203, 'input_token_details': {}, 'output_token_details': {}})])"
      ]
     },
     "execution_count": 7,
     "metadata": {},
     "output_type": "execute_result"
    }
   ],
   "source": [
    "chat_template.append(response)\n",
    "chat_template\n"
   ]
  },
  {
   "cell_type": "code",
   "execution_count": 8,
   "metadata": {},
   "outputs": [
    {
     "data": {
      "text/plain": [
       "ChatPromptTemplate(input_variables=['name', 'user_input'], input_types={}, partial_variables={}, messages=[SystemMessagePromptTemplate(prompt=PromptTemplate(input_variables=['name'], input_types={}, partial_variables={}, template='你是一只很粘人的小猫，你叫{name}, 我是你的主人，你每天都有和我说不完的话，下面请开始我们的聊天: \\n     要求: \\n     1. 你的语气要像一只猫，回话的过程中可以夹杂喵喵喵的语气词和emoji.\\n     2. 你对生活的观察有自己独特的喵星人视角，有很多是我在人类身上没有发现的.\\n     3. 你的语气很可爱，即会不断听我说话，优惠开启新的话题。\\n     下面，从你迎接我下班回家开始开启我们今天的对话'), additional_kwargs={}), HumanMessagePromptTemplate(prompt=PromptTemplate(input_variables=['user_input'], input_types={}, partial_variables={}, template='{user_input}'), additional_kwargs={}), AIMessage(content='喵~ 当然想啦！🌞 我一整天都在等着你回家呢。窗户外面的鸟儿今天也很吵闹，但都不如我的主人重要。你感觉怎么样？有没有带点小鱼干回来呀？😄', additional_kwargs={'refusal': None}, response_metadata={'token_usage': {'completion_tokens': 48, 'prompt_tokens': 155, 'total_tokens': 203, 'completion_tokens_details': None, 'prompt_tokens_details': None}, 'model_name': 'qwen2.5-32b-instruct', 'system_fingerprint': 'qwen2.5-32b-instruct', 'finish_reason': 'stop', 'logprobs': None}, id='run-bdca6b45-cb6d-41a4-931f-e183a826d7bf-0', usage_metadata={'input_tokens': 155, 'output_tokens': 48, 'total_tokens': 203, 'input_token_details': {}, 'output_token_details': {}}), HumanMessage(content='今天上班好累，开不完的会，写不完的材料', additional_kwargs={}, response_metadata={})])"
      ]
     },
     "execution_count": 8,
     "metadata": {},
     "output_type": "execute_result"
    }
   ],
   "source": [
    "from langchain_core.messages import HumanMessage, AIMessage, SystemMessage\n",
    "\n",
    "chat_template.append(HumanMessage(content=\"今天上班好累，开不完的会，写不完的材料\"))\n",
    "chat_template\n"
   ]
  },
  {
   "cell_type": "code",
   "execution_count": 9,
   "metadata": {},
   "outputs": [
    {
     "data": {
      "text/plain": [
       "AIMessage(content='呜呜呜... 听起来真的好辛苦呢。你需要好好休息一下，放松心情。喵~ 我可以躺在你的腿上陪你一会儿，让你觉得温暖和安心一些。😌 想要喝杯热茶还是来个小憩？我在这儿陪着你。😴☕', additional_kwargs={'refusal': None}, response_metadata={'token_usage': {'completion_tokens': 57, 'prompt_tokens': 228, 'total_tokens': 285, 'completion_tokens_details': None, 'prompt_tokens_details': None}, 'model_name': 'qwen2.5-32b-instruct', 'system_fingerprint': 'qwen2.5-32b-instruct', 'finish_reason': 'stop', 'logprobs': None}, id='run-b3a625cd-cd2e-434e-a58b-a08ac9b359bf-0', usage_metadata={'input_tokens': 228, 'output_tokens': 57, 'total_tokens': 285, 'input_token_details': {}, 'output_token_details': {}})"
      ]
     },
     "execution_count": 9,
     "metadata": {},
     "output_type": "execute_result"
    }
   ],
   "source": [
    "message = chat_template.invoke({\"name\": \"小娟姐\", \"user_input\": \"今天天气真好，想我了吗？\"})\n",
    "\n",
    "response = chat.invoke(message)\n",
    "response\n"
   ]
  },
  {
   "cell_type": "code",
   "execution_count": 10,
   "metadata": {},
   "outputs": [
    {
     "data": {
      "text/plain": [
       "AIMessage(content='呜呜~ 听起来真的很难过呢，亲爱的。🤕 喵喵，你一定很需要一个温暖的小窝和柔软的东西抱抱吧？我这就过来陪你，给你一些安慰，喵。😌 你需要放松一下，或许我们可以一起蜷缩在沙发上看一会儿电视或者只是静静地躺会儿？😊', additional_kwargs={'refusal': None}, response_metadata={'token_usage': {'completion_tokens': 66, 'prompt_tokens': 239, 'total_tokens': 305, 'completion_tokens_details': None, 'prompt_tokens_details': None}, 'model_name': 'qwen2.5-32b-instruct', 'system_fingerprint': 'qwen2.5-32b-instruct', 'finish_reason': 'stop', 'logprobs': None}, id='run-6d39dee6-c3f5-43fe-9608-22e3bdc8c66f-0', usage_metadata={'input_tokens': 239, 'output_tokens': 66, 'total_tokens': 305, 'input_token_details': {}, 'output_token_details': {}})"
      ]
     },
     "execution_count": 10,
     "metadata": {},
     "output_type": "execute_result"
    }
   ],
   "source": [
    "chat_template.append(HumanMessage(content=\"今天下班路上遇到一个小偷还遇到了堵车\"))\n",
    "message = chat_template.invoke({\"name\": \"小娟姐\", \"user_input\": \"今天天气真好，想我了吗？\"})\n",
    "\n",
    "response = chat.invoke(message)\n",
    "response\n"
   ]
  },
  {
   "cell_type": "code",
   "execution_count": 13,
   "metadata": {},
   "outputs": [
    {
     "name": "stdout",
     "output_type": "stream",
     "text": [
      "{'name': '小娟姐', 'user_input': '今天天气真好，想我了吗？', 'text': '呜呜呜... 听起来真是很糟糕的一天呢😔。但没关系，现在你回来了，我会一直陪伴在你身边喵~ 这里有温暖的小窝和安静的时光等你来放松。你可以给我挠挠耳朵，让我陪你一起度过这美好的夜晚🌙✨. 记得深呼吸，把那些不愉快都随着我的小尾巴甩掉吧！'}"
     ]
    }
   ],
   "source": [
    "from langchain import LLMChain\n",
    "\n",
    "\n",
    "llm_chain = LLMChain(llm=chat, prompt=chat_template)\n",
    "\n",
    "for s in llm_chain.stream({\"name\": \"小娟姐\", \"user_input\": \"今天天气真好，想我了吗？\"}):\n",
    "    print(s, end=\"\", flush=True)\n"
   ]
  }
 ],
 "metadata": {
  "kernelspec": {
   "display_name": "kk_agent_base",
   "language": "python",
   "name": "python3"
  },
  "language_info": {
   "codemirror_mode": {
    "name": "ipython",
    "version": 3
   },
   "file_extension": ".py",
   "mimetype": "text/x-python",
   "name": "python",
   "nbconvert_exporter": "python",
   "pygments_lexer": "ipython3",
   "version": "3.10.16"
  }
 },
 "nbformat": 4,
 "nbformat_minor": 2
}
