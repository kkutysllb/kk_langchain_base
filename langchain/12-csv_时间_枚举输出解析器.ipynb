{
 "cells": [
  {
   "cell_type": "markdown",
   "metadata": {},
   "source": [
    "# csv_时间_枚举输出解析器\n",
    "\n",
    "## csv输出解析器\n",
    "\n",
    "当您想要返回以逗号分隔的项目列表时，可以使用此输出解析器。"
   ]
  },
  {
   "cell_type": "code",
   "execution_count": 4,
   "metadata": {},
   "outputs": [],
   "source": [
    "from langchain_openai import ChatOpenAI\n",
    "from langchain_core.prompts import PromptTemplate\n",
    "from langchain_core.output_parsers import CommaSeparatedListOutputParser\n",
    "from dotenv import load_dotenv\n",
    "import os\n",
    "\n",
    "load_dotenv()\n",
    "\n",
    "api_key = os.getenv(\"ZHIPUAI_API_KEY\")\n",
    "base_url = os.getenv(\"ZHIPUAI_API_BASE\")\n",
    "\n",
    "chat = ChatOpenAI(api_key=api_key, base_url=base_url, temperature=0.3, max_tokens=8192, model=\"glm-4-plus\")\n",
    "\n",
    "output_parser = CommaSeparatedListOutputParser()\n",
    "\n",
    "format_instructions = \"你的响应格式是csv格式以逗号作为分隔符的列表，例如:item1,item2,item3\"\n",
    "prompt = PromptTemplate(\n",
    "    template=\"{format_instructions}\\n请列出{subject}\",\n",
    "    input_variables=[\"subject\"],\n",
    "    partial_variables={\"format_instructions\": format_instructions},\n",
    ")\n",
    "\n",
    "chain = prompt | chat | output_parser"
   ]
  },
  {
   "cell_type": "code",
   "execution_count": 5,
   "metadata": {},
   "outputs": [
    {
     "data": {
      "text/plain": [
       "'Your response should be a list of comma separated values, eg: `foo, bar, baz` or `foo,bar,baz`'"
      ]
     },
     "execution_count": 5,
     "metadata": {},
     "output_type": "execute_result"
    }
   ],
   "source": [
    "format_instructions = output_parser.get_format_instructions()\n",
    "format_instructions"
   ]
  },
  {
   "cell_type": "code",
   "execution_count": 6,
   "metadata": {},
   "outputs": [
    {
     "name": "stdout",
     "output_type": "stream",
     "text": [
      "['苹果', '香蕉', '橙子', '草莓', '葡萄', '西瓜', '梨', '芒果', '桃子', '菠萝']\n"
     ]
    }
   ],
   "source": [
    "print(chain.invoke({\"subject\":\"请列出10个水果\"}))"
   ]
  },
  {
   "cell_type": "code",
   "execution_count": 7,
   "metadata": {},
   "outputs": [
    {
     "name": "stdout",
     "output_type": "stream",
     "text": [
      "['香草', '巧克力', '草莓', '抹茶', '芒果']\n"
     ]
    }
   ],
   "source": [
    "print(chain.invoke({\"subject\":\"请列出5个冰激凌口味\"}))"
   ]
  },
  {
   "cell_type": "markdown",
   "metadata": {},
   "source": [
    "## 日期时间解析器\n",
    "此 OutputParser 可用于将 LLM 输出解析为日期时间格式。"
   ]
  },
  {
   "cell_type": "code",
   "execution_count": 18,
   "metadata": {},
   "outputs": [],
   "source": [
    "from langchain.output_parsers import DatetimeOutputParser\n",
    "from langchain_core.prompts import PromptTemplate\n",
    "\n",
    "output_parser = DatetimeOutputParser()\n",
    "\n",
    "format_instructions = output_parser.get_format_instructions()\n",
    "format_instructions = \"你的响应格式必须且只能返回日期时间字符串，格式为：YYYY-MM-DDThh:mm:ss.sssZ。 不要包含任何其他解释文字。 \"\n",
    "new_prompt = PromptTemplate(\n",
    "    template=\"{format_instructions}\\n请列出{subject}\",\n",
    "    input_variables=[\"subject\"],\n",
    "    partial_variables={\"format_instructions\": format_instructions},\n",
    ")\n",
    "\n",
    "chain = new_prompt | chat | output_parser"
   ]
  },
  {
   "cell_type": "code",
   "execution_count": 19,
   "metadata": {},
   "outputs": [
    {
     "name": "stdout",
     "output_type": "stream",
     "text": [
      "2009-01-03 18:15:05\n"
     ]
    }
   ],
   "source": [
    "print(chain.invoke({\"subject\": \"比特币是什么时间创立的？\"}))"
   ]
  },
  {
   "cell_type": "code",
   "execution_count": 20,
   "metadata": {},
   "outputs": [
    {
     "name": "stdout",
     "output_type": "stream",
     "text": [
      "2013-07-03 00:00:00\n"
     ]
    }
   ],
   "source": [
    "print(chain.invoke({\"subject\": \"中国是什么时间决定开始发展上海自贸区的？\"}))"
   ]
  },
  {
   "cell_type": "code",
   "execution_count": 21,
   "metadata": {},
   "outputs": [
    {
     "name": "stdout",
     "output_type": "stream",
     "text": [
      "2020-03-16 23:59:00\n"
     ]
    }
   ],
   "source": [
    "print(chain.invoke({\"subject\": \"美国是什么时间开始新冠疫情封城的？\"}))"
   ]
  },
  {
   "cell_type": "markdown",
   "metadata": {},
   "source": [
    "## Enum parser 枚举解析器"
   ]
  },
  {
   "cell_type": "code",
   "execution_count": 36,
   "metadata": {},
   "outputs": [],
   "source": [
    "from langchain.output_parsers.enum import EnumOutputParser\n",
    "from langchain_core.prompts import PromptTemplate\n",
    "from enum import Enum\n",
    "\n",
    "class Fruit(Enum):\n",
    "    APPLE = \"苹果\"\n",
    "    BANANA = \"香蕉\"\n",
    "    ORANGE = \"橙子\"\n",
    "    PEACH = \"桃子\"\n",
    "    WATERMELON = \"西瓜\"\n",
    "\n",
    "output_parser = EnumOutputParser(enum=Fruit)\n",
    "\n",
    "format_instructions = output_parser.get_format_instructions()\n",
    "format_instructions = \"你的响应请从以下选项选择之一：苹果、香蕉、橙子、桃子、西瓜。不要有其他选项回答。\"\n",
    "\n",
    "new_template = \"\"\"\n",
    "{person}的喜欢吃什么水果？\n",
    "{format_instructions}\n",
    "\"\"\"\n",
    "new_prompt = PromptTemplate(\n",
    "    template=new_template,\n",
    "    input_variables=[\"person\"],\n",
    "    partial_variables={\"format_instructions\": format_instructions},\n",
    ")\n",
    "\n",
    "chain = new_prompt | chat | output_parser\n"
   ]
  },
  {
   "cell_type": "code",
   "execution_count": 37,
   "metadata": {},
   "outputs": [
    {
     "data": {
      "text/plain": [
       "<Fruit.WATERMELON: '西瓜'>"
      ]
     },
     "execution_count": 37,
     "metadata": {},
     "output_type": "execute_result"
    }
   ],
   "source": [
    "chain.invoke({\"person\": \"亚洲人\"})"
   ]
  },
  {
   "cell_type": "code",
   "execution_count": 38,
   "metadata": {},
   "outputs": [
    {
     "data": {
      "text/plain": [
       "<Fruit.APPLE: '苹果'>"
      ]
     },
     "execution_count": 38,
     "metadata": {},
     "output_type": "execute_result"
    }
   ],
   "source": [
    "chain.invoke({\"person\": \"欧洲人\"})"
   ]
  },
  {
   "cell_type": "code",
   "execution_count": 41,
   "metadata": {},
   "outputs": [
    {
     "data": {
      "text/plain": [
       "<Fruit.BANANA: '香蕉'>"
      ]
     },
     "execution_count": 41,
     "metadata": {},
     "output_type": "execute_result"
    }
   ],
   "source": [
    "chain.invoke({\"person\": \"美洲人\"})"
   ]
  }
 ],
 "metadata": {
  "kernelspec": {
   "display_name": "kk_langchain",
   "language": "python",
   "name": "python3"
  },
  "language_info": {
   "codemirror_mode": {
    "name": "ipython",
    "version": 3
   },
   "file_extension": ".py",
   "mimetype": "text/x-python",
   "name": "python",
   "nbconvert_exporter": "python",
   "pygments_lexer": "ipython3",
   "version": "3.10.16"
  }
 },
 "nbformat": 4,
 "nbformat_minor": 2
}
