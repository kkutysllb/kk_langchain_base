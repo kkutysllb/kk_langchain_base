{
 "cells": [
  {
   "cell_type": "markdown",
   "metadata": {},
   "source": [
    "# 文档加载\n",
    "\n",
    "这涵盖了如何加载目录中的所有文档。\n",
    "在底层，默认情况下使用 UnstructedLoader。需要安装依赖\n",
    "\n",
    "```shell\n",
    "pip install unstructured\n",
    "```\n",
    "python导入方式\n",
    "```\n",
    "from langchain_community.document_loaders import DirectoryLoader\n",
    "```\n",
    "\n",
    "我们可以使用 glob 参数来控制加载哪些文件。请注意，此处它不会加载 .rst 文件或 .html 文件。\n",
    "```\n",
    "loader = DirectoryLoader('../', glob=\"**/*.md\")\n",
    "```\n",
    "默认情况下不会显示进度条。要显示进度条，请安装 tqdm 库（例如 pip install tqdm ），并将 show_progress 参数设置为 True 。\n",
    "```\n",
    "loader = DirectoryLoader('../', glob=\"**/*.md\", show_progress=True)\n",
    "docs = loader.load()\n",
    "```\n"
   ]
  },
  {
   "cell_type": "markdown",
   "metadata": {},
   "source": [
    "## 加载txt和mardown文档"
   ]
  },
  {
   "cell_type": "code",
   "execution_count": 2,
   "metadata": {},
   "outputs": [
    {
     "name": "stdout",
     "output_type": "stream",
     "text": [
      "[Document(metadata={'source': '/mnt/f/kk_datasets/txt/faq-4359.txt'}, page_content='一、什么是0分期利息\\n\\n您好，“0分期利息”是指买家使用花呗、招行掌上生活、工行信用卡、银联信用卡等其他分期购物时无需支付分期利息的功能，分期利息由华为商城承担。\\n\\n注：自2023年起，商城将相关宣传将“免息”调整为“0分期利息”，主要基于中国银保监会、中国人民银行《关于进一步促进信用卡业务规范健康发展的通知》（银保监规〔2022〕13号），要求“银行业金融机构应当在分期业务合同（协议）首页和业务办理页面以明显方式展示分期业务可能产生的所有息费项目、年化利率水平和息费计算方式。向客户展示分期业务收取的资金使用成本时，应当统一采用利息形式，并明确相应的计息规则，不得采用手续费等形式，法律法规另有规定的除外。”\\n\\n\\n\\n二、可以参与0分期利息活动的商品\\n\\n商城目前仅支持部分单品参与0分期利息，若多商品（含不支持0分期利息）合并支付则不支持0分期利息，以支付页面为准，后续会逐渐开放更多商品，敬请关注。\\n\\n\\n\\n三、确认订单分期成功\\n\\n订单提交成功后在支付方式页面选择分期支付，点选显示0分期利息的支付方式及具体0分期利息期数后，完成支付。\\n\\n\\n\\n\\n\\n四、订单中有多个商品，其中有商品支持0分期利息，为什么提交后却没有0分期利息？\\n\\n0分期利息商品不能和其它商品一起购买，如果和其他商品购买而不能享用0分期利息，建议取消原来的订单，重新购买时把0分期利息商品和其他商品分开单独购买；且0分期利息的分期数是固定的，如6期0分期利息，并不是3/6/12都提供0分期利息的。\\n\\n\\n\\n五、小程序是否支持0分期利息？\\n\\n华为商城小程序暂不支持0分期利息。')]\n"
     ]
    }
   ],
   "source": [
    "from langchain_community.document_loaders import TextLoader\n",
    "\n",
    "data_path = \"/mnt/f/kk_datasets/txt/faq-4359.txt\"\n",
    "\n",
    "doc1 = TextLoader(data_path, encoding=\"utf-8\").load()\n",
    "\n",
    "print(doc1)\n"
   ]
  },
  {
   "cell_type": "code",
   "execution_count": 3,
   "metadata": {},
   "outputs": [
    {
     "name": "stdout",
     "output_type": "stream",
     "text": [
      "[Document(metadata={'source': '/mnt/f/kk_datasets/txt/faq-7923.txt'}, page_content='众测活动\\n\\n整体介绍：\\n\\n一、活动定义：众测是以低价试销的形式，通过收集评价、销量等方法，用于测试市场对新商品的反应，用于及时优化销售策略和引导商家改进。\\n\\n二、优势：众测价通常比较优惠，以不高于大促促销价为原则，最终以与物权方谈判结果为准。\\n\\n三、适用范围：华为商城所有产品。\\n\\n\\n\\n参与方式：\\n\\n1、华为商城众测的入口在哪里？\\n\\n华为商城搜索“众测”，即可看到众测入口，点击进入即可；\\n\\n2、众测上新频次：\\n\\n众测频道每周一至周五不定期更新上架，部分商品可能会特别调整；\\n\\n3、众测活动时间：\\n\\n一款产品众测时间通常为10-20天（热销的商品可能会延期5-10天）。\\n\\n \\n\\n常见问题：\\n\\n1、众测商品的来源?\\n\\n     您好，众测商品主要来源为华为商城上架的新品，热销的爆款商品也会不定期通过众测回归上线。\\n\\n2、众测商品的价格会优惠吗？\\n\\n     您好，众测商品价格对标618和双十一，一般都是该商品某段时间的最低促销价。\\n\\n3、 众测商品质量会不稳定么？\\n\\n     您好，众测商品也是量产的正品新品，质量与正式上架商品一致。 \\n\\n4、众测商品买下后多久发货？\\n\\n     您好，请以商品页显示为准。\\n\\n5、提交活动订单后多久内支付？\\n\\n     您好，提交订单后最长付款时效为24小时，逾期订单自动取消\\n\\n6、成功下单后怎么查询众测订单？\\n\\n     您好，成功下单后，您可以通过华为商城手机APP、华为商城手机WAP版、华为商城电脑网页版任意一端登录下单账户，在“我的订单”查询。（众测商品订单查询方式等同于正常商品订单）\\n\\n7、订单支付后未发货前可以取消订单吗？\\n\\n     您好，在发货前消费者可以取消订单。\\n\\n8、取消订单后多久内退回款项？\\n\\n     您好，和华为商城智能家居生态产品通用退款时效一致，3-5个工作日。\\n\\n9、一个账号可以参与几次众测活动？有限购吗？\\n\\n     您好，一个账号参与众测活动的次数无限制，没有限购。但每次订单只能购买一个商品。如您需要购买多个产品，可以多次参与众测活动。')]\n"
     ]
    }
   ],
   "source": [
    "data_path = \"/mnt/f/kk_datasets/txt/faq-7923.txt\"\n",
    "\n",
    "doc2 = TextLoader(data_path, encoding=\"utf-8\").load()\n",
    "\n",
    "print(doc2)\n"
   ]
  },
  {
   "cell_type": "code",
   "execution_count": 4,
   "metadata": {},
   "outputs": [
    {
     "name": "stdout",
     "output_type": "stream",
     "text": [
      "[Document(metadata={'source': '/mnt/f/kk_datasets/txt/yjhx.md'}, page_content='**一、选择回收物品**\\n\\n点击VMALL您可以在设备回收分类中选择旧商品的类别以及品牌，现在VMALL支持回收部分品牌和型号的手机、笔记本、平板、智能数码以及摄影摄像。如若在此页面上找不到您的品牌或型号，您可以点击品牌栏右下方的加号（如下图红圈部分所示）查看VMALL所支持回收的所有品牌型号。首页滚动电子横幅右下方“以旧换新”标志（如下图红框部分所示），进入“以旧换新”页面。\\n\\n![以旧换新图片](https://threejs-1251830808.cos.ap-guangzhou.myqcloud.com/73564551948615546537.png)\\n\\n（以下图片为参考流程，实际以页面为准）\\n\\n![设备回收图片](https://threejs-1251830808.cos.ap-guangzhou.myqcloud.com/18969746813614796981.png)\\n\\n选择好您的旧商品后请点击商品图标，进入价格评估页面。\\n\\n\\n\\n**二、价格评估**\\n\\n在价格评估界面上，您需要对旧商品的基本信息（网络制式、存储容量、购买渠道、机身颜色），外观成色（边框背板，屏幕外观，屏幕显示，维修情况），和多功能选项参数进行评估，请如实填写您的手机情况。完成所有参数选择，请估价按钮（如下图红框部分所示）。\\n\\n完成所有参数选择，请点击“免费询价”按钮（如下图红框部分所示）。\\n\\n![免费询价图片](https://threejs-1251830808.cos.ap-guangzhou.myqcloud.com/37174946813614947173.png)\\n\\n**三、价格评估结果**\\n\\n您可以查看手机的估价和这款手机的回收价格趋势，如果填写有什么问题，可以点击“重新询价”或“重新选择机型”更改；确认无误后，点击“换钱”按钮进入订单页面。\\n\\n![价格评估结果图片](https://threejs-1251830808.cos.ap-guangzhou.myqcloud.com/28422256813615222482.png)\\n\\n**四、提交订单**\\n\\n在订单页面，您可以从以下两种常规回收方式选择一种进行回收，并提交订单结账。（回收宝支持顺丰上门、上门质检回收，爱回收支持顺丰上门、质检上门、信用回收）\\n\\n![&#x56fe;5.png](https://threejs-1251830808.cos.ap-guangzhou.myqcloud.com/47605356813615350674.png)\\n\\n（1）顺丰上门回收操作流程\\n\\n① 回收方式：选择顺丰快递回收\\n\\n② 提交订单：填写联系人、电话号码、取货地址及上门时间，提交订单\\n\\n③ 上门取货：回收订单提交成功，快递员会按照填写的上门时间上门取货\\n\\n④ 确认交易：回收商会在收到旧机的48小时内完成检测，若价格与您提交订单时的价格一致，将立即发放华为代金券。\\n\\n（2）质检师上门回收操作流程\\n\\n① 回收方式：选择质检师上门回收。\\n\\n② 提交订单：填写联系人信息、手机号码、上门地址及上门时间，提交订单\\n\\n③ 确认交易：如通过质检师上门回收，在完成检测后，代金券可实时到账。\\n\\n![质检师上门回收操作流程图片](https://threejs-1251830808.cos.ap-guangzhou.myqcloud.com/67845656813615654876.png)\\n\\n\\n\\n五、以旧换新答疑 ：更多关于以旧换新的问题请点击 “[以旧换新答疑](https://www.vmall.com/help/category-251.html)”查看。')]\n"
     ]
    }
   ],
   "source": [
    "data_path = \"/mnt/f/kk_datasets/txt/yjhx.md\"\n",
    "\n",
    "doc3 = TextLoader(data_path, encoding=\"utf-8\").load()\n",
    "\n",
    "print(doc3)"
   ]
  },
  {
   "cell_type": "code",
   "execution_count": 5,
   "metadata": {},
   "outputs": [
    {
     "name": "stderr",
     "output_type": "stream",
     "text": [
      "/tmp/ipykernel_14196/1145942836.py:6: LangChainDeprecationWarning: The class `HuggingFaceEmbeddings` was deprecated in LangChain 0.2.2 and will be removed in 1.0. An updated version of the class exists in the :class:`~langchain-huggingface package and should be used instead. To use it run `pip install -U :class:`~langchain-huggingface` and import as `from :class:`~langchain_huggingface import HuggingFaceEmbeddings``.\n",
      "  embeddings = HuggingFaceEmbeddings(model_name=model_path)\n",
      "/home/libing/miniconda3/envs/kk_langchain_wsl/lib/python3.10/site-packages/sentence_transformers/cross_encoder/CrossEncoder.py:13: TqdmWarning: IProgress not found. Please update jupyter and ipywidgets. See https://ipywidgets.readthedocs.io/en/stable/user_install.html\n",
      "  from tqdm.autonotebook import tqdm, trange\n"
     ]
    },
    {
     "data": {
      "text/plain": [
       "<langchain_community.vectorstores.faiss.FAISS at 0x7fdadcae2dd0>"
      ]
     },
     "execution_count": 5,
     "metadata": {},
     "output_type": "execute_result"
    }
   ],
   "source": [
    "# 导入本地词嵌入模型, 构建向量数据库\n",
    "from langchain_community.embeddings.huggingface import HuggingFaceEmbeddings\n",
    "from langchain_community.vectorstores import FAISS\n",
    "\n",
    "model_path = \"/home/libing/kk_LLMs/bge-large-zh-v1.5\"\n",
    "embeddings = HuggingFaceEmbeddings(model_name=model_path)\n",
    "\n",
    "# 构建向量数据库\n",
    "vector_store = FAISS.from_documents([doc1[0], doc2[0], doc3[0]], embeddings)\n",
    "vector_store"
   ]
  },
  {
   "cell_type": "code",
   "execution_count": 6,
   "metadata": {},
   "outputs": [
    {
     "data": {
      "text/plain": [
       "[Document(id='cf19650e-b1fb-4a97-bb2d-9904c058684d', metadata={'source': '/mnt/f/kk_datasets/txt/yjhx.md'}, page_content='**一、选择回收物品**\\n\\n点击VMALL您可以在设备回收分类中选择旧商品的类别以及品牌，现在VMALL支持回收部分品牌和型号的手机、笔记本、平板、智能数码以及摄影摄像。如若在此页面上找不到您的品牌或型号，您可以点击品牌栏右下方的加号（如下图红圈部分所示）查看VMALL所支持回收的所有品牌型号。首页滚动电子横幅右下方“以旧换新”标志（如下图红框部分所示），进入“以旧换新”页面。\\n\\n![以旧换新图片](https://threejs-1251830808.cos.ap-guangzhou.myqcloud.com/73564551948615546537.png)\\n\\n（以下图片为参考流程，实际以页面为准）\\n\\n![设备回收图片](https://threejs-1251830808.cos.ap-guangzhou.myqcloud.com/18969746813614796981.png)\\n\\n选择好您的旧商品后请点击商品图标，进入价格评估页面。\\n\\n\\n\\n**二、价格评估**\\n\\n在价格评估界面上，您需要对旧商品的基本信息（网络制式、存储容量、购买渠道、机身颜色），外观成色（边框背板，屏幕外观，屏幕显示，维修情况），和多功能选项参数进行评估，请如实填写您的手机情况。完成所有参数选择，请估价按钮（如下图红框部分所示）。\\n\\n完成所有参数选择，请点击“免费询价”按钮（如下图红框部分所示）。\\n\\n![免费询价图片](https://threejs-1251830808.cos.ap-guangzhou.myqcloud.com/37174946813614947173.png)\\n\\n**三、价格评估结果**\\n\\n您可以查看手机的估价和这款手机的回收价格趋势，如果填写有什么问题，可以点击“重新询价”或“重新选择机型”更改；确认无误后，点击“换钱”按钮进入订单页面。\\n\\n![价格评估结果图片](https://threejs-1251830808.cos.ap-guangzhou.myqcloud.com/28422256813615222482.png)\\n\\n**四、提交订单**\\n\\n在订单页面，您可以从以下两种常规回收方式选择一种进行回收，并提交订单结账。（回收宝支持顺丰上门、上门质检回收，爱回收支持顺丰上门、质检上门、信用回收）\\n\\n![&#x56fe;5.png](https://threejs-1251830808.cos.ap-guangzhou.myqcloud.com/47605356813615350674.png)\\n\\n（1）顺丰上门回收操作流程\\n\\n① 回收方式：选择顺丰快递回收\\n\\n② 提交订单：填写联系人、电话号码、取货地址及上门时间，提交订单\\n\\n③ 上门取货：回收订单提交成功，快递员会按照填写的上门时间上门取货\\n\\n④ 确认交易：回收商会在收到旧机的48小时内完成检测，若价格与您提交订单时的价格一致，将立即发放华为代金券。\\n\\n（2）质检师上门回收操作流程\\n\\n① 回收方式：选择质检师上门回收。\\n\\n② 提交订单：填写联系人信息、手机号码、上门地址及上门时间，提交订单\\n\\n③ 确认交易：如通过质检师上门回收，在完成检测后，代金券可实时到账。\\n\\n![质检师上门回收操作流程图片](https://threejs-1251830808.cos.ap-guangzhou.myqcloud.com/67845656813615654876.png)\\n\\n\\n\\n五、以旧换新答疑 ：更多关于以旧换新的问题请点击 “[以旧换新答疑](https://www.vmall.com/help/category-251.html)”查看。'),\n",
       " Document(id='3c8cd575-2412-4f23-a0be-f505e5f30e1a', metadata={'source': '/mnt/f/kk_datasets/txt/faq-7923.txt'}, page_content='众测活动\\n\\n整体介绍：\\n\\n一、活动定义：众测是以低价试销的形式，通过收集评价、销量等方法，用于测试市场对新商品的反应，用于及时优化销售策略和引导商家改进。\\n\\n二、优势：众测价通常比较优惠，以不高于大促促销价为原则，最终以与物权方谈判结果为准。\\n\\n三、适用范围：华为商城所有产品。\\n\\n\\n\\n参与方式：\\n\\n1、华为商城众测的入口在哪里？\\n\\n华为商城搜索“众测”，即可看到众测入口，点击进入即可；\\n\\n2、众测上新频次：\\n\\n众测频道每周一至周五不定期更新上架，部分商品可能会特别调整；\\n\\n3、众测活动时间：\\n\\n一款产品众测时间通常为10-20天（热销的商品可能会延期5-10天）。\\n\\n \\n\\n常见问题：\\n\\n1、众测商品的来源?\\n\\n     您好，众测商品主要来源为华为商城上架的新品，热销的爆款商品也会不定期通过众测回归上线。\\n\\n2、众测商品的价格会优惠吗？\\n\\n     您好，众测商品价格对标618和双十一，一般都是该商品某段时间的最低促销价。\\n\\n3、 众测商品质量会不稳定么？\\n\\n     您好，众测商品也是量产的正品新品，质量与正式上架商品一致。 \\n\\n4、众测商品买下后多久发货？\\n\\n     您好，请以商品页显示为准。\\n\\n5、提交活动订单后多久内支付？\\n\\n     您好，提交订单后最长付款时效为24小时，逾期订单自动取消\\n\\n6、成功下单后怎么查询众测订单？\\n\\n     您好，成功下单后，您可以通过华为商城手机APP、华为商城手机WAP版、华为商城电脑网页版任意一端登录下单账户，在“我的订单”查询。（众测商品订单查询方式等同于正常商品订单）\\n\\n7、订单支付后未发货前可以取消订单吗？\\n\\n     您好，在发货前消费者可以取消订单。\\n\\n8、取消订单后多久内退回款项？\\n\\n     您好，和华为商城智能家居生态产品通用退款时效一致，3-5个工作日。\\n\\n9、一个账号可以参与几次众测活动？有限购吗？\\n\\n     您好，一个账号参与众测活动的次数无限制，没有限购。但每次订单只能购买一个商品。如您需要购买多个产品，可以多次参与众测活动。'),\n",
       " Document(id='8632728a-9a58-4d5a-a1e4-093ee33b16b5', metadata={'source': '/mnt/f/kk_datasets/txt/faq-4359.txt'}, page_content='一、什么是0分期利息\\n\\n您好，“0分期利息”是指买家使用花呗、招行掌上生活、工行信用卡、银联信用卡等其他分期购物时无需支付分期利息的功能，分期利息由华为商城承担。\\n\\n注：自2023年起，商城将相关宣传将“免息”调整为“0分期利息”，主要基于中国银保监会、中国人民银行《关于进一步促进信用卡业务规范健康发展的通知》（银保监规〔2022〕13号），要求“银行业金融机构应当在分期业务合同（协议）首页和业务办理页面以明显方式展示分期业务可能产生的所有息费项目、年化利率水平和息费计算方式。向客户展示分期业务收取的资金使用成本时，应当统一采用利息形式，并明确相应的计息规则，不得采用手续费等形式，法律法规另有规定的除外。”\\n\\n\\n\\n二、可以参与0分期利息活动的商品\\n\\n商城目前仅支持部分单品参与0分期利息，若多商品（含不支持0分期利息）合并支付则不支持0分期利息，以支付页面为准，后续会逐渐开放更多商品，敬请关注。\\n\\n\\n\\n三、确认订单分期成功\\n\\n订单提交成功后在支付方式页面选择分期支付，点选显示0分期利息的支付方式及具体0分期利息期数后，完成支付。\\n\\n\\n\\n\\n\\n四、订单中有多个商品，其中有商品支持0分期利息，为什么提交后却没有0分期利息？\\n\\n0分期利息商品不能和其它商品一起购买，如果和其他商品购买而不能享用0分期利息，建议取消原来的订单，重新购买时把0分期利息商品和其他商品分开单独购买；且0分期利息的分期数是固定的，如6期0分期利息，并不是3/6/12都提供0分期利息的。\\n\\n\\n\\n五、小程序是否支持0分期利息？\\n\\n华为商城小程序暂不支持0分期利息。')]"
      ]
     },
     "execution_count": 6,
     "metadata": {},
     "output_type": "execute_result"
    }
   ],
   "source": [
    "# 相似度搜索\n",
    "vector_store.similarity_search(\"回收手机的话，应该怎么操作？\")"
   ]
  },
  {
   "cell_type": "code",
   "execution_count": 7,
   "metadata": {},
   "outputs": [
    {
     "data": {
      "text/plain": [
       "[(Document(id='cf19650e-b1fb-4a97-bb2d-9904c058684d', metadata={'source': '/mnt/f/kk_datasets/txt/yjhx.md'}, page_content='**一、选择回收物品**\\n\\n点击VMALL您可以在设备回收分类中选择旧商品的类别以及品牌，现在VMALL支持回收部分品牌和型号的手机、笔记本、平板、智能数码以及摄影摄像。如若在此页面上找不到您的品牌或型号，您可以点击品牌栏右下方的加号（如下图红圈部分所示）查看VMALL所支持回收的所有品牌型号。首页滚动电子横幅右下方“以旧换新”标志（如下图红框部分所示），进入“以旧换新”页面。\\n\\n![以旧换新图片](https://threejs-1251830808.cos.ap-guangzhou.myqcloud.com/73564551948615546537.png)\\n\\n（以下图片为参考流程，实际以页面为准）\\n\\n![设备回收图片](https://threejs-1251830808.cos.ap-guangzhou.myqcloud.com/18969746813614796981.png)\\n\\n选择好您的旧商品后请点击商品图标，进入价格评估页面。\\n\\n\\n\\n**二、价格评估**\\n\\n在价格评估界面上，您需要对旧商品的基本信息（网络制式、存储容量、购买渠道、机身颜色），外观成色（边框背板，屏幕外观，屏幕显示，维修情况），和多功能选项参数进行评估，请如实填写您的手机情况。完成所有参数选择，请估价按钮（如下图红框部分所示）。\\n\\n完成所有参数选择，请点击“免费询价”按钮（如下图红框部分所示）。\\n\\n![免费询价图片](https://threejs-1251830808.cos.ap-guangzhou.myqcloud.com/37174946813614947173.png)\\n\\n**三、价格评估结果**\\n\\n您可以查看手机的估价和这款手机的回收价格趋势，如果填写有什么问题，可以点击“重新询价”或“重新选择机型”更改；确认无误后，点击“换钱”按钮进入订单页面。\\n\\n![价格评估结果图片](https://threejs-1251830808.cos.ap-guangzhou.myqcloud.com/28422256813615222482.png)\\n\\n**四、提交订单**\\n\\n在订单页面，您可以从以下两种常规回收方式选择一种进行回收，并提交订单结账。（回收宝支持顺丰上门、上门质检回收，爱回收支持顺丰上门、质检上门、信用回收）\\n\\n![&#x56fe;5.png](https://threejs-1251830808.cos.ap-guangzhou.myqcloud.com/47605356813615350674.png)\\n\\n（1）顺丰上门回收操作流程\\n\\n① 回收方式：选择顺丰快递回收\\n\\n② 提交订单：填写联系人、电话号码、取货地址及上门时间，提交订单\\n\\n③ 上门取货：回收订单提交成功，快递员会按照填写的上门时间上门取货\\n\\n④ 确认交易：回收商会在收到旧机的48小时内完成检测，若价格与您提交订单时的价格一致，将立即发放华为代金券。\\n\\n（2）质检师上门回收操作流程\\n\\n① 回收方式：选择质检师上门回收。\\n\\n② 提交订单：填写联系人信息、手机号码、上门地址及上门时间，提交订单\\n\\n③ 确认交易：如通过质检师上门回收，在完成检测后，代金券可实时到账。\\n\\n![质检师上门回收操作流程图片](https://threejs-1251830808.cos.ap-guangzhou.myqcloud.com/67845656813615654876.png)\\n\\n\\n\\n五、以旧换新答疑 ：更多关于以旧换新的问题请点击 “[以旧换新答疑](https://www.vmall.com/help/category-251.html)”查看。'),\n",
       "  0.845036),\n",
       " (Document(id='3c8cd575-2412-4f23-a0be-f505e5f30e1a', metadata={'source': '/mnt/f/kk_datasets/txt/faq-7923.txt'}, page_content='众测活动\\n\\n整体介绍：\\n\\n一、活动定义：众测是以低价试销的形式，通过收集评价、销量等方法，用于测试市场对新商品的反应，用于及时优化销售策略和引导商家改进。\\n\\n二、优势：众测价通常比较优惠，以不高于大促促销价为原则，最终以与物权方谈判结果为准。\\n\\n三、适用范围：华为商城所有产品。\\n\\n\\n\\n参与方式：\\n\\n1、华为商城众测的入口在哪里？\\n\\n华为商城搜索“众测”，即可看到众测入口，点击进入即可；\\n\\n2、众测上新频次：\\n\\n众测频道每周一至周五不定期更新上架，部分商品可能会特别调整；\\n\\n3、众测活动时间：\\n\\n一款产品众测时间通常为10-20天（热销的商品可能会延期5-10天）。\\n\\n \\n\\n常见问题：\\n\\n1、众测商品的来源?\\n\\n     您好，众测商品主要来源为华为商城上架的新品，热销的爆款商品也会不定期通过众测回归上线。\\n\\n2、众测商品的价格会优惠吗？\\n\\n     您好，众测商品价格对标618和双十一，一般都是该商品某段时间的最低促销价。\\n\\n3、 众测商品质量会不稳定么？\\n\\n     您好，众测商品也是量产的正品新品，质量与正式上架商品一致。 \\n\\n4、众测商品买下后多久发货？\\n\\n     您好，请以商品页显示为准。\\n\\n5、提交活动订单后多久内支付？\\n\\n     您好，提交订单后最长付款时效为24小时，逾期订单自动取消\\n\\n6、成功下单后怎么查询众测订单？\\n\\n     您好，成功下单后，您可以通过华为商城手机APP、华为商城手机WAP版、华为商城电脑网页版任意一端登录下单账户，在“我的订单”查询。（众测商品订单查询方式等同于正常商品订单）\\n\\n7、订单支付后未发货前可以取消订单吗？\\n\\n     您好，在发货前消费者可以取消订单。\\n\\n8、取消订单后多久内退回款项？\\n\\n     您好，和华为商城智能家居生态产品通用退款时效一致，3-5个工作日。\\n\\n9、一个账号可以参与几次众测活动？有限购吗？\\n\\n     您好，一个账号参与众测活动的次数无限制，没有限购。但每次订单只能购买一个商品。如您需要购买多个产品，可以多次参与众测活动。'),\n",
       "  1.2611725),\n",
       " (Document(id='8632728a-9a58-4d5a-a1e4-093ee33b16b5', metadata={'source': '/mnt/f/kk_datasets/txt/faq-4359.txt'}, page_content='一、什么是0分期利息\\n\\n您好，“0分期利息”是指买家使用花呗、招行掌上生活、工行信用卡、银联信用卡等其他分期购物时无需支付分期利息的功能，分期利息由华为商城承担。\\n\\n注：自2023年起，商城将相关宣传将“免息”调整为“0分期利息”，主要基于中国银保监会、中国人民银行《关于进一步促进信用卡业务规范健康发展的通知》（银保监规〔2022〕13号），要求“银行业金融机构应当在分期业务合同（协议）首页和业务办理页面以明显方式展示分期业务可能产生的所有息费项目、年化利率水平和息费计算方式。向客户展示分期业务收取的资金使用成本时，应当统一采用利息形式，并明确相应的计息规则，不得采用手续费等形式，法律法规另有规定的除外。”\\n\\n\\n\\n二、可以参与0分期利息活动的商品\\n\\n商城目前仅支持部分单品参与0分期利息，若多商品（含不支持0分期利息）合并支付则不支持0分期利息，以支付页面为准，后续会逐渐开放更多商品，敬请关注。\\n\\n\\n\\n三、确认订单分期成功\\n\\n订单提交成功后在支付方式页面选择分期支付，点选显示0分期利息的支付方式及具体0分期利息期数后，完成支付。\\n\\n\\n\\n\\n\\n四、订单中有多个商品，其中有商品支持0分期利息，为什么提交后却没有0分期利息？\\n\\n0分期利息商品不能和其它商品一起购买，如果和其他商品购买而不能享用0分期利息，建议取消原来的订单，重新购买时把0分期利息商品和其他商品分开单独购买；且0分期利息的分期数是固定的，如6期0分期利息，并不是3/6/12都提供0分期利息的。\\n\\n\\n\\n五、小程序是否支持0分期利息？\\n\\n华为商城小程序暂不支持0分期利息。'),\n",
       "  1.3698795)]"
      ]
     },
     "execution_count": 7,
     "metadata": {},
     "output_type": "execute_result"
    }
   ],
   "source": [
    "# 基于分数的相似度搜索\n",
    "vector_store.similarity_search_with_score(\"回收手机的话，应该怎么操作？\")"
   ]
  },
  {
   "cell_type": "markdown",
   "metadata": {},
   "source": [
    "在使用 NLTK 进行自然语言处理时，punkt 分词器已经下载并可用。如果你需要对文本进行分词或句子分割，这一步是必要的。"
   ]
  },
  {
   "cell_type": "code",
   "execution_count": 8,
   "metadata": {},
   "outputs": [
    {
     "name": "stderr",
     "output_type": "stream",
     "text": [
      "[nltk_data] Error loading punkt: <urlopen error [Errno 111] Connection\n",
      "[nltk_data]     refused>\n"
     ]
    },
    {
     "data": {
      "text/plain": [
       "False"
      ]
     },
     "execution_count": 8,
     "metadata": {},
     "output_type": "execute_result"
    }
   ],
   "source": [
    "import nltk\n",
    "nltk.download('punkt')"
   ]
  },
  {
   "cell_type": "markdown",
   "metadata": {},
   "source": [
    "对接本地部署大模型"
   ]
  },
  {
   "cell_type": "code",
   "execution_count": 9,
   "metadata": {},
   "outputs": [],
   "source": [
    "from langchain_openai import ChatOpenAI\n",
    "from langchain_core.prompts import ChatPromptTemplate\n",
    "from langchain_core.output_parsers import StrOutputParser\n",
    "from dotenv import load_dotenv\n",
    "import os\n",
    "\n",
    "load_dotenv()\n",
    "api_key = os.getenv(\"LOCAL_API_KEY\")\n",
    "base_url = os.getenv(\"LOCAL_API_BASE\")\n",
    "\n",
    "llm = ChatOpenAI(temperature=0, api_key=api_key, base_url=base_url, max_tokens=8192)"
   ]
  },
  {
   "cell_type": "markdown",
   "metadata": {},
   "source": [
    "构建提示词"
   ]
  },
  {
   "cell_type": "code",
   "execution_count": 10,
   "metadata": {},
   "outputs": [],
   "source": [
    "template = \"\"\"\n",
    "请根据以下文档回答问题：\n",
    "{context}\n",
    "\n",
    "问题：{question}\n",
    "请在回答问题时加上称呼：{name}\n",
    "\"\"\"\n",
    "\n",
    "prompt = ChatPromptTemplate.from_template(template)"
   ]
  },
  {
   "cell_type": "markdown",
   "metadata": {},
   "source": [
    "构建检索器\n",
    "\n",
    "1. **最大边际相关性检索（MMR）**：\n",
    "想象你在一个图书馆里找关于“猫咪”的书籍。MMR就像是一个智能助手，帮你挑选书籍。它会先找到一本最相关的书，比如《猫咪百科全书》。然后，它会寻找第二本书，这本书不仅要与“猫咪”相关，还要与第一本书的内容有所不同，比如可能会找一本关于“猫咪训练”的书。MMR的目标是让你既能找到有用的信息，又能获得不同方面的知识。\n",
    "2. **余弦相似度**：\n",
    "余弦相似度是一种测量两个向量在多维空间中角度的方法。继续用图书馆的例子，你可以把每本书想象成一个向量，它的每个维度代表这本书包含的不同关键词。余弦相似度会计算两本书的向量之间的角度，如果两本书的向量角度接近0度，那么它们在内容上非常相似；如果角度接近90度，那么它们的内容就不那么相似。\n",
    "\n",
    "总结一下：\n",
    "- MMR是一个帮你挑选书籍的策略，它力求找到既相关又多样的书籍组合。\n",
    "- 余弦相似度是一个测量两本书内容相似度的工具，它通过比较书中的关键词向量来判断。"
   ]
  },
  {
   "cell_type": "code",
   "execution_count": 11,
   "metadata": {},
   "outputs": [
    {
     "name": "stderr",
     "output_type": "stream",
     "text": [
      "/tmp/ipykernel_14196/3829895789.py:6: LangChainDeprecationWarning: The method `BaseRetriever.get_relevant_documents` was deprecated in langchain-core 0.1.46 and will be removed in 1.0. Use :meth:`~invoke` instead.\n",
      "  docs = retriever.get_relevant_documents(\"请说说回收手机怎么操作?\")\n"
     ]
    },
    {
     "data": {
      "text/plain": [
       "[Document(id='cf19650e-b1fb-4a97-bb2d-9904c058684d', metadata={'source': '/mnt/f/kk_datasets/txt/yjhx.md'}, page_content='**一、选择回收物品**\\n\\n点击VMALL您可以在设备回收分类中选择旧商品的类别以及品牌，现在VMALL支持回收部分品牌和型号的手机、笔记本、平板、智能数码以及摄影摄像。如若在此页面上找不到您的品牌或型号，您可以点击品牌栏右下方的加号（如下图红圈部分所示）查看VMALL所支持回收的所有品牌型号。首页滚动电子横幅右下方“以旧换新”标志（如下图红框部分所示），进入“以旧换新”页面。\\n\\n![以旧换新图片](https://threejs-1251830808.cos.ap-guangzhou.myqcloud.com/73564551948615546537.png)\\n\\n（以下图片为参考流程，实际以页面为准）\\n\\n![设备回收图片](https://threejs-1251830808.cos.ap-guangzhou.myqcloud.com/18969746813614796981.png)\\n\\n选择好您的旧商品后请点击商品图标，进入价格评估页面。\\n\\n\\n\\n**二、价格评估**\\n\\n在价格评估界面上，您需要对旧商品的基本信息（网络制式、存储容量、购买渠道、机身颜色），外观成色（边框背板，屏幕外观，屏幕显示，维修情况），和多功能选项参数进行评估，请如实填写您的手机情况。完成所有参数选择，请估价按钮（如下图红框部分所示）。\\n\\n完成所有参数选择，请点击“免费询价”按钮（如下图红框部分所示）。\\n\\n![免费询价图片](https://threejs-1251830808.cos.ap-guangzhou.myqcloud.com/37174946813614947173.png)\\n\\n**三、价格评估结果**\\n\\n您可以查看手机的估价和这款手机的回收价格趋势，如果填写有什么问题，可以点击“重新询价”或“重新选择机型”更改；确认无误后，点击“换钱”按钮进入订单页面。\\n\\n![价格评估结果图片](https://threejs-1251830808.cos.ap-guangzhou.myqcloud.com/28422256813615222482.png)\\n\\n**四、提交订单**\\n\\n在订单页面，您可以从以下两种常规回收方式选择一种进行回收，并提交订单结账。（回收宝支持顺丰上门、上门质检回收，爱回收支持顺丰上门、质检上门、信用回收）\\n\\n![&#x56fe;5.png](https://threejs-1251830808.cos.ap-guangzhou.myqcloud.com/47605356813615350674.png)\\n\\n（1）顺丰上门回收操作流程\\n\\n① 回收方式：选择顺丰快递回收\\n\\n② 提交订单：填写联系人、电话号码、取货地址及上门时间，提交订单\\n\\n③ 上门取货：回收订单提交成功，快递员会按照填写的上门时间上门取货\\n\\n④ 确认交易：回收商会在收到旧机的48小时内完成检测，若价格与您提交订单时的价格一致，将立即发放华为代金券。\\n\\n（2）质检师上门回收操作流程\\n\\n① 回收方式：选择质检师上门回收。\\n\\n② 提交订单：填写联系人信息、手机号码、上门地址及上门时间，提交订单\\n\\n③ 确认交易：如通过质检师上门回收，在完成检测后，代金券可实时到账。\\n\\n![质检师上门回收操作流程图片](https://threejs-1251830808.cos.ap-guangzhou.myqcloud.com/67845656813615654876.png)\\n\\n\\n\\n五、以旧换新答疑 ：更多关于以旧换新的问题请点击 “[以旧换新答疑](https://www.vmall.com/help/category-251.html)”查看。')]"
      ]
     },
     "execution_count": 11,
     "metadata": {},
     "output_type": "execute_result"
    }
   ],
   "source": [
    "retriever = vector_store.as_retriever(\n",
    "    search_type=\"mmr\",\n",
    "    search_kwargs={\"k\": 1},\n",
    ")\n",
    "\n",
    "docs = retriever.get_relevant_documents(\"请说说回收手机怎么操作?\")\n",
    "docs"
   ]
  },
  {
   "cell_type": "markdown",
   "metadata": {},
   "source": [
    "构建链"
   ]
  },
  {
   "cell_type": "code",
   "execution_count": 12,
   "metadata": {},
   "outputs": [
    {
     "name": "stdout",
     "output_type": "stream",
     "text": [
      "主人，根据您提供的文档内容，回收手机的步骤如下：\n",
      "\n",
      "1. **选择回收物品**：首先，您需要登录VMALL平台，并在设备回收分类中选择您的旧手机品牌和型号。如果找不到您的手机型号，可以点击品牌栏右下方的加号查看所有支持的回收品牌型号。\n",
      "\n",
      "2. **价格评估**：选择好您的旧手机后，进入价格评估页面。在这里，您需要填写手机的网络制式、存储容量、购买渠道、机身颜色等信息，以及外观成色和维修情况等参数。填写完毕后，点击“免费询价”按钮获取估价。\n",
      "\n",
      "3. **价格评估结果**：查看手机的估价和回收价格趋势。如果有误，可以重新询价或选择机型进行更改。确认无误后，点击“换钱”按钮进入订单页面。\n",
      "\n",
      "4. **提交订单**：在订单页面，您可以选择两种常规回收方式之一进行回收并提交订单。一种是顺丰上门回收，另一种是质检师上门回收。\n",
      "\n",
      "5. **顺丰上门回收操作流程**：选择顺丰快递回收，填写联系人信息、电话号码、取货地址和上门时间，然后提交订单。快递员会按照您指定的时间上门取货。回收商在收到旧手机后48小时内完成检测，若价格一致，将发放华为代金券。\n",
      "\n",
      "6. **质检师上门回收操作流程**：选择质检师上门回收，填写相同的信息并提交订单。质检师会在您指定的时间上门进行检测，如果通过检测，代金券可以实时到账。\n",
      "\n",
      "请注意，以上步骤是基于文档中的信息提供的指导，实际操作时可能有所不同，建议您根据VMALL平台当时的界面和提示进行操作。\n"
     ]
    }
   ],
   "source": [
    "from operator import itemgetter\n",
    "\n",
    "chain = (\n",
    "    {\n",
    "        \"context\": itemgetter(\"question\") | retriever,\n",
    "        \"question\": itemgetter(\"question\"),\n",
    "        \"name\": itemgetter(\"name\")\n",
    "    }\n",
    "    | prompt\n",
    "    | llm\n",
    "    | StrOutputParser()\n",
    ")\n",
    "\n",
    "print(chain.invoke({\"question\": \"回收手机怎么操作?\", \"name\": \"主人\"}))"
   ]
  },
  {
   "cell_type": "code",
   "execution_count": 13,
   "metadata": {},
   "outputs": [
    {
     "name": "stdout",
     "output_type": "stream",
     "text": [
      "主人您好！根据提供的文档内容，参与华为商城众测活动的步骤如下：\n",
      "\n",
      "1. 首先，您需要登录到华为商城。\n",
      "2. 在华为商城的搜索栏中输入“众测”关键词进行搜索。\n",
      "3. 根据搜索结果找到众测的入口，点击进入。\n",
      "4. 在众测频道内浏览或筛选感兴趣的产品。\n",
      "5. 选择想要参与众测的产品后，按照页面提示完成下单流程。\n",
      "6. 提交订单后，您需要在24小时内完成支付，否则订单可能会被自动取消。\n",
      "7. 成功支付后，您可以登录华为商城任意一个平台（手机APP、手机WAP版或电脑网页版）查看“我的订单”来追踪众测商品的发货和物流状态。\n",
      "\n",
      "请注意，众测活动的具体参与方式可能会有所变化，建议您在参与前仔细阅读最新的活动规则和相关说明。"
     ]
    }
   ],
   "source": [
    "for s in chain.stream({\"question\": \"请问众筹活动怎么参与?\", \"name\": \"主人\"}):\n",
    "    print(s, end=\"\", flush=True)"
   ]
  },
  {
   "cell_type": "markdown",
   "metadata": {},
   "source": [
    "## 加载目录下的所有文档\n",
    "\n"
   ]
  },
  {
   "cell_type": "code",
   "execution_count": 20,
   "metadata": {},
   "outputs": [
    {
     "name": "stderr",
     "output_type": "stream",
     "text": [
      "[nltk_data] Error loading punkt: <urlopen error [Errno 111] Connection\n",
      "[nltk_data]     refused>\n",
      "Error loading file /mnt/f/kk_datasets/txt/faq-4359.txt\n"
     ]
    },
    {
     "ename": "LookupError",
     "evalue": "\n**********************************************************************\n  Resource \u001b[93mpunkt_tab\u001b[0m not found.\n  Please use the NLTK Downloader to obtain the resource:\n\n  \u001b[31m>>> import nltk\n  >>> nltk.download('punkt_tab')\n  \u001b[0m\n  For more information see: https://www.nltk.org/data.html\n\n  Attempted to load \u001b[93mtokenizers/punkt_tab/english/\u001b[0m\n\n  Searched in:\n    - '/home/libing/nltk_data'\n    - '/home/libing/miniconda3/envs/kk_langchain_wsl/nltk_data'\n    - '/home/libing/miniconda3/envs/kk_langchain_wsl/share/nltk_data'\n    - '/home/libing/miniconda3/envs/kk_langchain_wsl/lib/nltk_data'\n    - '/usr/share/nltk_data'\n    - '/usr/local/share/nltk_data'\n    - '/usr/lib/nltk_data'\n    - '/usr/local/lib/nltk_data'\n**********************************************************************\n",
     "output_type": "error",
     "traceback": [
      "\u001b[0;31m---------------------------------------------------------------------------\u001b[0m",
      "\u001b[0;31mLookupError\u001b[0m                               Traceback (most recent call last)",
      "Cell \u001b[0;32mIn[20], line 7\u001b[0m\n\u001b[1;32m      4\u001b[0m nltk\u001b[38;5;241m.\u001b[39mdownload(\u001b[38;5;124m'\u001b[39m\u001b[38;5;124mpunkt\u001b[39m\u001b[38;5;124m'\u001b[39m, download_dir\u001b[38;5;241m=\u001b[39m\u001b[38;5;124m'\u001b[39m\u001b[38;5;124m/usr/local/share/nltk_data\u001b[39m\u001b[38;5;124m'\u001b[39m)\n\u001b[1;32m      6\u001b[0m loader \u001b[38;5;241m=\u001b[39m DirectoryLoader(\u001b[38;5;124m\"\u001b[39m\u001b[38;5;124m/mnt/f/kk_datasets/txt/\u001b[39m\u001b[38;5;124m\"\u001b[39m, glob\u001b[38;5;241m=\u001b[39m[\u001b[38;5;124m\"\u001b[39m\u001b[38;5;124m**/*.txt\u001b[39m\u001b[38;5;124m\"\u001b[39m, \u001b[38;5;124m\"\u001b[39m\u001b[38;5;124m**/*.md\u001b[39m\u001b[38;5;124m\"\u001b[39m])  \u001b[38;5;66;03m# 加载该目录下所有txt和md文档\u001b[39;00m\n\u001b[0;32m----> 7\u001b[0m docs \u001b[38;5;241m=\u001b[39m \u001b[43mloader\u001b[49m\u001b[38;5;241;43m.\u001b[39;49m\u001b[43mload\u001b[49m\u001b[43m(\u001b[49m\u001b[43m)\u001b[49m\n\u001b[1;32m      8\u001b[0m docs\n",
      "File \u001b[0;32m~/miniconda3/envs/kk_langchain_wsl/lib/python3.10/site-packages/langchain_community/document_loaders/directory.py:117\u001b[0m, in \u001b[0;36mDirectoryLoader.load\u001b[0;34m(self)\u001b[0m\n\u001b[1;32m    115\u001b[0m \u001b[38;5;28;01mdef\u001b[39;00m \u001b[38;5;21mload\u001b[39m(\u001b[38;5;28mself\u001b[39m) \u001b[38;5;241m-\u001b[39m\u001b[38;5;241m>\u001b[39m List[Document]:\n\u001b[1;32m    116\u001b[0m \u001b[38;5;250m    \u001b[39m\u001b[38;5;124;03m\"\"\"Load documents.\"\"\"\u001b[39;00m\n\u001b[0;32m--> 117\u001b[0m     \u001b[38;5;28;01mreturn\u001b[39;00m \u001b[38;5;28;43mlist\u001b[39;49m\u001b[43m(\u001b[49m\u001b[38;5;28;43mself\u001b[39;49m\u001b[38;5;241;43m.\u001b[39;49m\u001b[43mlazy_load\u001b[49m\u001b[43m(\u001b[49m\u001b[43m)\u001b[49m\u001b[43m)\u001b[49m\n",
      "File \u001b[0;32m~/miniconda3/envs/kk_langchain_wsl/lib/python3.10/site-packages/langchain_community/document_loaders/directory.py:195\u001b[0m, in \u001b[0;36mDirectoryLoader.lazy_load\u001b[0;34m(self)\u001b[0m\n\u001b[1;32m    193\u001b[0m \u001b[38;5;28;01melse\u001b[39;00m:\n\u001b[1;32m    194\u001b[0m     \u001b[38;5;28;01mfor\u001b[39;00m i \u001b[38;5;129;01min\u001b[39;00m items:\n\u001b[0;32m--> 195\u001b[0m         \u001b[38;5;28;01myield from\u001b[39;00m \u001b[38;5;28mself\u001b[39m\u001b[38;5;241m.\u001b[39m_lazy_load_file(i, p, pbar)\n\u001b[1;32m    197\u001b[0m \u001b[38;5;28;01mif\u001b[39;00m pbar:\n\u001b[1;32m    198\u001b[0m     pbar\u001b[38;5;241m.\u001b[39mclose()\n",
      "File \u001b[0;32m~/miniconda3/envs/kk_langchain_wsl/lib/python3.10/site-packages/langchain_community/document_loaders/directory.py:233\u001b[0m, in \u001b[0;36mDirectoryLoader._lazy_load_file\u001b[0;34m(self, item, path, pbar)\u001b[0m\n\u001b[1;32m    231\u001b[0m     \u001b[38;5;28;01melse\u001b[39;00m:\n\u001b[1;32m    232\u001b[0m         logger\u001b[38;5;241m.\u001b[39merror(\u001b[38;5;124mf\u001b[39m\u001b[38;5;124m\"\u001b[39m\u001b[38;5;124mError loading file \u001b[39m\u001b[38;5;132;01m{\u001b[39;00m\u001b[38;5;28mstr\u001b[39m(item)\u001b[38;5;132;01m}\u001b[39;00m\u001b[38;5;124m\"\u001b[39m)\n\u001b[0;32m--> 233\u001b[0m         \u001b[38;5;28;01mraise\u001b[39;00m e\n\u001b[1;32m    234\u001b[0m \u001b[38;5;28;01mfinally\u001b[39;00m:\n\u001b[1;32m    235\u001b[0m     \u001b[38;5;28;01mif\u001b[39;00m pbar:\n",
      "File \u001b[0;32m~/miniconda3/envs/kk_langchain_wsl/lib/python3.10/site-packages/langchain_community/document_loaders/directory.py:223\u001b[0m, in \u001b[0;36mDirectoryLoader._lazy_load_file\u001b[0;34m(self, item, path, pbar)\u001b[0m\n\u001b[1;32m    221\u001b[0m loader \u001b[38;5;241m=\u001b[39m \u001b[38;5;28mself\u001b[39m\u001b[38;5;241m.\u001b[39mloader_cls(\u001b[38;5;28mstr\u001b[39m(item), \u001b[38;5;241m*\u001b[39m\u001b[38;5;241m*\u001b[39m\u001b[38;5;28mself\u001b[39m\u001b[38;5;241m.\u001b[39mloader_kwargs)\n\u001b[1;32m    222\u001b[0m \u001b[38;5;28;01mtry\u001b[39;00m:\n\u001b[0;32m--> 223\u001b[0m     \u001b[38;5;28;01mfor\u001b[39;00m subdoc \u001b[38;5;129;01min\u001b[39;00m loader\u001b[38;5;241m.\u001b[39mlazy_load():\n\u001b[1;32m    224\u001b[0m         \u001b[38;5;28;01myield\u001b[39;00m subdoc\n\u001b[1;32m    225\u001b[0m \u001b[38;5;28;01mexcept\u001b[39;00m \u001b[38;5;167;01mNotImplementedError\u001b[39;00m:\n",
      "File \u001b[0;32m~/miniconda3/envs/kk_langchain_wsl/lib/python3.10/site-packages/langchain_community/document_loaders/unstructured.py:107\u001b[0m, in \u001b[0;36mUnstructuredBaseLoader.lazy_load\u001b[0;34m(self)\u001b[0m\n\u001b[1;32m    105\u001b[0m \u001b[38;5;28;01mdef\u001b[39;00m \u001b[38;5;21mlazy_load\u001b[39m(\u001b[38;5;28mself\u001b[39m) \u001b[38;5;241m-\u001b[39m\u001b[38;5;241m>\u001b[39m Iterator[Document]:\n\u001b[1;32m    106\u001b[0m \u001b[38;5;250m    \u001b[39m\u001b[38;5;124;03m\"\"\"Load file.\"\"\"\u001b[39;00m\n\u001b[0;32m--> 107\u001b[0m     elements \u001b[38;5;241m=\u001b[39m \u001b[38;5;28;43mself\u001b[39;49m\u001b[38;5;241;43m.\u001b[39;49m\u001b[43m_get_elements\u001b[49m\u001b[43m(\u001b[49m\u001b[43m)\u001b[49m\n\u001b[1;32m    108\u001b[0m     \u001b[38;5;28mself\u001b[39m\u001b[38;5;241m.\u001b[39m_post_process_elements(elements)\n\u001b[1;32m    109\u001b[0m     \u001b[38;5;28;01mif\u001b[39;00m \u001b[38;5;28mself\u001b[39m\u001b[38;5;241m.\u001b[39mmode \u001b[38;5;241m==\u001b[39m \u001b[38;5;124m\"\u001b[39m\u001b[38;5;124melements\u001b[39m\u001b[38;5;124m\"\u001b[39m:\n",
      "File \u001b[0;32m~/miniconda3/envs/kk_langchain_wsl/lib/python3.10/site-packages/langchain_community/document_loaders/unstructured.py:228\u001b[0m, in \u001b[0;36mUnstructuredFileLoader._get_elements\u001b[0;34m(self)\u001b[0m\n\u001b[1;32m    226\u001b[0m \u001b[38;5;28;01mif\u001b[39;00m \u001b[38;5;28misinstance\u001b[39m(\u001b[38;5;28mself\u001b[39m\u001b[38;5;241m.\u001b[39mfile_path, Path):\n\u001b[1;32m    227\u001b[0m     \u001b[38;5;28mself\u001b[39m\u001b[38;5;241m.\u001b[39mfile_path \u001b[38;5;241m=\u001b[39m \u001b[38;5;28mstr\u001b[39m(\u001b[38;5;28mself\u001b[39m\u001b[38;5;241m.\u001b[39mfile_path)\n\u001b[0;32m--> 228\u001b[0m \u001b[38;5;28;01mreturn\u001b[39;00m \u001b[43mpartition\u001b[49m\u001b[43m(\u001b[49m\u001b[43mfilename\u001b[49m\u001b[38;5;241;43m=\u001b[39;49m\u001b[38;5;28;43mself\u001b[39;49m\u001b[38;5;241;43m.\u001b[39;49m\u001b[43mfile_path\u001b[49m\u001b[43m,\u001b[49m\u001b[43m \u001b[49m\u001b[38;5;241;43m*\u001b[39;49m\u001b[38;5;241;43m*\u001b[39;49m\u001b[38;5;28;43mself\u001b[39;49m\u001b[38;5;241;43m.\u001b[39;49m\u001b[43munstructured_kwargs\u001b[49m\u001b[43m)\u001b[49m\n",
      "File \u001b[0;32m~/miniconda3/envs/kk_langchain_wsl/lib/python3.10/site-packages/unstructured/partition/auto.py:411\u001b[0m, in \u001b[0;36mpartition\u001b[0;34m(filename, content_type, file, file_filename, url, include_page_breaks, strategy, encoding, paragraph_grouper, headers, skip_infer_table_types, ssl_verify, ocr_languages, languages, detect_language_per_element, pdf_infer_table_structure, extract_images_in_pdf, extract_image_block_types, extract_image_block_output_dir, extract_image_block_to_payload, xml_keep_tags, data_source_metadata, metadata_filename, request_timeout, hi_res_model_name, model_name, starting_page_number, **kwargs)\u001b[0m\n\u001b[1;32m    409\u001b[0m \u001b[38;5;28;01melif\u001b[39;00m file_type \u001b[38;5;241m==\u001b[39m FileType\u001b[38;5;241m.\u001b[39mTXT:\n\u001b[1;32m    410\u001b[0m     partition_text \u001b[38;5;241m=\u001b[39m partitioner_loader\u001b[38;5;241m.\u001b[39mget(file_type)\n\u001b[0;32m--> 411\u001b[0m     elements \u001b[38;5;241m=\u001b[39m \u001b[43mpartition_text\u001b[49m\u001b[43m(\u001b[49m\n\u001b[1;32m    412\u001b[0m \u001b[43m        \u001b[49m\u001b[43mfilename\u001b[49m\u001b[38;5;241;43m=\u001b[39;49m\u001b[43mfilename\u001b[49m\u001b[43m,\u001b[49m\n\u001b[1;32m    413\u001b[0m \u001b[43m        \u001b[49m\u001b[43mfile\u001b[49m\u001b[38;5;241;43m=\u001b[39;49m\u001b[43mfile\u001b[49m\u001b[43m,\u001b[49m\n\u001b[1;32m    414\u001b[0m \u001b[43m        \u001b[49m\u001b[43mencoding\u001b[49m\u001b[38;5;241;43m=\u001b[39;49m\u001b[43mencoding\u001b[49m\u001b[43m,\u001b[49m\n\u001b[1;32m    415\u001b[0m \u001b[43m        \u001b[49m\u001b[43mparagraph_grouper\u001b[49m\u001b[38;5;241;43m=\u001b[39;49m\u001b[43mparagraph_grouper\u001b[49m\u001b[43m,\u001b[49m\n\u001b[1;32m    416\u001b[0m \u001b[43m        \u001b[49m\u001b[43mlanguages\u001b[49m\u001b[38;5;241;43m=\u001b[39;49m\u001b[43mlanguages\u001b[49m\u001b[43m,\u001b[49m\n\u001b[1;32m    417\u001b[0m \u001b[43m        \u001b[49m\u001b[43mdetect_language_per_element\u001b[49m\u001b[38;5;241;43m=\u001b[39;49m\u001b[43mdetect_language_per_element\u001b[49m\u001b[43m,\u001b[49m\n\u001b[1;32m    418\u001b[0m \u001b[43m        \u001b[49m\u001b[38;5;241;43m*\u001b[39;49m\u001b[38;5;241;43m*\u001b[39;49m\u001b[43mkwargs\u001b[49m\u001b[43m,\u001b[49m\n\u001b[1;32m    419\u001b[0m \u001b[43m    \u001b[49m\u001b[43m)\u001b[49m\n\u001b[1;32m    420\u001b[0m \u001b[38;5;28;01melif\u001b[39;00m file_type \u001b[38;5;129;01min\u001b[39;00m (FileType\u001b[38;5;241m.\u001b[39mXLS, FileType\u001b[38;5;241m.\u001b[39mXLSX):\n\u001b[1;32m    421\u001b[0m     partition_xlsx \u001b[38;5;241m=\u001b[39m partitioner_loader\u001b[38;5;241m.\u001b[39mget(file_type)\n",
      "File \u001b[0;32m~/miniconda3/envs/kk_langchain_wsl/lib/python3.10/site-packages/unstructured/partition/common/metadata.py:162\u001b[0m, in \u001b[0;36mapply_metadata.<locals>.decorator.<locals>.wrapper\u001b[0;34m(*args, **kwargs)\u001b[0m\n\u001b[1;32m    160\u001b[0m \u001b[38;5;129m@functools\u001b[39m\u001b[38;5;241m.\u001b[39mwraps(func)\n\u001b[1;32m    161\u001b[0m \u001b[38;5;28;01mdef\u001b[39;00m \u001b[38;5;21mwrapper\u001b[39m(\u001b[38;5;241m*\u001b[39margs: _P\u001b[38;5;241m.\u001b[39margs, \u001b[38;5;241m*\u001b[39m\u001b[38;5;241m*\u001b[39mkwargs: _P\u001b[38;5;241m.\u001b[39mkwargs) \u001b[38;5;241m-\u001b[39m\u001b[38;5;241m>\u001b[39m \u001b[38;5;28mlist\u001b[39m[Element]:\n\u001b[0;32m--> 162\u001b[0m     elements \u001b[38;5;241m=\u001b[39m \u001b[43mfunc\u001b[49m\u001b[43m(\u001b[49m\u001b[38;5;241;43m*\u001b[39;49m\u001b[43margs\u001b[49m\u001b[43m,\u001b[49m\u001b[43m \u001b[49m\u001b[38;5;241;43m*\u001b[39;49m\u001b[38;5;241;43m*\u001b[39;49m\u001b[43mkwargs\u001b[49m\u001b[43m)\u001b[49m\n\u001b[1;32m    163\u001b[0m     call_args \u001b[38;5;241m=\u001b[39m get_call_args_applying_defaults(func, \u001b[38;5;241m*\u001b[39margs, \u001b[38;5;241m*\u001b[39m\u001b[38;5;241m*\u001b[39mkwargs)\n\u001b[1;32m    165\u001b[0m     \u001b[38;5;66;03m# ------------------------------------------------------------------------------------\u001b[39;00m\n\u001b[1;32m    166\u001b[0m     \u001b[38;5;66;03m# unique-ify elements\u001b[39;00m\n\u001b[1;32m    167\u001b[0m     \u001b[38;5;66;03m# ------------------------------------------------------------------------------------\u001b[39;00m\n\u001b[0;32m   (...)\u001b[0m\n\u001b[1;32m    172\u001b[0m     \u001b[38;5;66;03m# instance).\u001b[39;00m\n\u001b[1;32m    173\u001b[0m     \u001b[38;5;66;03m# ------------------------------------------------------------------------------------\u001b[39;00m\n",
      "File \u001b[0;32m~/miniconda3/envs/kk_langchain_wsl/lib/python3.10/site-packages/unstructured/chunking/dispatch.py:74\u001b[0m, in \u001b[0;36madd_chunking_strategy.<locals>.wrapper\u001b[0;34m(*args, **kwargs)\u001b[0m\n\u001b[1;32m     71\u001b[0m \u001b[38;5;250m\u001b[39m\u001b[38;5;124;03m\"\"\"The decorated function is replaced with this one.\"\"\"\u001b[39;00m\n\u001b[1;32m     73\u001b[0m \u001b[38;5;66;03m# -- call the partitioning function to get the elements --\u001b[39;00m\n\u001b[0;32m---> 74\u001b[0m elements \u001b[38;5;241m=\u001b[39m \u001b[43mfunc\u001b[49m\u001b[43m(\u001b[49m\u001b[38;5;241;43m*\u001b[39;49m\u001b[43margs\u001b[49m\u001b[43m,\u001b[49m\u001b[43m \u001b[49m\u001b[38;5;241;43m*\u001b[39;49m\u001b[38;5;241;43m*\u001b[39;49m\u001b[43mkwargs\u001b[49m\u001b[43m)\u001b[49m\n\u001b[1;32m     76\u001b[0m \u001b[38;5;66;03m# -- look for a chunking-strategy argument --\u001b[39;00m\n\u001b[1;32m     77\u001b[0m call_args \u001b[38;5;241m=\u001b[39m get_call_args_applying_defaults(func, \u001b[38;5;241m*\u001b[39margs, \u001b[38;5;241m*\u001b[39m\u001b[38;5;241m*\u001b[39mkwargs)\n",
      "File \u001b[0;32m~/miniconda3/envs/kk_langchain_wsl/lib/python3.10/site-packages/unstructured/partition/text.py:104\u001b[0m, in \u001b[0;36mpartition_text\u001b[0;34m(filename, file, encoding, text, paragraph_grouper, detection_origin, **kwargs)\u001b[0m\n\u001b[1;32m    101\u001b[0m ctext \u001b[38;5;241m=\u001b[39m ctext\u001b[38;5;241m.\u001b[39mstrip()\n\u001b[1;32m    103\u001b[0m \u001b[38;5;28;01mif\u001b[39;00m ctext \u001b[38;5;129;01mand\u001b[39;00m \u001b[38;5;129;01mnot\u001b[39;00m _is_empty_bullet(ctext):\n\u001b[0;32m--> 104\u001b[0m     element \u001b[38;5;241m=\u001b[39m \u001b[43melement_from_text\u001b[49m\u001b[43m(\u001b[49m\u001b[43mctext\u001b[49m\u001b[43m)\u001b[49m\n\u001b[1;32m    105\u001b[0m     element\u001b[38;5;241m.\u001b[39mmetadata \u001b[38;5;241m=\u001b[39m copy\u001b[38;5;241m.\u001b[39mdeepcopy(metadata)\n\u001b[1;32m    106\u001b[0m     elements\u001b[38;5;241m.\u001b[39mappend(element)\n",
      "File \u001b[0;32m~/miniconda3/envs/kk_langchain_wsl/lib/python3.10/site-packages/unstructured/partition/text.py:149\u001b[0m, in \u001b[0;36melement_from_text\u001b[0;34m(text, coordinates, coordinate_system)\u001b[0m\n\u001b[1;32m    143\u001b[0m \u001b[38;5;28;01melif\u001b[39;00m is_possible_numbered_list(text):\n\u001b[1;32m    144\u001b[0m     \u001b[38;5;28;01mreturn\u001b[39;00m ListItem(\n\u001b[1;32m    145\u001b[0m         text\u001b[38;5;241m=\u001b[39mtext,\n\u001b[1;32m    146\u001b[0m         coordinates\u001b[38;5;241m=\u001b[39mcoordinates,\n\u001b[1;32m    147\u001b[0m         coordinate_system\u001b[38;5;241m=\u001b[39mcoordinate_system,\n\u001b[1;32m    148\u001b[0m     )\n\u001b[0;32m--> 149\u001b[0m \u001b[38;5;28;01melif\u001b[39;00m \u001b[43mis_possible_narrative_text\u001b[49m\u001b[43m(\u001b[49m\u001b[43mtext\u001b[49m\u001b[43m)\u001b[49m:\n\u001b[1;32m    150\u001b[0m     \u001b[38;5;28;01mreturn\u001b[39;00m NarrativeText(\n\u001b[1;32m    151\u001b[0m         text\u001b[38;5;241m=\u001b[39mtext,\n\u001b[1;32m    152\u001b[0m         coordinates\u001b[38;5;241m=\u001b[39mcoordinates,\n\u001b[1;32m    153\u001b[0m         coordinate_system\u001b[38;5;241m=\u001b[39mcoordinate_system,\n\u001b[1;32m    154\u001b[0m     )\n\u001b[1;32m    155\u001b[0m \u001b[38;5;28;01melif\u001b[39;00m is_possible_title(text):\n",
      "File \u001b[0;32m~/miniconda3/envs/kk_langchain_wsl/lib/python3.10/site-packages/unstructured/partition/text_type.py:74\u001b[0m, in \u001b[0;36mis_possible_narrative_text\u001b[0;34m(text, cap_threshold, non_alpha_threshold, languages, language_checks)\u001b[0m\n\u001b[1;32m     69\u001b[0m \u001b[38;5;66;03m# NOTE(robinson): it gets read in from the environment as a string so we need to\u001b[39;00m\n\u001b[1;32m     70\u001b[0m \u001b[38;5;66;03m# cast it to a float\u001b[39;00m\n\u001b[1;32m     71\u001b[0m cap_threshold \u001b[38;5;241m=\u001b[39m \u001b[38;5;28mfloat\u001b[39m(\n\u001b[1;32m     72\u001b[0m     os\u001b[38;5;241m.\u001b[39menviron\u001b[38;5;241m.\u001b[39mget(\u001b[38;5;124m\"\u001b[39m\u001b[38;5;124mUNSTRUCTURED_NARRATIVE_TEXT_CAP_THRESHOLD\u001b[39m\u001b[38;5;124m\"\u001b[39m, cap_threshold),\n\u001b[1;32m     73\u001b[0m )\n\u001b[0;32m---> 74\u001b[0m \u001b[38;5;28;01mif\u001b[39;00m \u001b[43mexceeds_cap_ratio\u001b[49m\u001b[43m(\u001b[49m\u001b[43mtext\u001b[49m\u001b[43m,\u001b[49m\u001b[43m \u001b[49m\u001b[43mthreshold\u001b[49m\u001b[38;5;241;43m=\u001b[39;49m\u001b[43mcap_threshold\u001b[49m\u001b[43m)\u001b[49m:\n\u001b[1;32m     75\u001b[0m     trace_logger\u001b[38;5;241m.\u001b[39mdetail(\u001b[38;5;124mf\u001b[39m\u001b[38;5;124m\"\u001b[39m\u001b[38;5;124mNot narrative. Text exceeds cap ratio \u001b[39m\u001b[38;5;132;01m{\u001b[39;00mcap_threshold\u001b[38;5;132;01m}\u001b[39;00m\u001b[38;5;124m:\u001b[39m\u001b[38;5;130;01m\\n\u001b[39;00m\u001b[38;5;130;01m\\n\u001b[39;00m\u001b[38;5;132;01m{\u001b[39;00mtext\u001b[38;5;132;01m}\u001b[39;00m\u001b[38;5;124m\"\u001b[39m)  \u001b[38;5;66;03m# type: ignore # noqa: E501\u001b[39;00m\n\u001b[1;32m     76\u001b[0m     \u001b[38;5;28;01mreturn\u001b[39;00m \u001b[38;5;28;01mFalse\u001b[39;00m\n",
      "File \u001b[0;32m~/miniconda3/envs/kk_langchain_wsl/lib/python3.10/site-packages/unstructured/partition/text_type.py:270\u001b[0m, in \u001b[0;36mexceeds_cap_ratio\u001b[0;34m(text, threshold)\u001b[0m\n\u001b[1;32m    257\u001b[0m \u001b[38;5;250m\u001b[39m\u001b[38;5;124;03m\"\"\"Checks the title ratio in a section of text. If a sufficient proportion of the words\u001b[39;00m\n\u001b[1;32m    258\u001b[0m \u001b[38;5;124;03mare capitalized, that can be indicated on non-narrative text (i.e. \"1A. Risk Factors\").\u001b[39;00m\n\u001b[1;32m    259\u001b[0m \n\u001b[0;32m   (...)\u001b[0m\n\u001b[1;32m    266\u001b[0m \u001b[38;5;124;03m    the function returns True\u001b[39;00m\n\u001b[1;32m    267\u001b[0m \u001b[38;5;124;03m\"\"\"\u001b[39;00m\n\u001b[1;32m    268\u001b[0m \u001b[38;5;66;03m# NOTE(robinson) - Currently limiting this to only sections of text with one sentence.\u001b[39;00m\n\u001b[1;32m    269\u001b[0m \u001b[38;5;66;03m# The assumption is that sections with multiple sentences are not titles.\u001b[39;00m\n\u001b[0;32m--> 270\u001b[0m \u001b[38;5;28;01mif\u001b[39;00m \u001b[43msentence_count\u001b[49m\u001b[43m(\u001b[49m\u001b[43mtext\u001b[49m\u001b[43m,\u001b[49m\u001b[43m \u001b[49m\u001b[38;5;241;43m3\u001b[39;49m\u001b[43m)\u001b[49m \u001b[38;5;241m>\u001b[39m \u001b[38;5;241m1\u001b[39m:\n\u001b[1;32m    271\u001b[0m     \u001b[38;5;28;01mreturn\u001b[39;00m \u001b[38;5;28;01mFalse\u001b[39;00m\n\u001b[1;32m    273\u001b[0m \u001b[38;5;28;01mif\u001b[39;00m text\u001b[38;5;241m.\u001b[39misupper():\n",
      "File \u001b[0;32m~/miniconda3/envs/kk_langchain_wsl/lib/python3.10/site-packages/unstructured/partition/text_type.py:219\u001b[0m, in \u001b[0;36msentence_count\u001b[0;34m(text, min_length)\u001b[0m\n\u001b[1;32m    208\u001b[0m \u001b[38;5;28;01mdef\u001b[39;00m \u001b[38;5;21msentence_count\u001b[39m(text: \u001b[38;5;28mstr\u001b[39m, min_length: Optional[\u001b[38;5;28mint\u001b[39m] \u001b[38;5;241m=\u001b[39m \u001b[38;5;28;01mNone\u001b[39;00m) \u001b[38;5;241m-\u001b[39m\u001b[38;5;241m>\u001b[39m \u001b[38;5;28mint\u001b[39m:\n\u001b[1;32m    209\u001b[0m \u001b[38;5;250m    \u001b[39m\u001b[38;5;124;03m\"\"\"Checks the sentence count for a section of text. Titles should not be more than one\u001b[39;00m\n\u001b[1;32m    210\u001b[0m \u001b[38;5;124;03m    sentence.\u001b[39;00m\n\u001b[1;32m    211\u001b[0m \n\u001b[0;32m   (...)\u001b[0m\n\u001b[1;32m    217\u001b[0m \u001b[38;5;124;03m        The min number of words a section needs to be for it to be considered a sentence.\u001b[39;00m\n\u001b[1;32m    218\u001b[0m \u001b[38;5;124;03m    \"\"\"\u001b[39;00m\n\u001b[0;32m--> 219\u001b[0m     sentences \u001b[38;5;241m=\u001b[39m \u001b[43msent_tokenize\u001b[49m\u001b[43m(\u001b[49m\u001b[43mtext\u001b[49m\u001b[43m)\u001b[49m\n\u001b[1;32m    220\u001b[0m     count \u001b[38;5;241m=\u001b[39m \u001b[38;5;241m0\u001b[39m\n\u001b[1;32m    221\u001b[0m     \u001b[38;5;28;01mfor\u001b[39;00m sentence \u001b[38;5;129;01min\u001b[39;00m sentences:\n",
      "File \u001b[0;32m~/miniconda3/envs/kk_langchain_wsl/lib/python3.10/site-packages/unstructured/nlp/tokenize.py:57\u001b[0m, in \u001b[0;36msent_tokenize\u001b[0;34m(text)\u001b[0m\n\u001b[1;32m     55\u001b[0m \u001b[38;5;250m\u001b[39m\u001b[38;5;124;03m\"\"\"A wrapper around the NLTK sentence tokenizer with LRU caching enabled.\"\"\"\u001b[39;00m\n\u001b[1;32m     56\u001b[0m _download_nltk_packages_if_not_present()\n\u001b[0;32m---> 57\u001b[0m \u001b[38;5;28;01mreturn\u001b[39;00m \u001b[43m_sent_tokenize\u001b[49m\u001b[43m(\u001b[49m\u001b[43mtext\u001b[49m\u001b[43m)\u001b[49m\n",
      "File \u001b[0;32m~/miniconda3/envs/kk_langchain_wsl/lib/python3.10/site-packages/nltk/tokenize/__init__.py:119\u001b[0m, in \u001b[0;36msent_tokenize\u001b[0;34m(text, language)\u001b[0m\n\u001b[1;32m    109\u001b[0m \u001b[38;5;28;01mdef\u001b[39;00m \u001b[38;5;21msent_tokenize\u001b[39m(text, language\u001b[38;5;241m=\u001b[39m\u001b[38;5;124m\"\u001b[39m\u001b[38;5;124menglish\u001b[39m\u001b[38;5;124m\"\u001b[39m):\n\u001b[1;32m    110\u001b[0m \u001b[38;5;250m    \u001b[39m\u001b[38;5;124;03m\"\"\"\u001b[39;00m\n\u001b[1;32m    111\u001b[0m \u001b[38;5;124;03m    Return a sentence-tokenized copy of *text*,\u001b[39;00m\n\u001b[1;32m    112\u001b[0m \u001b[38;5;124;03m    using NLTK's recommended sentence tokenizer\u001b[39;00m\n\u001b[0;32m   (...)\u001b[0m\n\u001b[1;32m    117\u001b[0m \u001b[38;5;124;03m    :param language: the model name in the Punkt corpus\u001b[39;00m\n\u001b[1;32m    118\u001b[0m \u001b[38;5;124;03m    \"\"\"\u001b[39;00m\n\u001b[0;32m--> 119\u001b[0m     tokenizer \u001b[38;5;241m=\u001b[39m \u001b[43m_get_punkt_tokenizer\u001b[49m\u001b[43m(\u001b[49m\u001b[43mlanguage\u001b[49m\u001b[43m)\u001b[49m\n\u001b[1;32m    120\u001b[0m     \u001b[38;5;28;01mreturn\u001b[39;00m tokenizer\u001b[38;5;241m.\u001b[39mtokenize(text)\n",
      "File \u001b[0;32m~/miniconda3/envs/kk_langchain_wsl/lib/python3.10/site-packages/nltk/tokenize/__init__.py:105\u001b[0m, in \u001b[0;36m_get_punkt_tokenizer\u001b[0;34m(language)\u001b[0m\n\u001b[1;32m     96\u001b[0m \u001b[38;5;129m@functools\u001b[39m\u001b[38;5;241m.\u001b[39mlru_cache\n\u001b[1;32m     97\u001b[0m \u001b[38;5;28;01mdef\u001b[39;00m \u001b[38;5;21m_get_punkt_tokenizer\u001b[39m(language\u001b[38;5;241m=\u001b[39m\u001b[38;5;124m\"\u001b[39m\u001b[38;5;124menglish\u001b[39m\u001b[38;5;124m\"\u001b[39m):\n\u001b[1;32m     98\u001b[0m \u001b[38;5;250m    \u001b[39m\u001b[38;5;124;03m\"\"\"\u001b[39;00m\n\u001b[1;32m     99\u001b[0m \u001b[38;5;124;03m    A constructor for the PunktTokenizer that utilizes\u001b[39;00m\n\u001b[1;32m    100\u001b[0m \u001b[38;5;124;03m    a lru cache for performance.\u001b[39;00m\n\u001b[0;32m   (...)\u001b[0m\n\u001b[1;32m    103\u001b[0m \u001b[38;5;124;03m    :type language: str\u001b[39;00m\n\u001b[1;32m    104\u001b[0m \u001b[38;5;124;03m    \"\"\"\u001b[39;00m\n\u001b[0;32m--> 105\u001b[0m     \u001b[38;5;28;01mreturn\u001b[39;00m \u001b[43mPunktTokenizer\u001b[49m\u001b[43m(\u001b[49m\u001b[43mlanguage\u001b[49m\u001b[43m)\u001b[49m\n",
      "File \u001b[0;32m~/miniconda3/envs/kk_langchain_wsl/lib/python3.10/site-packages/nltk/tokenize/punkt.py:1744\u001b[0m, in \u001b[0;36mPunktTokenizer.__init__\u001b[0;34m(self, lang)\u001b[0m\n\u001b[1;32m   1742\u001b[0m \u001b[38;5;28;01mdef\u001b[39;00m \u001b[38;5;21m__init__\u001b[39m(\u001b[38;5;28mself\u001b[39m, lang\u001b[38;5;241m=\u001b[39m\u001b[38;5;124m\"\u001b[39m\u001b[38;5;124menglish\u001b[39m\u001b[38;5;124m\"\u001b[39m):\n\u001b[1;32m   1743\u001b[0m     PunktSentenceTokenizer\u001b[38;5;241m.\u001b[39m\u001b[38;5;21m__init__\u001b[39m(\u001b[38;5;28mself\u001b[39m)\n\u001b[0;32m-> 1744\u001b[0m     \u001b[38;5;28;43mself\u001b[39;49m\u001b[38;5;241;43m.\u001b[39;49m\u001b[43mload_lang\u001b[49m\u001b[43m(\u001b[49m\u001b[43mlang\u001b[49m\u001b[43m)\u001b[49m\n",
      "File \u001b[0;32m~/miniconda3/envs/kk_langchain_wsl/lib/python3.10/site-packages/nltk/tokenize/punkt.py:1749\u001b[0m, in \u001b[0;36mPunktTokenizer.load_lang\u001b[0;34m(self, lang)\u001b[0m\n\u001b[1;32m   1746\u001b[0m \u001b[38;5;28;01mdef\u001b[39;00m \u001b[38;5;21mload_lang\u001b[39m(\u001b[38;5;28mself\u001b[39m, lang\u001b[38;5;241m=\u001b[39m\u001b[38;5;124m\"\u001b[39m\u001b[38;5;124menglish\u001b[39m\u001b[38;5;124m\"\u001b[39m):\n\u001b[1;32m   1747\u001b[0m     \u001b[38;5;28;01mfrom\u001b[39;00m \u001b[38;5;21;01mnltk\u001b[39;00m\u001b[38;5;21;01m.\u001b[39;00m\u001b[38;5;21;01mdata\u001b[39;00m \u001b[38;5;28;01mimport\u001b[39;00m find\n\u001b[0;32m-> 1749\u001b[0m     lang_dir \u001b[38;5;241m=\u001b[39m \u001b[43mfind\u001b[49m\u001b[43m(\u001b[49m\u001b[38;5;124;43mf\u001b[39;49m\u001b[38;5;124;43m\"\u001b[39;49m\u001b[38;5;124;43mtokenizers/punkt_tab/\u001b[39;49m\u001b[38;5;132;43;01m{\u001b[39;49;00m\u001b[43mlang\u001b[49m\u001b[38;5;132;43;01m}\u001b[39;49;00m\u001b[38;5;124;43m/\u001b[39;49m\u001b[38;5;124;43m\"\u001b[39;49m\u001b[43m)\u001b[49m\n\u001b[1;32m   1750\u001b[0m     \u001b[38;5;28mself\u001b[39m\u001b[38;5;241m.\u001b[39m_params \u001b[38;5;241m=\u001b[39m load_punkt_params(lang_dir)\n\u001b[1;32m   1751\u001b[0m     \u001b[38;5;28mself\u001b[39m\u001b[38;5;241m.\u001b[39m_lang \u001b[38;5;241m=\u001b[39m lang\n",
      "File \u001b[0;32m~/miniconda3/envs/kk_langchain_wsl/lib/python3.10/site-packages/nltk/data.py:579\u001b[0m, in \u001b[0;36mfind\u001b[0;34m(resource_name, paths)\u001b[0m\n\u001b[1;32m    577\u001b[0m sep \u001b[38;5;241m=\u001b[39m \u001b[38;5;124m\"\u001b[39m\u001b[38;5;124m*\u001b[39m\u001b[38;5;124m\"\u001b[39m \u001b[38;5;241m*\u001b[39m \u001b[38;5;241m70\u001b[39m\n\u001b[1;32m    578\u001b[0m resource_not_found \u001b[38;5;241m=\u001b[39m \u001b[38;5;124mf\u001b[39m\u001b[38;5;124m\"\u001b[39m\u001b[38;5;130;01m\\n\u001b[39;00m\u001b[38;5;132;01m{\u001b[39;00msep\u001b[38;5;132;01m}\u001b[39;00m\u001b[38;5;130;01m\\n\u001b[39;00m\u001b[38;5;132;01m{\u001b[39;00mmsg\u001b[38;5;132;01m}\u001b[39;00m\u001b[38;5;130;01m\\n\u001b[39;00m\u001b[38;5;132;01m{\u001b[39;00msep\u001b[38;5;132;01m}\u001b[39;00m\u001b[38;5;130;01m\\n\u001b[39;00m\u001b[38;5;124m\"\u001b[39m\n\u001b[0;32m--> 579\u001b[0m \u001b[38;5;28;01mraise\u001b[39;00m \u001b[38;5;167;01mLookupError\u001b[39;00m(resource_not_found)\n",
      "\u001b[0;31mLookupError\u001b[0m: \n**********************************************************************\n  Resource \u001b[93mpunkt_tab\u001b[0m not found.\n  Please use the NLTK Downloader to obtain the resource:\n\n  \u001b[31m>>> import nltk\n  >>> nltk.download('punkt_tab')\n  \u001b[0m\n  For more information see: https://www.nltk.org/data.html\n\n  Attempted to load \u001b[93mtokenizers/punkt_tab/english/\u001b[0m\n\n  Searched in:\n    - '/home/libing/nltk_data'\n    - '/home/libing/miniconda3/envs/kk_langchain_wsl/nltk_data'\n    - '/home/libing/miniconda3/envs/kk_langchain_wsl/share/nltk_data'\n    - '/home/libing/miniconda3/envs/kk_langchain_wsl/lib/nltk_data'\n    - '/usr/share/nltk_data'\n    - '/usr/local/share/nltk_data'\n    - '/usr/lib/nltk_data'\n    - '/usr/local/lib/nltk_data'\n**********************************************************************\n"
     ]
    }
   ],
   "source": [
    "from langchain_community.document_loaders import DirectoryLoader\n",
    "\n",
    "\n",
    "loader = DirectoryLoader(\"/mnt/f/kk_datasets/txt/\", glob=[\"**/*.txt\", \"**/*.md\"])  # 加载该目录下所有txt和md文档\n",
    "docs = loader.load()\n",
    "docs"
   ]
  },
  {
   "cell_type": "code",
   "execution_count": null,
   "metadata": {},
   "outputs": [],
   "source": [
    "# 构建向量数据库\n",
    "from langchain_community.embeddings.huggingface import HuggingFaceEmbeddings\n",
    "from langchain_community.vectorstores import Chroma\n",
    "\n",
    "model_path = \"/Users/libing/kk_LLMs/bge-large-zh-v1.5\"\n",
    "embeddings = HuggingFaceEmbeddings(model_name=model_path)\n",
    "\n",
    "vector_store = Chroma.from_documents(docs, embeddings)\n",
    "vector_store\n"
   ]
  },
  {
   "cell_type": "code",
   "execution_count": null,
   "metadata": {},
   "outputs": [],
   "source": [
    "# 构建检索器，采用相似度检索，相似度阈值设置0.3\n",
    "retriever = vector_store.as_retriever(\n",
    "    search_type=\"similarity_score_threshold\",\n",
    "    search_kwargs={\"k\": 1, \"score_threshold\": 0.3}\n",
    ")\n",
    "\n",
    "docs = retriever.get_relevant_documents(\"请问如何参加众测活动?\")\n",
    "docs\n"
   ]
  },
  {
   "cell_type": "code",
   "execution_count": null,
   "metadata": {},
   "outputs": [],
   "source": [
    "# 构造提示词模板\n",
    "from langchain_core.prompts import ChatPromptTemplate\n",
    "\n",
    "\n",
    "new_template = \"\"\"你是一位华为商城的客服专家，你叫小智。\n",
    "下面请根据用户的问题从以下文档中检索答案回答：\n",
    "{context}\n",
    "\n",
    "问题：{question}\n",
    "在回答问题时加上称呼：{name}\n",
    "在回答结束后，要加上感谢语：感谢您的提问，小智祝您生活愉快！\n",
    "\"\"\"\n",
    "\n",
    "new_prompt = ChatPromptTemplate.from_template(new_template)\n",
    "new_prompt"
   ]
  },
  {
   "cell_type": "code",
   "execution_count": 16,
   "metadata": {},
   "outputs": [],
   "source": [
    "# 构建链\n",
    "from operator import itemgetter\n",
    "from langchain_openai import ChatOpenAI\n",
    "from langchain_core.output_parsers import StrOutputParser\n",
    "from dotenv import load_dotenv\n",
    "import os\n",
    "\n",
    "load_dotenv()\n",
    "api_key = os.getenv(\"ZHIPUAI_API_KEY\")\n",
    "base_url = os.getenv(\"ZHIPUAI_API_BASE\")\n",
    "\n",
    "llm = ChatOpenAI(temperature=0, api_key=api_key, base_url=base_url, max_tokens=8192, model=\"glm-4-plus\")\n",
    "\n",
    "\n",
    "chain = (\n",
    "    {\n",
    "        \"context\": itemgetter(\"question\") | retriever,\n",
    "        \"question\": itemgetter(\"question\"),\n",
    "        \"name\": itemgetter(\"name\")\n",
    "    }\n",
    "    | new_prompt\n",
    "    | llm\n",
    "    | StrOutputParser()\n",
    ")\n"
   ]
  },
  {
   "cell_type": "code",
   "execution_count": null,
   "metadata": {},
   "outputs": [],
   "source": [
    "for s in chain.stream({\"question\": \"请问如何参加众测活动?\", \"name\": \"尊敬的客户：\"}):\n",
    "    print(s, end=\"\", flush=True)\n"
   ]
  },
  {
   "cell_type": "code",
   "execution_count": null,
   "metadata": {},
   "outputs": [],
   "source": [
    "for s in chain.stream({\"question\": \"请问众测活动有哪些常见问题?\", \"name\": \"尊敬的客户：\"}):\n",
    "    print(s, end=\"\", flush=True)"
   ]
  },
  {
   "cell_type": "code",
   "execution_count": null,
   "metadata": {},
   "outputs": [],
   "source": [
    "for s in chain.stream({\"question\": \"请问0分期怎么操作?\", \"name\": \"尊敬的客户：\"}):\n",
    "    print(s, end=\"\", flush=True)"
   ]
  },
  {
   "cell_type": "code",
   "execution_count": null,
   "metadata": {},
   "outputs": [],
   "source": [
    "for s in chain.stream({\"question\": \"帮我写一首关于众测活动的五言爱情诗?\", \"name\": \"漂亮的娟娟姐：\"}):\n",
    "    print(s, end=\"\", flush=True)"
   ]
  }
 ],
 "metadata": {
  "kernelspec": {
   "display_name": "kk_langchain",
   "language": "python",
   "name": "python3"
  },
  "language_info": {
   "codemirror_mode": {
    "name": "ipython",
    "version": 3
   },
   "file_extension": ".py",
   "mimetype": "text/x-python",
   "name": "python",
   "nbconvert_exporter": "python",
   "pygments_lexer": "ipython3",
   "version": "3.10.16"
  }
 },
 "nbformat": 4,
 "nbformat_minor": 2
}
