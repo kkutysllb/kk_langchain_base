{
 "cells": [
  {
   "cell_type": "markdown",
   "metadata": {},
   "source": [
    "# 自定义流式生成器函数\n",
    "\n",
    "您可以在 LCEL 管道中使用生成器函数（即使用 yield 关键字且行为类似于迭代器的函数）。\n",
    "\n",
    "这些生成器的签名应该是 Iterator[Input] -> Iterator[Output] 。或者对于异步生成器： AsyncIterator[Input] -> AsyncIterator[Output] 。\n",
    "\n",
    "这些对于： - 实现自定义输出解析器 - 修改上一步的输出，同时保留流功能\n",
    "\n",
    "让我们为逗号分隔列表实现一个自定义输出解析器。"
   ]
  },
  {
   "cell_type": "code",
   "execution_count": 1,
   "metadata": {},
   "outputs": [],
   "source": [
    "from langchain_openai import ChatOpenAI\n",
    "from dotenv import load_dotenv\n",
    "import os\n",
    "\n",
    "load_dotenv()\n",
    "\n",
    "api_key = os.getenv(\"LOACL_API_KEY\")\n",
    "api_base = os.getenv(\"LOACL_API_BASE\")\n",
    "\n",
    "model = ChatOpenAI(api_key=api_key, base_url=api_base, temperature=0.3)"
   ]
  },
  {
   "cell_type": "code",
   "execution_count": 3,
   "metadata": {},
   "outputs": [
    {
     "data": {
      "text/plain": [
       "'```csv\\n交通工具\\n火车\\n汽车\\n地铁\\n公交车\\n船\\n电动滑板车\\n自行车\\n直升机\\n高铁\\n摩托车\\n火箭\\n热气球\\n缆车\\n飞机航天器\\n滑翔机\\n气垫船\\n```'"
      ]
     },
     "execution_count": 3,
     "metadata": {},
     "output_type": "execute_result"
    }
   ],
   "source": [
    "from typing import Iterator, List\n",
    "\n",
    "from langchain_core.prompts import ChatPromptTemplate\n",
    "from langchain_core.output_parsers import StrOutputParser\n",
    "\n",
    "\n",
    "prompt = ChatPromptTemplate.from_template(\n",
    "    \"响应以csv的格式返回中文列表，不要返回其他内容。请给出与{topic}类似的交通工具。\"\n",
    ")\n",
    "\n",
    "str_chain = prompt | model | StrOutputParser()\n",
    "\n",
    "str_chain.invoke({\"topic\": \"飞机\"})"
   ]
  },
  {
   "cell_type": "code",
   "execution_count": 4,
   "metadata": {},
   "outputs": [
    {
     "name": "stdout",
     "output_type": "stream",
     "text": [
      "```\n",
      "交通工具\n",
      "高铁\n",
      "火车\n",
      "汽车\n",
      "地铁\n",
      "公交车\n",
      "船\n",
      "轮船\n",
      "直升机\n",
      "飞艇\n",
      "电动滑板车\n",
      "摩托车\n",
      "自行车\n",
      "滑雪板\n",
      "滑板\n",
      "热气球\n",
      "马车\n",
      "滑翔伞\n",
      "火箭\n",
      "```"
     ]
    }
   ],
   "source": [
    "for chunk in str_chain.stream({\"topic\": \"飞机\"}):\n",
    "    print(chunk, end=\"\", flush=True)"
   ]
  },
  {
   "cell_type": "code",
   "execution_count": 7,
   "metadata": {},
   "outputs": [],
   "source": [
    "# 这是一个自定义解析器，用于拆分llm令牌的迭代器\n",
    "# 放入以逗号分隔的字符串列表中\n",
    "def split_into_list(input: Iterator[str]) -> Iterator[List[str]]:\n",
    "    # 保留部分输入，直到得到逗号\n",
    "    buffer = \"\"\n",
    "    for chunk in input:\n",
    "        # 将当前块添加到缓冲区\n",
    "        buffer += chunk\n",
    "        # 当缓冲区有逗号时\n",
    "        while \",\" in buffer:\n",
    "            # 以逗号分隔缓冲区\n",
    "            comma_index = buffer.index(\",\")\n",
    "            # 产生逗号之间的所有内容\n",
    "            yield [buffer[:comma_index].strip()]\n",
    "            # 保存其余部分，以供下一次迭代使用\n",
    "            buffer = buffer[comma_index + 1:]\n",
    "    # 产生最后一个块\n",
    "    yield [buffer.strip()]"
   ]
  },
  {
   "cell_type": "code",
   "execution_count": 8,
   "metadata": {},
   "outputs": [
    {
     "name": "stdout",
     "output_type": "stream",
     "text": [
      "['高铁']['汽车']['公交车']['船只']['自行车']"
     ]
    }
   ],
   "source": [
    "list_chain = str_chain | split_into_list\n",
    "\n",
    "for chunk in list_chain.stream({\"topic\": \"飞机\"}):\n",
    "    print(chunk, end=\"\", flush=True)"
   ]
  },
  {
   "cell_type": "markdown",
   "metadata": {},
   "source": [
    "## 异步版本"
   ]
  },
  {
   "cell_type": "code",
   "execution_count": 12,
   "metadata": {},
   "outputs": [],
   "source": [
    "from typing import AsyncIterator\n",
    "\n",
    "\n",
    "async def asplit_into_list(input: AsyncIterator[str]) -> AsyncIterator[List[str]]:\n",
    "    buffer = \"\"\n",
    "    async for chunk in input:  # input是一个async对象，所以使用async for\n",
    "        buffer += chunk \n",
    "        while \",\" in buffer:\n",
    "            comma_index = buffer.index(\",\")\n",
    "            yield [buffer[:comma_index].strip()]\n",
    "            buffer = buffer[comma_index + 1:]\n",
    "    yield [buffer.strip()]\n",
    "\n",
    "\n",
    "alist_chain = str_chain | asplit_into_list"
   ]
  },
  {
   "cell_type": "code",
   "execution_count": 15,
   "metadata": {},
   "outputs": [
    {
     "name": "stdout",
     "output_type": "stream",
     "text": [
      "['```\\n交通工具\\n直升机\\n火车\\n船\\n汽车\\n地铁\\n公共汽车\\n摩托车\\n高铁\\n热气球\\n滑翔机\\n飞艇\\n弹跳车\\n单轨列车\\n电动车\\n自行车\\n马车\\n```']"
     ]
    }
   ],
   "source": [
    "async for chunk in alist_chain.astream({\"topic\": \"飞机\"}):\n",
    "    print(chunk, end=\"\", flush=True)"
   ]
  },
  {
   "cell_type": "code",
   "execution_count": 14,
   "metadata": {},
   "outputs": [
    {
     "data": {
      "text/plain": [
       "['```csv\\n交通工具\\n直升机\\n火车\\n公交车\\n地铁\\n轮船\\n汽车\\n轻轨\\n滑翔机\\n热气球\\n摩托车\\n```']"
      ]
     },
     "execution_count": 14,
     "metadata": {},
     "output_type": "execute_result"
    }
   ],
   "source": [
    "await alist_chain.ainvoke({\"topic\": \"飞机\"})"
   ]
  }
 ],
 "metadata": {
  "kernelspec": {
   "display_name": "kk_langchain_wsl",
   "language": "python",
   "name": "python3"
  },
  "language_info": {
   "codemirror_mode": {
    "name": "ipython",
    "version": 3
   },
   "file_extension": ".py",
   "mimetype": "text/x-python",
   "name": "python",
   "nbconvert_exporter": "python",
   "pygments_lexer": "ipython3",
   "version": "3.10.16"
  }
 },
 "nbformat": 4,
 "nbformat_minor": 2
}
