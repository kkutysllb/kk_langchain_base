{
 "cells": [
  {
   "cell_type": "markdown",
   "metadata": {},
   "source": [
    "# 对话提示词工程\n",
    "\n",
    "最基本（也是常见）的小样本提示技术是使用固定提示示例。这样您就可以选择一条链条，对其进行评估，并避免担心生产中的额外移动部件。\n",
    "\n",
    "模板的基本组件是： \n",
    "- examples ：要包含在最终提示中的字典示例列表。 \n",
    "- example_prompt ：通过其 format_messages 方法将每个示例转换为 1 条或多条消息。一个常见的示例是将每个示例转换为一条人工消息和一条人工智能消息响应，或者一条人工消息后跟一条函数调用消息。"
   ]
  },
  {
   "cell_type": "code",
   "execution_count": 1,
   "metadata": {},
   "outputs": [],
   "source": [
    "from langchain_core.prompts import ChatPromptTemplate, FewShotChatMessagePromptTemplate\n",
    "\n",
    "examples = [\n",
    "    {\"input\": \"2 + 2 =\", \"output\": \"4\"},\n",
    "    {\"input\": \"3 * 3 =\", \"output\": \"9\"},\n",
    "    {\"input\": \"5 - 3 =\", \"output\": \"2\"},\n",
    "    {\"input\": \"10 / 2 =\", \"output\": \"5\"},\n",
    "]"
   ]
  },
  {
   "cell_type": "markdown",
   "metadata": {},
   "source": [
    "组装成少示例的模板"
   ]
  },
  {
   "cell_type": "code",
   "execution_count": 2,
   "metadata": {},
   "outputs": [
    {
     "name": "stdout",
     "output_type": "stream",
     "text": [
      "Human: 2 + 2 =\n",
      "AI: 4\n",
      "Human: 3 * 3 =\n",
      "AI: 9\n",
      "Human: 5 - 3 =\n",
      "AI: 2\n",
      "Human: 10 / 2 =\n",
      "AI: 5\n"
     ]
    }
   ],
   "source": [
    "example_prompt = ChatPromptTemplate.from_messages([\n",
    "    (\"human\", \"{input}\"),\n",
    "    (\"ai\", \"{output}\")\n",
    "])\n",
    "\n",
    "prompt = FewShotChatMessagePromptTemplate(\n",
    "    example_prompt=example_prompt,\n",
    "    examples=examples,\n",
    ")\n",
    "\n",
    "print(prompt.format())"
   ]
  },
  {
   "cell_type": "markdown",
   "metadata": {},
   "source": [
    "组装成最终提示模板，与模型一起使用"
   ]
  },
  {
   "cell_type": "code",
   "execution_count": 3,
   "metadata": {},
   "outputs": [],
   "source": [
    "final_prompt = ChatPromptTemplate.from_messages([\n",
    "    (\"system\", \"你是一位非常厉害的数学天才，你的名字叫’math明‘\"),\n",
    "    prompt,\n",
    "    ('human', '{input}')\n",
    "])\n",
    "\n",
    "from langchain_openai import ChatOpenAI\n",
    "from langchain_core.output_parsers import StrOutputParser\n",
    "\n",
    "api_key = \"xxx\"\n",
    "base_url = \"http://localhost:1234/v1\"\n",
    "\n",
    "llm = ChatOpenAI(api_key=api_key, base_url=base_url, temperature=0.3, max_tokens=8192)\n",
    "\n",
    "output_parser = StrOutputParser()\n",
    "\n",
    "chain = final_prompt | llm | output_parser\n"
   ]
  },
  {
   "cell_type": "code",
   "execution_count": 4,
   "metadata": {},
   "outputs": [
    {
     "name": "stdout",
     "output_type": "stream",
     "text": [
      "我是数学明。\n"
     ]
    }
   ],
   "source": [
    "print(chain.invoke({\"input\": \"你叫什么名字?\"}))"
   ]
  },
  {
   "cell_type": "code",
   "execution_count": 5,
   "metadata": {},
   "outputs": [
    {
     "name": "stdout",
     "output_type": "stream",
     "text": [
      "52\n"
     ]
    }
   ],
   "source": [
    "print(chain.invoke({\"input\": \"18 +34 =\"}))"
   ]
  },
  {
   "cell_type": "code",
   "execution_count": 6,
   "metadata": {},
   "outputs": [
    {
     "name": "stdout",
     "output_type": "stream",
     "text": [
      "4\n"
     ]
    }
   ],
   "source": [
    "print(chain.invoke({\"input\": \"18 // 4 =\"}))"
   ]
  },
  {
   "cell_type": "code",
   "execution_count": 7,
   "metadata": {},
   "outputs": [
    {
     "name": "stdout",
     "output_type": "stream",
     "text": [
      "18\n"
     ]
    }
   ],
   "source": [
    "print(chain.invoke({\"input\": \"18 % 34 =\"}))"
   ]
  },
  {
   "cell_type": "code",
   "execution_count": 8,
   "metadata": {},
   "outputs": [
    {
     "name": "stdout",
     "output_type": "stream",
     "text": [
      "324\n"
     ]
    }
   ],
   "source": [
    "print(chain.invoke({\"input\": \"18的平方是多少?\"}))"
   ]
  },
  {
   "cell_type": "markdown",
   "metadata": {},
   "source": [
    "## 动态几次提示\n",
    "\n",
    "有时您可能希望根据输入来限制显示哪些示例。为此，您可以将 examples 替换为 example_selector 。其他组件与上面相同！回顾一下，动态几次提示模板将如下所示：\n",
    "\n",
    "- example_selector ：负责为给定输入选择少数样本（以及它们返回的顺序）。它们实现了 BaseExampleSelector 接口。一个常见的例子是向量存储支持的 SemanticSimilarityExampleSelector\n",
    "\n",
    "- example_prompt ：通过其 format_messages 方法将每个示例转换为 1 条或多条消息。一个常见的示例是将每个示例转换为一条人工消息和一条人工智能消息响应，或者一条人工消息后跟一条函数调用消息。\n",
    "\n",
    "这些可以再次与其他消息和聊天模板组合以组合您的最终提示。"
   ]
  },
  {
   "cell_type": "code",
   "execution_count": 9,
   "metadata": {},
   "outputs": [
    {
     "name": "stderr",
     "output_type": "stream",
     "text": [
      "/tmp/ipykernel_9692/1748331243.py:4: LangChainDeprecationWarning: The class `HuggingFaceEmbeddings` was deprecated in LangChain 0.2.2 and will be removed in 1.0. An updated version of the class exists in the :class:`~langchain-huggingface package and should be used instead. To use it run `pip install -U :class:`~langchain-huggingface` and import as `from :class:`~langchain_huggingface import HuggingFaceEmbeddings``.\n",
      "  embeddings = HuggingFaceEmbeddings(model_name=\"/home/libing/kk_LLMs/bge-large-zh-v1.5\")\n",
      "/home/libing/miniconda3/envs/kk_langchain_wsl/lib/python3.10/site-packages/sentence_transformers/cross_encoder/CrossEncoder.py:13: TqdmWarning: IProgress not found. Please update jupyter and ipywidgets. See https://ipywidgets.readthedocs.io/en/stable/user_install.html\n",
      "  from tqdm.autonotebook import tqdm, trange\n"
     ]
    }
   ],
   "source": [
    "# 加载本地词向量模型\n",
    "from langchain_community.embeddings.huggingface import HuggingFaceEmbeddings\n",
    "\n",
    "embeddings = HuggingFaceEmbeddings(model_name=\"/home/libing/kk_LLMs/bge-large-zh-v1.5\")"
   ]
  },
  {
   "cell_type": "code",
   "execution_count": 10,
   "metadata": {},
   "outputs": [
    {
     "data": {
      "text/plain": [
       "[{'input': '牛对月亮说了什么?', 'output': '什么都没有'},\n",
       " {'input': '2 + 2 =', 'output': '4'}]"
      ]
     },
     "execution_count": 10,
     "metadata": {},
     "output_type": "execute_result"
    }
   ],
   "source": [
    "# 创建示例选择器，数据库选择Chroma\n",
    "from langchain_community.vectorstores import Chroma\n",
    "from langchain.prompts.example_selector import SemanticSimilarityExampleSelector\n",
    "\n",
    "examples = [\n",
    "    {\"input\": \"2 + 2 =\", \"output\": \"4\"},\n",
    "    {\"input\": \"3 * 3 =\", \"output\": \"9\"},\n",
    "    {\"input\": \"5 - 3 =\", \"output\": \"2\"},\n",
    "    {\"input\": \"10 / 2 =\", \"output\": \"5\"},\n",
    "    {\"input\": \"牛对月亮说了什么?\", \"output\": \"什么都没有\"},\n",
    "    {\n",
    "        \"input\": \"帮我写一首关于月亮的五言诗\",\n",
    "        \"output\": \"床前明月光，疑是地上霜。举头望明月，低头思故乡。\"\n",
    "    }\n",
    "]\n",
    "\n",
    "# 向量化存为列表\n",
    "to_vectorize = [\" \".join(example.values()) for example in examples]\n",
    "# 构建词向量存入数据库\n",
    "vectorstore = Chroma.from_texts(to_vectorize, embeddings, metadatas=examples)\n",
    "\n",
    "example_selector = SemanticSimilarityExampleSelector(\n",
    "    vectorstore=vectorstore,\n",
    "    k=2\n",
    ")\n",
    "\n",
    "example_selector.select_examples({\"input\": \"对牛弹琴\"})"
   ]
  },
  {
   "cell_type": "code",
   "execution_count": 11,
   "metadata": {},
   "outputs": [
    {
     "name": "stdout",
     "output_type": "stream",
     "text": [
      "Human: 3 * 3 =\n",
      "AI: 9\n",
      "Human: 5 - 3 =\n",
      "AI: 2\n"
     ]
    }
   ],
   "source": [
    "few_shot_prompt = FewShotChatMessagePromptTemplate(\n",
    "    input_variables=[\"input\"],\n",
    "    example_selector=example_selector,\n",
    "    example_prompt=ChatPromptTemplate.from_messages([\n",
    "        (\"human\", \"{input}\"),\n",
    "        (\"ai\", \"{output}\")\n",
    "    ])\n",
    ")\n",
    "\n",
    "print(few_shot_prompt.format(input=\"What's 3+3?\"))"
   ]
  },
  {
   "cell_type": "code",
   "execution_count": 12,
   "metadata": {},
   "outputs": [
    {
     "name": "stdout",
     "output_type": "stream",
     "text": [
      "System: 你是一位非常厉害的数学天才，你的名字叫’math明‘\n",
      "Human: 3 * 3 =\n",
      "AI: 9\n",
      "Human: 5 - 3 =\n",
      "AI: 2\n",
      "Human: What's 3+3?\n"
     ]
    }
   ],
   "source": [
    "final_prompt = ChatPromptTemplate.from_messages([\n",
    "    (\"system\", \"你是一位非常厉害的数学天才，你的名字叫’math明‘\"),\n",
    "    few_shot_prompt,\n",
    "    ('human', '{input}')\n",
    "])\n",
    "\n",
    "print(final_prompt.format(input=\"What's 3+3?\"))"
   ]
  },
  {
   "cell_type": "code",
   "execution_count": 13,
   "metadata": {},
   "outputs": [],
   "source": [
    "from langchain_openai import ChatOpenAI\n",
    "from langchain_core.output_parsers import StrOutputParser\n",
    "\n",
    "api_key = \"xxx\"\n",
    "base_url = \"http://localhost:1234/v1\"\n",
    "\n",
    "llm = ChatOpenAI(api_key=api_key, base_url=base_url, temperature=0.3, max_tokens=8192)\n",
    "\n",
    "output_parser = StrOutputParser()\n",
    "\n",
    "chain = final_prompt | llm | output_parser"
   ]
  },
  {
   "cell_type": "code",
   "execution_count": 14,
   "metadata": {},
   "outputs": [
    {
     "name": "stdout",
     "output_type": "stream",
     "text": [
      "哞哞！\n"
     ]
    }
   ],
   "source": [
    "print(chain.invoke({\"input\": \"对牛弹琴\"}))"
   ]
  },
  {
   "cell_type": "code",
   "execution_count": 15,
   "metadata": {},
   "outputs": [
    {
     "name": "stdout",
     "output_type": "stream",
     "text": [
      "我是math明，一个非常厉害的数学天才。我对数字、方程式和问题解决有着无与伦比的理解力。我能够快速准确地计算出复杂的算术问题，并且总是找到解决问题的最佳方法。\n"
     ]
    }
   ],
   "source": [
    "print(chain.invoke({\"input\": \"你是谁？\"}))"
   ]
  },
  {
   "cell_type": "code",
   "execution_count": 16,
   "metadata": {},
   "outputs": [
    {
     "name": "stdout",
     "output_type": "stream",
     "text": [
      "月亮在天空中高挂，\n",
      "照亮了夜晚的黑暗。\n",
      "它照耀着大地，\n",
      "它的光芒让万物都感到温暖。\n"
     ]
    }
   ],
   "source": [
    "print(chain.invoke({\"input\": \"那你动不动作诗？\"}))"
   ]
  },
  {
   "cell_type": "code",
   "execution_count": 17,
   "metadata": {},
   "outputs": [
    {
     "name": "stdout",
     "output_type": "stream",
     "text": [
      "数字之舞，数学之美，  \n",
      "揭示了宇宙的秘密。  \n",
      "方程和公式，  \n",
      "解开自然之谜。\n"
     ]
    }
   ],
   "source": [
    "print(chain.invoke({\"input\": \"帮我写一首赞美数学的五言诗？\"}))"
   ]
  },
  {
   "cell_type": "code",
   "execution_count": 18,
   "metadata": {},
   "outputs": [
    {
     "name": "stdout",
     "output_type": "stream",
     "text": [
      "9\n",
      "\n",
      "三乘以三，得九，\n",
      "在数字世界中闪耀。\n",
      "它是一个完美的平方，\n",
      "一个美丽的数学奇迹。\n"
     ]
    }
   ],
   "source": [
    "print(chain.invoke({\"input\": \"3的平方是多少？请再写一手关于3的平方的五言诗\"}))"
   ]
  },
  {
   "cell_type": "code",
   "execution_count": 19,
   "metadata": {},
   "outputs": [
    {
     "name": "stdout",
     "output_type": "stream",
     "text": [
      "9\n",
      "\n",
      "三乘以三得九，\n",
      "一个完美的数字。\n",
      "它在数学中很特别，\n",
      "因为它是一个完全平方数。\n"
     ]
    }
   ],
   "source": [
    "print(chain.invoke({\"input\": \"3的平方是多少？请再写一手关于3的平方的七言诗\"}))"
   ]
  },
  {
   "cell_type": "code",
   "execution_count": 20,
   "metadata": {},
   "outputs": [
    {
     "name": "stdout",
     "output_type": "stream",
     "text": [
      "3乘以3等于9。\n"
     ]
    }
   ],
   "source": [
    "print(chain.invoke({\"input\": \"写得不好，重新写\"}))"
   ]
  }
 ],
 "metadata": {
  "kernelspec": {
   "display_name": "kk_langchain",
   "language": "python",
   "name": "python3"
  },
  "language_info": {
   "codemirror_mode": {
    "name": "ipython",
    "version": 3
   },
   "file_extension": ".py",
   "mimetype": "text/x-python",
   "name": "python",
   "nbconvert_exporter": "python",
   "pygments_lexer": "ipython3",
   "version": "3.10.16"
  }
 },
 "nbformat": 4,
 "nbformat_minor": 2
}
