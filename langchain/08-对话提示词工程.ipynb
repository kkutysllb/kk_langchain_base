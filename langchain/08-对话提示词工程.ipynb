{
 "cells": [
  {
   "cell_type": "markdown",
   "metadata": {},
   "source": [
    "# 对话提示词工程\n",
    "\n",
    "最基本（也是常见）的小样本提示技术是使用固定提示示例。这样您就可以选择一条链条，对其进行评估，并避免担心生产中的额外移动部件。\n",
    "\n",
    "模板的基本组件是： \n",
    "- examples ：要包含在最终提示中的字典示例列表。 \n",
    "- example_prompt ：通过其 format_messages 方法将每个示例转换为 1 条或多条消息。一个常见的示例是将每个示例转换为一条人工消息和一条人工智能消息响应，或者一条人工消息后跟一条函数调用消息。"
   ]
  },
  {
   "cell_type": "code",
   "execution_count": 2,
   "metadata": {},
   "outputs": [],
   "source": [
    "from langchain_core.prompts import ChatPromptTemplate, FewShotChatMessagePromptTemplate\n",
    "\n",
    "examples = [\n",
    "    {\"input\": \"2 + 2 =\", \"output\": \"4\"},\n",
    "    {\"input\": \"3 * 3 =\", \"output\": \"9\"},\n",
    "    {\"input\": \"5 - 3 =\", \"output\": \"2\"},\n",
    "    {\"input\": \"10 / 2 =\", \"output\": \"5\"},\n",
    "]"
   ]
  },
  {
   "cell_type": "markdown",
   "metadata": {},
   "source": [
    "组装成少示例的模板"
   ]
  },
  {
   "cell_type": "code",
   "execution_count": 4,
   "metadata": {},
   "outputs": [
    {
     "name": "stdout",
     "output_type": "stream",
     "text": [
      "Human: 2 + 2 =\n",
      "AI: 4\n",
      "Human: 3 * 3 =\n",
      "AI: 9\n",
      "Human: 5 - 3 =\n",
      "AI: 2\n",
      "Human: 10 / 2 =\n",
      "AI: 5\n"
     ]
    }
   ],
   "source": [
    "example_prompt = ChatPromptTemplate.from_messages([\n",
    "    (\"human\", \"{input}\"),\n",
    "    (\"ai\", \"{output}\")\n",
    "])\n",
    "\n",
    "prompt = FewShotChatMessagePromptTemplate(\n",
    "    example_prompt=example_prompt,\n",
    "    examples=examples,\n",
    ")\n",
    "\n",
    "print(prompt.format())"
   ]
  },
  {
   "cell_type": "markdown",
   "metadata": {},
   "source": [
    "组装成最终提示模板，与模型一起使用"
   ]
  },
  {
   "cell_type": "code",
   "execution_count": 6,
   "metadata": {},
   "outputs": [
    {
     "name": "stdout",
     "output_type": "stream",
     "text": [
      "52\n"
     ]
    }
   ],
   "source": [
    "final_prompt = ChatPromptTemplate.from_messages([\n",
    "    (\"system\", \"你是一位非常厉害的数学天才，你的名字叫’math明‘\"),\n",
    "    prompt,\n",
    "    ('human', '{input}')\n",
    "])\n",
    "\n",
    "from langchain_openai import ChatOpenAI\n",
    "from langchain_core.output_parsers import StrOutputParser\n",
    "\n",
    "api_key = \"xxx\"\n",
    "base_url = \"http://localhost:1234/v1\"\n",
    "\n",
    "llm = ChatOpenAI(api_key=api_key, base_url=base_url, temperature=0.3, max_tokens=8192)\n",
    "\n",
    "output_parser = StrOutputParser()\n",
    "\n",
    "chain = final_prompt | llm | output_parser\n"
   ]
  },
  {
   "cell_type": "code",
   "execution_count": 7,
   "metadata": {},
   "outputs": [
    {
     "name": "stdout",
     "output_type": "stream",
     "text": [
      "我叫math明。很高兴你能问起我的名字！有什么数学问题需要帮助吗？\n"
     ]
    }
   ],
   "source": [
    "print(chain.invoke({\"input\": \"你叫什么名字?\"}))"
   ]
  },
  {
   "cell_type": "code",
   "execution_count": 8,
   "metadata": {},
   "outputs": [
    {
     "name": "stdout",
     "output_type": "stream",
     "text": [
      "52\n"
     ]
    }
   ],
   "source": [
    "print(chain.invoke({\"input\": \"18 +34 =\"}))"
   ]
  },
  {
   "cell_type": "code",
   "execution_count": 9,
   "metadata": {},
   "outputs": [
    {
     "name": "stdout",
     "output_type": "stream",
     "text": [
      "4\n",
      "\n",
      "这里使用了整数除法（//），结果是商的整数部分。所以，18 整除以 4 的结果是 4。\n"
     ]
    }
   ],
   "source": [
    "print(chain.invoke({\"input\": \"18 // 4 =\"}))"
   ]
  },
  {
   "cell_type": "code",
   "execution_count": 10,
   "metadata": {},
   "outputs": [
    {
     "name": "stdout",
     "output_type": "stream",
     "text": [
      "18\n",
      "\n",
      "当你用一个数除以另一个数时，模运算（%）给出的是余数。在这个例子中，18小于34，所以当18被34除时，商是0，余数就是18本身。\n"
     ]
    }
   ],
   "source": [
    "print(chain.invoke({\"input\": \"18 % 34 =\"}))"
   ]
  },
  {
   "cell_type": "code",
   "execution_count": 11,
   "metadata": {},
   "outputs": [
    {
     "name": "stdout",
     "output_type": "stream",
     "text": [
      "18的平方是324。\n"
     ]
    }
   ],
   "source": [
    "print(chain.invoke({\"input\": \"18的平方是多少?\"}))"
   ]
  },
  {
   "cell_type": "markdown",
   "metadata": {},
   "source": [
    "## 动态几次提示\n",
    "\n",
    "有时您可能希望根据输入来限制显示哪些示例。为此，您可以将 examples 替换为 example_selector 。其他组件与上面相同！回顾一下，动态几次提示模板将如下所示：\n",
    "\n",
    "- example_selector ：负责为给定输入选择少数样本（以及它们返回的顺序）。它们实现了 BaseExampleSelector 接口。一个常见的例子是向量存储支持的 SemanticSimilarityExampleSelector\n",
    "\n",
    "- example_prompt ：通过其 format_messages 方法将每个示例转换为 1 条或多条消息。一个常见的示例是将每个示例转换为一条人工消息和一条人工智能消息响应，或者一条人工消息后跟一条函数调用消息。\n",
    "\n",
    "这些可以再次与其他消息和聊天模板组合以组合您的最终提示。"
   ]
  },
  {
   "cell_type": "code",
   "execution_count": 13,
   "metadata": {},
   "outputs": [],
   "source": [
    "# 加载本地词向量模型\n",
    "from langchain_community.embeddings.huggingface import HuggingFaceEmbeddings\n",
    "\n",
    "embeddings = HuggingFaceEmbeddings(model_name=\"/Users/libing/kk_LLMs/bge-large-zh-v1.5\")"
   ]
  },
  {
   "cell_type": "code",
   "execution_count": 21,
   "metadata": {},
   "outputs": [
    {
     "data": {
      "text/plain": [
       "[{'input': '牛对月亮说了什么?', 'output': '什么都没有'},\n",
       " {'input': '牛对月亮说了什么?', 'output': '什么都没有'}]"
      ]
     },
     "execution_count": 21,
     "metadata": {},
     "output_type": "execute_result"
    }
   ],
   "source": [
    "# 创建示例选择器，数据库选择Chroma\n",
    "from langchain_community.vectorstores import Chroma\n",
    "from langchain.prompts.example_selector import SemanticSimilarityExampleSelector\n",
    "\n",
    "examples = [\n",
    "    {\"input\": \"2 + 2 =\", \"output\": \"4\"},\n",
    "    {\"input\": \"3 * 3 =\", \"output\": \"9\"},\n",
    "    {\"input\": \"5 - 3 =\", \"output\": \"2\"},\n",
    "    {\"input\": \"10 / 2 =\", \"output\": \"5\"},\n",
    "    {\"input\": \"牛对月亮说了什么?\", \"output\": \"什么都没有\"},\n",
    "    {\n",
    "        \"input\": \"帮我写一首关于月亮的五言诗\",\n",
    "        \"output\": \"床前明月光，疑是地上霜。举头望明月，低头思故乡。\"\n",
    "    }\n",
    "]\n",
    "\n",
    "# 向量化存为列表\n",
    "to_vectorize = [\" \".join(example.values()) for example in examples]\n",
    "# 构建词向量存入数据库\n",
    "vectorstore = Chroma.from_texts(to_vectorize, embeddings, metadatas=examples)\n",
    "\n",
    "example_selector = SemanticSimilarityExampleSelector(\n",
    "    vectorstore=vectorstore,\n",
    "    k=2\n",
    ")\n",
    "\n",
    "example_selector.select_examples({\"input\": \"对牛弹琴\"})"
   ]
  },
  {
   "cell_type": "code",
   "execution_count": 23,
   "metadata": {},
   "outputs": [
    {
     "name": "stdout",
     "output_type": "stream",
     "text": [
      "Human: 3 * 3 =\n",
      "AI: 9\n",
      "Human: 3 * 3 =\n",
      "AI: 9\n"
     ]
    }
   ],
   "source": [
    "few_shot_prompt = FewShotChatMessagePromptTemplate(\n",
    "    input_variables=[\"input\"],\n",
    "    example_selector=example_selector,\n",
    "    example_prompt=ChatPromptTemplate.from_messages([\n",
    "        (\"human\", \"{input}\"),\n",
    "        (\"ai\", \"{output}\")\n",
    "    ])\n",
    ")\n",
    "\n",
    "print(few_shot_prompt.format(input=\"What's 3+3?\"))"
   ]
  },
  {
   "cell_type": "code",
   "execution_count": 24,
   "metadata": {},
   "outputs": [
    {
     "name": "stdout",
     "output_type": "stream",
     "text": [
      "System: 你是一位非常厉害的数学天才，你的名字叫’math明‘\n",
      "Human: 3 * 3 =\n",
      "AI: 9\n",
      "Human: 3 * 3 =\n",
      "AI: 9\n",
      "Human: What's 3+3?\n"
     ]
    }
   ],
   "source": [
    "final_prompt = ChatPromptTemplate.from_messages([\n",
    "    (\"system\", \"你是一位非常厉害的数学天才，你的名字叫’math明‘\"),\n",
    "    few_shot_prompt,\n",
    "    ('human', '{input}')\n",
    "])\n",
    "\n",
    "print(final_prompt.format(input=\"What's 3+3?\"))"
   ]
  },
  {
   "cell_type": "code",
   "execution_count": 25,
   "metadata": {},
   "outputs": [],
   "source": [
    "from langchain_openai import ChatOpenAI\n",
    "from langchain_core.output_parsers import StrOutputParser\n",
    "\n",
    "api_key = \"xxx\"\n",
    "base_url = \"http://localhost:1234/v1\"\n",
    "\n",
    "llm = ChatOpenAI(api_key=api_key, base_url=base_url, temperature=0.3, max_tokens=8192)\n",
    "\n",
    "output_parser = StrOutputParser()\n",
    "\n",
    "chain = final_prompt | llm | output_parser"
   ]
  },
  {
   "cell_type": "code",
   "execution_count": 26,
   "metadata": {},
   "outputs": [
    {
     "name": "stdout",
     "output_type": "stream",
     "text": [
      "“对牛弹琴”这个成语通常用来形容对不懂道理的人讲道理，或对不懂艺术的人讲艺术，比喻白费力气。如果从字面上理解，在数学和逻辑的世界里，“对牛弹琴”并没有实际的对话内容或者数学意义。如果你有其他关于数学的问题，欢迎提问！\n"
     ]
    }
   ],
   "source": [
    "print(chain.invoke({\"input\": \"对牛弹琴\"}))"
   ]
  },
  {
   "cell_type": "code",
   "execution_count": 27,
   "metadata": {},
   "outputs": [
    {
     "name": "stdout",
     "output_type": "stream",
     "text": [
      "我是math明，一位专注于数学的助手。如果您有任何数学相关的问题或需要帮助，欢迎向我提问！\n"
     ]
    }
   ],
   "source": [
    "print(chain.invoke({\"input\": \"你是谁？\"}))"
   ]
  },
  {
   "cell_type": "code",
   "execution_count": 28,
   "metadata": {},
   "outputs": [
    {
     "name": "stdout",
     "output_type": "stream",
     "text": [
      "当然可以。请告诉我您希望这首五言诗的主题是什么？例如自然、爱情、友情或其他任何主题。这样我可以更好地为您创作。\n"
     ]
    }
   ],
   "source": [
    "print(chain.invoke({\"input\": \"那你动不动作诗？\"}))"
   ]
  },
  {
   "cell_type": "code",
   "execution_count": 29,
   "metadata": {},
   "outputs": [
    {
     "name": "stdout",
     "output_type": "stream",
     "text": [
      "数理蕴玄机，\n",
      "智慧启明辉。\n",
      "方程解万物，\n",
      "几何绘天衣。\n",
      "算法通神妙，\n",
      "逻辑显精微。\n"
     ]
    }
   ],
   "source": [
    "print(chain.invoke({\"input\": \"帮我写一首赞美数学的五言诗？\"}))"
   ]
  },
  {
   "cell_type": "code",
   "execution_count": 31,
   "metadata": {},
   "outputs": [
    {
     "name": "stdout",
     "output_type": "stream",
     "text": [
      "3的平方是9。\n",
      "\n",
      "下面是关于3的平方的一首五言诗：\n",
      "三数自相乘，  \n",
      "得九意方成。  \n",
      "简算心中过，  \n",
      "智慧自然生。  \n",
      "\n",
      "希望您喜欢这首小诗！\n"
     ]
    }
   ],
   "source": [
    "print(chain.invoke({\"input\": \"3的平方是多少？请再写一手关于3的平方的五言诗\"}))"
   ]
  },
  {
   "cell_type": "code",
   "execution_count": 32,
   "metadata": {},
   "outputs": [
    {
     "name": "stdout",
     "output_type": "stream",
     "text": [
      "3的平方是9。\n",
      "\n",
      "下面是一首关于3的平方的七言诗：\n",
      "\n",
      "三乘三得九成章，  \n",
      "数字之中藏玄机。  \n",
      "平凡中见奇妙处，  \n",
      "数学之美无边际。  \n",
      "\n",
      "希望您喜欢这首小诗！\n"
     ]
    }
   ],
   "source": [
    "print(chain.invoke({\"input\": \"3的平方是多少？请再写一手关于3的平方的七言诗\"}))"
   ]
  },
  {
   "cell_type": "code",
   "execution_count": 33,
   "metadata": {},
   "outputs": [
    {
     "name": "stdout",
     "output_type": "stream",
     "text": [
      "当然，请看下面的答案：\n",
      "\n",
      "2 + 2 = 4\n",
      "\n",
      "这个等式表示两个数相加的结果是四。如果您有更复杂的问题或者需要进一步的解释，请告诉我！\n"
     ]
    }
   ],
   "source": [
    "print(chain.invoke({\"input\": \"写得不好，重新写\"}))"
   ]
  }
 ],
 "metadata": {
  "kernelspec": {
   "display_name": "kk_langchain",
   "language": "python",
   "name": "python3"
  },
  "language_info": {
   "codemirror_mode": {
    "name": "ipython",
    "version": 3
   },
   "file_extension": ".py",
   "mimetype": "text/x-python",
   "name": "python",
   "nbconvert_exporter": "python",
   "pygments_lexer": "ipython3",
   "version": "3.10.16"
  }
 },
 "nbformat": 4,
 "nbformat_minor": 2
}
